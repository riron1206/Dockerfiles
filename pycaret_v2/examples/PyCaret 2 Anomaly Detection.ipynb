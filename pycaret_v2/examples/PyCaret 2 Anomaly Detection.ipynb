{
 "cells": [
  {
   "cell_type": "markdown",
   "metadata": {},
   "source": [
    "# PyCaret 2 Anomaly Example\n",
    "This notebook is created using PyCaret 2.0. Last updated : 31-07-2020"
   ]
  },
  {
   "cell_type": "code",
   "execution_count": 1,
   "metadata": {},
   "outputs": [],
   "source": [
    "# check version\n",
    "from pycaret.utils import version\n",
    "\n",
    "version()"
   ]
  },
  {
   "cell_type": "markdown",
   "metadata": {},
   "source": [
    "# 1. Loading Dataset"
   ]
  },
  {
   "cell_type": "code",
   "execution_count": 2,
   "metadata": {},
   "outputs": [
    {
     "data": {
      "text/html": [
       "<div>\n",
       "<style scoped>\n",
       "    .dataframe tbody tr th:only-of-type {\n",
       "        vertical-align: middle;\n",
       "    }\n",
       "\n",
       "    .dataframe tbody tr th {\n",
       "        vertical-align: top;\n",
       "    }\n",
       "\n",
       "    .dataframe thead th {\n",
       "        text-align: right;\n",
       "    }\n",
       "</style>\n",
       "<table border=\"1\" class=\"dataframe\">\n",
       "  <thead>\n",
       "    <tr style=\"text-align: right;\">\n",
       "      <th></th>\n",
       "      <th>Col1</th>\n",
       "      <th>Col2</th>\n",
       "      <th>Col3</th>\n",
       "      <th>Col4</th>\n",
       "      <th>Col5</th>\n",
       "      <th>Col6</th>\n",
       "      <th>Col7</th>\n",
       "      <th>Col8</th>\n",
       "      <th>Col9</th>\n",
       "      <th>Col10</th>\n",
       "    </tr>\n",
       "  </thead>\n",
       "  <tbody>\n",
       "    <tr>\n",
       "      <th>0</th>\n",
       "      <td>0.263995</td>\n",
       "      <td>0.764929</td>\n",
       "      <td>0.138424</td>\n",
       "      <td>0.935242</td>\n",
       "      <td>0.605867</td>\n",
       "      <td>0.518790</td>\n",
       "      <td>0.912225</td>\n",
       "      <td>0.608234</td>\n",
       "      <td>0.723782</td>\n",
       "      <td>0.733591</td>\n",
       "    </tr>\n",
       "    <tr>\n",
       "      <th>1</th>\n",
       "      <td>0.546092</td>\n",
       "      <td>0.653975</td>\n",
       "      <td>0.065575</td>\n",
       "      <td>0.227772</td>\n",
       "      <td>0.845269</td>\n",
       "      <td>0.837066</td>\n",
       "      <td>0.272379</td>\n",
       "      <td>0.331679</td>\n",
       "      <td>0.429297</td>\n",
       "      <td>0.367422</td>\n",
       "    </tr>\n",
       "    <tr>\n",
       "      <th>2</th>\n",
       "      <td>0.336714</td>\n",
       "      <td>0.538842</td>\n",
       "      <td>0.192801</td>\n",
       "      <td>0.553563</td>\n",
       "      <td>0.074515</td>\n",
       "      <td>0.332993</td>\n",
       "      <td>0.365792</td>\n",
       "      <td>0.861309</td>\n",
       "      <td>0.899017</td>\n",
       "      <td>0.088600</td>\n",
       "    </tr>\n",
       "    <tr>\n",
       "      <th>3</th>\n",
       "      <td>0.092108</td>\n",
       "      <td>0.995017</td>\n",
       "      <td>0.014465</td>\n",
       "      <td>0.176371</td>\n",
       "      <td>0.241530</td>\n",
       "      <td>0.514724</td>\n",
       "      <td>0.562208</td>\n",
       "      <td>0.158963</td>\n",
       "      <td>0.073715</td>\n",
       "      <td>0.208463</td>\n",
       "    </tr>\n",
       "    <tr>\n",
       "      <th>4</th>\n",
       "      <td>0.325261</td>\n",
       "      <td>0.805968</td>\n",
       "      <td>0.957033</td>\n",
       "      <td>0.331665</td>\n",
       "      <td>0.307923</td>\n",
       "      <td>0.355315</td>\n",
       "      <td>0.501899</td>\n",
       "      <td>0.558449</td>\n",
       "      <td>0.885169</td>\n",
       "      <td>0.182754</td>\n",
       "    </tr>\n",
       "  </tbody>\n",
       "</table>\n",
       "</div>"
      ],
      "text/plain": [
       "       Col1      Col2      Col3      Col4      Col5      Col6      Col7  \\\n",
       "0  0.263995  0.764929  0.138424  0.935242  0.605867  0.518790  0.912225   \n",
       "1  0.546092  0.653975  0.065575  0.227772  0.845269  0.837066  0.272379   \n",
       "2  0.336714  0.538842  0.192801  0.553563  0.074515  0.332993  0.365792   \n",
       "3  0.092108  0.995017  0.014465  0.176371  0.241530  0.514724  0.562208   \n",
       "4  0.325261  0.805968  0.957033  0.331665  0.307923  0.355315  0.501899   \n",
       "\n",
       "       Col8      Col9     Col10  \n",
       "0  0.608234  0.723782  0.733591  \n",
       "1  0.331679  0.429297  0.367422  \n",
       "2  0.861309  0.899017  0.088600  \n",
       "3  0.158963  0.073715  0.208463  \n",
       "4  0.558449  0.885169  0.182754  "
      ]
     },
     "metadata": {},
     "output_type": "display_data"
    }
   ],
   "source": [
    "from pycaret.datasets import get_data\n",
    "\n",
    "data = get_data(\"anomaly\")"
   ]
  },
  {
   "cell_type": "markdown",
   "metadata": {},
   "source": [
    "# 2. Initialize Setup"
   ]
  },
  {
   "cell_type": "code",
   "execution_count": 3,
   "metadata": {
    "scrolled": true
   },
   "outputs": [
    {
     "name": "stdout",
     "output_type": "stream",
     "text": [
      "Setup Succesfully Completed!\n"
     ]
    },
    {
     "data": {
      "text/html": [
       "<style  type=\"text/css\" >\n",
       "</style><table id=\"T_9a1c0052_d413_11ea_8785_0242ac110002\" ><thead>    <tr>        <th class=\"blank level0\" ></th>        <th class=\"col_heading level0 col0\" >Description</th>        <th class=\"col_heading level0 col1\" >Value</th>    </tr></thead><tbody>\n",
       "                <tr>\n",
       "                        <th id=\"T_9a1c0052_d413_11ea_8785_0242ac110002level0_row0\" class=\"row_heading level0 row0\" >0</th>\n",
       "                        <td id=\"T_9a1c0052_d413_11ea_8785_0242ac110002row0_col0\" class=\"data row0 col0\" >session_id </td>\n",
       "                        <td id=\"T_9a1c0052_d413_11ea_8785_0242ac110002row0_col1\" class=\"data row0 col1\" >123</td>\n",
       "            </tr>\n",
       "            <tr>\n",
       "                        <th id=\"T_9a1c0052_d413_11ea_8785_0242ac110002level0_row1\" class=\"row_heading level0 row1\" >1</th>\n",
       "                        <td id=\"T_9a1c0052_d413_11ea_8785_0242ac110002row1_col0\" class=\"data row1 col0\" >Original Data </td>\n",
       "                        <td id=\"T_9a1c0052_d413_11ea_8785_0242ac110002row1_col1\" class=\"data row1 col1\" >(1000, 10)</td>\n",
       "            </tr>\n",
       "            <tr>\n",
       "                        <th id=\"T_9a1c0052_d413_11ea_8785_0242ac110002level0_row2\" class=\"row_heading level0 row2\" >2</th>\n",
       "                        <td id=\"T_9a1c0052_d413_11ea_8785_0242ac110002row2_col0\" class=\"data row2 col0\" >Missing Values </td>\n",
       "                        <td id=\"T_9a1c0052_d413_11ea_8785_0242ac110002row2_col1\" class=\"data row2 col1\" >False</td>\n",
       "            </tr>\n",
       "            <tr>\n",
       "                        <th id=\"T_9a1c0052_d413_11ea_8785_0242ac110002level0_row3\" class=\"row_heading level0 row3\" >3</th>\n",
       "                        <td id=\"T_9a1c0052_d413_11ea_8785_0242ac110002row3_col0\" class=\"data row3 col0\" >Numeric Features </td>\n",
       "                        <td id=\"T_9a1c0052_d413_11ea_8785_0242ac110002row3_col1\" class=\"data row3 col1\" >10</td>\n",
       "            </tr>\n",
       "            <tr>\n",
       "                        <th id=\"T_9a1c0052_d413_11ea_8785_0242ac110002level0_row4\" class=\"row_heading level0 row4\" >4</th>\n",
       "                        <td id=\"T_9a1c0052_d413_11ea_8785_0242ac110002row4_col0\" class=\"data row4 col0\" >Categorical Features </td>\n",
       "                        <td id=\"T_9a1c0052_d413_11ea_8785_0242ac110002row4_col1\" class=\"data row4 col1\" >0</td>\n",
       "            </tr>\n",
       "            <tr>\n",
       "                        <th id=\"T_9a1c0052_d413_11ea_8785_0242ac110002level0_row5\" class=\"row_heading level0 row5\" >5</th>\n",
       "                        <td id=\"T_9a1c0052_d413_11ea_8785_0242ac110002row5_col0\" class=\"data row5 col0\" >Ordinal Features </td>\n",
       "                        <td id=\"T_9a1c0052_d413_11ea_8785_0242ac110002row5_col1\" class=\"data row5 col1\" >False</td>\n",
       "            </tr>\n",
       "            <tr>\n",
       "                        <th id=\"T_9a1c0052_d413_11ea_8785_0242ac110002level0_row6\" class=\"row_heading level0 row6\" >6</th>\n",
       "                        <td id=\"T_9a1c0052_d413_11ea_8785_0242ac110002row6_col0\" class=\"data row6 col0\" >High Cardinality Features </td>\n",
       "                        <td id=\"T_9a1c0052_d413_11ea_8785_0242ac110002row6_col1\" class=\"data row6 col1\" >False</td>\n",
       "            </tr>\n",
       "            <tr>\n",
       "                        <th id=\"T_9a1c0052_d413_11ea_8785_0242ac110002level0_row7\" class=\"row_heading level0 row7\" >7</th>\n",
       "                        <td id=\"T_9a1c0052_d413_11ea_8785_0242ac110002row7_col0\" class=\"data row7 col0\" >Transformed Data </td>\n",
       "                        <td id=\"T_9a1c0052_d413_11ea_8785_0242ac110002row7_col1\" class=\"data row7 col1\" >(1000, 10)</td>\n",
       "            </tr>\n",
       "            <tr>\n",
       "                        <th id=\"T_9a1c0052_d413_11ea_8785_0242ac110002level0_row8\" class=\"row_heading level0 row8\" >8</th>\n",
       "                        <td id=\"T_9a1c0052_d413_11ea_8785_0242ac110002row8_col0\" class=\"data row8 col0\" >Numeric Imputer </td>\n",
       "                        <td id=\"T_9a1c0052_d413_11ea_8785_0242ac110002row8_col1\" class=\"data row8 col1\" >mean</td>\n",
       "            </tr>\n",
       "            <tr>\n",
       "                        <th id=\"T_9a1c0052_d413_11ea_8785_0242ac110002level0_row9\" class=\"row_heading level0 row9\" >9</th>\n",
       "                        <td id=\"T_9a1c0052_d413_11ea_8785_0242ac110002row9_col0\" class=\"data row9 col0\" >Categorical Imputer </td>\n",
       "                        <td id=\"T_9a1c0052_d413_11ea_8785_0242ac110002row9_col1\" class=\"data row9 col1\" >constant</td>\n",
       "            </tr>\n",
       "            <tr>\n",
       "                        <th id=\"T_9a1c0052_d413_11ea_8785_0242ac110002level0_row10\" class=\"row_heading level0 row10\" >10</th>\n",
       "                        <td id=\"T_9a1c0052_d413_11ea_8785_0242ac110002row10_col0\" class=\"data row10 col0\" >Normalize </td>\n",
       "                        <td id=\"T_9a1c0052_d413_11ea_8785_0242ac110002row10_col1\" class=\"data row10 col1\" >False</td>\n",
       "            </tr>\n",
       "            <tr>\n",
       "                        <th id=\"T_9a1c0052_d413_11ea_8785_0242ac110002level0_row11\" class=\"row_heading level0 row11\" >11</th>\n",
       "                        <td id=\"T_9a1c0052_d413_11ea_8785_0242ac110002row11_col0\" class=\"data row11 col0\" >Normalize Method </td>\n",
       "                        <td id=\"T_9a1c0052_d413_11ea_8785_0242ac110002row11_col1\" class=\"data row11 col1\" >None</td>\n",
       "            </tr>\n",
       "            <tr>\n",
       "                        <th id=\"T_9a1c0052_d413_11ea_8785_0242ac110002level0_row12\" class=\"row_heading level0 row12\" >12</th>\n",
       "                        <td id=\"T_9a1c0052_d413_11ea_8785_0242ac110002row12_col0\" class=\"data row12 col0\" >Transformation </td>\n",
       "                        <td id=\"T_9a1c0052_d413_11ea_8785_0242ac110002row12_col1\" class=\"data row12 col1\" >False</td>\n",
       "            </tr>\n",
       "            <tr>\n",
       "                        <th id=\"T_9a1c0052_d413_11ea_8785_0242ac110002level0_row13\" class=\"row_heading level0 row13\" >13</th>\n",
       "                        <td id=\"T_9a1c0052_d413_11ea_8785_0242ac110002row13_col0\" class=\"data row13 col0\" >Transformation Method </td>\n",
       "                        <td id=\"T_9a1c0052_d413_11ea_8785_0242ac110002row13_col1\" class=\"data row13 col1\" >None</td>\n",
       "            </tr>\n",
       "            <tr>\n",
       "                        <th id=\"T_9a1c0052_d413_11ea_8785_0242ac110002level0_row14\" class=\"row_heading level0 row14\" >14</th>\n",
       "                        <td id=\"T_9a1c0052_d413_11ea_8785_0242ac110002row14_col0\" class=\"data row14 col0\" >PCA </td>\n",
       "                        <td id=\"T_9a1c0052_d413_11ea_8785_0242ac110002row14_col1\" class=\"data row14 col1\" >False</td>\n",
       "            </tr>\n",
       "            <tr>\n",
       "                        <th id=\"T_9a1c0052_d413_11ea_8785_0242ac110002level0_row15\" class=\"row_heading level0 row15\" >15</th>\n",
       "                        <td id=\"T_9a1c0052_d413_11ea_8785_0242ac110002row15_col0\" class=\"data row15 col0\" >PCA Method </td>\n",
       "                        <td id=\"T_9a1c0052_d413_11ea_8785_0242ac110002row15_col1\" class=\"data row15 col1\" >None</td>\n",
       "            </tr>\n",
       "            <tr>\n",
       "                        <th id=\"T_9a1c0052_d413_11ea_8785_0242ac110002level0_row16\" class=\"row_heading level0 row16\" >16</th>\n",
       "                        <td id=\"T_9a1c0052_d413_11ea_8785_0242ac110002row16_col0\" class=\"data row16 col0\" >PCA components </td>\n",
       "                        <td id=\"T_9a1c0052_d413_11ea_8785_0242ac110002row16_col1\" class=\"data row16 col1\" >None</td>\n",
       "            </tr>\n",
       "            <tr>\n",
       "                        <th id=\"T_9a1c0052_d413_11ea_8785_0242ac110002level0_row17\" class=\"row_heading level0 row17\" >17</th>\n",
       "                        <td id=\"T_9a1c0052_d413_11ea_8785_0242ac110002row17_col0\" class=\"data row17 col0\" >Ignore Low Variance </td>\n",
       "                        <td id=\"T_9a1c0052_d413_11ea_8785_0242ac110002row17_col1\" class=\"data row17 col1\" >False</td>\n",
       "            </tr>\n",
       "            <tr>\n",
       "                        <th id=\"T_9a1c0052_d413_11ea_8785_0242ac110002level0_row18\" class=\"row_heading level0 row18\" >18</th>\n",
       "                        <td id=\"T_9a1c0052_d413_11ea_8785_0242ac110002row18_col0\" class=\"data row18 col0\" >Combine Rare Levels </td>\n",
       "                        <td id=\"T_9a1c0052_d413_11ea_8785_0242ac110002row18_col1\" class=\"data row18 col1\" >False</td>\n",
       "            </tr>\n",
       "            <tr>\n",
       "                        <th id=\"T_9a1c0052_d413_11ea_8785_0242ac110002level0_row19\" class=\"row_heading level0 row19\" >19</th>\n",
       "                        <td id=\"T_9a1c0052_d413_11ea_8785_0242ac110002row19_col0\" class=\"data row19 col0\" >Rare Level Threshold </td>\n",
       "                        <td id=\"T_9a1c0052_d413_11ea_8785_0242ac110002row19_col1\" class=\"data row19 col1\" >None</td>\n",
       "            </tr>\n",
       "            <tr>\n",
       "                        <th id=\"T_9a1c0052_d413_11ea_8785_0242ac110002level0_row20\" class=\"row_heading level0 row20\" >20</th>\n",
       "                        <td id=\"T_9a1c0052_d413_11ea_8785_0242ac110002row20_col0\" class=\"data row20 col0\" >Numeric Binning </td>\n",
       "                        <td id=\"T_9a1c0052_d413_11ea_8785_0242ac110002row20_col1\" class=\"data row20 col1\" >False</td>\n",
       "            </tr>\n",
       "            <tr>\n",
       "                        <th id=\"T_9a1c0052_d413_11ea_8785_0242ac110002level0_row21\" class=\"row_heading level0 row21\" >21</th>\n",
       "                        <td id=\"T_9a1c0052_d413_11ea_8785_0242ac110002row21_col0\" class=\"data row21 col0\" >Remove Multicollinearity </td>\n",
       "                        <td id=\"T_9a1c0052_d413_11ea_8785_0242ac110002row21_col1\" class=\"data row21 col1\" >False</td>\n",
       "            </tr>\n",
       "            <tr>\n",
       "                        <th id=\"T_9a1c0052_d413_11ea_8785_0242ac110002level0_row22\" class=\"row_heading level0 row22\" >22</th>\n",
       "                        <td id=\"T_9a1c0052_d413_11ea_8785_0242ac110002row22_col0\" class=\"data row22 col0\" >Multicollinearity Threshold </td>\n",
       "                        <td id=\"T_9a1c0052_d413_11ea_8785_0242ac110002row22_col1\" class=\"data row22 col1\" >None</td>\n",
       "            </tr>\n",
       "            <tr>\n",
       "                        <th id=\"T_9a1c0052_d413_11ea_8785_0242ac110002level0_row23\" class=\"row_heading level0 row23\" >23</th>\n",
       "                        <td id=\"T_9a1c0052_d413_11ea_8785_0242ac110002row23_col0\" class=\"data row23 col0\" >Group Features </td>\n",
       "                        <td id=\"T_9a1c0052_d413_11ea_8785_0242ac110002row23_col1\" class=\"data row23 col1\" >False</td>\n",
       "            </tr>\n",
       "    </tbody></table>"
      ],
      "text/plain": [
       "<pandas.io.formats.style.Styler at 0x7f77d7421990>"
      ]
     },
     "metadata": {},
     "output_type": "display_data"
    },
    {
     "name": "stderr",
     "output_type": "stream",
     "text": [
      "2020/08/01 16:25:24 WARNING mlflow.tracking.context.git_context: Failed to import Git (the Git executable is probably not on your PATH), so Git SHA is not available. Error: Failed to initialize: Bad git executable.\n",
      "The git executable must be specified in one of the following ways:\n",
      "    - be included in your $PATH\n",
      "    - be set via $GIT_PYTHON_GIT_EXECUTABLE\n",
      "    - explicitly set via git.refresh()\n",
      "\n",
      "All git commands will error until this is rectified.\n",
      "\n",
      "This initial warning can be silenced or aggravated in the future by setting the\n",
      "$GIT_PYTHON_REFRESH environment variable. Use one of the following values:\n",
      "    - quiet|q|silence|s|none|n|0: for no warning or exception\n",
      "    - warn|w|warning|1: for a printed warning\n",
      "    - error|e|raise|r|2: for a raised exception\n",
      "\n",
      "Example:\n",
      "    export GIT_PYTHON_REFRESH=quiet\n",
      "\n"
     ]
    }
   ],
   "source": [
    "from pycaret.anomaly import *\n",
    "\n",
    "ano1 = setup(data, \n",
    "             session_id=123, \n",
    "             log_experiment=True, \n",
    "             experiment_name=\"anomaly1\",\n",
    "             silent=True,\n",
    "            )"
   ]
  },
  {
   "cell_type": "markdown",
   "metadata": {},
   "source": [
    "# 3. Create Model"
   ]
  },
  {
   "cell_type": "code",
   "execution_count": 4,
   "metadata": {
    "scrolled": true
   },
   "outputs": [
    {
     "data": {
      "text/html": [
       "<div>\n",
       "<style scoped>\n",
       "    .dataframe tbody tr th:only-of-type {\n",
       "        vertical-align: middle;\n",
       "    }\n",
       "\n",
       "    .dataframe tbody tr th {\n",
       "        vertical-align: top;\n",
       "    }\n",
       "\n",
       "    .dataframe thead th {\n",
       "        text-align: right;\n",
       "    }\n",
       "</style>\n",
       "<table border=\"1\" class=\"dataframe\">\n",
       "  <thead>\n",
       "    <tr style=\"text-align: right;\">\n",
       "      <th></th>\n",
       "      <th>Name</th>\n",
       "      <th>Reference</th>\n",
       "    </tr>\n",
       "    <tr>\n",
       "      <th>ID</th>\n",
       "      <th></th>\n",
       "      <th></th>\n",
       "    </tr>\n",
       "  </thead>\n",
       "  <tbody>\n",
       "    <tr>\n",
       "      <th>abod</th>\n",
       "      <td>Angle-base Outlier Detection</td>\n",
       "      <td>pyod.models.abod.ABOD</td>\n",
       "    </tr>\n",
       "    <tr>\n",
       "      <th>iforest</th>\n",
       "      <td>Isolation Forest</td>\n",
       "      <td>pyod.models.iforest</td>\n",
       "    </tr>\n",
       "    <tr>\n",
       "      <th>cluster</th>\n",
       "      <td>Clustering-Based Local Outlier</td>\n",
       "      <td>pyod.models.cblof</td>\n",
       "    </tr>\n",
       "    <tr>\n",
       "      <th>cof</th>\n",
       "      <td>Connectivity-Based Outlier Factor</td>\n",
       "      <td>pyod.models.cof</td>\n",
       "    </tr>\n",
       "    <tr>\n",
       "      <th>histogram</th>\n",
       "      <td>Histogram-based Outlier Detection</td>\n",
       "      <td>pyod.models.hbos</td>\n",
       "    </tr>\n",
       "    <tr>\n",
       "      <th>knn</th>\n",
       "      <td>k-Nearest Neighbors Detector</td>\n",
       "      <td>pyod.models.knn</td>\n",
       "    </tr>\n",
       "    <tr>\n",
       "      <th>lof</th>\n",
       "      <td>Local Outlier Factor</td>\n",
       "      <td>pyod.models.lof</td>\n",
       "    </tr>\n",
       "    <tr>\n",
       "      <th>svm</th>\n",
       "      <td>One-class SVM detector</td>\n",
       "      <td>pyod.models.ocsvm</td>\n",
       "    </tr>\n",
       "    <tr>\n",
       "      <th>pca</th>\n",
       "      <td>Principal Component Analysis</td>\n",
       "      <td>pyod.models.pca</td>\n",
       "    </tr>\n",
       "    <tr>\n",
       "      <th>mcd</th>\n",
       "      <td>Minimum Covariance Determinant</td>\n",
       "      <td>pyod.models.mcd</td>\n",
       "    </tr>\n",
       "    <tr>\n",
       "      <th>sod</th>\n",
       "      <td>Subspace Outlier Detection</td>\n",
       "      <td>pyod.models.sod</td>\n",
       "    </tr>\n",
       "    <tr>\n",
       "      <th>sos</th>\n",
       "      <td>Stochastic Outlier Selection</td>\n",
       "      <td>pyod.models.sos</td>\n",
       "    </tr>\n",
       "  </tbody>\n",
       "</table>\n",
       "</div>"
      ],
      "text/plain": [
       "                                        Name              Reference\n",
       "ID                                                                 \n",
       "abod            Angle-base Outlier Detection  pyod.models.abod.ABOD\n",
       "iforest                     Isolation Forest    pyod.models.iforest\n",
       "cluster       Clustering-Based Local Outlier      pyod.models.cblof\n",
       "cof        Connectivity-Based Outlier Factor        pyod.models.cof\n",
       "histogram  Histogram-based Outlier Detection       pyod.models.hbos\n",
       "knn             k-Nearest Neighbors Detector        pyod.models.knn\n",
       "lof                     Local Outlier Factor        pyod.models.lof\n",
       "svm                   One-class SVM detector      pyod.models.ocsvm\n",
       "pca             Principal Component Analysis        pyod.models.pca\n",
       "mcd           Minimum Covariance Determinant        pyod.models.mcd\n",
       "sod               Subspace Outlier Detection        pyod.models.sod\n",
       "sos             Stochastic Outlier Selection        pyod.models.sos"
      ]
     },
     "execution_count": 4,
     "metadata": {},
     "output_type": "execute_result"
    }
   ],
   "source": [
    "models()"
   ]
  },
  {
   "cell_type": "code",
   "execution_count": 5,
   "metadata": {
    "scrolled": true
   },
   "outputs": [
    {
     "name": "stdout",
     "output_type": "stream",
     "text": [
      "Help on function create_model in module pycaret.anomaly:\n",
      "\n",
      "create_model(model=None, fraction=0.05, verbose=True, system=True, **kwargs)\n",
      "    Description:\n",
      "    ------------\n",
      "    This function creates a model on the dataset passed as a data param during \n",
      "    the setup stage. setup() function must be called before using create_model().\n",
      "    \n",
      "    This function returns a trained model object. \n",
      "    \n",
      "        Example\n",
      "        -------\n",
      "        from pycaret.datasets import get_data\n",
      "        anomaly = get_data('anomaly')\n",
      "        experiment_name = setup(data = anomaly, normalize = True)\n",
      "        \n",
      "        knn = create_model('knn')\n",
      "    \n",
      "        This will return trained k-Nearest Neighbors model.\n",
      "    \n",
      "    Parameters\n",
      "    ----------\n",
      "    model : string / object, default = None\n",
      "    \n",
      "    Enter ID of the models available in model library or pass an untrained model \n",
      "    object consistent with fit / predict API to train and evaluate model. List of \n",
      "    models available in model library:\n",
      "    \n",
      "    ID          Model   \n",
      "    -------     ---------\n",
      "    'abod'      Angle-base Outlier Detection       \n",
      "    'cluster'   Clustering-Based Local Outlier            \n",
      "    'cof'       Connectivity-Based Outlier Factor                 \n",
      "    'histogram' Histogram-based Outlier Detection          \n",
      "    'knn'       k-Nearest Neighbors Detector                       \n",
      "    'lof'       Local Outlier Factor                            \n",
      "    'svm'       One-class SVM detector                          \n",
      "    'pca'       Principal Component Analysis                    \n",
      "    'mcd'       Minimum Covariance Determinant                    \n",
      "    'sod'       Subspace Outlier Detection                       \n",
      "    'sos'       Stochastic Outlier Selection                       \n",
      "    \n",
      "    fraction: float, default = 0.05\n",
      "    The percentage / proportion of outliers in the dataset.\n",
      "    \n",
      "    verbose: Boolean, default = True\n",
      "    Status update is not printed when verbose is set to False.\n",
      "    \n",
      "    system: Boolean, default = True\n",
      "    Must remain True all times. Only to be changed by internal functions.\n",
      "    \n",
      "    **kwargs: \n",
      "    Additional keyword arguments to pass to the estimator.\n",
      "    \n",
      "    Returns:\n",
      "    --------\n",
      "    \n",
      "    model:    trained model object\n",
      "    ------\n",
      "\n"
     ]
    }
   ],
   "source": [
    "help(create_model)"
   ]
  },
  {
   "cell_type": "code",
   "execution_count": 6,
   "metadata": {
    "scrolled": true
   },
   "outputs": [],
   "source": [
    "iforest = create_model(\"iforest\")"
   ]
  },
  {
   "cell_type": "code",
   "execution_count": 7,
   "metadata": {},
   "outputs": [],
   "source": [
    "knn = create_model(\"knn\", fraction=0.1)"
   ]
  },
  {
   "cell_type": "markdown",
   "metadata": {},
   "source": [
    "# 4. Assign Labels"
   ]
  },
  {
   "cell_type": "code",
   "execution_count": 8,
   "metadata": {},
   "outputs": [
    {
     "data": {
      "text/html": [
       "<div>\n",
       "<style scoped>\n",
       "    .dataframe tbody tr th:only-of-type {\n",
       "        vertical-align: middle;\n",
       "    }\n",
       "\n",
       "    .dataframe tbody tr th {\n",
       "        vertical-align: top;\n",
       "    }\n",
       "\n",
       "    .dataframe thead th {\n",
       "        text-align: right;\n",
       "    }\n",
       "</style>\n",
       "<table border=\"1\" class=\"dataframe\">\n",
       "  <thead>\n",
       "    <tr style=\"text-align: right;\">\n",
       "      <th></th>\n",
       "      <th>Col1</th>\n",
       "      <th>Col2</th>\n",
       "      <th>Col3</th>\n",
       "      <th>Col4</th>\n",
       "      <th>Col5</th>\n",
       "      <th>Col6</th>\n",
       "      <th>Col7</th>\n",
       "      <th>Col8</th>\n",
       "      <th>Col9</th>\n",
       "      <th>Col10</th>\n",
       "      <th>Label</th>\n",
       "      <th>Score</th>\n",
       "    </tr>\n",
       "  </thead>\n",
       "  <tbody>\n",
       "    <tr>\n",
       "      <th>0</th>\n",
       "      <td>0.263995</td>\n",
       "      <td>0.764929</td>\n",
       "      <td>0.138424</td>\n",
       "      <td>0.935242</td>\n",
       "      <td>0.605867</td>\n",
       "      <td>0.518790</td>\n",
       "      <td>0.912225</td>\n",
       "      <td>0.608234</td>\n",
       "      <td>0.723782</td>\n",
       "      <td>0.733591</td>\n",
       "      <td>0</td>\n",
       "      <td>-0.035865</td>\n",
       "    </tr>\n",
       "    <tr>\n",
       "      <th>1</th>\n",
       "      <td>0.546092</td>\n",
       "      <td>0.653975</td>\n",
       "      <td>0.065575</td>\n",
       "      <td>0.227772</td>\n",
       "      <td>0.845269</td>\n",
       "      <td>0.837066</td>\n",
       "      <td>0.272379</td>\n",
       "      <td>0.331679</td>\n",
       "      <td>0.429297</td>\n",
       "      <td>0.367422</td>\n",
       "      <td>0</td>\n",
       "      <td>-0.084927</td>\n",
       "    </tr>\n",
       "    <tr>\n",
       "      <th>2</th>\n",
       "      <td>0.336714</td>\n",
       "      <td>0.538842</td>\n",
       "      <td>0.192801</td>\n",
       "      <td>0.553563</td>\n",
       "      <td>0.074515</td>\n",
       "      <td>0.332993</td>\n",
       "      <td>0.365792</td>\n",
       "      <td>0.861309</td>\n",
       "      <td>0.899017</td>\n",
       "      <td>0.088600</td>\n",
       "      <td>1</td>\n",
       "      <td>0.025356</td>\n",
       "    </tr>\n",
       "    <tr>\n",
       "      <th>3</th>\n",
       "      <td>0.092108</td>\n",
       "      <td>0.995017</td>\n",
       "      <td>0.014465</td>\n",
       "      <td>0.176371</td>\n",
       "      <td>0.241530</td>\n",
       "      <td>0.514724</td>\n",
       "      <td>0.562208</td>\n",
       "      <td>0.158963</td>\n",
       "      <td>0.073715</td>\n",
       "      <td>0.208463</td>\n",
       "      <td>1</td>\n",
       "      <td>0.042415</td>\n",
       "    </tr>\n",
       "    <tr>\n",
       "      <th>4</th>\n",
       "      <td>0.325261</td>\n",
       "      <td>0.805968</td>\n",
       "      <td>0.957033</td>\n",
       "      <td>0.331665</td>\n",
       "      <td>0.307923</td>\n",
       "      <td>0.355315</td>\n",
       "      <td>0.501899</td>\n",
       "      <td>0.558449</td>\n",
       "      <td>0.885169</td>\n",
       "      <td>0.182754</td>\n",
       "      <td>0</td>\n",
       "      <td>-0.023408</td>\n",
       "    </tr>\n",
       "  </tbody>\n",
       "</table>\n",
       "</div>"
      ],
      "text/plain": [
       "       Col1      Col2      Col3      Col4      Col5      Col6      Col7  \\\n",
       "0  0.263995  0.764929  0.138424  0.935242  0.605867  0.518790  0.912225   \n",
       "1  0.546092  0.653975  0.065575  0.227772  0.845269  0.837066  0.272379   \n",
       "2  0.336714  0.538842  0.192801  0.553563  0.074515  0.332993  0.365792   \n",
       "3  0.092108  0.995017  0.014465  0.176371  0.241530  0.514724  0.562208   \n",
       "4  0.325261  0.805968  0.957033  0.331665  0.307923  0.355315  0.501899   \n",
       "\n",
       "       Col8      Col9     Col10  Label     Score  \n",
       "0  0.608234  0.723782  0.733591      0 -0.035865  \n",
       "1  0.331679  0.429297  0.367422      0 -0.084927  \n",
       "2  0.861309  0.899017  0.088600      1  0.025356  \n",
       "3  0.158963  0.073715  0.208463      1  0.042415  \n",
       "4  0.558449  0.885169  0.182754      0 -0.023408  "
      ]
     },
     "execution_count": 8,
     "metadata": {},
     "output_type": "execute_result"
    }
   ],
   "source": [
    "iforest_results = assign_model(iforest)\n",
    "iforest_results.head()"
   ]
  },
  {
   "cell_type": "markdown",
   "metadata": {},
   "source": [
    "# 5. Analyze Model"
   ]
  },
  {
   "cell_type": "code",
   "execution_count": 9,
   "metadata": {
    "scrolled": true
   },
   "outputs": [
    {
     "data": {
      "text/html": [
       "        <script type=\"text/javascript\">\n",
       "        window.PlotlyConfig = {MathJaxConfig: 'local'};\n",
       "        if (window.MathJax) {MathJax.Hub.Config({SVG: {font: \"STIX-Web\"}});}\n",
       "        if (typeof require !== 'undefined') {\n",
       "        require.undef(\"plotly\");\n",
       "        requirejs.config({\n",
       "            paths: {\n",
       "                'plotly': ['https://cdn.plot.ly/plotly-latest.min']\n",
       "            }\n",
       "        });\n",
       "        require(['plotly'], function(Plotly) {\n",
       "            window._Plotly = Plotly;\n",
       "        });\n",
       "        }\n",
       "        </script>\n",
       "        "
      ]
     },
     "metadata": {},
     "output_type": "display_data"
    },
    {
     "data": {
      "application/vnd.plotly.v1+json": {
       "config": {
        "plotlyServerURL": "https://plot.ly"
       },
       "data": [
        {
         "customdata": [
          [
           0.263995357
          ],
          [
           0.546092303
          ],
          [
           0.33671410399999996
          ],
          [
           0.092107835
          ],
          [
           0.325261175
          ],
          [
           0.212464853
          ],
          [
           0.258565714
          ],
          [
           0.869236755
          ],
          [
           0.197077957
          ],
          [
           0.292984504
          ],
          [
           0.82178316
          ],
          [
           0.796622959
          ],
          [
           0.045577010999999994
          ],
          [
           0.613660351
          ],
          [
           0.9507445659999999
          ],
          [
           0.33634633700000005
          ],
          [
           0.034440667
          ],
          [
           0.741544275
          ],
          [
           0.18443265
          ],
          [
           0.664514943
          ],
          [
           0.16282485800000002
          ],
          [
           0.729838445
          ],
          [
           0.62837389
          ],
          [
           0.057883660999999996
          ],
          [
           0.445534827
          ],
          [
           0.80183695
          ],
          [
           0.27709612
          ],
          [
           0.228634015
          ],
          [
           0.834860657
          ],
          [
           0.6697665110000001
          ],
          [
           0.532527349
          ],
          [
           0.17045907100000002
          ],
          [
           0.5102884679999999
          ],
          [
           0.977561989
          ],
          [
           0.249775993
          ],
          [
           0.9755006820000001
          ],
          [
           0.613701727
          ],
          [
           0.16742036300000002
          ],
          [
           0.537472516
          ],
          [
           0.379899131
          ],
          [
           0.633897303
          ],
          [
           0.633960424
          ],
          [
           0.5499746529999999
          ],
          [
           0.178172988
          ],
          [
           0.85563814
          ],
          [
           0.321796672
          ],
          [
           0.8174905370000001
          ],
          [
           0.254879417
          ],
          [
           0.344140513
          ],
          [
           0.8061457259999999
          ],
          [
           0.27708167100000003
          ],
          [
           0.544328519
          ],
          [
           0.07708393
          ],
          [
           0.273081458
          ],
          [
           0.390877336
          ],
          [
           0.349621385
          ],
          [
           0.214549744
          ],
          [
           0.206075222
          ],
          [
           0.86461997
          ],
          [
           0.9817088540000001
          ],
          [
           0.33482964600000004
          ],
          [
           0.648387061
          ],
          [
           0.093643561
          ],
          [
           0.837802698
          ],
          [
           0.7603439670000001
          ],
          [
           0.29140417399999996
          ],
          [
           0.3413454
          ],
          [
           0.7611124840000001
          ],
          [
           0.541899775
          ],
          [
           0.684176639
          ],
          [
           0.983535597
          ],
          [
           0.52081245
          ],
          [
           0.328227724
          ],
          [
           0.09715793800000001
          ],
          [
           0.876088593
          ],
          [
           0.870214512
          ],
          [
           0.656086992
          ],
          [
           0.306791514
          ],
          [
           0.48126734
          ],
          [
           0.259559174
          ],
          [
           0.326123655
          ],
          [
           0.930568042
          ],
          [
           0.6583894
          ],
          [
           0.689992335
          ],
          [
           0.315781109
          ],
          [
           0.5669050929999999
          ],
          [
           0.637526619
          ],
          [
           0.687540723
          ],
          [
           0.324300602
          ],
          [
           0.592704906
          ],
          [
           0.7402531259999999
          ],
          [
           0.5940328770000001
          ],
          [
           0.596452977
          ],
          [
           0.27768081699999997
          ],
          [
           0.258329663
          ],
          [
           0.142460864
          ],
          [
           0.435533461
          ],
          [
           0.7024990440000001
          ],
          [
           0.58897535
          ],
          [
           0.653304374
          ],
          [
           0.336968524
          ],
          [
           0.631244736
          ],
          [
           0.73530076
          ],
          [
           0.050390366
          ],
          [
           0.064264924
          ],
          [
           0.665359476
          ],
          [
           0.917835245
          ],
          [
           0.44651012
          ],
          [
           0.661938199
          ],
          [
           0.43935985299999997
          ],
          [
           0.6875724040000001
          ],
          [
           0.363462248
          ],
          [
           0.6542621820000001
          ],
          [
           0.578553536
          ],
          [
           0.065927945
          ],
          [
           0.550148559
          ],
          [
           0.13918281400000002
          ],
          [
           0.080004635
          ],
          [
           0.278228358
          ],
          [
           0.560124266
          ],
          [
           0.53639864
          ],
          [
           0.42653190399999996
          ],
          [
           0.789109796
          ],
          [
           0.742900474
          ],
          [
           0.901692589
          ],
          [
           0.650337401
          ],
          [
           0.114057311
          ],
          [
           0.260812592
          ],
          [
           0.43991232
          ],
          [
           0.964409284
          ],
          [
           0.184401415
          ],
          [
           0.345145446
          ],
          [
           0.17589458100000002
          ],
          [
           0.312514453
          ],
          [
           0.674131879
          ],
          [
           0.32825045
          ],
          [
           0.598231057
          ],
          [
           0.09259881699999999
          ],
          [
           0.497916521
          ],
          [
           0.419776521
          ],
          [
           0.31217670000000003
          ],
          [
           0.937857107
          ],
          [
           0.049030963
          ],
          [
           0.47610452600000003
          ],
          [
           0.447397526
          ],
          [
           0.295806058
          ],
          [
           0.737363977
          ],
          [
           0.625896253
          ],
          [
           0.408813429
          ],
          [
           0.437511156
          ],
          [
           0.691351375
          ],
          [
           0.935555275
          ],
          [
           0.437846654
          ],
          [
           0.072217715
          ],
          [
           0.67636067
          ],
          [
           0.468883999
          ],
          [
           0.543820644
          ],
          [
           0.6555226470000001
          ],
          [
           0.6935289240000001
          ],
          [
           0.10887831199999999
          ],
          [
           0.285463743
          ],
          [
           0
          ],
          [
           0.706495497
          ],
          [
           0.273530633
          ],
          [
           0.292320271
          ],
          [
           0.673984307
          ],
          [
           0.12612182800000002
          ],
          [
           0.9467074590000001
          ],
          [
           0.9363388979999999
          ],
          [
           0.8537553640000001
          ],
          [
           0.7060713609999999
          ],
          [
           0.693682186
          ],
          [
           0.508527882
          ],
          [
           0.34717038899999997
          ],
          [
           0.704154263
          ],
          [
           0.658730088
          ],
          [
           0.155841557
          ],
          [
           0.311085435
          ],
          [
           0.281135347
          ],
          [
           0.094587802
          ],
          [
           0.6832609540000001
          ],
          [
           0.9077292509999999
          ],
          [
           0.29151267399999997
          ],
          [
           0.752734459
          ],
          [
           0.93482964
          ],
          [
           0.071413953
          ],
          [
           0.5948963270000001
          ],
          [
           0.404672015
          ],
          [
           0.13837621
          ],
          [
           0.7473384679999999
          ],
          [
           0.530882486
          ],
          [
           0.282649594
          ],
          [
           0.699335734
          ],
          [
           0.056111250999999994
          ],
          [
           0.855234998
          ],
          [
           0.07789512700000001
          ],
          [
           0.891649583
          ],
          [
           0.38674227899999997
          ],
          [
           0.27113158
          ],
          [
           0.958888961
          ],
          [
           0.085120869
          ],
          [
           0.5269022489999999
          ],
          [
           0.066577785
          ],
          [
           0.841506738
          ],
          [
           0.255342095
          ],
          [
           0.060545771
          ],
          [
           0.073385869
          ],
          [
           0.187493723
          ],
          [
           0.858365688
          ],
          [
           0.090640352
          ],
          [
           0.7097252270000001
          ],
          [
           0.631300647
          ],
          [
           0.24750447399999997
          ],
          [
           0.822843584
          ],
          [
           0.373476759
          ],
          [
           0.625538582
          ],
          [
           0.292951715
          ],
          [
           0.299730324
          ],
          [
           0.25121407
          ],
          [
           0.344480551
          ],
          [
           0.293064767
          ],
          [
           0.7628032240000001
          ],
          [
           0.7384708040000001
          ],
          [
           0.674883265
          ],
          [
           0.719151612
          ],
          [
           0.13098021599999998
          ],
          [
           0.511328036
          ],
          [
           0.04492903
          ],
          [
           0.560914449
          ],
          [
           0.7440406409999999
          ],
          [
           0.266961634
          ],
          [
           0.644231853
          ],
          [
           0.038113352
          ],
          [
           0.05715529900000001
          ],
          [
           0.34139246100000004
          ],
          [
           0.7204636320000001
          ],
          [
           0.402878236
          ],
          [
           0.635148967
          ],
          [
           0.320729467
          ],
          [
           0.09120969400000001
          ],
          [
           0.23414609
          ],
          [
           0.8902211309999999
          ],
          [
           0.602170884
          ],
          [
           0.633652055
          ],
          [
           0.806240837
          ],
          [
           0.739731184
          ],
          [
           0.465231269
          ],
          [
           0.7321109
          ],
          [
           0.373874305
          ],
          [
           0.501587947
          ],
          [
           0.11538315800000001
          ],
          [
           0.7319466040000001
          ],
          [
           0.41829872799999995
          ],
          [
           0.062259590999999996
          ],
          [
           0.391496379
          ],
          [
           0.35984929
          ],
          [
           0.24523562699999998
          ],
          [
           0.610028339
          ],
          [
           0.43540360200000006
          ],
          [
           0.434309675
          ],
          [
           0.523763344
          ],
          [
           0.17118786600000002
          ],
          [
           0.18773430300000002
          ],
          [
           0.945014638
          ],
          [
           0.027851097000000002
          ],
          [
           0.68445706
          ],
          [
           0.178014532
          ],
          [
           0.643427879
          ],
          [
           0.59588355
          ],
          [
           0.372361682
          ],
          [
           0.586103584
          ],
          [
           0.271658852
          ],
          [
           0.59951107
          ],
          [
           0.468363088
          ],
          [
           0.314515565
          ],
          [
           0.21893726
          ],
          [
           0.254716562
          ],
          [
           0.25612815
          ],
          [
           0.602259755
          ],
          [
           0.134381075
          ],
          [
           0.513887424
          ],
          [
           0.624241636
          ],
          [
           0.160251854
          ],
          [
           0.580708108
          ],
          [
           0.270540486
          ],
          [
           0.832919932
          ],
          [
           0.93032134
          ],
          [
           0.719157884
          ],
          [
           0.886720033
          ],
          [
           0.098792281
          ],
          [
           0.787174286
          ],
          [
           0.365592376
          ],
          [
           0.719576193
          ],
          [
           0.8058956
          ],
          [
           0.7555783340000001
          ],
          [
           0.526005909
          ],
          [
           0.68880424
          ],
          [
           0.22111531199999998
          ],
          [
           0.739369477
          ],
          [
           0.408440236
          ],
          [
           0.348926542
          ],
          [
           0.433713763
          ],
          [
           0.5964966070000001
          ],
          [
           0.6942953000000001
          ],
          [
           0.7090309659999999
          ],
          [
           0.867652984
          ],
          [
           0.89332545
          ],
          [
           0.746020922
          ],
          [
           0.538284443
          ],
          [
           0.8922193140000001
          ],
          [
           0.935175765
          ],
          [
           0.260527707
          ],
          [
           0.956780449
          ],
          [
           0.204932484
          ],
          [
           0.687733351
          ],
          [
           0.329063619
          ],
          [
           0.632149831
          ],
          [
           0.463744506
          ],
          [
           0.698859621
          ],
          [
           0.385446564
          ],
          [
           0.47997537700000004
          ],
          [
           0.732279108
          ],
          [
           0.3813543
          ],
          [
           0.459326013
          ],
          [
           0.257401434
          ],
          [
           0.665014804
          ],
          [
           0.103399542
          ],
          [
           0.425284413
          ],
          [
           0.943529051
          ],
          [
           0.594750236
          ],
          [
           0.543776817
          ],
          [
           0.18203988
          ],
          [
           0.23584208399999998
          ],
          [
           0.585984497
          ],
          [
           0.762013168
          ],
          [
           0.6849829070000001
          ],
          [
           0.676936933
          ],
          [
           0.290184964
          ],
          [
           0.48106822200000005
          ],
          [
           0.492766033
          ],
          [
           0.22185623399999999
          ],
          [
           0.053875998
          ],
          [
           0.082751144
          ],
          [
           0.385366225
          ],
          [
           0.702513961
          ],
          [
           0.91553156
          ],
          [
           0.082087436
          ],
          [
           0.251280378
          ],
          [
           0.41672181700000005
          ],
          [
           0.277032672
          ],
          [
           0.579539754
          ],
          [
           0.569363476
          ],
          [
           0.133399703
          ],
          [
           0.265045463
          ],
          [
           0.936571901
          ],
          [
           0.252618554
          ],
          [
           0.054033081
          ],
          [
           0.802481439
          ],
          [
           0.528197693
          ],
          [
           0.9515026
          ],
          [
           0.572121173
          ],
          [
           0.752938227
          ],
          [
           0.143857535
          ],
          [
           0.513484576
          ],
          [
           0.313322389
          ],
          [
           0.6877973959999999
          ],
          [
           0.37705984
          ],
          [
           0.348226142
          ],
          [
           0.67763282
          ],
          [
           0.24138752100000002
          ],
          [
           0.8506501790000001
          ],
          [
           0.22034810300000002
          ],
          [
           0.476445464
          ],
          [
           0.690324025
          ],
          [
           0.364695946
          ],
          [
           0.6492491970000001
          ],
          [
           0.9437019209999999
          ],
          [
           0.529645971
          ],
          [
           0.299097002
          ],
          [
           0.96696247
          ],
          [
           0.272005242
          ],
          [
           0.314161447
          ],
          [
           0.752020991
          ],
          [
           0.221882453
          ],
          [
           0.7203326729999999
          ],
          [
           0.379204782
          ],
          [
           0.60168653
          ],
          [
           0.582932673
          ],
          [
           0.950809853
          ],
          [
           0.58830141
          ],
          [
           0.880887227
          ],
          [
           0.467857701
          ],
          [
           0.8799021709999999
          ],
          [
           0.619844009
          ],
          [
           0.359002573
          ],
          [
           0.291511278
          ],
          [
           0.694157143
          ],
          [
           0.727960353
          ],
          [
           0.617703921
          ],
          [
           0.39581257
          ],
          [
           0.58317282
          ],
          [
           0.710332374
          ],
          [
           0.253753693
          ],
          [
           0.049412227999999996
          ],
          [
           0.728378695
          ],
          [
           0.432432881
          ],
          [
           0.58612345
          ],
          [
           0.052342373
          ],
          [
           0.053483902
          ],
          [
           0.518729378
          ],
          [
           0.933040208
          ],
          [
           0.7035542840000001
          ],
          [
           0.268989899
          ],
          [
           0.733006927
          ],
          [
           0.44435246700000003
          ],
          [
           0.5833946210000001
          ],
          [
           0.871172692
          ],
          [
           0.42876707799999997
          ],
          [
           0.30046084100000003
          ],
          [
           0.9533294590000001
          ],
          [
           0.606443965
          ],
          [
           0.90986815
          ],
          [
           0.714896449
          ],
          [
           0.49734950899999997
          ],
          [
           0.8530974859999999
          ],
          [
           0.721804145
          ],
          [
           0.303467328
          ],
          [
           0.664485096
          ],
          [
           0.27978062
          ],
          [
           0.569481665
          ],
          [
           0.628628926
          ],
          [
           0.088368123
          ],
          [
           0.733567326
          ],
          [
           0.537436778
          ],
          [
           0.638593691
          ],
          [
           0.954726948
          ],
          [
           0.632202332
          ],
          [
           0.642134651
          ],
          [
           0.744653087
          ],
          [
           0.115714007
          ],
          [
           0.48625007299999995
          ],
          [
           0.440356144
          ],
          [
           0.08272289
          ],
          [
           0.511591027
          ],
          [
           0.394627555
          ],
          [
           0.224394
          ],
          [
           0.626927584
          ],
          [
           0.290254057
          ],
          [
           0.779008053
          ],
          [
           0.86610579
          ],
          [
           0.873326081
          ],
          [
           0.49548916
          ],
          [
           0.594297695
          ],
          [
           0.9182015840000001
          ],
          [
           0.5770427539999999
          ],
          [
           0.019467671000000002
          ],
          [
           0.6702982820000001
          ],
          [
           0.546595316
          ],
          [
           0.591665146
          ],
          [
           0.42155819
          ],
          [
           0.6856085590000001
          ],
          [
           0.340303024
          ],
          [
           0.675626741
          ],
          [
           0.319067345
          ],
          [
           0.38849966399999997
          ],
          [
           0.706949589
          ],
          [
           0.559409515
          ],
          [
           0.687663508
          ],
          [
           0.7088045540000001
          ],
          [
           0.6818880940000001
          ],
          [
           0.42253510899999996
          ],
          [
           0.320004605
          ],
          [
           0.6582813679999999
          ],
          [
           0.634154867
          ],
          [
           0.7773320090000001
          ],
          [
           0.812677205
          ],
          [
           0.074280797
          ],
          [
           0.39600217
          ],
          [
           0.054933913
          ],
          [
           0.825058925
          ],
          [
           0.382642009
          ],
          [
           0.8687298179999999
          ],
          [
           0.588043346
          ],
          [
           0.891551577
          ],
          [
           0.10920046
          ],
          [
           0.647682781
          ],
          [
           0.724342512
          ],
          [
           0.07016304400000001
          ],
          [
           0.280882054
          ],
          [
           0.039113261
          ],
          [
           0.579641592
          ],
          [
           0.639000922
          ],
          [
           0.281745925
          ],
          [
           0.647857744
          ],
          [
           0.6479057970000001
          ],
          [
           0.875226264
          ],
          [
           0.567603305
          ],
          [
           0.262940591
          ],
          [
           0.268026042
          ],
          [
           0.40519133
          ],
          [
           0.479965451
          ],
          [
           0.33552403
          ],
          [
           0.777165379
          ],
          [
           0.42548796299999997
          ],
          [
           0.237986115
          ],
          [
           0.142522971
          ],
          [
           0.724176488
          ],
          [
           0.234698933
          ],
          [
           0.07818228099999999
          ],
          [
           0.855990155
          ],
          [
           0.270251765
          ],
          [
           0.435517841
          ],
          [
           0.762697513
          ],
          [
           0.46448725799999996
          ],
          [
           0.396112685
          ],
          [
           0.37638092100000003
          ],
          [
           0.29459467699999997
          ],
          [
           0.6944921209999999
          ],
          [
           0.622767949
          ],
          [
           0.8475597220000001
          ],
          [
           0.301463054
          ],
          [
           0.912937812
          ],
          [
           0.500017182
          ],
          [
           0.902587935
          ],
          [
           0.304517943
          ],
          [
           0.299165673
          ],
          [
           0.092014087
          ],
          [
           0.488548917
          ],
          [
           0.664664437
          ],
          [
           0.26534954899999996
          ],
          [
           0.723657021
          ],
          [
           0.149262385
          ],
          [
           0.04577339
          ],
          [
           0.69661064
          ],
          [
           0.42181486
          ],
          [
           0.733845785
          ],
          [
           0.418795386
          ],
          [
           0.677443529
          ],
          [
           0.26128360300000003
          ],
          [
           0.268527767
          ],
          [
           0.5443222360000001
          ],
          [
           0.431632036
          ],
          [
           0.981018141
          ],
          [
           0.21498072399999998
          ],
          [
           0.39472999299999995
          ],
          [
           0.122224944
          ],
          [
           0.297496875
          ],
          [
           0.37490443100000004
          ],
          [
           0.68698771
          ],
          [
           0.388549207
          ],
          [
           0.039296071
          ],
          [
           0.73553424
          ],
          [
           0.37929489299999997
          ],
          [
           0.7321233859999999
          ],
          [
           0.33922143899999996
          ],
          [
           0.659450594
          ],
          [
           0.054838642
          ],
          [
           0.640112102
          ],
          [
           0.30714170399999996
          ],
          [
           0.39661190700000004
          ],
          [
           0.420439161
          ],
          [
           0.24171497399999997
          ],
          [
           0.065893153
          ],
          [
           0.9105219370000001
          ],
          [
           0.697163103
          ],
          [
           0.072559853
          ],
          [
           0.81825094
          ],
          [
           0.311888815
          ],
          [
           0.961644609
          ],
          [
           0.816325524
          ],
          [
           0.14647302
          ],
          [
           0.548753945
          ],
          [
           0.946158087
          ],
          [
           0.293992717
          ],
          [
           0.331479643
          ],
          [
           0.9062200309999999
          ],
          [
           0.525540416
          ],
          [
           0.83301411
          ],
          [
           0.514849806
          ],
          [
           0.574609024
          ],
          [
           0.46871185299999996
          ],
          [
           0.71002775
          ],
          [
           0.645973276
          ],
          [
           0.229794416
          ],
          [
           0.551783393
          ],
          [
           0.055822990999999995
          ],
          [
           0.331750941
          ],
          [
           0.715520198
          ],
          [
           0.583924357
          ],
          [
           0.30695769100000003
          ],
          [
           0.7914782370000001
          ],
          [
           0.16423663900000002
          ],
          [
           0.065711219
          ],
          [
           0.948993132
          ],
          [
           0.080423835
          ],
          [
           0.052495426
          ],
          [
           0.566346135
          ],
          [
           0.3630266
          ],
          [
           0.605442195
          ],
          [
           0.6308505839999999
          ],
          [
           0.065791238
          ],
          [
           0.28681707100000003
          ],
          [
           0.685462839
          ],
          [
           0.260853706
          ],
          [
           0.659122429
          ],
          [
           0.44317392200000005
          ],
          [
           0.602063986
          ],
          [
           0.060366910999999995
          ],
          [
           0.781903153
          ],
          [
           0.5145798070000001
          ],
          [
           0.48388621299999995
          ],
          [
           0.600213807
          ],
          [
           0.49736405200000006
          ],
          [
           0.411145245
          ],
          [
           0.116999171
          ],
          [
           0.34189014100000004
          ],
          [
           0.746950848
          ],
          [
           0.39629274600000003
          ],
          [
           0.6221438429999999
          ],
          [
           0.335271141
          ],
          [
           0.140257137
          ],
          [
           0.081620681
          ],
          [
           0.069837569
          ],
          [
           0.46894000799999996
          ],
          [
           0.9908574170000001
          ],
          [
           0.896616832
          ],
          [
           0.255310561
          ],
          [
           0.22464526699999998
          ],
          [
           0.01991825
          ],
          [
           0.296480415
          ],
          [
           0.155458996
          ],
          [
           0.577916714
          ],
          [
           0.9563030309999999
          ],
          [
           0.813464394
          ],
          [
           0.529675785
          ],
          [
           0.287671353
          ],
          [
           0.48039136
          ],
          [
           0.28104482199999997
          ],
          [
           0.633196521
          ],
          [
           0.09332537699999999
          ],
          [
           0.28447398100000004
          ],
          [
           0.052223775
          ],
          [
           0.051129385
          ],
          [
           0.967405608
          ],
          [
           0.040045727999999996
          ],
          [
           0.9085829209999999
          ],
          [
           0.6621174160000001
          ],
          [
           0.42470320899999997
          ],
          [
           0.72207806
          ],
          [
           0.666193327
          ],
          [
           0.509681253
          ],
          [
           0.7513536209999999
          ],
          [
           0.279073124
          ],
          [
           0.074927
          ],
          [
           0.916359535
          ],
          [
           0.31040327
          ],
          [
           0.716604052
          ],
          [
           0.485587085
          ],
          [
           0.30607518100000003
          ],
          [
           0.477558204
          ],
          [
           0.7119239409999999
          ],
          [
           0.066348638
          ],
          [
           0.27453935100000004
          ],
          [
           0.31082252
          ],
          [
           0.47607312700000004
          ],
          [
           0.186795565
          ],
          [
           0.26654207
          ],
          [
           0.070231142
          ],
          [
           0.26951927
          ],
          [
           0.800004713
          ],
          [
           0.27363366699999997
          ],
          [
           0.14647919199999998
          ],
          [
           0.378318951
          ],
          [
           0.373849065
          ],
          [
           0.242170835
          ],
          [
           0.249796488
          ],
          [
           0.066591188
          ],
          [
           0.372956798
          ],
          [
           0.501812291
          ],
          [
           0.313097752
          ],
          [
           0.8802021959999999
          ],
          [
           0.51981893
          ],
          [
           0.364138746
          ],
          [
           0.49268289600000004
          ],
          [
           0.285732652
          ],
          [
           0.890114985
          ],
          [
           0.316419561
          ],
          [
           0.26866354
          ],
          [
           0.771975959
          ],
          [
           0.968888992
          ],
          [
           0.080334377
          ],
          [
           0.7368282209999999
          ],
          [
           0.30055807100000004
          ],
          [
           0.9179503929999999
          ],
          [
           0.465815039
          ],
          [
           0.054036682
          ],
          [
           0.963150123
          ],
          [
           0.08965350300000001
          ],
          [
           0.7076932340000001
          ],
          [
           0.636416037
          ],
          [
           0.539521117
          ],
          [
           0.114757161
          ],
          [
           0.357312419
          ],
          [
           0.67639834
          ],
          [
           0.43482839
          ],
          [
           0.032326387000000005
          ],
          [
           0.711365605
          ],
          [
           0.187486519
          ],
          [
           0.052789653
          ],
          [
           0.5058636129999999
          ],
          [
           0.927431873
          ],
          [
           0.6809842559999999
          ],
          [
           0.882822186
          ],
          [
           0.495705441
          ],
          [
           0.596240398
          ],
          [
           0.320610701
          ],
          [
           0.3413685
          ],
          [
           0.159681797
          ],
          [
           0.318133669
          ],
          [
           0.8393010479999999
          ],
          [
           0.06435925099999999
          ],
          [
           0.470216633
          ],
          [
           0.7762522909999999
          ],
          [
           0.635843383
          ],
          [
           0.62510543
          ],
          [
           0.52959065
          ],
          [
           0.986900166
          ],
          [
           0.078585688
          ],
          [
           0.233284267
          ],
          [
           0.363330957
          ],
          [
           0.7167169809999999
          ],
          [
           0.37588979200000006
          ],
          [
           0.223316889
          ],
          [
           0.299343986
          ],
          [
           0.538595767
          ],
          [
           0.730297124
          ],
          [
           0.66033077
          ],
          [
           0.435296009
          ],
          [
           0.326494313
          ],
          [
           0.854402708
          ],
          [
           0.5734938470000001
          ],
          [
           0.757786135
          ],
          [
           0.704743233
          ],
          [
           0.281575597
          ],
          [
           0.671968208
          ],
          [
           0.313726015
          ],
          [
           0.364338275
          ],
          [
           0.368216396
          ],
          [
           0.38629520700000003
          ],
          [
           0.655971865
          ],
          [
           0.5660252729999999
          ],
          [
           0.424999093
          ],
          [
           0.090110371
          ],
          [
           0.772350538
          ],
          [
           0.331047258
          ],
          [
           0.273716188
          ],
          [
           0.23877568
          ],
          [
           0.37307977200000003
          ],
          [
           0.331185868
          ],
          [
           0.256134531
          ],
          [
           0.678373225
          ],
          [
           0.43463833799999996
          ],
          [
           0.654668307
          ],
          [
           0.986681065
          ],
          [
           0.371520495
          ],
          [
           0.408359618
          ],
          [
           0.40932365
          ],
          [
           0.283412082
          ],
          [
           0.395246531
          ],
          [
           0.010984428000000001
          ],
          [
           0.306013869
          ],
          [
           0.266194806
          ],
          [
           0.299318521
          ],
          [
           0.318293946
          ],
          [
           0.74282591
          ],
          [
           0.09766432900000001
          ],
          [
           0.079666942
          ],
          [
           0.613258767
          ],
          [
           0.99443072
          ],
          [
           0.568835082
          ],
          [
           0.7080345159999999
          ],
          [
           0.37059271899999996
          ],
          [
           0.669867361
          ],
          [
           0.651295625
          ],
          [
           0.462531569
          ],
          [
           0.7196256190000001
          ],
          [
           0.45377248
          ],
          [
           0.394863946
          ],
          [
           0.323974831
          ],
          [
           0.146454724
          ],
          [
           0.7790670409999999
          ],
          [
           0.401828915
          ],
          [
           0.601479585
          ],
          [
           0.856423023
          ],
          [
           0.565242962
          ],
          [
           0.301225108
          ],
          [
           0.282108144
          ],
          [
           0.594378011
          ],
          [
           0.705312368
          ],
          [
           0.5408696279999999
          ],
          [
           0.319249574
          ],
          [
           0.36176613799999996
          ],
          [
           0.625000704
          ],
          [
           0.316287401
          ],
          [
           0.047239021
          ],
          [
           0.801182233
          ],
          [
           0.508474436
          ],
          [
           0.8178934109999999
          ],
          [
           0.399235601
          ],
          [
           0.9740519990000001
          ],
          [
           0.72241535
          ],
          [
           0.039564764
          ],
          [
           0.908684108
          ],
          [
           0.47301013399999997
          ],
          [
           0.7180496279999999
          ],
          [
           0.7634790690000001
          ],
          [
           0.6475965370000001
          ],
          [
           0.8949973859999999
          ],
          [
           0.22282590100000002
          ],
          [
           0.359012234
          ],
          [
           0.944910252
          ],
          [
           0.297877816
          ],
          [
           0.172517997
          ],
          [
           0.556586265
          ],
          [
           0.876481735
          ],
          [
           0.48667784299999994
          ],
          [
           0.459496733
          ],
          [
           0.47412637700000004
          ],
          [
           0.70101144
          ],
          [
           0.337597387
          ],
          [
           0.537578886
          ],
          [
           0.966992448
          ],
          [
           0.056849545
          ],
          [
           0.233249065
          ],
          [
           0.380054711
          ],
          [
           0.602929443
          ],
          [
           0.303847999
          ],
          [
           0.170194553
          ],
          [
           0.972168554
          ],
          [
           0.332168927
          ],
          [
           0.6887286890000001
          ],
          [
           0.110773401
          ],
          [
           0.273352065
          ],
          [
           0.572939678
          ],
          [
           0.491457065
          ],
          [
           0.281389999
          ],
          [
           0.821697261
          ],
          [
           0.6749776829999999
          ],
          [
           0.585134549
          ],
          [
           0.7105961159999999
          ],
          [
           0.040488789
          ],
          [
           0.568054311
          ],
          [
           0.321752928
          ],
          [
           0.611850232
          ],
          [
           0.926096887
          ],
          [
           0.618347428
          ],
          [
           0.667629785
          ],
          [
           0.39773346600000004
          ],
          [
           0.290875487
          ],
          [
           0.594375103
          ],
          [
           0.508255233
          ],
          [
           0.338571357
          ],
          [
           0.43230234700000003
          ],
          [
           0.302221978
          ],
          [
           0.87619819
          ],
          [
           0.080204492
          ],
          [
           0.092333532
          ],
          [
           0.09365644699999999
          ],
          [
           0.6084523510000001
          ],
          [
           0.732654598
          ],
          [
           0.944158855
          ],
          [
           0.26742308
          ],
          [
           0.731124201
          ],
          [
           0.661308553
          ],
          [
           0.38776626200000003
          ],
          [
           0.962585273
          ],
          [
           0.322067067
          ],
          [
           0.6340810929999999
          ],
          [
           0.475345002
          ],
          [
           0.35355897299999994
          ],
          [
           0.8859363159999999
          ],
          [
           0.876798106
          ],
          [
           0.221581064
          ],
          [
           0.394362449
          ],
          [
           0.8050356759999999
          ],
          [
           0.452898486
          ],
          [
           0.592520516
          ],
          [
           0.761026394
          ],
          [
           0.245049023
          ],
          [
           0.37213936299999995
          ],
          [
           0.681054822
          ],
          [
           0.7471431479999999
          ],
          [
           0.9207395290000001
          ],
          [
           0.097207945
          ],
          [
           0.699302998
          ],
          [
           0.721647006
          ],
          [
           0.5353561139999999
          ],
          [
           0.738293805
          ],
          [
           0.7064675509999999
          ],
          [
           0.67395061
          ],
          [
           0.7112122909999999
          ],
          [
           0.302558708
          ],
          [
           0.080097855
          ],
          [
           0.707010837
          ],
          [
           0.512248622
          ],
          [
           0.659627472
          ],
          [
           0.657559694
          ],
          [
           0.100645606
          ],
          [
           0.92665363
          ],
          [
           0.892879338
          ],
          [
           0.839157508
          ],
          [
           0.890959718
          ],
          [
           0.556754471
          ],
          [
           0.960361937
          ],
          [
           0.631037864
          ],
          [
           0.029838065
          ],
          [
           0.278843351
          ],
          [
           0.926157705
          ],
          [
           0.551504258
          ],
          [
           0.485942349
          ],
          [
           0.43723469600000003
          ],
          [
           0.25231801800000003
          ],
          [
           0.515466972
          ],
          [
           0.43725229600000004
          ],
          [
           0.493724207
          ],
          [
           0.83324725
          ],
          [
           0.317521477
          ],
          [
           0.28623456199999997
          ],
          [
           0.726833965
          ],
          [
           0.495667033
          ],
          [
           0.028645255
          ],
          [
           0.31967191699999997
          ],
          [
           0.674344598
          ],
          [
           0.7660371890000001
          ],
          [
           0.65456992
          ],
          [
           0.7565143809999999
          ],
          [
           0.528253719
          ],
          [
           0.38971949100000003
          ],
          [
           0.355087459
          ],
          [
           0.87015202
          ],
          [
           0.7390833059999999
          ],
          [
           0.305761846
          ],
          [
           0.411587673
          ],
          [
           0.063633094
          ],
          [
           0.735409395
          ],
          [
           0.605916669
          ],
          [
           0.539395562
          ],
          [
           0.566183532
          ],
          [
           0.674795186
          ],
          [
           0.070993366
          ],
          [
           0.12526410000000002
          ],
          [
           0.279601492
          ],
          [
           0.952174402
          ],
          [
           0.233806762
          ],
          [
           0.43724742899999997
          ],
          [
           0.925423095
          ],
          [
           0.433498634
          ],
          [
           0.52517902
          ],
          [
           0.088435529
          ],
          [
           0.447677638
          ],
          [
           0.647000631
          ],
          [
           0.9036033370000001
          ],
          [
           0.265790738
          ],
          [
           0.66419695
          ],
          [
           0.498120658
          ],
          [
           0.49018894399999996
          ],
          [
           0.747084187
          ],
          [
           0.906783648
          ],
          [
           0.678770917
          ],
          [
           0.348599859
          ],
          [
           0.294839683
          ],
          [
           0.705691827
          ],
          [
           0.211917931
          ],
          [
           0.063201124
          ],
          [
           0.276699543
          ],
          [
           0.672459395
          ],
          [
           0.8082059490000001
          ],
          [
           0.296538373
          ],
          [
           0.16012686199999998
          ],
          [
           0.439385032
          ],
          [
           0.555951416
          ],
          [
           0.386240112
          ],
          [
           0.158689619
          ],
          [
           0.214499855
          ],
          [
           0.299579429
          ],
          [
           0.569161656
          ],
          [
           0.488614799
          ],
          [
           0.8782950209999999
          ],
          [
           0.649380949
          ],
          [
           0.465713341
          ],
          [
           0.16813774
          ],
          [
           0.87529545
          ],
          [
           0.8411323409999999
          ],
          [
           0.33292081
          ],
          [
           0.5130478589999999
          ],
          [
           0.30505507800000004
          ],
          [
           0.8126269909999999
          ],
          [
           0.25096706
          ],
          [
           0.5024355779999999
          ],
          [
           0.45799074100000003
          ]
         ],
         "hovertemplate": "0=%{x}<br>1=%{y}<br>2=%{z}<br>Feature=%{customdata[0]}<br>Label=%{marker.color}<extra></extra>",
         "legendgroup": "",
         "marker": {
          "color": [
           0,
           0,
           1,
           1,
           0,
           0,
           0,
           1,
           1,
           0,
           0,
           1,
           0,
           0,
           1,
           0,
           1,
           0,
           0,
           0,
           1,
           0,
           0,
           1,
           1,
           1,
           0,
           0,
           1,
           1,
           0,
           0,
           1,
           1,
           1,
           0,
           0,
           0,
           0,
           0,
           1,
           0,
           0,
           1,
           0,
           0,
           0,
           0,
           0,
           0,
           0,
           1,
           0,
           1,
           0,
           1,
           0,
           0,
           0,
           1,
           0,
           0,
           1,
           1,
           0,
           0,
           1,
           0,
           0,
           1,
           0,
           0,
           0,
           0,
           0,
           0,
           0,
           0,
           0,
           0,
           0,
           0,
           0,
           0,
           0,
           0,
           0,
           0,
           0,
           0,
           0,
           0,
           0,
           0,
           0,
           0,
           0,
           0,
           0,
           0,
           0,
           0,
           0,
           0,
           0,
           0,
           0,
           0,
           0,
           0,
           0,
           0,
           0,
           0,
           0,
           0,
           0,
           0,
           0,
           0,
           0,
           0,
           0,
           0,
           0,
           0,
           0,
           0,
           0,
           0,
           0,
           0,
           0,
           0,
           0,
           0,
           0,
           0,
           0,
           0,
           0,
           0,
           0,
           0,
           0,
           0,
           0,
           0,
           0,
           0,
           0,
           0,
           0,
           0,
           0,
           0,
           0,
           0,
           0,
           0,
           0,
           0,
           0,
           0,
           0,
           0,
           0,
           0,
           0,
           0,
           0,
           0,
           0,
           0,
           0,
           0,
           0,
           0,
           0,
           0,
           0,
           0,
           0,
           0,
           0,
           0,
           0,
           0,
           0,
           0,
           0,
           0,
           0,
           0,
           0,
           0,
           0,
           0,
           1,
           0,
           0,
           0,
           0,
           0,
           0,
           0,
           0,
           0,
           0,
           0,
           0,
           0,
           0,
           0,
           0,
           0,
           0,
           0,
           0,
           0,
           0,
           0,
           0,
           0,
           0,
           0,
           0,
           0,
           0,
           0,
           0,
           0,
           0,
           0,
           0,
           0,
           0,
           0,
           0,
           0,
           0,
           0,
           0,
           0,
           0,
           0,
           0,
           0,
           0,
           0,
           0,
           0,
           0,
           0,
           0,
           0,
           0,
           0,
           0,
           0,
           0,
           0,
           0,
           0,
           0,
           0,
           0,
           0,
           0,
           0,
           0,
           0,
           0,
           0,
           0,
           0,
           0,
           0,
           0,
           0,
           0,
           0,
           0,
           0,
           0,
           0,
           0,
           0,
           0,
           0,
           0,
           0,
           0,
           0,
           0,
           0,
           0,
           0,
           0,
           0,
           0,
           0,
           0,
           0,
           0,
           0,
           0,
           0,
           0,
           0,
           0,
           0,
           0,
           0,
           0,
           0,
           0,
           0,
           0,
           0,
           0,
           0,
           0,
           0,
           0,
           0,
           0,
           0,
           0,
           0,
           0,
           0,
           0,
           0,
           0,
           0,
           0,
           0,
           0,
           0,
           0,
           0,
           0,
           0,
           0,
           0,
           0,
           0,
           0,
           0,
           0,
           0,
           0,
           0,
           0,
           0,
           0,
           0,
           0,
           0,
           0,
           0,
           0,
           0,
           0,
           0,
           0,
           0,
           0,
           0,
           0,
           0,
           0,
           0,
           0,
           0,
           0,
           0,
           0,
           0,
           0,
           0,
           0,
           0,
           0,
           0,
           0,
           0,
           0,
           0,
           0,
           0,
           0,
           0,
           0,
           0,
           0,
           0,
           0,
           0,
           0,
           0,
           0,
           0,
           0,
           0,
           0,
           0,
           0,
           0,
           0,
           0,
           0,
           0,
           0,
           0,
           0,
           0,
           0,
           0,
           0,
           0,
           0,
           0,
           0,
           0,
           0,
           0,
           0,
           0,
           0,
           0,
           0,
           0,
           0,
           0,
           0,
           0,
           0,
           0,
           0,
           0,
           0,
           0,
           0,
           0,
           0,
           0,
           0,
           0,
           0,
           0,
           0,
           0,
           0,
           0,
           0,
           0,
           0,
           0,
           0,
           0,
           0,
           0,
           0,
           0,
           0,
           0,
           0,
           0,
           0,
           0,
           0,
           0,
           0,
           0,
           0,
           0,
           0,
           0,
           0,
           0,
           0,
           0,
           0,
           0,
           0,
           0,
           0,
           0,
           0,
           0,
           0,
           0,
           0,
           0,
           0,
           0,
           0,
           0,
           0,
           0,
           0,
           0,
           0,
           0,
           0,
           0,
           0,
           0,
           0,
           0,
           0,
           0,
           0,
           0,
           0,
           0,
           0,
           0,
           0,
           0,
           0,
           0,
           0,
           0,
           0,
           0,
           0,
           0,
           0,
           0,
           0,
           0,
           0,
           0,
           0,
           0,
           0,
           0,
           0,
           0,
           0,
           0,
           0,
           1,
           0,
           0,
           0,
           0,
           0,
           0,
           0,
           0,
           0,
           0,
           0,
           0,
           0,
           0,
           0,
           0,
           0,
           0,
           0,
           0,
           0,
           0,
           0,
           0,
           0,
           0,
           0,
           0,
           0,
           0,
           0,
           1,
           0,
           0,
           0,
           0,
           0,
           0,
           0,
           0,
           0,
           0,
           0,
           0,
           0,
           0,
           0,
           0,
           0,
           0,
           0,
           0,
           0,
           0,
           0,
           0,
           1,
           0,
           0,
           0,
           0,
           0,
           0,
           0,
           0,
           0,
           0,
           0,
           0,
           0,
           0,
           0,
           0,
           0,
           0,
           0,
           0,
           0,
           0,
           0,
           0,
           0,
           0,
           0,
           0,
           0,
           0,
           0,
           0,
           0,
           0,
           0,
           0,
           0,
           0,
           0,
           0,
           0,
           0,
           0,
           0,
           0,
           0,
           0,
           0,
           0,
           0,
           0,
           0,
           0,
           0,
           0,
           0,
           0,
           0,
           0,
           0,
           0,
           0,
           0,
           0,
           0,
           0,
           0,
           0,
           0,
           0,
           0,
           0,
           0,
           0,
           0,
           0,
           0,
           1,
           0,
           0,
           0,
           0,
           0,
           0,
           0,
           0,
           0,
           0,
           0,
           0,
           0,
           0,
           0,
           0,
           0,
           0,
           0,
           1,
           1,
           0,
           1,
           1,
           0,
           0,
           1,
           1,
           0,
           0,
           0,
           0,
           1,
           0,
           0,
           1,
           1,
           1,
           0,
           1,
           0,
           1,
           1,
           1,
           0,
           0,
           0,
           1,
           0,
           0,
           0,
           0,
           0,
           0,
           0,
           0,
           0,
           0,
           0,
           0,
           0,
           0,
           1,
           0,
           0,
           0,
           0,
           0,
           0,
           0,
           0,
           0,
           0,
           0,
           0,
           0,
           0,
           0,
           0,
           0,
           0,
           0,
           0,
           0,
           0,
           0,
           0,
           0,
           0,
           0,
           0,
           0,
           0,
           0,
           0,
           0,
           0,
           0,
           0,
           1,
           0,
           0,
           0,
           0,
           0,
           0,
           0,
           0,
           0,
           0,
           0,
           0,
           0,
           0,
           0,
           0,
           0,
           0,
           0,
           0,
           0,
           0,
           0,
           0,
           0,
           0,
           0,
           0,
           0,
           0,
           0,
           0,
           0,
           0,
           0,
           0,
           0,
           0,
           0,
           0,
           0,
           0,
           0,
           0,
           0,
           0,
           0,
           0,
           0,
           0,
           0,
           0,
           0,
           0,
           0,
           0,
           0,
           0,
           0,
           0,
           0,
           0,
           0,
           0,
           0,
           0,
           0,
           0,
           0,
           0,
           0,
           0,
           0,
           0,
           0,
           0,
           0,
           0,
           0,
           0,
           0,
           0,
           1,
           0,
           0,
           0,
           0,
           0,
           0,
           0,
           0,
           0,
           0,
           0,
           0,
           0,
           0,
           0,
           0,
           0,
           0,
           0,
           0,
           0,
           0,
           0,
           0,
           0,
           0,
           0,
           0,
           0,
           0,
           0,
           0,
           0,
           0,
           0,
           0,
           0,
           0,
           0,
           0,
           0,
           0,
           0,
           0,
           0,
           0,
           0,
           0,
           0,
           0,
           0,
           0,
           0,
           0,
           0,
           0,
           0,
           1,
           0,
           0,
           0,
           0,
           0,
           0,
           0,
           0,
           0,
           0,
           0,
           0,
           0,
           0,
           0,
           0,
           0,
           0,
           0,
           0,
           0,
           0,
           0,
           0,
           0,
           0,
           0,
           0,
           0,
           0,
           0,
           0,
           0,
           0,
           0,
           0,
           0,
           0,
           0,
           0,
           0,
           0,
           0,
           0,
           0,
           0,
           0,
           0,
           0,
           0,
           0,
           0,
           0,
           0,
           0,
           0,
           0,
           0,
           0,
           0,
           0,
           0,
           0,
           0,
           0,
           0,
           0,
           0,
           0,
           0,
           0,
           0,
           0,
           0,
           0,
           0,
           0,
           0
          ],
          "coloraxis": "coloraxis",
          "opacity": 0.7,
          "symbol": "circle"
         },
         "mode": "markers",
         "name": "",
         "scene": "scene",
         "showlegend": false,
         "type": "scatter3d",
         "x": [
          0.025019215419888496,
          -8.011109352111816,
          12.353310585021973,
          3.2955751419067383,
          13.584808349609375,
          3.8461503982543945,
          -7.280749320983887,
          8.098182678222656,
          -0.03370917961001396,
          -5.513598918914795,
          7.849707126617432,
          17.938215255737305,
          0.12705062329769135,
          6.641427516937256,
          8.761913299560547,
          8.226644515991211,
          0.17682123184204102,
          -14.646194458007812,
          11.572258949279785,
          3.3517346382141113,
          3.352989912033081,
          3.1398324966430664,
          8.17585563659668,
          0.32879677414894104,
          7.099067211151123,
          1.4055811166763306,
          16.52805519104004,
          -3.5436267852783203,
          7.3040947914123535,
          10.56602954864502,
          -0.9898661971092224,
          -4.274351596832275,
          3.328476667404175,
          7.354427337646484,
          -4.454423904418945,
          1.5787392854690552,
          2.524986743927002,
          -3.660031318664551,
          3.2927534580230713,
          5.310563087463379,
          -16.21762466430664,
          7.931887626647949,
          -11.642243385314941,
          7.9264817237854,
          8.665003776550293,
          7.629415988922119,
          7.694555282592773,
          -0.0137047553434968,
          17.589378356933594,
          -15.344257354736328,
          4.475902557373047,
          10.237991333007812,
          -5.825437545776367,
          7.745141506195068,
          3.9269652366638184,
          -0.14956578612327576,
          0.4039476811885834,
          -3.0249130725860596,
          7.289690971374512,
          13.668035507202148,
          -5.0215373039245605,
          -9.922553062438965,
          13.018291473388672,
          7.822551250457764,
          -14.9879732131958,
          7.042673110961914,
          -13.089475631713867,
          -14.993762969970703,
          16.456096649169922,
          7.3862128257751465,
          13.01379680633545,
          6.869480609893799,
          3.4527981281280518,
          3.149507761001587,
          1.3876776695251465,
          1.107741117477417,
          14.751502990722656,
          10.498795509338379,
          -1.7170621156692505,
          -1.8159196376800537,
          -2.0723025798797607,
          2.0858631134033203,
          11.747307777404785,
          -9.899338722229004,
          -7.780775547027588,
          -5.145842552185059,
          -12.285484313964844,
          -12.886102676391602,
          -6.7129902839660645,
          4.500901222229004,
          1.5546404123306274,
          6.454516887664795,
          -10.717999458312988,
          -8.074999809265137,
          -2.5174968242645264,
          13.384173393249512,
          -8.875699043273926,
          -6.824929237365723,
          -6.095328330993652,
          13.743677139282227,
          3.432391881942749,
          -14.493152618408203,
          -6.567492961883545,
          -7.461732864379883,
          12.689119338989258,
          -5.384011745452881,
          -12.018049240112305,
          -9.824372291564941,
          1.399412989616394,
          9.307122230529785,
          4.682981967926025,
          4.353784084320068,
          5.167181015014648,
          -0.2246309369802475,
          14.454338073730469,
          2.872159957885742,
          -10.345464706420898,
          -7.982515811920166,
          3.074690818786621,
          -8.158175468444824,
          2.3066561222076416,
          -4.989591121673584,
          -10.871735572814941,
          -14.129742622375488,
          -6.776194095611572,
          -7.727377891540527,
          -3.250962734222412,
          4.792733192443848,
          -7.745827674865723,
          -7.75489616394043,
          -5.51909065246582,
          -8.54557991027832,
          4.5432891845703125,
          -6.4088263511657715,
          -14.853468894958496,
          -1.2121162414550781,
          11.52797794342041,
          3.754786491394043,
          -6.558345794677734,
          -4.408268928527832,
          3.9416322708129883,
          3.7886955738067627,
          -6.931967735290527,
          13.190530776977539,
          -8.75586223602295,
          -4.02055025100708,
          7.823397636413574,
          -13.49471664428711,
          -6.762436389923096,
          -9.599287033081055,
          5.377674102783203,
          0.9724360704421997,
          -5.979129791259766,
          -7.376454830169678,
          2.8163466453552246,
          -9.640616416931152,
          -15.72847843170166,
          -15.397446632385254,
          -0.29482752084732056,
          3.566155433654785,
          -9.787344932556152,
          -4.0332794189453125,
          2.30637526512146,
          -1.8703255653381348,
          4.658670425415039,
          -15.747933387756348,
          3.4180474281311035,
          11.63949203491211,
          11.958612442016602,
          -8.432887077331543,
          -12.367419242858887,
          -5.77077579498291,
          7.193964004516602,
          12.454574584960938,
          -4.0671916007995605,
          -13.809416770935059,
          5.07834529876709,
          11.995630264282227,
          -6.181464195251465,
          4.429778575897217,
          -6.242590427398682,
          9.519096374511719,
          -3.9908571243286133,
          13.715248107910156,
          12.449522972106934,
          -9.640462875366211,
          9.731935501098633,
          -5.86329984664917,
          -2.349958658218384,
          1.3812193870544434,
          -13.98615837097168,
          14.145210266113281,
          6.585989952087402,
          13.621688842773438,
          -13.58888053894043,
          -8.720377922058105,
          -7.202263832092285,
          -9.65034294128418,
          4.178089618682861,
          -6.0389018058776855,
          -4.125170707702637,
          -5.095789432525635,
          -3.787174940109253,
          12.44138240814209,
          13.091156005859375,
          -3.771620512008667,
          -1.9255890846252441,
          -4.678264141082764,
          8.603215217590332,
          -4.8899970054626465,
          -4.650863170623779,
          11.84934139251709,
          9.760015487670898,
          3.921421527862549,
          -4.958574295043945,
          -6.146136283874512,
          -5.643739700317383,
          11.883225440979004,
          11.95803165435791,
          -2.8797197341918945,
          13.47515869140625,
          -9.770830154418945,
          13.038187980651855,
          0.41737449169158936,
          -13.569409370422363,
          -0.9652778506278992,
          -13.465837478637695,
          -2.646559715270996,
          -15.529744148254395,
          12.080490112304688,
          -8.66397762298584,
          -11.072644233703613,
          4.453741550445557,
          3.9391140937805176,
          -7.488539218902588,
          -9.868622779846191,
          -4.773585796356201,
          0.757961094379425,
          5.1326494216918945,
          11.091392517089844,
          -5.110749244689941,
          -7.721346855163574,
          10.532462120056152,
          -10.910551071166992,
          8.467058181762695,
          -13.814038276672363,
          -1.8464821577072144,
          0.8076998591423035,
          -13.606993675231934,
          9.401893615722656,
          -4.795098304748535,
          -4.4246721267700195,
          6.77387809753418,
          -4.495117664337158,
          -5.0967888832092285,
          -0.20094919204711914,
          -0.8801811933517456,
          -11.283269882202148,
          12.49314022064209,
          -8.321657180786133,
          10.57964038848877,
          -5.285680294036865,
          13.239618301391602,
          -6.048768520355225,
          -5.09005880355835,
          -10.775348663330078,
          4.809250354766846,
          -12.021215438842773,
          1.5970772504806519,
          -8.749343872070312,
          -9.017415046691895,
          -3.290692090988159,
          0.4067092537879944,
          9.939960479736328,
          4.013587474822998,
          -8.824139595031738,
          12.395541191101074,
          14.32298469543457,
          -9.747666358947754,
          -2.4995901584625244,
          -13.234051704406738,
          9.90147876739502,
          -4.127216339111328,
          0.7388114333152771,
          14.313084602355957,
          -11.424676895141602,
          -10.692275047302246,
          -9.370542526245117,
          -12.55864143371582,
          3.2776007652282715,
          5.200580596923828,
          -10.184432029724121,
          -11.80197811126709,
          -11.871253967285156,
          -10.111043930053711,
          3.983323574066162,
          7.434722900390625,
          -1.8386619091033936,
          -9.886738777160645,
          -0.35702264308929443,
          -4.251644134521484,
          -10.1846923828125,
          11.061412811279297,
          7.879193305969238,
          7.999587535858154,
          1.6726601123809814,
          -8.615995407104492,
          1.542186975479126,
          -15.266298294067383,
          12.822274208068848,
          12.057271957397461,
          -13.915181159973145,
          10.17300796508789,
          10.685856819152832,
          -8.57767105102539,
          0.9501350522041321,
          -8.20746898651123,
          -8.880356788635254,
          1.0475318431854248,
          -3.60194730758667,
          -5.11136531829834,
          -0.3679884970188141,
          5.840994358062744,
          -5.064034461975098,
          1.6516194343566895,
          1.371241569519043,
          5.263906955718994,
          5.869053363800049,
          10.394301414489746,
          6.982017993927002,
          -12.12879467010498,
          12.875750541687012,
          -7.512452602386475,
          -9.462126731872559,
          -13.236032485961914,
          13.541474342346191,
          -7.935042858123779,
          -1.6301604509353638,
          9.485990524291992,
          13.079571723937988,
          -1.054978609085083,
          -4.509821891784668,
          2.8422467708587646,
          -7.711521148681641,
          7.615406036376953,
          11.056702613830566,
          -5.679365158081055,
          -16.402179718017578,
          4.457249164581299,
          13.132135391235352,
          -3.4635369777679443,
          -0.6013034582138062,
          -7.499489784240723,
          -3.5401058197021484,
          -10.666814804077148,
          -4.674044132232666,
          -5.724417686462402,
          -8.57925796508789,
          13.578600883483887,
          2.6749343872070312,
          -7.6381025314331055,
          -8.224262237548828,
          -2.528414726257324,
          -13.866959571838379,
          5.210368633270264,
          2.133430004119873,
          9.95207405090332,
          -10.435525894165039,
          -11.716379165649414,
          -10.120388984680176,
          -11.812689781188965,
          -5.275104999542236,
          15.044563293457031,
          11.186147689819336,
          5.789140701293945,
          -13.607463836669922,
          2.1279871463775635,
          7.2332353591918945,
          -3.181267261505127,
          3.0492451190948486,
          4.62790584564209,
          -3.6560637950897217,
          2.5898780822753906,
          -3.0304195880889893,
          -7.950718402862549,
          -8.283611297607422,
          -11.665169715881348,
          -10.470945358276367,
          -5.4306111335754395,
          5.059196949005127,
          -12.824485778808594,
          -9.173856735229492,
          0.4185826778411865,
          0.44347548484802246,
          -7.29249382019043,
          -3.37628436088562,
          -5.247413635253906,
          8.377130508422852,
          1.7243863344192505,
          -2.545128345489502,
          -7.84323787689209,
          -12.090248107910156,
          -13.504523277282715,
          -3.8481056690216064,
          8.558496475219727,
          -11.18106460571289,
          13.278603553771973,
          -2.6866815090179443,
          2.7996671199798584,
          -7.3046441078186035,
          -11.192225456237793,
          2.6287693977355957,
          11.892206192016602,
          1.6055208444595337,
          -10.207231521606445,
          -11.399023056030273,
          -14.004621505737305,
          -8.190500259399414,
          5.4197163581848145,
          11.34807014465332,
          5.212785243988037,
          -11.388040542602539,
          -10.077731132507324,
          -8.005705833435059,
          12.474626541137695,
          -13.969841003417969,
          -8.404658317565918,
          7.541790962219238,
          2.391706943511963,
          14.470667839050293,
          2.9186885356903076,
          -8.747651100158691,
          -9.874706268310547,
          7.0524749755859375,
          8.673788070678711,
          -6.610983848571777,
          -10.19778823852539,
          14.019760131835938,
          0.9696337580680847,
          13.757867813110352,
          -4.94463586807251,
          -1.1323013305664062,
          13.97131633758545,
          15.26681900024414,
          -6.3012309074401855,
          5.3312273025512695,
          11.376138687133789,
          -9.149458885192871,
          9.61620807647705,
          9.526053428649902,
          -12.22984504699707,
          12.29195499420166,
          -13.70476245880127,
          1.9368566274642944,
          5.7870869636535645,
          -3.157466173171997,
          -3.6250112056732178,
          11.256203651428223,
          -1.1465725898742676,
          -2.0208206176757812,
          -8.065143585205078,
          13.902806282043457,
          -11.50942325592041,
          -3.9262912273406982,
          -1.2380540370941162,
          1.3321685791015625,
          1.4704668521881104,
          11.357806205749512,
          -15.492271423339844,
          11.984850883483887,
          1.3906549215316772,
          -9.959734916687012,
          -12.157434463500977,
          -1.0651733875274658,
          -13.237993240356445,
          -13.218330383300781,
          -8.376805305480957,
          7.756930351257324,
          -0.12308020889759064,
          -10.052657127380371,
          -14.616214752197266,
          -10.930167198181152,
          8.691844940185547,
          13.656027793884277,
          -9.869669914245605,
          14.47714900970459,
          -5.651648998260498,
          2.7883315086364746,
          -0.884970486164093,
          11.350625991821289,
          1.2834094762802124,
          4.6968584060668945,
          9.171154022216797,
          10.822687149047852,
          11.096490859985352,
          8.327835083007812,
          -8.052865982055664,
          3.8863179683685303,
          -7.7224440574646,
          4.624406814575195,
          -6.900791168212891,
          -2.9372739791870117,
          2.2104578018188477,
          -6.454908847808838,
          1.9929691553115845,
          11.110516548156738,
          -0.6109102368354797,
          -15.281336784362793,
          3.6112630367279053,
          10.168050765991211,
          14.818584442138672,
          -15.568778991699219,
          -9.219050407409668,
          12.27944278717041,
          -2.0268542766571045,
          -10.512211799621582,
          -6.020802021026611,
          -1.1207191944122314,
          -3.435177803039551,
          -9.030890464782715,
          5.043747425079346,
          11.322455406188965,
          10.988099098205566,
          10.360732078552246,
          12.717341423034668,
          -11.48590087890625,
          -3.5603339672088623,
          -10.378459930419922,
          -3.9103894233703613,
          1.717933177947998,
          -6.654937267303467,
          9.776252746582031,
          2.863556385040283,
          -11.111021995544434,
          4.6372904777526855,
          11.69803524017334,
          -4.072101593017578,
          13.359048843383789,
          -0.3207531273365021,
          -8.846444129943848,
          -3.6110470294952393,
          5.949583530426025,
          -11.324713706970215,
          -6.670207500457764,
          -16.525070190429688,
          2.7237818241119385,
          -4.62554407119751,
          5.788817405700684,
          8.47301959991455,
          -4.397259712219238,
          -9.47770881652832,
          -0.071602463722229,
          14.899611473083496,
          -0.25567859411239624,
          -8.661026000976562,
          -6.443813323974609,
          2.690516471862793,
          1.722524881362915,
          5.307588577270508,
          -0.10528283566236496,
          15.498971939086914,
          11.924047470092773,
          -9.149250984191895,
          7.915573596954346,
          -9.86485481262207,
          -2.4878296852111816,
          -14.42655086517334,
          -2.9643359184265137,
          9.618788719177246,
          6.735593795776367,
          0.9726524353027344,
          5.578435897827148,
          8.465777397155762,
          13.473551750183105,
          -6.06760311126709,
          12.685747146606445,
          -8.854748725891113,
          -12.528463363647461,
          0.4975394606590271,
          3.079843759536743,
          4.283814430236816,
          2.2639780044555664,
          11.486640930175781,
          -8.056260108947754,
          -15.338808059692383,
          -2.161719799041748,
          1.0506470203399658,
          -13.012218475341797,
          -12.66252613067627,
          9.95976448059082,
          -12.030056953430176,
          -12.397705078125,
          -0.23960697650909424,
          8.792787551879883,
          -2.720466375350952,
          -6.361253261566162,
          6.8678717613220215,
          9.654276847839355,
          7.755459308624268,
          14.946354866027832,
          3.260826826095581,
          -4.290008544921875,
          10.486631393432617,
          -8.438748359680176,
          7.027062892913818,
          -6.564700603485107,
          6.643163681030273,
          12.891660690307617,
          -8.723611831665039,
          -4.515907287597656,
          10.8148832321167,
          4.457655429840088,
          5.115354537963867,
          0.17663557827472687,
          -3.900542736053467,
          -10.165708541870117,
          -6.568119525909424,
          -6.942867755889893,
          -7.6596360206604,
          1.290381669998169,
          -1.8909587860107422,
          -6.865911483764648,
          -5.067373275756836,
          -2.899170160293579,
          10.672553062438965,
          10.473623275756836,
          -9.778098106384277,
          14.894241333007812,
          -3.841716766357422,
          -3.471022605895996,
          -4.358077049255371,
          -10.21827507019043,
          -0.24186213314533234,
          11.513249397277832,
          4.507843971252441,
          -0.14233770966529846,
          5.0145673751831055,
          -2.42325496673584,
          6.054103374481201,
          -3.6444106101989746,
          12.886821746826172,
          -4.642664432525635,
          -8.703184127807617,
          3.1644206047058105,
          11.89509391784668,
          2.683739185333252,
          12.085104942321777,
          -1.426025629043579,
          8.789396286010742,
          -0.09515506029129028,
          -13.43239688873291,
          -13.967085838317871,
          -4.041492462158203,
          3.621751308441162,
          -14.388289451599121,
          -4.526012420654297,
          13.10479736328125,
          -0.08812563866376877,
          -9.40104866027832,
          9.86387825012207,
          11.727171897888184,
          -6.155902862548828,
          -1.22031569480896,
          0.035979729145765305,
          6.086819171905518,
          -4.831657886505127,
          3.0020697116851807,
          -6.008963108062744,
          -9.66430950164795,
          -14.285575866699219,
          -3.875656843185425,
          -4.76892614364624,
          -6.219926357269287,
          -4.299517631530762,
          4.408457279205322,
          -10.311799049377441,
          -5.205392360687256,
          4.097588539123535,
          6.72750997543335,
          -6.5997395515441895,
          11.419418334960938,
          -12.239596366882324,
          -1.201205849647522,
          6.942927360534668,
          -8.650395393371582,
          -14.281143188476562,
          -4.23967981338501,
          -16.376972198486328,
          6.893843173980713,
          11.83080768585205,
          10.712008476257324,
          11.536953926086426,
          11.965075492858887,
          -5.3358564376831055,
          5.334705352783203,
          2.227579355239868,
          2.158036947250366,
          -0.7988249659538269,
          -0.7440176606178284,
          9.89687442779541,
          -6.118859767913818,
          -7.33437967300415,
          6.676239013671875,
          7.279567718505859,
          -3.234825849533081,
          -1.0933949947357178,
          6.9832444190979,
          14.491107940673828,
          -1.0334527492523193,
          8.36728286743164,
          7.29240608215332,
          -14.957833290100098,
          -9.510589599609375,
          1.3178985118865967,
          2.101181745529175,
          1.9698971509933472,
          3.7980427742004395,
          7.232429504394531,
          2.0988473892211914,
          -12.654769897460938,
          11.64520263671875,
          -12.356931686401367,
          -4.759145736694336,
          10.176947593688965,
          -1.3701001405715942,
          3.3728156089782715,
          9.563490867614746,
          1.4463425874710083,
          5.029417037963867,
          5.142422676086426,
          -4.915477275848389,
          15.644344329833984,
          -3.6300816535949707,
          -8.125752449035645,
          -3.751366138458252,
          6.684203147888184,
          3.385481119155884,
          -0.20818226039409637,
          -1.8367798328399658,
          11.589377403259277,
          -9.109291076660156,
          1.4973933696746826,
          0.4802711606025696,
          10.632698059082031,
          1.846592664718628,
          -1.3994712829589844,
          1.73734712600708,
          4.570912837982178,
          11.420239448547363,
          11.94677734375,
          -7.691974639892578,
          14.835161209106445,
          -2.0882880687713623,
          -13.475532531738281,
          -13.501434326171875,
          12.49303913116455,
          -1.796655535697937,
          -5.6173787117004395,
          12.125988006591797,
          -15.610445976257324,
          13.079034805297852,
          -6.116867542266846,
          -12.954011917114258,
          -14.70453929901123,
          0.9046248197555542,
          -10.409884452819824,
          -11.194952964782715,
          14.88143539428711,
          -8.559589385986328,
          14.907057762145996,
          -1.7782419919967651,
          0.013250084593892097,
          -1.091750979423523,
          -8.717945098876953,
          0.4796251356601715,
          -13.048563003540039,
          -3.825124740600586,
          -6.349862098693848,
          -0.14528797566890717,
          -0.5498435497283936,
          1.5098298788070679,
          -10.542837142944336,
          -5.722775459289551,
          5.0922980308532715,
          0.395442396402359,
          12.562435150146484,
          -6.439288139343262,
          4.500176429748535,
          -1.421818733215332,
          -0.9025066494941711,
          8.246822357177734,
          -0.4820462167263031,
          11.772993087768555,
          1.718874454498291,
          -12.699385643005371,
          -4.135390758514404,
          -11.148892402648926,
          10.126428604125977,
          1.5681421756744385,
          -13.118134498596191,
          -6.2729411125183105,
          -2.654728651046753,
          -3.6482441425323486,
          -7.148172855377197,
          11.707700729370117,
          -15.258768081665039,
          -10.138753890991211,
          -6.32664155960083,
          4.246894359588623,
          -11.10890007019043,
          13.42613697052002,
          9.56171989440918,
          1.4435282945632935,
          4.490421772003174,
          -5.486257553100586,
          9.529417037963867,
          -7.280847072601318,
          9.918030738830566,
          5.509727478027344,
          5.48298454284668,
          7.915635585784912,
          10.236599922180176,
          -2.39402174949646,
          -4.6606645584106445,
          -9.23419189453125,
          -10.064725875854492,
          4.4069294929504395,
          -0.8350375294685364,
          0.6736597418785095,
          10.840134620666504,
          -6.356053829193115,
          2.285003900527954,
          12.961760520935059,
          9.377368927001953,
          11.189427375793457,
          6.644253730773926,
          15.908954620361328,
          13.693467140197754,
          7.894021987915039,
          -9.146790504455566,
          1.8632402420043945,
          -7.208337306976318,
          5.159477233886719,
          -10.065312385559082,
          -10.045492172241211,
          3.86513090133667,
          -6.75748872756958,
          1.6966148614883423,
          4.90830135345459,
          -7.0227766036987305,
          2.8366165161132812,
          5.316208362579346,
          -8.068401336669922,
          2.1137707233428955,
          -4.7826361656188965,
          -9.058237075805664,
          -5.128694534301758,
          3.0062873363494873,
          -0.8665597438812256,
          11.77774715423584,
          3.328141212463379,
          -0.8993016481399536,
          0.08858983218669891,
          1.904167890548706,
          -8.800970077514648,
          3.9740285873413086,
          -8.259378433227539,
          -0.9248015284538269,
          6.631587505340576,
          3.887601137161255,
          9.679798126220703,
          -9.787986755371094,
          -12.272226333618164,
          4.877458095550537,
          -2.6451518535614014,
          -13.246024131774902,
          -7.025874137878418,
          -7.650219440460205,
          1.146661400794983,
          12.376423835754395,
          4.679959774017334,
          3.636643886566162,
          -4.757936954498291,
          7.10801362991333,
          8.495278358459473,
          5.0895586013793945,
          -0.2115202695131302,
          -10.969725608825684,
          -0.5777172446250916,
          8.905027389526367,
          13.17469310760498,
          12.075749397277832,
          11.536341667175293,
          -3.978220224380493,
          13.473167419433594,
          1.7874380350112915,
          -0.8506002426147461,
          -13.86022663116455,
          -4.017694473266602,
          -6.947786808013916,
          -9.228264808654785,
          -5.674070835113525,
          -12.06607723236084,
          10.375666618347168,
          1.8458200693130493,
          12.169371604919434,
          7.543416500091553,
          -3.836782693862915,
          11.180319786071777,
          0.29996562004089355,
          -12.0034818649292,
          -12.78097915649414,
          -10.823980331420898,
          0.9402685165405273,
          11.061710357666016,
          15.067809104919434,
          0.7168893814086914,
          -11.156142234802246,
          3.548623561859131,
          6.197204113006592,
          4.66264533996582,
          4.621376037597656,
          -7.031890392303467,
          -1.6098955869674683,
          -8.319977760314941,
          5.707568168640137,
          -3.958937406539917,
          0.6104397177696228,
          -9.6839017868042,
          -9.065032958984375,
          15.291998863220215,
          -9.910422325134277,
          -12.041707992553711,
          11.0656099319458,
          7.79194450378418,
          13.935664176940918,
          -9.150656700134277,
          13.085917472839355,
          -6.746300220489502,
          7.699638843536377,
          13.337287902832031,
          -5.716240882873535,
          -1.6246862411499023,
          3.148697853088379,
          1.2875723838806152,
          11.700844764709473,
          1.0504683256149292,
          0.12216009944677353,
          -9.62655258178711,
          -4.714410781860352,
          -0.5869050025939941,
          -2.822550058364868,
          9.66325569152832,
          5.096770763397217,
          -9.901683807373047,
          -13.97356128692627,
          5.412046909332275,
          9.113216400146484,
          9.40727710723877,
          -6.54530668258667,
          -12.389983177185059,
          -11.621186256408691,
          11.559399604797363,
          -0.5039992332458496,
          0.24591249227523804,
          -15.968981742858887,
          -11.393853187561035,
          -0.19604142010211945,
          10.433732986450195,
          -7.70033073425293,
          11.715054512023926,
          3.0462021827697754,
          -1.5055885314941406,
          15.123251914978027,
          -1.9046522378921509,
          -11.245494842529297,
          -10.469040870666504,
          12.294921875,
          -3.529766082763672,
          4.675541877746582,
          10.77431583404541,
          3.6309285163879395,
          -2.6359591484069824,
          -9.083901405334473,
          12.175026893615723,
          -12.559368133544922,
          -7.2696003913879395,
          7.606583118438721,
          6.073657989501953,
          14.97121810913086,
          4.151311874389648,
          1.549093246459961,
          3.001802682876587,
          13.132281303405762,
          11.353803634643555,
          -0.003879894269630313,
          -9.280723571777344,
          -1.4903699159622192,
          6.813185691833496,
          15.780659675598145
         ],
         "y": [
          0.43503209948539734,
          -1.4151686429977417,
          1.2416802644729614,
          4.063296794891357,
          8.124123573303223,
          1.659718632698059,
          -7.116661071777344,
          3.9773340225219727,
          -4.050688743591309,
          -0.7178081274032593,
          1.5078827142715454,
          4.371784687042236,
          1.1977293491363525,
          6.879166126251221,
          1.5838024616241455,
          9.592582702636719,
          1.1863282918930054,
          0.28976476192474365,
          -0.17364229261875153,
          5.420501708984375,
          1.865015983581543,
          2.9249894618988037,
          6.67275857925415,
          -3.3928258419036865,
          -1.053970217704773,
          5.640308856964111,
          3.9967997074127197,
          -6.711702823638916,
          8.460522651672363,
          3.6041786670684814,
          -5.64934778213501,
          -0.9618479013442993,
          4.692529201507568,
          1.7978240251541138,
          -6.743986129760742,
          4.191291332244873,
          5.721002578735352,
          -7.1288604736328125,
          2.3072853088378906,
          2.2513856887817383,
          -6.28898811340332,
          4.325547218322754,
          -3.6331748962402344,
          -1.294964075088501,
          3.677568197250366,
          9.858180046081543,
          3.705451250076294,
          -3.469696283340454,
          4.296912670135498,
          -2.3149726390838623,
          3.4966256618499756,
          -1.458717942237854,
          -7.592835903167725,
          9.666237831115723,
          -0.018223125487565994,
          -4.12687873840332,
          -2.1167829036712646,
          -4.753203392028809,
          2.126863956451416,
          1.187101125717163,
          -4.32351016998291,
          0.0006756219081580639,
          8.64775276184082,
          4.2438859939575195,
          -1.6563578844070435,
          4.166709899902344,
          -9.036149024963379,
          0.6973500847816467,
          4.565668106079102,
          -1.6030914783477783,
          5.842101573944092,
          4.988980293273926,
          0.7092314958572388,
          2.4003095626831055,
          4.883540630340576,
          -3.0832645893096924,
          4.541318416595459,
          5.483428955078125,
          1.9679161310195923,
          -2.0622479915618896,
          -1.8013135194778442,
          -1.7330526113510132,
          7.188199043273926,
          0.7616434097290039,
          -4.425482749938965,
          1.4940433502197266,
          -4.267791748046875,
          -3.2117340564727783,
          -0.7652247548103333,
          -1.891023874282837,
          1.8037450313568115,
          1.374083161354065,
          -2.546184778213501,
          -7.124537467956543,
          -3.6472597122192383,
          7.93989896774292,
          -8.857268333435059,
          2.071823835372925,
          -3.9959444999694824,
          5.14253568649292,
          -0.20085415244102478,
          -4.031108856201172,
          1.6467761993408203,
          -8.130215644836426,
          9.431105613708496,
          -4.135744094848633,
          1.0745762586593628,
          2.795846462249756,
          4.850071907043457,
          5.411411285400391,
          -2.926621198654175,
          0.6577815413475037,
          -0.6864609718322754,
          -3.7361505031585693,
          5.006581783294678,
          -2.6735758781433105,
          -9.171528816223145,
          -7.381319522857666,
          2.7264046669006348,
          -4.1206769943237305,
          -2.7770423889160156,
          0.15103347599506378,
          3.6233997344970703,
          -3.1356139183044434,
          4.968461036682129,
          -0.19166789948940277,
          -3.9710800647735596,
          3.6440935134887695,
          -3.498270034790039,
          0.8863764405250549,
          -2.3086130619049072,
          -8.71435260772705,
          4.519298553466797,
          -5.326292514801025,
          -4.616917610168457,
          -2.378796339035034,
          6.365762710571289,
          5.51553201675415,
          -1.1105748414993286,
          -0.7834346294403076,
          2.602686882019043,
          -3.4075849056243896,
          -7.822337627410889,
          7.1972503662109375,
          -5.251812934875488,
          -2.408743381500244,
          1.2981553077697754,
          -6.124645709991455,
          -1.426628828048706,
          1.9461965560913086,
          -3.0087974071502686,
          -1.1681833267211914,
          4.637364387512207,
          -7.9763102531433105,
          2.2256522178649902,
          -8.094300270080566,
          -1.9167202711105347,
          -4.252662658691406,
          2.8151354789733887,
          0.34965696930885315,
          -8.11538028717041,
          -4.865206241607666,
          0.7590258717536926,
          0.7001177668571472,
          1.7068811655044556,
          -3.9080963134765625,
          3.3180391788482666,
          3.9011991024017334,
          2.638122081756592,
          5.105587005615234,
          0.2713809609413147,
          2.6449668407440186,
          -0.8087701797485352,
          4.511892318725586,
          2.98138427734375,
          -3.132312297821045,
          -0.1994796246290207,
          3.5898728370666504,
          -1.5471032857894897,
          5.611983299255371,
          1.7167657613754272,
          -1.046289086341858,
          -0.6149170994758606,
          4.4927544593811035,
          3.7844507694244385,
          -8.982414245605469,
          2.7003815174102783,
          -2.9306511878967285,
          -2.5399677753448486,
          -1.4203819036483765,
          -5.503390789031982,
          7.054924964904785,
          1.8760594129562378,
          4.235754013061523,
          -7.016358852386475,
          -6.799647331237793,
          1.695478081703186,
          4.165597438812256,
          -1.572959065437317,
          4.614141464233398,
          -1.2875231504440308,
          -0.22255678474903107,
          -4.817674160003662,
          7.407135009765625,
          2.8093788623809814,
          -1.1478943824768066,
          -3.230771780014038,
          -1.2970436811447144,
          -1.1120346784591675,
          -3.1887896060943604,
          3.1206555366516113,
          2.652805805206299,
          6.566171169281006,
          -2.384204864501953,
          0.22252601385116577,
          0.31786048412323,
          -2.621554136276245,
          5.170971870422363,
          7.96647310256958,
          -1.1287789344787598,
          2.624568223953247,
          0.7463653087615967,
          6.409107208251953,
          3.915126323699951,
          -6.186564922332764,
          -3.6171810626983643,
          -3.400238275527954,
          -0.9913737177848816,
          -5.116388320922852,
          -1.0270997285842896,
          -6.2255778312683105,
          -2.7401368618011475,
          4.616827487945557,
          5.524537086486816,
          -7.106529235839844,
          1.101796269416809,
          -3.228342056274414,
          -2.219294548034668,
          3.7541749477386475,
          3.275916337966919,
          -1.1116923093795776,
          4.192415237426758,
          2.9438936710357666,
          -3.423872232437134,
          3.624394416809082,
          -5.541068077087402,
          -2.727112054824829,
          1.2980515956878662,
          -3.8650379180908203,
          6.703917980194092,
          -6.583682060241699,
          1.1510382890701294,
          4.796353340148926,
          -4.758296012878418,
          -3.737699270248413,
          -1.6499990224838257,
          0.08517865091562271,
          -5.002725124359131,
          -0.4359482526779175,
          -5.172120571136475,
          4.035270690917969,
          -4.417281627655029,
          6.666503429412842,
          2.505500078201294,
          -8.0441255569458,
          -3.059708595275879,
          6.059081554412842,
          -6.890707492828369,
          4.844688892364502,
          5.580646991729736,
          2.951078176498413,
          -2.808061122894287,
          -1.3762192726135254,
          3.4574477672576904,
          0.7436191439628601,
          -5.052857875823975,
          6.99166202545166,
          7.018950462341309,
          2.0613467693328857,
          -2.7622733116149902,
          -3.7649996280670166,
          3.5463082790374756,
          -1.9379693269729614,
          -3.373049736022949,
          4.5556206703186035,
          2.0623888969421387,
          -2.2222394943237305,
          0.4916324317455292,
          -4.718956470489502,
          -1.6693780422210693,
          -2.9526264667510986,
          1.740471601486206,
          1.139711856842041,
          1.0113428831100464,
          0.9709513187408447,
          0.8324384093284607,
          1.1668988466262817,
          -0.17068809270858765,
          2.1745197772979736,
          1.0398253202438354,
          1.03449547290802,
          -6.473599433898926,
          5.907540321350098,
          4.119426727294922,
          0.8799453377723694,
          2.409339427947998,
          2.9912636280059814,
          1.073621392250061,
          -6.217036724090576,
          3.6660380363464355,
          3.0733861923217773,
          -7.458020210266113,
          -1.163642406463623,
          3.498027801513672,
          -0.783838152885437,
          0.18458501994609833,
          4.965829849243164,
          -4.789633750915527,
          2.664219856262207,
          -4.25345516204834,
          1.223631739616394,
          0.2074214220046997,
          5.244576930999756,
          -0.6762227416038513,
          -2.985682249069214,
          1.8303227424621582,
          6.702158451080322,
          5.654242038726807,
          3.6450624465942383,
          0.9953666925430298,
          -7.264880657196045,
          5.315977096557617,
          -4.471151351928711,
          -9.509110450744629,
          -2.815586805343628,
          4.386275291442871,
          -0.02673032507300377,
          -2.06478214263916,
          2.994892120361328,
          3.7706592082977295,
          -1.220631718635559,
          -0.727422297000885,
          2.679119110107422,
          -7.36433744430542,
          4.2363433837890625,
          5.266158103942871,
          -5.3401618003845215,
          -6.465041160583496,
          3.144955635070801,
          5.362313270568848,
          1.2976837158203125,
          -1.2961640357971191,
          -5.40757942199707,
          -2.7545595169067383,
          -2.2371389865875244,
          -0.24527910351753235,
          -6.29760217666626,
          -0.2518300712108612,
          7.884220123291016,
          4.005926609039307,
          -0.24139925837516785,
          1.9024147987365723,
          -3.4919962882995605,
          -5.493286609649658,
          4.227624893188477,
          0.6471830010414124,
          7.286912441253662,
          -8.174635887145996,
          -5.2143964767456055,
          2.7584195137023926,
          -2.4402358531951904,
          -0.9996592998504639,
          5.586709499359131,
          2.1325600147247314,
          5.248198986053467,
          -1.9612475633621216,
          3.29776930809021,
          1.7008305788040161,
          -3.9079012870788574,
          -3.7644429206848145,
          1.594154715538025,
          -1.3007148504257202,
          4.760586261749268,
          1.3119325637817383,
          0.29042020440101624,
          -8.98293399810791,
          1.223679780960083,
          1.61326003074646,
          4.002310276031494,
          0.3210429251194,
          -1.5838900804519653,
          -9.412219047546387,
          0.52125084400177,
          -1.8035271167755127,
          -5.797064781188965,
          -2.7848002910614014,
          -4.024543762207031,
          4.004500865936279,
          2.3633248805999756,
          -3.3447377681732178,
          -3.907667875289917,
          -0.0883813351392746,
          -7.515225887298584,
          -0.6856236457824707,
          5.84415340423584,
          -7.178854942321777,
          2.3650565147399902,
          -1.4690594673156738,
          -0.5474749803543091,
          4.132176876068115,
          -0.9853615760803223,
          -2.363454580307007,
          9.218009948730469,
          1.5515220165252686,
          1.3366079330444336,
          -3.137535810470581,
          -1.9856959581375122,
          -3.0068700313568115,
          5.479464054107666,
          5.202185153961182,
          0.3968181610107422,
          1.8638919591903687,
          0.9428027868270874,
          -1.7724064588546753,
          2.927183151245117,
          -4.861743450164795,
          -6.236664772033691,
          1.040816307067871,
          0.19013945758342743,
          4.4507317543029785,
          -2.450709581375122,
          -8.37695026397705,
          0.20856912434101105,
          2.949495792388916,
          6.631258010864258,
          2.481755495071411,
          -5.591573238372803,
          5.596573352813721,
          4.198902130126953,
          2.5977044105529785,
          -3.6048097610473633,
          1.3320674896240234,
          3.682677984237671,
          6.46151065826416,
          -1.2873432636260986,
          -0.6848278045654297,
          5.9353485107421875,
          -6.156872272491455,
          5.401422500610352,
          -0.755827784538269,
          -0.7019327282905579,
          6.19136381149292,
          -3.003450393676758,
          2.288398265838623,
          -0.03771660104393959,
          -3.972428321838379,
          4.495443344116211,
          5.632547855377197,
          2.2246694564819336,
          1.5087674856185913,
          0.6376592516899109,
          3.5256874561309814,
          -3.9250261783599854,
          1.0087900161743164,
          -2.0858652591705322,
          1.7075281143188477,
          5.167938232421875,
          6.035966873168945,
          -4.085762977600098,
          3.352490186691284,
          -2.887099266052246,
          -7.515658855438232,
          -4.348500728607178,
          -2.2850401401519775,
          -1.5160080194473267,
          -6.82142448425293,
          -6.12699556350708,
          0.6126744747161865,
          -1.8516148328781128,
          -2.1684317588806152,
          -5.363527774810791,
          0.017605982720851898,
          1.424150824546814,
          5.437839031219482,
          -8.936694145202637,
          6.269879341125488,
          3.6398184299468994,
          -0.19502632319927216,
          -1.7550479173660278,
          4.206492900848389,
          0.45366111397743225,
          0.4392472207546234,
          -1.1132838726043701,
          6.188460350036621,
          3.082979202270508,
          1.4292539358139038,
          4.033426284790039,
          -0.09137101471424103,
          -6.523825168609619,
          -2.0023655891418457,
          -1.1655217409133911,
          -6.112979412078857,
          2.2254390716552734,
          -0.3124810457229614,
          -0.08342020213603973,
          4.233506679534912,
          3.4473352432250977,
          -7.085614204406738,
          -0.05769868195056915,
          -0.6749551892280579,
          6.586540699005127,
          -4.730047225952148,
          3.9248876571655273,
          3.6206862926483154,
          0.9432592988014221,
          -6.047848224639893,
          -7.2019758224487305,
          2.9155712127685547,
          1.4874989986419678,
          3.841780662536621,
          0.18473027646541595,
          7.018033981323242,
          -0.21582823991775513,
          3.7145297527313232,
          8.191455841064453,
          -9.207075119018555,
          1.4562453031539917,
          -6.429746627807617,
          3.1824111938476562,
          -0.40688398480415344,
          1.8399032354354858,
          6.408864974975586,
          1.2135738134384155,
          -2.737177848815918,
          -0.49577757716178894,
          2.4391579627990723,
          -0.2826327383518219,
          7.285416603088379,
          -3.2162749767303467,
          5.239465236663818,
          -0.4043262302875519,
          0.24535518884658813,
          -0.7473717927932739,
          -2.2672746181488037,
          -6.164416790008545,
          3.0275638103485107,
          -3.289893865585327,
          2.154639720916748,
          1.5943145751953125,
          -2.3069024085998535,
          -8.152223587036133,
          -4.002690315246582,
          4.609638214111328,
          2.8954029083251953,
          -5.2468647956848145,
          -0.03364653140306473,
          0.2543921172618866,
          4.803509712219238,
          6.398346424102783,
          -1.4289580583572388,
          6.802928924560547,
          8.340478897094727,
          -5.39343786239624,
          0.14718611538410187,
          -3.107509136199951,
          -2.0619163513183594,
          -2.7432892322540283,
          -5.7588605880737305,
          0.7222366333007812,
          -0.8439265489578247,
          0.0680149719119072,
          -0.41008058190345764,
          4.301507472991943,
          5.658036708831787,
          -0.03152938559651375,
          4.330016136169434,
          -3.196347236633301,
          -3.9312922954559326,
          -2.6905605792999268,
          -2.4446678161621094,
          0.3633979260921478,
          -0.7468414902687073,
          2.1429615020751953,
          -3.870293140411377,
          -6.0192952156066895,
          -3.380449056625366,
          0.004694327712059021,
          -0.2510138750076294,
          -7.10919189453125,
          7.108778476715088,
          0.2183200716972351,
          -6.657185077667236,
          -2.4477643966674805,
          5.074224948883057,
          -2.857816219329834,
          -7.863974094390869,
          4.513587474822998,
          6.657411098480225,
          0.2032725214958191,
          5.992180347442627,
          3.6367404460906982,
          -1.0890144109725952,
          -0.289120614528656,
          -7.473250389099121,
          -0.6397766470909119,
          -1.3581293821334839,
          5.396278381347656,
          7.128068447113037,
          -3.749772071838379,
          0.7037312388420105,
          -0.31005704402923584,
          -1.5976582765579224,
          1.1690205335617065,
          -1.1056748628616333,
          0.5233857035636902,
          -5.83581018447876,
          1.6010440587997437,
          -0.006588230840861797,
          4.999410629272461,
          -0.4186939001083374,
          -3.7593963146209717,
          -7.132004737854004,
          -7.382836818695068,
          1.1745456457138062,
          3.1882307529449463,
          5.410543441772461,
          -8.241908073425293,
          5.790707111358643,
          -2.092662811279297,
          0.9694300889968872,
          -4.558279037475586,
          4.0422868728637695,
          4.060378074645996,
          7.048947334289551,
          -1.707383394241333,
          -3.193624258041382,
          -0.9446079134941101,
          -3.659762144088745,
          -0.2864338457584381,
          -3.4416732788085938,
          2.6246423721313477,
          -3.2453558444976807,
          -6.69529914855957,
          -3.244438409805298,
          5.713401794433594,
          1.1481338739395142,
          2.4249417781829834,
          -3.772310733795166,
          5.817091941833496,
          -0.2743169963359833,
          -3.353137969970703,
          -2.400951385498047,
          -1.3199998140335083,
          3.978633165359497,
          -3.131226062774658,
          -0.9959622025489807,
          6.007634162902832,
          -3.296762228012085,
          1.3901931047439575,
          5.295889377593994,
          5.682163238525391,
          -6.821742057800293,
          -2.3116164207458496,
          0.3867863714694977,
          1.1259113550186157,
          -3.312653064727783,
          4.911967754364014,
          -5.215546607971191,
          4.155437469482422,
          -2.988827705383301,
          -0.9632845520973206,
          -0.9526186585426331,
          -7.060373306274414,
          -3.7770628929138184,
          -0.326646089553833,
          -7.7089524269104,
          -2.7013635635375977,
          -0.7716282606124878,
          2.4595024585723877,
          -5.373363494873047,
          2.464061975479126,
          -3.7550458908081055,
          -1.1568584442138672,
          -0.8488696813583374,
          -4.769207954406738,
          -3.5385091304779053,
          -3.271991729736328,
          -6.392824649810791,
          1.2053595781326294,
          4.376070499420166,
          5.738818645477295,
          2.154358148574829,
          8.650858879089355,
          4.031342506408691,
          1.1737622022628784,
          0.7368307113647461,
          2.9687585830688477,
          -3.722231864929199,
          2.3267858028411865,
          2.1675586700439453,
          1.2207411527633667,
          -9.133387565612793,
          6.867608070373535,
          8.487811088562012,
          -3.801140785217285,
          -3.904574155807495,
          2.824382781982422,
          2.465010166168213,
          -4.020180702209473,
          -0.9394289255142212,
          2.4044482707977295,
          -3.7357215881347656,
          5.160027980804443,
          5.794708251953125,
          -7.582826614379883,
          -1.4848755598068237,
          1.8244081735610962,
          9.187841415405273,
          -7.589210510253906,
          1.867486596107483,
          -0.09132719784975052,
          -9.236778259277344,
          4.302379131317139,
          -1.5270601511001587,
          2.847778081893921,
          4.767232418060303,
          -1.0446321964263916,
          0.6404665112495422,
          5.767666816711426,
          1.9438318014144897,
          2.9882936477661133,
          5.035380840301514,
          -3.690962314605713,
          4.736636638641357,
          4.697112083435059,
          0.0821165069937706,
          -2.4550116062164307,
          -0.02976030670106411,
          0.5054550766944885,
          0.41850292682647705,
          2.778440475463867,
          -3.685702085494995,
          -3.709561347961426,
          -1.5905429124832153,
          2.536306381225586,
          -0.05801194906234741,
          -3.368936538696289,
          -0.2753365933895111,
          5.179258346557617,
          6.211742877960205,
          -1.0898791551589966,
          5.135274887084961,
          -3.805360794067383,
          -7.063274383544922,
          -4.802432060241699,
          3.6934072971343994,
          -2.208585262298584,
          -4.2415452003479,
          4.1483964920043945,
          -6.850606918334961,
          4.791584491729736,
          -7.02548360824585,
          -0.765591561794281,
          -3.8642613887786865,
          0.29890790581703186,
          -8.001704216003418,
          -7.279807090759277,
          6.574892997741699,
          -4.982394695281982,
          7.549516677856445,
          -2.208922863006592,
          -2.773709297180176,
          -3.7346622943878174,
          -5.969760894775391,
          2.018315315246582,
          -6.988626003265381,
          -2.022886037826538,
          1.4170626401901245,
          4.076782703399658,
          2.206024646759033,
          -2.5288033485412598,
          -7.7333221435546875,
          2.3756184577941895,
          -2.5608394145965576,
          0.8800399899482727,
          5.533208847045898,
          -4.829418182373047,
          -0.044163137674331665,
          -1.3310657739639282,
          -4.637961387634277,
          6.205621719360352,
          -2.2404749393463135,
          -0.34900566935539246,
          3.1702470779418945,
          -7.75279426574707,
          0.16146999597549438,
          -7.11433744430542,
          5.333634853363037,
          -1.296068549156189,
          -6.653324127197266,
          -1.5396686792373657,
          -1.3012489080429077,
          2.2986254692077637,
          -1.789525032043457,
          3.62939190864563,
          -3.788341999053955,
          -5.767862319946289,
          0.6929590702056885,
          2.5653069019317627,
          -1.8571803569793701,
          5.436169624328613,
          -2.0943446159362793,
          3.454730987548828,
          0.4735245406627655,
          2.3884003162384033,
          5.3285369873046875,
          1.3315399885177612,
          5.505586624145508,
          -0.11123675107955933,
          3.012425661087036,
          0.16210800409317017,
          3.5715646743774414,
          0.18838860094547272,
          0.5835406184196472,
          3.53369140625,
          -7.295463562011719,
          2.407618522644043,
          -1.7027637958526611,
          1.3648167848587036,
          6.332428455352783,
          -0.32319286465644836,
          2.8067398071289062,
          7.64260721206665,
          -1.1558195352554321,
          5.872629642486572,
          -0.7098950743675232,
          6.040225982666016,
          7.447338104248047,
          -0.8969103097915649,
          -6.36562442779541,
          -1.8301544189453125,
          -8.072858810424805,
          3.499572277069092,
          1.6694639921188354,
          -5.2157416343688965,
          -0.3635016083717346,
          4.13967227935791,
          -1.600836992263794,
          -2.2985024452209473,
          5.047294616699219,
          0.3869587182998657,
          1.4140397310256958,
          -7.102128505706787,
          -2.253568649291992,
          3.6467106342315674,
          4.584761619567871,
          0.931072473526001,
          1.9034210443496704,
          -2.2632908821105957,
          -0.7062404155731201,
          1.5380287170410156,
          -2.7219717502593994,
          -0.5078160762786865,
          -3.901092052459717,
          3.5443615913391113,
          5.305172443389893,
          -7.874610424041748,
          -4.171472072601318,
          -0.3555074632167816,
          -2.6060783863067627,
          -0.19722576439380646,
          -7.978707790374756,
          -4.252084732055664,
          -1.8954662084579468,
          -4.553523540496826,
          -0.05222393572330475,
          -6.250174045562744,
          -0.4270412027835846,
          -3.044421911239624,
          2.4333229064941406,
          -3.504319667816162,
          0.706172525882721,
          -0.9311800003051758,
          6.024844646453857,
          4.042696952819824,
          -0.152374267578125,
          2.149489402770996,
          1.5823391675949097,
          0.5221210718154907,
          -0.7137290835380554,
          6.249870777130127,
          3.3666977882385254,
          3.011244058609009,
          -0.9695226550102234,
          3.8125998973846436,
          -1.7569807767868042,
          -2.972682476043701,
          -4.052385330200195,
          3.640867233276367,
          -2.5010743141174316,
          0.5268226861953735,
          -4.582611083984375,
          -6.730381011962891,
          5.854619026184082,
          -2.757228374481201,
          7.73199462890625,
          1.7069370746612549,
          -1.242679476737976,
          2.804896593093872,
          3.7661032676696777,
          0.2941285967826843,
          0.2633035480976105,
          -2.5361833572387695,
          4.857502460479736,
          0.28643321990966797,
          6.2317914962768555,
          -2.615532636642456,
          3.3936712741851807,
          1.3635387420654297,
          0.3540976643562317,
          0.8950011730194092,
          4.793143272399902,
          -3.8472204208374023,
          -2.8151299953460693,
          5.004112720489502,
          -3.1600043773651123,
          -2.164790153503418,
          -2.2384190559387207,
          2.1405091285705566,
          4.613893032073975,
          7.3020734786987305,
          -7.5420050621032715,
          -4.452204704284668,
          5.652817726135254,
          4.063575267791748,
          4.020460605621338,
          -8.611172676086426,
          1.882317066192627,
          -1.4751956462860107,
          0.22800759971141815,
          1.849648118019104,
          -2.62789249420166,
          1.0953500270843506,
          0.02104801870882511,
          1.7760156393051147,
          1.5200380086898804,
          0.3822706639766693,
          0.5947831869125366,
          1.7663413286209106,
          -2.2261650562286377,
          -1.9019436836242676,
          -1.313145637512207,
          5.405231475830078,
          5.194332122802734,
          1.6462291479110718,
          -1.920081377029419,
          0.906587541103363,
          3.6569619178771973,
          -1.4205641746520996,
          -0.13979816436767578,
          -7.235267162322998,
          1.6771708726882935,
          3.1981213092803955,
          2.3184120655059814,
          -2.8071787357330322,
          -4.756289958953857,
          0.5782747864723206,
          3.126751184463501,
          0.9024479389190674,
          -4.7545390129089355,
          7.16589879989624,
          -1.471433162689209,
          -1.1006011962890625,
          5.960554122924805,
          -2.6485342979431152,
          -4.327888488769531,
          -2.536752223968506,
          6.236006736755371,
          -3.6183040142059326,
          -0.45086702704429626,
          0.15112338960170746,
          -0.21861223876476288,
          -0.4970461428165436,
          -8.369994163513184,
          5.905488967895508,
          -0.0024171581026166677,
          -0.6234975457191467,
          0.37332725524902344,
          -0.4775906205177307,
          6.544454574584961,
          1.1956558227539062,
          3.495703935623169,
          0.9457178115844727,
          1.9554578065872192,
          2.3068912029266357,
          -2.3226828575134277,
          -3.882301092147827,
          -1.6938426494598389,
          2.032142400741577,
          5.558202266693115
         ],
         "z": [
          -5.4830474853515625,
          7.420674800872803,
          -4.512065887451172,
          8.222930908203125,
          -2.9227819442749023,
          5.910051345825195,
          4.964536666870117,
          14.278419494628906,
          1.6224899291992188,
          -12.469964981079102,
          15.898497581481934,
          -0.4528639018535614,
          12.26445198059082,
          -2.0920515060424805,
          1.4550920724868774,
          7.64619779586792,
          12.278539657592773,
          3.1213619709014893,
          -5.129585266113281,
          6.818919658660889,
          5.164067268371582,
          -8.999494552612305,
          -1.4469716548919678,
          1.9832547903060913,
          5.827188968658447,
          -7.12429666519165,
          -1.0426133871078491,
          0.1236424446105957,
          3.3055286407470703,
          8.95244312286377,
          0.10500054061412811,
          6.0173749923706055,
          -4.5323967933654785,
          2.5058717727661133,
          -3.405168294906616,
          -8.911811828613281,
          6.156728744506836,
          0.1411629617214203,
          -6.6978440284729,
          7.191129207611084,
          -3.240966796875,
          5.264838695526123,
          -3.7621326446533203,
          3.8663878440856934,
          3.3957910537719727,
          8.150801658630371,
          3.332455635070801,
          1.6920222043991089,
          -0.5896246433258057,
          0.3605901300907135,
          15.596504211425781,
          -5.763790607452393,
          -2.1078243255615234,
          8.016128540039062,
          6.899452209472656,
          6.872169494628906,
          7.788491249084473,
          -3.847336530685425,
          3.161548376083374,
          0.19630281627178192,
          -2.2093095779418945,
          -1.6710337400436401,
          6.137157440185547,
          5.81630277633667,
          -3.6349029541015625,
          3.124145984649658,
          -1.4539141654968262,
          2.8420917987823486,
          -0.24270696938037872,
          9.63321304321289,
          11.972770690917969,
          10.105635643005371,
          -6.0899553298950195,
          12.109099388122559,
          -16.173046112060547,
          -10.690255165100098,
          1.24909508228302,
          7.7389326095581055,
          -17.228134155273438,
          -16.395414352416992,
          -15.770232200622559,
          -11.646804809570312,
          0.46631598472595215,
          -0.693203866481781,
          3.8973522186279297,
          4.730179309844971,
          -0.10704744607210159,
          3.4609856605529785,
          -4.33597993850708,
          -9.804194450378418,
          -11.329132080078125,
          14.207133293151855,
          -4.5390191078186035,
          3.4377787113189697,
          5.891447067260742,
          7.451589584350586,
          -1.1871063709259033,
          3.074202537536621,
          0.11118876188993454,
          1.470156192779541,
          -7.381834983825684,
          0.18170718848705292,
          2.7237555980682373,
          -3.079406499862671,
          7.752963066101074,
          -13.368410110473633,
          -3.984309673309326,
          5.513052463531494,
          -17.22244644165039,
          7.8992390632629395,
          -12.138899803161621,
          -9.044306755065918,
          15.783393859863281,
          -11.478755950927734,
          -2.7407875061035156,
          -14.164795875549316,
          5.6063103675842285,
          3.216600179672241,
          9.772963523864746,
          0.24941717088222504,
          -15.016684532165527,
          -3.756864547729492,
          4.251270771026611,
          -2.565802574157715,
          -2.2309203147888184,
          5.160769939422607,
          4.872457027435303,
          9.069798469543457,
          3.775864362716675,
          4.708137512207031,
          -6.028842926025391,
          -1.8600059747695923,
          14.768997192382812,
          6.084390163421631,
          1.0856118202209473,
          -8.92896556854248,
          -1.3937690258026123,
          12.153111457824707,
          4.275913715362549,
          0.4848470687866211,
          12.881300926208496,
          -10.14090633392334,
          -3.6565098762512207,
          -0.49274852871894836,
          0.9141241908073425,
          -14.981861114501953,
          12.475098609924316,
          -0.5173881649971008,
          5.46544075012207,
          -4.6466169357299805,
          -11.439778327941895,
          -13.112316131591797,
          2.701483726501465,
          -4.775928974151611,
          -7.855680465698242,
          -0.7308875322341919,
          -1.5852186679840088,
          -2.256117582321167,
          -13.710451126098633,
          9.989630699157715,
          6.577354431152344,
          -3.8562469482421875,
          -14.942736625671387,
          -18.59316635131836,
          8.799070358276367,
          -0.1448535919189453,
          12.629867553710938,
          10.877144813537598,
          0.3870614767074585,
          -2.91510009765625,
          -4.40908145904541,
          3.2287936210632324,
          7.642098903656006,
          -3.0176849365234375,
          -1.6573889255523682,
          2.2567174434661865,
          7.255270957946777,
          -2.9937376976013184,
          6.000054836273193,
          10.651679992675781,
          -1.693125605583191,
          10.194321632385254,
          7.461460590362549,
          9.277355194091797,
          10.339062690734863,
          4.612066268920898,
          6.091463565826416,
          -5.496557235717773,
          -13.944328308105469,
          -13.035500526428223,
          -0.49079498648643494,
          -1.2244222164154053,
          15.014880180358887,
          -3.537487268447876,
          4.798707962036133,
          6.990890026092529,
          -2.1745707988739014,
          5.75374698638916,
          -7.314571380615234,
          -1.5894602537155151,
          -4.5946044921875,
          0.31872159242630005,
          6.30060338973999,
          0.8596947193145752,
          -3.6028695106506348,
          6.12345552444458,
          -18.029211044311523,
          -5.042062759399414,
          10.705389976501465,
          4.040444850921631,
          -2.511592149734497,
          6.441459655761719,
          6.764314651489258,
          -13.196557998657227,
          -3.8992700576782227,
          -2.306593656539917,
          3.977728843688965,
          7.858431816101074,
          8.159116744995117,
          1.2886946201324463,
          -4.204103946685791,
          3.2074356079101562,
          0.7427598834037781,
          -17.716711044311523,
          3.3005456924438477,
          -17.305795669555664,
          -4.310523509979248,
          -13.610395431518555,
          0.9012612700462341,
          6.903007984161377,
          5.832678318023682,
          -4.62346887588501,
          11.245530128479004,
          11.658195495605469,
          0.5874140858650208,
          2.9024875164031982,
          2.0714540481567383,
          -12.751009941101074,
          9.069877624511719,
          -4.093472480773926,
          -4.962062835693359,
          2.4729907512664795,
          -1.576364278793335,
          3.8298797607421875,
          11.205890655517578,
          2.7395708560943604,
          -12.10322093963623,
          -17.522220611572266,
          -4.640142917633057,
          -1.1678942441940308,
          -5.656612396240234,
          0.5656773447990417,
          9.550824165344238,
          -3.856613874435425,
          -14.173724174499512,
          0.4911840856075287,
          -7.958404541015625,
          2.7479372024536133,
          6.987723350524902,
          1.289415717124939,
          -2.2447397708892822,
          -4.893295764923096,
          -2.5683228969573975,
          -0.620607316493988,
          -4.86121940612793,
          3.910402536392212,
          13.045804977416992,
          5.476307392120361,
          -17.080535888671875,
          4.720088481903076,
          4.0784783363342285,
          7.87190055847168,
          -10.463109016418457,
          -2.472792625427246,
          8.715235710144043,
          -4.034091949462891,
          6.362903594970703,
          -1.2591766119003296,
          4.460981369018555,
          -13.81782341003418,
          -3.678330659866333,
          -2.0862624645233154,
          -13.774587631225586,
          -8.136411666870117,
          -2.12770938873291,
          3.7085084915161133,
          -0.16113755106925964,
          3.524292469024658,
          4.100401401519775,
          -7.146247863769531,
          -10.309618949890137,
          5.828843116760254,
          -4.345263481140137,
          3.309333086013794,
          -0.5604192018508911,
          14.023301124572754,
          11.269311904907227,
          -17.860084533691406,
          -2.8781449794769287,
          -7.346654891967773,
          5.074451446533203,
          2.71402645111084,
          9.355356216430664,
          11.442648887634277,
          9.165910720825195,
          -14.326427459716797,
          2.4176173210144043,
          -14.188421249389648,
          -2.850461721420288,
          10.044776916503906,
          10.19229793548584,
          -1.1613470315933228,
          9.489606857299805,
          -3.5449025630950928,
          -3.492478847503662,
          -7.716766357421875,
          -3.0589003562927246,
          4.649509906768799,
          -15.1201171875,
          6.844873428344727,
          4.9868950843811035,
          -12.25882339477539,
          10.555362701416016,
          2.99594783782959,
          -17.446866989135742,
          -9.365947723388672,
          11.699249267578125,
          13.518430709838867,
          1.765496850013733,
          9.723478317260742,
          5.36852502822876,
          6.736138343811035,
          -4.890881538391113,
          -1.6175750494003296,
          3.2672348022460938,
          1.1477361917495728,
          4.347763538360596,
          -8.92924976348877,
          6.359132766723633,
          6.105825424194336,
          -9.050448417663574,
          -15.333539009094238,
          9.94091510772705,
          -5.299806594848633,
          13.5927734375,
          1.3112868070602417,
          5.67488431930542,
          -0.7677060961723328,
          9.53073787689209,
          7.28891134262085,
          0.5940681099891663,
          -10.420209884643555,
          1.4041156768798828,
          7.376220703125,
          -0.21675840020179749,
          -14.874152183532715,
          -3.009265422821045,
          2.6981818675994873,
          8.67575454711914,
          -8.938152313232422,
          6.24530553817749,
          2.7737467288970947,
          -1.5015578269958496,
          -2.1752233505249023,
          10.586040496826172,
          -15.382217407226562,
          8.797872543334961,
          3.061335802078247,
          2.5382072925567627,
          6.158759593963623,
          -2.3101444244384766,
          -4.8274922370910645,
          0.3976329565048218,
          2.512993097305298,
          10.453636169433594,
          -2.9910287857055664,
          -16.121734619140625,
          9.35908031463623,
          6.96235990524292,
          -10.3981294631958,
          11.033987045288086,
          -1.325769305229187,
          -15.642579078674316,
          -14.83751106262207,
          5.5656418800354,
          -0.673704981803894,
          -4.726324081420898,
          -4.499967575073242,
          -1.1580004692077637,
          -8.39781665802002,
          -0.48146113753318787,
          -1.107017993927002,
          -11.041297912597656,
          -13.253350257873535,
          0.5419493317604065,
          7.552071571350098,
          -12.946280479431152,
          10.88248348236084,
          -8.073192596435547,
          -12.519000053405762,
          0.08122244477272034,
          0.08379549533128738,
          -0.9889461398124695,
          6.634372234344482,
          12.493000984191895,
          5.382762432098389,
          -0.7624601721763611,
          -2.7046008110046387,
          10.728719711303711,
          6.170836925506592,
          4.398843765258789,
          -10.535049438476562,
          9.115372657775879,
          -15.17392349243164,
          6.394474983215332,
          -4.107141017913818,
          2.81064510345459,
          4.9521164894104,
          13.607095718383789,
          1.639522910118103,
          -8.52454662322998,
          -1.9685802459716797,
          3.172044277191162,
          5.510184288024902,
          0.9249122142791748,
          2.092698097229004,
          5.210277557373047,
          9.590185165405273,
          -6.331573486328125,
          1.580000638961792,
          -13.556724548339844,
          5.479518413543701,
          -0.6683483123779297,
          9.167770385742188,
          0.42308035492897034,
          -0.6022399067878723,
          1.4485065937042236,
          0.594983696937561,
          -17.277877807617188,
          -3.1751036643981934,
          -13.521321296691895,
          -17.383729934692383,
          -3.1177279949188232,
          3.1074538230895996,
          -2.8214797973632812,
          8.048474311828613,
          10.35228443145752,
          -4.806717395782471,
          -0.6023099422454834,
          11.777713775634766,
          -0.4304370880126953,
          -1.1834701299667358,
          -2.872450828552246,
          -14.902522087097168,
          14.985154151916504,
          5.252429008483887,
          -0.11166131496429443,
          -1.583458662033081,
          -16.802976608276367,
          -15.420062065124512,
          6.145957946777344,
          -1.5979533195495605,
          -2.476487874984741,
          -15.662845611572266,
          1.3080556392669678,
          -11.497102737426758,
          -17.425996780395508,
          11.959382057189941,
          0.21033477783203125,
          -0.1180616244673729,
          -15.688257217407227,
          0.3238564431667328,
          -1.1700242757797241,
          -11.254894256591797,
          -2.564100980758667,
          4.19714879989624,
          6.892358303070068,
          7.882992744445801,
          -6.517186164855957,
          4.367936134338379,
          -2.507763385772705,
          -0.3461930453777313,
          8.844748497009277,
          3.0050156116485596,
          5.469994068145752,
          2.223278045654297,
          2.525686264038086,
          -5.8289794921875,
          -8.271382331848145,
          -4.735007286071777,
          -16.401473999023438,
          14.197545051574707,
          6.4966139793396,
          9.546518325805664,
          -1.1528164148330688,
          11.927583694458008,
          6.350881576538086,
          11.594758033752441,
          -3.9648618698120117,
          -8.615934371948242,
          4.296041965484619,
          0.2028871327638626,
          -9.919418334960938,
          -4.108548641204834,
          -6.0097479820251465,
          -4.079526424407959,
          -15.983682632446289,
          -0.5600621104240417,
          -5.606925010681152,
          9.418651580810547,
          -2.033639669418335,
          -1.8287994861602783,
          1.956333041191101,
          6.274959087371826,
          -17.59341812133789,
          -5.8585100173950195,
          -5.921782970428467,
          -16.325927734375,
          0.22772358357906342,
          2.8218092918395996,
          -6.5605902671813965,
          2.052875518798828,
          5.439799785614014,
          2.2896642684936523,
          7.742260456085205,
          5.607677459716797,
          -14.033761024475098,
          2.7358946800231934,
          -1.1769781112670898,
          -8.489420890808105,
          2.6746907234191895,
          8.03634262084961,
          11.544819831848145,
          -2.332794189453125,
          13.097933769226074,
          9.809500694274902,
          7.966465950012207,
          1.300762414932251,
          -4.418700218200684,
          4.956242561340332,
          1.814462661743164,
          10.579678535461426,
          4.37761116027832,
          5.619364261627197,
          -0.2850905954837799,
          13.984382629394531,
          -14.759930610656738,
          10.660064697265625,
          11.185282707214355,
          -14.085165023803711,
          -3.482442855834961,
          -9.393929481506348,
          -0.7598168253898621,
          -13.665838241577148,
          -4.486451625823975,
          1.5269615650177002,
          11.038925170898438,
          -14.469322204589844,
          12.940862655639648,
          0.590645432472229,
          2.5847434997558594,
          8.519108772277832,
          -3.8779234886169434,
          13.293769836425781,
          0.052402470260858536,
          -18.201974868774414,
          -0.5670115947723389,
          0.1575639545917511,
          12.822128295898438,
          13.71560001373291,
          -6.279317855834961,
          13.6802978515625,
          12.806519508361816,
          7.236706256866455,
          6.84418249130249,
          11.216940879821777,
          4.890651226043701,
          3.841106414794922,
          -8.180373191833496,
          -15.601877212524414,
          -8.295077323913574,
          -16.152883529663086,
          1.9412518739700317,
          5.1579742431640625,
          -2.8973567485809326,
          -18.188011169433594,
          -8.512356758117676,
          -2.6157584190368652,
          3.554636240005493,
          8.621953010559082,
          0.8154639005661011,
          -3.388416051864624,
          -0.29120171070098877,
          12.498324394226074,
          1.3204888105392456,
          -3.771635055541992,
          11.525947570800781,
          7.151638507843018,
          8.69137954711914,
          2.5714659690856934,
          11.395842552185059,
          -3.863478899002075,
          8.975485801696777,
          5.157200813293457,
          10.63112735748291,
          4.415074825286865,
          13.655304908752441,
          6.173537254333496,
          0.5847086906433105,
          3.627732753753662,
          6.088442802429199,
          -10.568735122680664,
          -6.747815132141113,
          -9.118151664733887,
          -14.247247695922852,
          -3.709260940551758,
          -3.143710136413574,
          -5.116611480712891,
          -2.8426005840301514,
          -8.680670738220215,
          -0.7749900221824646,
          -2.658863067626953,
          -5.489855766296387,
          0.3173219561576843,
          1.9753245115280151,
          13.467330932617188,
          5.846316814422607,
          -3.2413196563720703,
          -2.0574684143066406,
          -15.795860290527344,
          -5.841312885284424,
          4.93148946762085,
          -15.601141929626465,
          1.296559453010559,
          -9.487834930419922,
          -4.647615432739258,
          -11.175924301147461,
          -0.5373525619506836,
          14.7241849899292,
          1.087363600730896,
          -3.712817668914795,
          4.279086112976074,
          6.718451976776123,
          -10.231345176696777,
          5.678924083709717,
          -15.976436614990234,
          -0.8612154722213745,
          -10.092957496643066,
          0.42912790179252625,
          -10.89551830291748,
          -4.327775001525879,
          -0.30917131900787354,
          -0.9572482109069824,
          13.008162498474121,
          2.08744740486145,
          3.9225082397460938,
          1.0533000230789185,
          -8.359585762023926,
          -5.105465412139893,
          8.108274459838867,
          10.644505500793457,
          -2.9829959869384766,
          1.0081504583358765,
          -6.8449835777282715,
          10.685391426086426,
          2.477804660797119,
          11.510017395019531,
          5.87739896774292,
          5.9460062980651855,
          1.1056480407714844,
          0.9125276207923889,
          -14.690112113952637,
          -6.047213077545166,
          0.0723794549703598,
          9.075757026672363,
          -3.1901700496673584,
          5.226972579956055,
          14.644318580627441,
          10.346363067626953,
          6.164872646331787,
          0.4735075831413269,
          -3.1568853855133057,
          -9.997313499450684,
          7.6824235916137695,
          -2.423332452774048,
          1.2512688636779785,
          -15.555364608764648,
          -1.932070255279541,
          14.818110466003418,
          10.549527168273926,
          5.2756218910217285,
          9.774697303771973,
          8.94471549987793,
          1.0758088827133179,
          15.969744682312012,
          10.881513595581055,
          -9.714286804199219,
          -17.111690521240234,
          -14.958783149719238,
          5.360291481018066,
          -5.039352893829346,
          -6.1420488357543945,
          -2.082139492034912,
          3.3069348335266113,
          -12.394796371459961,
          6.684983730316162,
          14.208303451538086,
          5.417769908905029,
          -1.9633169174194336,
          4.424959659576416,
          2.6695728302001953,
          -2.595259428024292,
          -2.8419110774993896,
          -7.0039544105529785,
          -3.7408041954040527,
          8.776506423950195,
          5.682069301605225,
          8.362812042236328,
          -3.716024398803711,
          -2.5644826889038086,
          -5.089193344116211,
          5.85700798034668,
          2.852065086364746,
          -5.785292625427246,
          -1.4992808103561401,
          -4.446678161621094,
          10.883260726928711,
          10.954703330993652,
          9.599625587463379,
          6.576622009277344,
          -2.523557662963867,
          1.2799272537231445,
          -0.11135990917682648,
          -5.050169467926025,
          0.6437240839004517,
          14.78165054321289,
          -13.379328727722168,
          -16.83316993713379,
          -17.201332092285156,
          5.8297624588012695,
          -3.6882784366607666,
          -9.372100830078125,
          -9.142586708068848,
          6.77267599105835,
          -8.072840690612793,
          -17.947799682617188,
          -16.463153839111328,
          14.824858665466309,
          -2.0892672538757324,
          10.81629753112793,
          6.610100269317627,
          -0.3121219277381897,
          6.0242919921875,
          4.747077941894531,
          -3.6008918285369873,
          -3.251784563064575,
          -16.266874313354492,
          -4.567976951599121,
          6.16357946395874,
          -0.49625882506370544,
          9.624810218811035,
          -6.21933126449585,
          -4.120373725891113,
          3.3299694061279297,
          -7.301181793212891,
          3.691744565963745,
          5.386653423309326,
          -0.6097089648246765,
          4.787614822387695,
          -1.2360403537750244,
          -15.86500358581543,
          -6.51889181137085,
          0.11562331020832062,
          5.743117332458496,
          -8.958843231201172,
          -3.057663917541504,
          -1.9293248653411865,
          -3.7379119396209717,
          -15.430919647216797,
          -9.927079200744629,
          -13.677736282348633,
          4.617954254150391,
          3.623513698577881,
          -11.516700744628906,
          -17.90652084350586,
          10.704523086547852,
          -5.735861301422119,
          9.669677734375,
          -18.810270309448242,
          -17.112071990966797,
          13.05720043182373,
          -13.000279426574707,
          7.160970687866211,
          -14.293550491333008,
          4.646026134490967,
          6.884616851806641,
          -2.7765860557556152,
          -0.9413589239120483,
          -14.857996940612793,
          -0.8689413666725159,
          -2.725430965423584,
          -1.827208161354065,
          -0.6642968058586121,
          7.012913227081299,
          -4.1517534255981445,
          0.6651037931442261,
          -5.882809162139893,
          1.993766188621521,
          13.579028129577637,
          -2.1156468391418457,
          0.37742480635643005,
          6.78150749206543,
          -15.058660507202148,
          -9.061030387878418,
          4.23378324508667,
          -0.37160131335258484,
          2.635122776031494,
          12.646357536315918,
          6.697433948516846,
          10.932882308959961,
          13.47392463684082,
          -3.307661294937134,
          -18.192340850830078,
          3.186053514480591,
          1.1797324419021606,
          1.1449532508850098,
          13.585848808288574,
          -17.096397399902344,
          -11.718526840209961,
          7.7982563972473145,
          1.3935521841049194,
          -9.909208297729492,
          6.416242599487305,
          6.351089000701904,
          -2.0971779823303223,
          9.695929527282715,
          1.5707019567489624,
          -1.5441418886184692,
          12.805801391601562,
          -5.209178447723389,
          -14.488956451416016,
          -2.954958438873291,
          10.748775482177734,
          4.866434574127197,
          4.703181266784668,
          11.832777976989746,
          4.755833625793457,
          -15.142191886901855,
          -12.13161563873291,
          -2.3624815940856934,
          10.937265396118164,
          -6.809238433837891,
          -4.8716630935668945,
          -14.555500984191895,
          -1.5645723342895508,
          3.5018105506896973,
          -1.5223709344863892,
          14.349135398864746,
          -17.742958068847656,
          6.948505878448486,
          -7.520905494689941,
          -16.291988372802734,
          0.27931931614875793,
          -16.435346603393555,
          2.3851537704467773,
          12.148285865783691,
          3.1826653480529785,
          -17.0982666015625,
          10.681816101074219,
          -9.933187484741211,
          12.620222091674805,
          -3.503889560699463,
          0.1405024379491806,
          -12.828673362731934,
          7.520290851593018,
          -3.3687644004821777,
          0.10454461723566055,
          -3.590588092803955,
          -6.969151496887207,
          -2.391963243484497,
          -10.637624740600586,
          -15.62786865234375,
          -14.540447235107422,
          9.838711738586426,
          11.288459777832031,
          15.549854278564453,
          -10.220626831054688,
          -3.622743844985962,
          -7.390872955322266,
          5.022135257720947,
          0.34326720237731934,
          9.661542892456055,
          1.2538714408874512,
          -13.786527633666992,
          9.067670822143555,
          -11.495078086853027,
          -9.7214994430542,
          2.1379029750823975,
          -0.9702833890914917,
          1.3179795742034912,
          3.0554609298706055,
          -4.354564666748047,
          -3.456160068511963,
          12.91340160369873,
          -17.427820205688477,
          0.4797638952732086,
          11.499524116516113,
          5.1328325271606445,
          1.5119847059249878,
          -17.40984535217285,
          1.7451746463775635,
          -2.7728829383850098,
          -4.905961036682129,
          -16.04173469543457,
          6.969773769378662,
          -2.9523136615753174,
          -5.760590553283691,
          3.6348578929901123,
          14.26550006866455,
          15.505542755126953,
          -7.112757682800293,
          14.740480422973633,
          0.618234395980835,
          -13.188639640808105,
          4.25955867767334,
          -10.886457443237305,
          7.436119079589844,
          -6.446011066436768,
          -2.6033248901367188,
          3.9438955783843994,
          -2.5228352546691895,
          -4.863838195800781,
          -0.6332705616950989,
          11.261542320251465,
          11.307209014892578,
          1.325831413269043,
          -0.9079665541648865,
          -2.484769105911255,
          6.070685386657715,
          13.96786880493164,
          -0.19392257928848267,
          -5.678504943847656,
          -17.298614501953125,
          12.106870651245117,
          -15.555312156677246,
          5.686877727508545,
          -16.584747314453125,
          -12.746451377868652,
          3.7504091262817383,
          7.771396636962891,
          -6.213604927062988,
          -2.0850186347961426,
          12.62896728515625,
          11.046831130981445,
          -4.801546573638916,
          2.830474376678467,
          15.778898239135742,
          7.022368431091309,
          6.177069187164307,
          -4.3776726722717285,
          3.277510404586792,
          -2.1831464767456055,
          -3.1275453567504883,
          -16.49407958984375,
          -8.287141799926758,
          -1.5896037817001343,
          2.977062463760376,
          -12.91998291015625,
          5.705266952514648,
          -4.810892581939697,
          7.536640644073486,
          -16.155107498168945,
          -9.350796699523926,
          -2.620931625366211,
          -14.333320617675781,
          4.824175834655762,
          3.813699245452881,
          6.813628673553467,
          -0.13093911111354828,
          9.74405288696289,
          5.833858966827393,
          -7.542392730712891,
          -17.57752799987793,
          4.438746452331543,
          7.473029613494873,
          0.04211188107728958,
          -3.8379361629486084,
          11.238739967346191,
          13.53618335723877,
          1.867266058921814,
          9.492053031921387,
          -14.466569900512695,
          -16.071762084960938,
          -2.323680877685547,
          6.713840007781982,
          -7.364035606384277,
          0.7146191596984863,
          -18.254255294799805,
          9.361167907714844,
          1.5306103229522705
         ]
        }
       ],
       "layout": {
        "coloraxis": {
         "colorbar": {
          "title": {
           "text": "Label"
          }
         },
         "colorscale": [
          [
           0,
           "#0d0887"
          ],
          [
           0.1111111111111111,
           "#46039f"
          ],
          [
           0.2222222222222222,
           "#7201a8"
          ],
          [
           0.3333333333333333,
           "#9c179e"
          ],
          [
           0.4444444444444444,
           "#bd3786"
          ],
          [
           0.5555555555555556,
           "#d8576b"
          ],
          [
           0.6666666666666666,
           "#ed7953"
          ],
          [
           0.7777777777777778,
           "#fb9f3a"
          ],
          [
           0.8888888888888888,
           "#fdca26"
          ],
          [
           1,
           "#f0f921"
          ]
         ]
        },
        "height": 800,
        "legend": {
         "tracegroupgap": 0
        },
        "scene": {
         "domain": {
          "x": [
           0,
           1
          ],
          "y": [
           0,
           1
          ]
         },
         "xaxis": {
          "title": {
           "text": "0"
          }
         },
         "yaxis": {
          "title": {
           "text": "1"
          }
         },
         "zaxis": {
          "title": {
           "text": "2"
          }
         }
        },
        "template": {
         "data": {
          "bar": [
           {
            "error_x": {
             "color": "#2a3f5f"
            },
            "error_y": {
             "color": "#2a3f5f"
            },
            "marker": {
             "line": {
              "color": "#E5ECF6",
              "width": 0.5
             }
            },
            "type": "bar"
           }
          ],
          "barpolar": [
           {
            "marker": {
             "line": {
              "color": "#E5ECF6",
              "width": 0.5
             }
            },
            "type": "barpolar"
           }
          ],
          "carpet": [
           {
            "aaxis": {
             "endlinecolor": "#2a3f5f",
             "gridcolor": "white",
             "linecolor": "white",
             "minorgridcolor": "white",
             "startlinecolor": "#2a3f5f"
            },
            "baxis": {
             "endlinecolor": "#2a3f5f",
             "gridcolor": "white",
             "linecolor": "white",
             "minorgridcolor": "white",
             "startlinecolor": "#2a3f5f"
            },
            "type": "carpet"
           }
          ],
          "choropleth": [
           {
            "colorbar": {
             "outlinewidth": 0,
             "ticks": ""
            },
            "type": "choropleth"
           }
          ],
          "contour": [
           {
            "colorbar": {
             "outlinewidth": 0,
             "ticks": ""
            },
            "colorscale": [
             [
              0,
              "#0d0887"
             ],
             [
              0.1111111111111111,
              "#46039f"
             ],
             [
              0.2222222222222222,
              "#7201a8"
             ],
             [
              0.3333333333333333,
              "#9c179e"
             ],
             [
              0.4444444444444444,
              "#bd3786"
             ],
             [
              0.5555555555555556,
              "#d8576b"
             ],
             [
              0.6666666666666666,
              "#ed7953"
             ],
             [
              0.7777777777777778,
              "#fb9f3a"
             ],
             [
              0.8888888888888888,
              "#fdca26"
             ],
             [
              1,
              "#f0f921"
             ]
            ],
            "type": "contour"
           }
          ],
          "contourcarpet": [
           {
            "colorbar": {
             "outlinewidth": 0,
             "ticks": ""
            },
            "type": "contourcarpet"
           }
          ],
          "heatmap": [
           {
            "colorbar": {
             "outlinewidth": 0,
             "ticks": ""
            },
            "colorscale": [
             [
              0,
              "#0d0887"
             ],
             [
              0.1111111111111111,
              "#46039f"
             ],
             [
              0.2222222222222222,
              "#7201a8"
             ],
             [
              0.3333333333333333,
              "#9c179e"
             ],
             [
              0.4444444444444444,
              "#bd3786"
             ],
             [
              0.5555555555555556,
              "#d8576b"
             ],
             [
              0.6666666666666666,
              "#ed7953"
             ],
             [
              0.7777777777777778,
              "#fb9f3a"
             ],
             [
              0.8888888888888888,
              "#fdca26"
             ],
             [
              1,
              "#f0f921"
             ]
            ],
            "type": "heatmap"
           }
          ],
          "heatmapgl": [
           {
            "colorbar": {
             "outlinewidth": 0,
             "ticks": ""
            },
            "colorscale": [
             [
              0,
              "#0d0887"
             ],
             [
              0.1111111111111111,
              "#46039f"
             ],
             [
              0.2222222222222222,
              "#7201a8"
             ],
             [
              0.3333333333333333,
              "#9c179e"
             ],
             [
              0.4444444444444444,
              "#bd3786"
             ],
             [
              0.5555555555555556,
              "#d8576b"
             ],
             [
              0.6666666666666666,
              "#ed7953"
             ],
             [
              0.7777777777777778,
              "#fb9f3a"
             ],
             [
              0.8888888888888888,
              "#fdca26"
             ],
             [
              1,
              "#f0f921"
             ]
            ],
            "type": "heatmapgl"
           }
          ],
          "histogram": [
           {
            "marker": {
             "colorbar": {
              "outlinewidth": 0,
              "ticks": ""
             }
            },
            "type": "histogram"
           }
          ],
          "histogram2d": [
           {
            "colorbar": {
             "outlinewidth": 0,
             "ticks": ""
            },
            "colorscale": [
             [
              0,
              "#0d0887"
             ],
             [
              0.1111111111111111,
              "#46039f"
             ],
             [
              0.2222222222222222,
              "#7201a8"
             ],
             [
              0.3333333333333333,
              "#9c179e"
             ],
             [
              0.4444444444444444,
              "#bd3786"
             ],
             [
              0.5555555555555556,
              "#d8576b"
             ],
             [
              0.6666666666666666,
              "#ed7953"
             ],
             [
              0.7777777777777778,
              "#fb9f3a"
             ],
             [
              0.8888888888888888,
              "#fdca26"
             ],
             [
              1,
              "#f0f921"
             ]
            ],
            "type": "histogram2d"
           }
          ],
          "histogram2dcontour": [
           {
            "colorbar": {
             "outlinewidth": 0,
             "ticks": ""
            },
            "colorscale": [
             [
              0,
              "#0d0887"
             ],
             [
              0.1111111111111111,
              "#46039f"
             ],
             [
              0.2222222222222222,
              "#7201a8"
             ],
             [
              0.3333333333333333,
              "#9c179e"
             ],
             [
              0.4444444444444444,
              "#bd3786"
             ],
             [
              0.5555555555555556,
              "#d8576b"
             ],
             [
              0.6666666666666666,
              "#ed7953"
             ],
             [
              0.7777777777777778,
              "#fb9f3a"
             ],
             [
              0.8888888888888888,
              "#fdca26"
             ],
             [
              1,
              "#f0f921"
             ]
            ],
            "type": "histogram2dcontour"
           }
          ],
          "mesh3d": [
           {
            "colorbar": {
             "outlinewidth": 0,
             "ticks": ""
            },
            "type": "mesh3d"
           }
          ],
          "parcoords": [
           {
            "line": {
             "colorbar": {
              "outlinewidth": 0,
              "ticks": ""
             }
            },
            "type": "parcoords"
           }
          ],
          "pie": [
           {
            "automargin": true,
            "type": "pie"
           }
          ],
          "scatter": [
           {
            "marker": {
             "colorbar": {
              "outlinewidth": 0,
              "ticks": ""
             }
            },
            "type": "scatter"
           }
          ],
          "scatter3d": [
           {
            "line": {
             "colorbar": {
              "outlinewidth": 0,
              "ticks": ""
             }
            },
            "marker": {
             "colorbar": {
              "outlinewidth": 0,
              "ticks": ""
             }
            },
            "type": "scatter3d"
           }
          ],
          "scattercarpet": [
           {
            "marker": {
             "colorbar": {
              "outlinewidth": 0,
              "ticks": ""
             }
            },
            "type": "scattercarpet"
           }
          ],
          "scattergeo": [
           {
            "marker": {
             "colorbar": {
              "outlinewidth": 0,
              "ticks": ""
             }
            },
            "type": "scattergeo"
           }
          ],
          "scattergl": [
           {
            "marker": {
             "colorbar": {
              "outlinewidth": 0,
              "ticks": ""
             }
            },
            "type": "scattergl"
           }
          ],
          "scattermapbox": [
           {
            "marker": {
             "colorbar": {
              "outlinewidth": 0,
              "ticks": ""
             }
            },
            "type": "scattermapbox"
           }
          ],
          "scatterpolar": [
           {
            "marker": {
             "colorbar": {
              "outlinewidth": 0,
              "ticks": ""
             }
            },
            "type": "scatterpolar"
           }
          ],
          "scatterpolargl": [
           {
            "marker": {
             "colorbar": {
              "outlinewidth": 0,
              "ticks": ""
             }
            },
            "type": "scatterpolargl"
           }
          ],
          "scatterternary": [
           {
            "marker": {
             "colorbar": {
              "outlinewidth": 0,
              "ticks": ""
             }
            },
            "type": "scatterternary"
           }
          ],
          "surface": [
           {
            "colorbar": {
             "outlinewidth": 0,
             "ticks": ""
            },
            "colorscale": [
             [
              0,
              "#0d0887"
             ],
             [
              0.1111111111111111,
              "#46039f"
             ],
             [
              0.2222222222222222,
              "#7201a8"
             ],
             [
              0.3333333333333333,
              "#9c179e"
             ],
             [
              0.4444444444444444,
              "#bd3786"
             ],
             [
              0.5555555555555556,
              "#d8576b"
             ],
             [
              0.6666666666666666,
              "#ed7953"
             ],
             [
              0.7777777777777778,
              "#fb9f3a"
             ],
             [
              0.8888888888888888,
              "#fdca26"
             ],
             [
              1,
              "#f0f921"
             ]
            ],
            "type": "surface"
           }
          ],
          "table": [
           {
            "cells": {
             "fill": {
              "color": "#EBF0F8"
             },
             "line": {
              "color": "white"
             }
            },
            "header": {
             "fill": {
              "color": "#C8D4E3"
             },
             "line": {
              "color": "white"
             }
            },
            "type": "table"
           }
          ]
         },
         "layout": {
          "annotationdefaults": {
           "arrowcolor": "#2a3f5f",
           "arrowhead": 0,
           "arrowwidth": 1
          },
          "coloraxis": {
           "colorbar": {
            "outlinewidth": 0,
            "ticks": ""
           }
          },
          "colorscale": {
           "diverging": [
            [
             0,
             "#8e0152"
            ],
            [
             0.1,
             "#c51b7d"
            ],
            [
             0.2,
             "#de77ae"
            ],
            [
             0.3,
             "#f1b6da"
            ],
            [
             0.4,
             "#fde0ef"
            ],
            [
             0.5,
             "#f7f7f7"
            ],
            [
             0.6,
             "#e6f5d0"
            ],
            [
             0.7,
             "#b8e186"
            ],
            [
             0.8,
             "#7fbc41"
            ],
            [
             0.9,
             "#4d9221"
            ],
            [
             1,
             "#276419"
            ]
           ],
           "sequential": [
            [
             0,
             "#0d0887"
            ],
            [
             0.1111111111111111,
             "#46039f"
            ],
            [
             0.2222222222222222,
             "#7201a8"
            ],
            [
             0.3333333333333333,
             "#9c179e"
            ],
            [
             0.4444444444444444,
             "#bd3786"
            ],
            [
             0.5555555555555556,
             "#d8576b"
            ],
            [
             0.6666666666666666,
             "#ed7953"
            ],
            [
             0.7777777777777778,
             "#fb9f3a"
            ],
            [
             0.8888888888888888,
             "#fdca26"
            ],
            [
             1,
             "#f0f921"
            ]
           ],
           "sequentialminus": [
            [
             0,
             "#0d0887"
            ],
            [
             0.1111111111111111,
             "#46039f"
            ],
            [
             0.2222222222222222,
             "#7201a8"
            ],
            [
             0.3333333333333333,
             "#9c179e"
            ],
            [
             0.4444444444444444,
             "#bd3786"
            ],
            [
             0.5555555555555556,
             "#d8576b"
            ],
            [
             0.6666666666666666,
             "#ed7953"
            ],
            [
             0.7777777777777778,
             "#fb9f3a"
            ],
            [
             0.8888888888888888,
             "#fdca26"
            ],
            [
             1,
             "#f0f921"
            ]
           ]
          },
          "colorway": [
           "#636efa",
           "#EF553B",
           "#00cc96",
           "#ab63fa",
           "#FFA15A",
           "#19d3f3",
           "#FF6692",
           "#B6E880",
           "#FF97FF",
           "#FECB52"
          ],
          "font": {
           "color": "#2a3f5f"
          },
          "geo": {
           "bgcolor": "white",
           "lakecolor": "white",
           "landcolor": "#E5ECF6",
           "showlakes": true,
           "showland": true,
           "subunitcolor": "white"
          },
          "hoverlabel": {
           "align": "left"
          },
          "hovermode": "closest",
          "mapbox": {
           "style": "light"
          },
          "paper_bgcolor": "white",
          "plot_bgcolor": "#E5ECF6",
          "polar": {
           "angularaxis": {
            "gridcolor": "white",
            "linecolor": "white",
            "ticks": ""
           },
           "bgcolor": "#E5ECF6",
           "radialaxis": {
            "gridcolor": "white",
            "linecolor": "white",
            "ticks": ""
           }
          },
          "scene": {
           "xaxis": {
            "backgroundcolor": "#E5ECF6",
            "gridcolor": "white",
            "gridwidth": 2,
            "linecolor": "white",
            "showbackground": true,
            "ticks": "",
            "zerolinecolor": "white"
           },
           "yaxis": {
            "backgroundcolor": "#E5ECF6",
            "gridcolor": "white",
            "gridwidth": 2,
            "linecolor": "white",
            "showbackground": true,
            "ticks": "",
            "zerolinecolor": "white"
           },
           "zaxis": {
            "backgroundcolor": "#E5ECF6",
            "gridcolor": "white",
            "gridwidth": 2,
            "linecolor": "white",
            "showbackground": true,
            "ticks": "",
            "zerolinecolor": "white"
           }
          },
          "shapedefaults": {
           "line": {
            "color": "#2a3f5f"
           }
          },
          "ternary": {
           "aaxis": {
            "gridcolor": "white",
            "linecolor": "white",
            "ticks": ""
           },
           "baxis": {
            "gridcolor": "white",
            "linecolor": "white",
            "ticks": ""
           },
           "bgcolor": "#E5ECF6",
           "caxis": {
            "gridcolor": "white",
            "linecolor": "white",
            "ticks": ""
           }
          },
          "title": {
           "x": 0.05
          },
          "xaxis": {
           "automargin": true,
           "gridcolor": "white",
           "linecolor": "white",
           "ticks": "",
           "title": {
            "standoff": 15
           },
           "zerolinecolor": "white",
           "zerolinewidth": 2
          },
          "yaxis": {
           "automargin": true,
           "gridcolor": "white",
           "linecolor": "white",
           "ticks": "",
           "title": {
            "standoff": 15
           },
           "zerolinecolor": "white",
           "zerolinewidth": 2
          }
         }
        },
        "title": {
         "text": "3d TSNE Plot for Outliers"
        },
        "width": 900
       }
      },
      "text/html": [
       "<div>\n",
       "        \n",
       "        \n",
       "            <div id=\"3ec353d8-de6b-47f8-8fad-c6d734c2c105\" class=\"plotly-graph-div\" style=\"height:800px; width:900px;\"></div>\n",
       "            <script type=\"text/javascript\">\n",
       "                require([\"plotly\"], function(Plotly) {\n",
       "                    window.PLOTLYENV=window.PLOTLYENV || {};\n",
       "                    \n",
       "                if (document.getElementById(\"3ec353d8-de6b-47f8-8fad-c6d734c2c105\")) {\n",
       "                    Plotly.newPlot(\n",
       "                        '3ec353d8-de6b-47f8-8fad-c6d734c2c105',\n",
       "                        [{\"customdata\": [[0.263995357], [0.546092303], [0.33671410399999996], [0.092107835], [0.325261175], [0.212464853], [0.258565714], [0.869236755], [0.197077957], [0.292984504], [0.82178316], [0.796622959], [0.045577010999999994], [0.613660351], [0.9507445659999999], [0.33634633700000005], [0.034440667], [0.741544275], [0.18443265], [0.664514943], [0.16282485800000002], [0.729838445], [0.62837389], [0.057883660999999996], [0.445534827], [0.80183695], [0.27709612], [0.228634015], [0.834860657], [0.6697665110000001], [0.532527349], [0.17045907100000002], [0.5102884679999999], [0.977561989], [0.249775993], [0.9755006820000001], [0.613701727], [0.16742036300000002], [0.537472516], [0.379899131], [0.633897303], [0.633960424], [0.5499746529999999], [0.178172988], [0.85563814], [0.321796672], [0.8174905370000001], [0.254879417], [0.344140513], [0.8061457259999999], [0.27708167100000003], [0.544328519], [0.07708393], [0.273081458], [0.390877336], [0.349621385], [0.214549744], [0.206075222], [0.86461997], [0.9817088540000001], [0.33482964600000004], [0.648387061], [0.093643561], [0.837802698], [0.7603439670000001], [0.29140417399999996], [0.3413454], [0.7611124840000001], [0.541899775], [0.684176639], [0.983535597], [0.52081245], [0.328227724], [0.09715793800000001], [0.876088593], [0.870214512], [0.656086992], [0.306791514], [0.48126734], [0.259559174], [0.326123655], [0.930568042], [0.6583894], [0.689992335], [0.315781109], [0.5669050929999999], [0.637526619], [0.687540723], [0.324300602], [0.592704906], [0.7402531259999999], [0.5940328770000001], [0.596452977], [0.27768081699999997], [0.258329663], [0.142460864], [0.435533461], [0.7024990440000001], [0.58897535], [0.653304374], [0.336968524], [0.631244736], [0.73530076], [0.050390366], [0.064264924], [0.665359476], [0.917835245], [0.44651012], [0.661938199], [0.43935985299999997], [0.6875724040000001], [0.363462248], [0.6542621820000001], [0.578553536], [0.065927945], [0.550148559], [0.13918281400000002], [0.080004635], [0.278228358], [0.560124266], [0.53639864], [0.42653190399999996], [0.789109796], [0.742900474], [0.901692589], [0.650337401], [0.114057311], [0.260812592], [0.43991232], [0.964409284], [0.184401415], [0.345145446], [0.17589458100000002], [0.312514453], [0.674131879], [0.32825045], [0.598231057], [0.09259881699999999], [0.497916521], [0.419776521], [0.31217670000000003], [0.937857107], [0.049030963], [0.47610452600000003], [0.447397526], [0.295806058], [0.737363977], [0.625896253], [0.408813429], [0.437511156], [0.691351375], [0.935555275], [0.437846654], [0.072217715], [0.67636067], [0.468883999], [0.543820644], [0.6555226470000001], [0.6935289240000001], [0.10887831199999999], [0.285463743], [0.0], [0.706495497], [0.273530633], [0.292320271], [0.673984307], [0.12612182800000002], [0.9467074590000001], [0.9363388979999999], [0.8537553640000001], [0.7060713609999999], [0.693682186], [0.508527882], [0.34717038899999997], [0.704154263], [0.658730088], [0.155841557], [0.311085435], [0.281135347], [0.094587802], [0.6832609540000001], [0.9077292509999999], [0.29151267399999997], [0.752734459], [0.93482964], [0.071413953], [0.5948963270000001], [0.404672015], [0.13837621], [0.7473384679999999], [0.530882486], [0.282649594], [0.699335734], [0.056111250999999994], [0.855234998], [0.07789512700000001], [0.891649583], [0.38674227899999997], [0.27113158], [0.958888961], [0.085120869], [0.5269022489999999], [0.066577785], [0.841506738], [0.255342095], [0.060545771], [0.073385869], [0.187493723], [0.858365688], [0.090640352], [0.7097252270000001], [0.631300647], [0.24750447399999997], [0.822843584], [0.373476759], [0.625538582], [0.292951715], [0.299730324], [0.25121407], [0.344480551], [0.293064767], [0.7628032240000001], [0.7384708040000001], [0.674883265], [0.719151612], [0.13098021599999998], [0.511328036], [0.04492903], [0.560914449], [0.7440406409999999], [0.266961634], [0.644231853], [0.038113352], [0.05715529900000001], [0.34139246100000004], [0.7204636320000001], [0.402878236], [0.635148967], [0.320729467], [0.09120969400000001], [0.23414609], [0.8902211309999999], [0.602170884], [0.633652055], [0.806240837], [0.739731184], [0.465231269], [0.7321109], [0.373874305], [0.501587947], [0.11538315800000001], [0.7319466040000001], [0.41829872799999995], [0.062259590999999996], [0.391496379], [0.35984929], [0.24523562699999998], [0.610028339], [0.43540360200000006], [0.434309675], [0.523763344], [0.17118786600000002], [0.18773430300000002], [0.945014638], [0.027851097000000002], [0.68445706], [0.178014532], [0.643427879], [0.59588355], [0.372361682], [0.586103584], [0.271658852], [0.59951107], [0.468363088], [0.314515565], [0.21893726], [0.254716562], [0.25612815], [0.602259755], [0.134381075], [0.513887424], [0.624241636], [0.160251854], [0.580708108], [0.270540486], [0.832919932], [0.93032134], [0.719157884], [0.886720033], [0.098792281], [0.787174286], [0.365592376], [0.719576193], [0.8058956], [0.7555783340000001], [0.526005909], [0.68880424], [0.22111531199999998], [0.739369477], [0.408440236], [0.348926542], [0.433713763], [0.5964966070000001], [0.6942953000000001], [0.7090309659999999], [0.867652984], [0.89332545], [0.746020922], [0.538284443], [0.8922193140000001], [0.935175765], [0.260527707], [0.956780449], [0.204932484], [0.687733351], [0.329063619], [0.632149831], [0.463744506], [0.698859621], [0.385446564], [0.47997537700000004], [0.732279108], [0.3813543], [0.459326013], [0.257401434], [0.665014804], [0.103399542], [0.425284413], [0.943529051], [0.594750236], [0.543776817], [0.18203988], [0.23584208399999998], [0.585984497], [0.762013168], [0.6849829070000001], [0.676936933], [0.290184964], [0.48106822200000005], [0.492766033], [0.22185623399999999], [0.053875998], [0.082751144], [0.385366225], [0.702513961], [0.91553156], [0.082087436], [0.251280378], [0.41672181700000005], [0.277032672], [0.579539754], [0.569363476], [0.133399703], [0.265045463], [0.936571901], [0.252618554], [0.054033081], [0.802481439], [0.528197693], [0.9515026], [0.572121173], [0.752938227], [0.143857535], [0.513484576], [0.313322389], [0.6877973959999999], [0.37705984], [0.348226142], [0.67763282], [0.24138752100000002], [0.8506501790000001], [0.22034810300000002], [0.476445464], [0.690324025], [0.364695946], [0.6492491970000001], [0.9437019209999999], [0.529645971], [0.299097002], [0.96696247], [0.272005242], [0.314161447], [0.752020991], [0.221882453], [0.7203326729999999], [0.379204782], [0.60168653], [0.582932673], [0.950809853], [0.58830141], [0.880887227], [0.467857701], [0.8799021709999999], [0.619844009], [0.359002573], [0.291511278], [0.694157143], [0.727960353], [0.617703921], [0.39581257], [0.58317282], [0.710332374], [0.253753693], [0.049412227999999996], [0.728378695], [0.432432881], [0.58612345], [0.052342373], [0.053483902], [0.518729378], [0.933040208], [0.7035542840000001], [0.268989899], [0.733006927], [0.44435246700000003], [0.5833946210000001], [0.871172692], [0.42876707799999997], [0.30046084100000003], [0.9533294590000001], [0.606443965], [0.90986815], [0.714896449], [0.49734950899999997], [0.8530974859999999], [0.721804145], [0.303467328], [0.664485096], [0.27978062], [0.569481665], [0.628628926], [0.088368123], [0.733567326], [0.537436778], [0.638593691], [0.954726948], [0.632202332], [0.642134651], [0.744653087], [0.115714007], [0.48625007299999995], [0.440356144], [0.08272289], [0.511591027], [0.394627555], [0.224394], [0.626927584], [0.290254057], [0.779008053], [0.86610579], [0.873326081], [0.49548916], [0.594297695], [0.9182015840000001], [0.5770427539999999], [0.019467671000000002], [0.6702982820000001], [0.546595316], [0.591665146], [0.42155819], [0.6856085590000001], [0.340303024], [0.675626741], [0.319067345], [0.38849966399999997], [0.706949589], [0.559409515], [0.687663508], [0.7088045540000001], [0.6818880940000001], [0.42253510899999996], [0.320004605], [0.6582813679999999], [0.634154867], [0.7773320090000001], [0.812677205], [0.074280797], [0.39600217], [0.054933913], [0.825058925], [0.382642009], [0.8687298179999999], [0.588043346], [0.891551577], [0.10920046], [0.647682781], [0.724342512], [0.07016304400000001], [0.280882054], [0.039113261], [0.579641592], [0.639000922], [0.281745925], [0.647857744], [0.6479057970000001], [0.875226264], [0.567603305], [0.262940591], [0.268026042], [0.40519133], [0.479965451], [0.33552403], [0.777165379], [0.42548796299999997], [0.237986115], [0.142522971], [0.724176488], [0.234698933], [0.07818228099999999], [0.855990155], [0.270251765], [0.435517841], [0.762697513], [0.46448725799999996], [0.396112685], [0.37638092100000003], [0.29459467699999997], [0.6944921209999999], [0.622767949], [0.8475597220000001], [0.301463054], [0.912937812], [0.500017182], [0.902587935], [0.304517943], [0.299165673], [0.092014087], [0.488548917], [0.664664437], [0.26534954899999996], [0.723657021], [0.149262385], [0.04577339], [0.69661064], [0.42181486], [0.733845785], [0.418795386], [0.677443529], [0.26128360300000003], [0.268527767], [0.5443222360000001], [0.431632036], [0.981018141], [0.21498072399999998], [0.39472999299999995], [0.122224944], [0.297496875], [0.37490443100000004], [0.68698771], [0.388549207], [0.039296071], [0.73553424], [0.37929489299999997], [0.7321233859999999], [0.33922143899999996], [0.659450594], [0.054838642], [0.640112102], [0.30714170399999996], [0.39661190700000004], [0.420439161], [0.24171497399999997], [0.065893153], [0.9105219370000001], [0.697163103], [0.072559853], [0.81825094], [0.311888815], [0.961644609], [0.816325524], [0.14647302], [0.548753945], [0.946158087], [0.293992717], [0.331479643], [0.9062200309999999], [0.525540416], [0.83301411], [0.514849806], [0.574609024], [0.46871185299999996], [0.71002775], [0.645973276], [0.229794416], [0.551783393], [0.055822990999999995], [0.331750941], [0.715520198], [0.583924357], [0.30695769100000003], [0.7914782370000001], [0.16423663900000002], [0.065711219], [0.948993132], [0.080423835], [0.052495426], [0.566346135], [0.3630266], [0.605442195], [0.6308505839999999], [0.065791238], [0.28681707100000003], [0.685462839], [0.260853706], [0.659122429], [0.44317392200000005], [0.602063986], [0.060366910999999995], [0.781903153], [0.5145798070000001], [0.48388621299999995], [0.600213807], [0.49736405200000006], [0.411145245], [0.116999171], [0.34189014100000004], [0.746950848], [0.39629274600000003], [0.6221438429999999], [0.335271141], [0.140257137], [0.081620681], [0.069837569], [0.46894000799999996], [0.9908574170000001], [0.896616832], [0.255310561], [0.22464526699999998], [0.01991825], [0.296480415], [0.155458996], [0.577916714], [0.9563030309999999], [0.813464394], [0.529675785], [0.287671353], [0.48039136], [0.28104482199999997], [0.633196521], [0.09332537699999999], [0.28447398100000004], [0.052223775], [0.051129385], [0.967405608], [0.040045727999999996], [0.9085829209999999], [0.6621174160000001], [0.42470320899999997], [0.72207806], [0.666193327], [0.509681253], [0.7513536209999999], [0.279073124], [0.074927], [0.916359535], [0.31040327], [0.716604052], [0.485587085], [0.30607518100000003], [0.477558204], [0.7119239409999999], [0.066348638], [0.27453935100000004], [0.31082252], [0.47607312700000004], [0.186795565], [0.26654207], [0.070231142], [0.26951927], [0.800004713], [0.27363366699999997], [0.14647919199999998], [0.378318951], [0.373849065], [0.242170835], [0.249796488], [0.066591188], [0.372956798], [0.501812291], [0.313097752], [0.8802021959999999], [0.51981893], [0.364138746], [0.49268289600000004], [0.285732652], [0.890114985], [0.316419561], [0.26866354], [0.771975959], [0.968888992], [0.080334377], [0.7368282209999999], [0.30055807100000004], [0.9179503929999999], [0.465815039], [0.054036682], [0.963150123], [0.08965350300000001], [0.7076932340000001], [0.636416037], [0.539521117], [0.114757161], [0.357312419], [0.67639834], [0.43482839], [0.032326387000000005], [0.711365605], [0.187486519], [0.052789653], [0.5058636129999999], [0.927431873], [0.6809842559999999], [0.882822186], [0.495705441], [0.596240398], [0.320610701], [0.3413685], [0.159681797], [0.318133669], [0.8393010479999999], [0.06435925099999999], [0.470216633], [0.7762522909999999], [0.635843383], [0.62510543], [0.52959065], [0.986900166], [0.078585688], [0.233284267], [0.363330957], [0.7167169809999999], [0.37588979200000006], [0.223316889], [0.299343986], [0.538595767], [0.730297124], [0.66033077], [0.435296009], [0.326494313], [0.854402708], [0.5734938470000001], [0.757786135], [0.704743233], [0.281575597], [0.671968208], [0.313726015], [0.364338275], [0.368216396], [0.38629520700000003], [0.655971865], [0.5660252729999999], [0.424999093], [0.090110371], [0.772350538], [0.331047258], [0.273716188], [0.23877568], [0.37307977200000003], [0.331185868], [0.256134531], [0.678373225], [0.43463833799999996], [0.654668307], [0.986681065], [0.371520495], [0.408359618], [0.40932365], [0.283412082], [0.395246531], [0.010984428000000001], [0.306013869], [0.266194806], [0.299318521], [0.318293946], [0.74282591], [0.09766432900000001], [0.079666942], [0.613258767], [0.99443072], [0.568835082], [0.7080345159999999], [0.37059271899999996], [0.669867361], [0.651295625], [0.462531569], [0.7196256190000001], [0.45377248], [0.394863946], [0.323974831], [0.146454724], [0.7790670409999999], [0.401828915], [0.601479585], [0.856423023], [0.565242962], [0.301225108], [0.282108144], [0.594378011], [0.705312368], [0.5408696279999999], [0.319249574], [0.36176613799999996], [0.625000704], [0.316287401], [0.047239021], [0.801182233], [0.508474436], [0.8178934109999999], [0.399235601], [0.9740519990000001], [0.72241535], [0.039564764], [0.908684108], [0.47301013399999997], [0.7180496279999999], [0.7634790690000001], [0.6475965370000001], [0.8949973859999999], [0.22282590100000002], [0.359012234], [0.944910252], [0.297877816], [0.172517997], [0.556586265], [0.876481735], [0.48667784299999994], [0.459496733], [0.47412637700000004], [0.70101144], [0.337597387], [0.537578886], [0.966992448], [0.056849545], [0.233249065], [0.380054711], [0.602929443], [0.303847999], [0.170194553], [0.972168554], [0.332168927], [0.6887286890000001], [0.110773401], [0.273352065], [0.572939678], [0.491457065], [0.281389999], [0.821697261], [0.6749776829999999], [0.585134549], [0.7105961159999999], [0.040488789], [0.568054311], [0.321752928], [0.611850232], [0.926096887], [0.618347428], [0.667629785], [0.39773346600000004], [0.290875487], [0.594375103], [0.508255233], [0.338571357], [0.43230234700000003], [0.302221978], [0.87619819], [0.080204492], [0.092333532], [0.09365644699999999], [0.6084523510000001], [0.732654598], [0.944158855], [0.26742308], [0.731124201], [0.661308553], [0.38776626200000003], [0.962585273], [0.322067067], [0.6340810929999999], [0.475345002], [0.35355897299999994], [0.8859363159999999], [0.876798106], [0.221581064], [0.394362449], [0.8050356759999999], [0.452898486], [0.592520516], [0.761026394], [0.245049023], [0.37213936299999995], [0.681054822], [0.7471431479999999], [0.9207395290000001], [0.097207945], [0.699302998], [0.721647006], [0.5353561139999999], [0.738293805], [0.7064675509999999], [0.67395061], [0.7112122909999999], [0.302558708], [0.080097855], [0.707010837], [0.512248622], [0.659627472], [0.657559694], [0.100645606], [0.92665363], [0.892879338], [0.839157508], [0.890959718], [0.556754471], [0.960361937], [0.631037864], [0.029838065], [0.278843351], [0.926157705], [0.551504258], [0.485942349], [0.43723469600000003], [0.25231801800000003], [0.515466972], [0.43725229600000004], [0.493724207], [0.83324725], [0.317521477], [0.28623456199999997], [0.726833965], [0.495667033], [0.028645255], [0.31967191699999997], [0.674344598], [0.7660371890000001], [0.65456992], [0.7565143809999999], [0.528253719], [0.38971949100000003], [0.355087459], [0.87015202], [0.7390833059999999], [0.305761846], [0.411587673], [0.063633094], [0.735409395], [0.605916669], [0.539395562], [0.566183532], [0.674795186], [0.070993366], [0.12526410000000002], [0.279601492], [0.952174402], [0.233806762], [0.43724742899999997], [0.925423095], [0.433498634], [0.52517902], [0.088435529], [0.447677638], [0.647000631], [0.9036033370000001], [0.265790738], [0.66419695], [0.498120658], [0.49018894399999996], [0.747084187], [0.906783648], [0.678770917], [0.348599859], [0.294839683], [0.705691827], [0.211917931], [0.063201124], [0.276699543], [0.672459395], [0.8082059490000001], [0.296538373], [0.16012686199999998], [0.439385032], [0.555951416], [0.386240112], [0.158689619], [0.214499855], [0.299579429], [0.569161656], [0.488614799], [0.8782950209999999], [0.649380949], [0.465713341], [0.16813774], [0.87529545], [0.8411323409999999], [0.33292081], [0.5130478589999999], [0.30505507800000004], [0.8126269909999999], [0.25096706], [0.5024355779999999], [0.45799074100000003]], \"hovertemplate\": \"0=%{x}<br>1=%{y}<br>2=%{z}<br>Feature=%{customdata[0]}<br>Label=%{marker.color}<extra></extra>\", \"legendgroup\": \"\", \"marker\": {\"color\": [0, 0, 1, 1, 0, 0, 0, 1, 1, 0, 0, 1, 0, 0, 1, 0, 1, 0, 0, 0, 1, 0, 0, 1, 1, 1, 0, 0, 1, 1, 0, 0, 1, 1, 1, 0, 0, 0, 0, 0, 1, 0, 0, 1, 0, 0, 0, 0, 0, 0, 0, 1, 0, 1, 0, 1, 0, 0, 0, 1, 0, 0, 1, 1, 0, 0, 1, 0, 0, 1, 0, 0, 0, 0, 0, 0, 0, 0, 0, 0, 0, 0, 0, 0, 0, 0, 0, 0, 0, 0, 0, 0, 0, 0, 0, 0, 0, 0, 0, 0, 0, 0, 0, 0, 0, 0, 0, 0, 0, 0, 0, 0, 0, 0, 0, 0, 0, 0, 0, 0, 0, 0, 0, 0, 0, 0, 0, 0, 0, 0, 0, 0, 0, 0, 0, 0, 0, 0, 0, 0, 0, 0, 0, 0, 0, 0, 0, 0, 0, 0, 0, 0, 0, 0, 0, 0, 0, 0, 0, 0, 0, 0, 0, 0, 0, 0, 0, 0, 0, 0, 0, 0, 0, 0, 0, 0, 0, 0, 0, 0, 0, 0, 0, 0, 0, 0, 0, 0, 0, 0, 0, 0, 0, 0, 0, 0, 0, 0, 1, 0, 0, 0, 0, 0, 0, 0, 0, 0, 0, 0, 0, 0, 0, 0, 0, 0, 0, 0, 0, 0, 0, 0, 0, 0, 0, 0, 0, 0, 0, 0, 0, 0, 0, 0, 0, 0, 0, 0, 0, 0, 0, 0, 0, 0, 0, 0, 0, 0, 0, 0, 0, 0, 0, 0, 0, 0, 0, 0, 0, 0, 0, 0, 0, 0, 0, 0, 0, 0, 0, 0, 0, 0, 0, 0, 0, 0, 0, 0, 0, 0, 0, 0, 0, 0, 0, 0, 0, 0, 0, 0, 0, 0, 0, 0, 0, 0, 0, 0, 0, 0, 0, 0, 0, 0, 0, 0, 0, 0, 0, 0, 0, 0, 0, 0, 0, 0, 0, 0, 0, 0, 0, 0, 0, 0, 0, 0, 0, 0, 0, 0, 0, 0, 0, 0, 0, 0, 0, 0, 0, 0, 0, 0, 0, 0, 0, 0, 0, 0, 0, 0, 0, 0, 0, 0, 0, 0, 0, 0, 0, 0, 0, 0, 0, 0, 0, 0, 0, 0, 0, 0, 0, 0, 0, 0, 0, 0, 0, 0, 0, 0, 0, 0, 0, 0, 0, 0, 0, 0, 0, 0, 0, 0, 0, 0, 0, 0, 0, 0, 0, 0, 0, 0, 0, 0, 0, 0, 0, 0, 0, 0, 0, 0, 0, 0, 0, 0, 0, 0, 0, 0, 0, 0, 0, 0, 0, 0, 0, 0, 0, 0, 0, 0, 0, 0, 0, 0, 0, 0, 0, 0, 0, 0, 0, 0, 0, 0, 0, 0, 0, 0, 0, 0, 0, 0, 0, 0, 0, 0, 0, 0, 0, 0, 0, 0, 0, 0, 0, 0, 0, 0, 0, 0, 0, 0, 0, 0, 0, 0, 0, 0, 0, 0, 0, 0, 0, 0, 0, 0, 0, 0, 0, 0, 0, 0, 0, 0, 0, 0, 0, 0, 0, 0, 0, 0, 0, 0, 0, 0, 0, 0, 0, 0, 0, 0, 0, 0, 0, 0, 0, 0, 0, 0, 0, 0, 0, 0, 0, 0, 0, 0, 0, 0, 0, 0, 0, 0, 0, 0, 0, 0, 0, 0, 0, 0, 0, 1, 0, 0, 0, 0, 0, 0, 0, 0, 0, 0, 0, 0, 0, 0, 0, 0, 0, 0, 0, 0, 0, 0, 0, 0, 0, 0, 0, 0, 0, 0, 0, 1, 0, 0, 0, 0, 0, 0, 0, 0, 0, 0, 0, 0, 0, 0, 0, 0, 0, 0, 0, 0, 0, 0, 0, 0, 1, 0, 0, 0, 0, 0, 0, 0, 0, 0, 0, 0, 0, 0, 0, 0, 0, 0, 0, 0, 0, 0, 0, 0, 0, 0, 0, 0, 0, 0, 0, 0, 0, 0, 0, 0, 0, 0, 0, 0, 0, 0, 0, 0, 0, 0, 0, 0, 0, 0, 0, 0, 0, 0, 0, 0, 0, 0, 0, 0, 0, 0, 0, 0, 0, 0, 0, 0, 0, 0, 0, 0, 0, 0, 0, 0, 0, 0, 1, 0, 0, 0, 0, 0, 0, 0, 0, 0, 0, 0, 0, 0, 0, 0, 0, 0, 0, 0, 1, 1, 0, 1, 1, 0, 0, 1, 1, 0, 0, 0, 0, 1, 0, 0, 1, 1, 1, 0, 1, 0, 1, 1, 1, 0, 0, 0, 1, 0, 0, 0, 0, 0, 0, 0, 0, 0, 0, 0, 0, 0, 0, 1, 0, 0, 0, 0, 0, 0, 0, 0, 0, 0, 0, 0, 0, 0, 0, 0, 0, 0, 0, 0, 0, 0, 0, 0, 0, 0, 0, 0, 0, 0, 0, 0, 0, 0, 0, 0, 1, 0, 0, 0, 0, 0, 0, 0, 0, 0, 0, 0, 0, 0, 0, 0, 0, 0, 0, 0, 0, 0, 0, 0, 0, 0, 0, 0, 0, 0, 0, 0, 0, 0, 0, 0, 0, 0, 0, 0, 0, 0, 0, 0, 0, 0, 0, 0, 0, 0, 0, 0, 0, 0, 0, 0, 0, 0, 0, 0, 0, 0, 0, 0, 0, 0, 0, 0, 0, 0, 0, 0, 0, 0, 0, 0, 0, 0, 0, 0, 0, 0, 0, 1, 0, 0, 0, 0, 0, 0, 0, 0, 0, 0, 0, 0, 0, 0, 0, 0, 0, 0, 0, 0, 0, 0, 0, 0, 0, 0, 0, 0, 0, 0, 0, 0, 0, 0, 0, 0, 0, 0, 0, 0, 0, 0, 0, 0, 0, 0, 0, 0, 0, 0, 0, 0, 0, 0, 0, 0, 0, 1, 0, 0, 0, 0, 0, 0, 0, 0, 0, 0, 0, 0, 0, 0, 0, 0, 0, 0, 0, 0, 0, 0, 0, 0, 0, 0, 0, 0, 0, 0, 0, 0, 0, 0, 0, 0, 0, 0, 0, 0, 0, 0, 0, 0, 0, 0, 0, 0, 0, 0, 0, 0, 0, 0, 0, 0, 0, 0, 0, 0, 0, 0, 0, 0, 0, 0, 0, 0, 0, 0, 0, 0, 0, 0, 0, 0, 0, 0], \"coloraxis\": \"coloraxis\", \"opacity\": 0.7, \"symbol\": \"circle\"}, \"mode\": \"markers\", \"name\": \"\", \"scene\": \"scene\", \"showlegend\": false, \"type\": \"scatter3d\", \"x\": [0.025019215419888496, -8.011109352111816, 12.353310585021973, 3.2955751419067383, 13.584808349609375, 3.8461503982543945, -7.280749320983887, 8.098182678222656, -0.03370917961001396, -5.513598918914795, 7.849707126617432, 17.938215255737305, 0.12705062329769135, 6.641427516937256, 8.761913299560547, 8.226644515991211, 0.17682123184204102, -14.646194458007812, 11.572258949279785, 3.3517346382141113, 3.352989912033081, 3.1398324966430664, 8.17585563659668, 0.32879677414894104, 7.099067211151123, 1.4055811166763306, 16.52805519104004, -3.5436267852783203, 7.3040947914123535, 10.56602954864502, -0.9898661971092224, -4.274351596832275, 3.328476667404175, 7.354427337646484, -4.454423904418945, 1.5787392854690552, 2.524986743927002, -3.660031318664551, 3.2927534580230713, 5.310563087463379, -16.21762466430664, 7.931887626647949, -11.642243385314941, 7.9264817237854, 8.665003776550293, 7.629415988922119, 7.694555282592773, -0.0137047553434968, 17.589378356933594, -15.344257354736328, 4.475902557373047, 10.237991333007812, -5.825437545776367, 7.745141506195068, 3.9269652366638184, -0.14956578612327576, 0.4039476811885834, -3.0249130725860596, 7.289690971374512, 13.668035507202148, -5.0215373039245605, -9.922553062438965, 13.018291473388672, 7.822551250457764, -14.9879732131958, 7.042673110961914, -13.089475631713867, -14.993762969970703, 16.456096649169922, 7.3862128257751465, 13.01379680633545, 6.869480609893799, 3.4527981281280518, 3.149507761001587, 1.3876776695251465, 1.107741117477417, 14.751502990722656, 10.498795509338379, -1.7170621156692505, -1.8159196376800537, -2.0723025798797607, 2.0858631134033203, 11.747307777404785, -9.899338722229004, -7.780775547027588, -5.145842552185059, -12.285484313964844, -12.886102676391602, -6.7129902839660645, 4.500901222229004, 1.5546404123306274, 6.454516887664795, -10.717999458312988, -8.074999809265137, -2.5174968242645264, 13.384173393249512, -8.875699043273926, -6.824929237365723, -6.095328330993652, 13.743677139282227, 3.432391881942749, -14.493152618408203, -6.567492961883545, -7.461732864379883, 12.689119338989258, -5.384011745452881, -12.018049240112305, -9.824372291564941, 1.399412989616394, 9.307122230529785, 4.682981967926025, 4.353784084320068, 5.167181015014648, -0.2246309369802475, 14.454338073730469, 2.872159957885742, -10.345464706420898, -7.982515811920166, 3.074690818786621, -8.158175468444824, 2.3066561222076416, -4.989591121673584, -10.871735572814941, -14.129742622375488, -6.776194095611572, -7.727377891540527, -3.250962734222412, 4.792733192443848, -7.745827674865723, -7.75489616394043, -5.51909065246582, -8.54557991027832, 4.5432891845703125, -6.4088263511657715, -14.853468894958496, -1.2121162414550781, 11.52797794342041, 3.754786491394043, -6.558345794677734, -4.408268928527832, 3.9416322708129883, 3.7886955738067627, -6.931967735290527, 13.190530776977539, -8.75586223602295, -4.02055025100708, 7.823397636413574, -13.49471664428711, -6.762436389923096, -9.599287033081055, 5.377674102783203, 0.9724360704421997, -5.979129791259766, -7.376454830169678, 2.8163466453552246, -9.640616416931152, -15.72847843170166, -15.397446632385254, -0.29482752084732056, 3.566155433654785, -9.787344932556152, -4.0332794189453125, 2.30637526512146, -1.8703255653381348, 4.658670425415039, -15.747933387756348, 3.4180474281311035, 11.63949203491211, 11.958612442016602, -8.432887077331543, -12.367419242858887, -5.77077579498291, 7.193964004516602, 12.454574584960938, -4.0671916007995605, -13.809416770935059, 5.07834529876709, 11.995630264282227, -6.181464195251465, 4.429778575897217, -6.242590427398682, 9.519096374511719, -3.9908571243286133, 13.715248107910156, 12.449522972106934, -9.640462875366211, 9.731935501098633, -5.86329984664917, -2.349958658218384, 1.3812193870544434, -13.98615837097168, 14.145210266113281, 6.585989952087402, 13.621688842773438, -13.58888053894043, -8.720377922058105, -7.202263832092285, -9.65034294128418, 4.178089618682861, -6.0389018058776855, -4.125170707702637, -5.095789432525635, -3.787174940109253, 12.44138240814209, 13.091156005859375, -3.771620512008667, -1.9255890846252441, -4.678264141082764, 8.603215217590332, -4.8899970054626465, -4.650863170623779, 11.84934139251709, 9.760015487670898, 3.921421527862549, -4.958574295043945, -6.146136283874512, -5.643739700317383, 11.883225440979004, 11.95803165435791, -2.8797197341918945, 13.47515869140625, -9.770830154418945, 13.038187980651855, 0.41737449169158936, -13.569409370422363, -0.9652778506278992, -13.465837478637695, -2.646559715270996, -15.529744148254395, 12.080490112304688, -8.66397762298584, -11.072644233703613, 4.453741550445557, 3.9391140937805176, -7.488539218902588, -9.868622779846191, -4.773585796356201, 0.757961094379425, 5.1326494216918945, 11.091392517089844, -5.110749244689941, -7.721346855163574, 10.532462120056152, -10.910551071166992, 8.467058181762695, -13.814038276672363, -1.8464821577072144, 0.8076998591423035, -13.606993675231934, 9.401893615722656, -4.795098304748535, -4.4246721267700195, 6.77387809753418, -4.495117664337158, -5.0967888832092285, -0.20094919204711914, -0.8801811933517456, -11.283269882202148, 12.49314022064209, -8.321657180786133, 10.57964038848877, -5.285680294036865, 13.239618301391602, -6.048768520355225, -5.09005880355835, -10.775348663330078, 4.809250354766846, -12.021215438842773, 1.5970772504806519, -8.749343872070312, -9.017415046691895, -3.290692090988159, 0.4067092537879944, 9.939960479736328, 4.013587474822998, -8.824139595031738, 12.395541191101074, 14.32298469543457, -9.747666358947754, -2.4995901584625244, -13.234051704406738, 9.90147876739502, -4.127216339111328, 0.7388114333152771, 14.313084602355957, -11.424676895141602, -10.692275047302246, -9.370542526245117, -12.55864143371582, 3.2776007652282715, 5.200580596923828, -10.184432029724121, -11.80197811126709, -11.871253967285156, -10.111043930053711, 3.983323574066162, 7.434722900390625, -1.8386619091033936, -9.886738777160645, -0.35702264308929443, -4.251644134521484, -10.1846923828125, 11.061412811279297, 7.879193305969238, 7.999587535858154, 1.6726601123809814, -8.615995407104492, 1.542186975479126, -15.266298294067383, 12.822274208068848, 12.057271957397461, -13.915181159973145, 10.17300796508789, 10.685856819152832, -8.57767105102539, 0.9501350522041321, -8.20746898651123, -8.880356788635254, 1.0475318431854248, -3.60194730758667, -5.11136531829834, -0.3679884970188141, 5.840994358062744, -5.064034461975098, 1.6516194343566895, 1.371241569519043, 5.263906955718994, 5.869053363800049, 10.394301414489746, 6.982017993927002, -12.12879467010498, 12.875750541687012, -7.512452602386475, -9.462126731872559, -13.236032485961914, 13.541474342346191, -7.935042858123779, -1.6301604509353638, 9.485990524291992, 13.079571723937988, -1.054978609085083, -4.509821891784668, 2.8422467708587646, -7.711521148681641, 7.615406036376953, 11.056702613830566, -5.679365158081055, -16.402179718017578, 4.457249164581299, 13.132135391235352, -3.4635369777679443, -0.6013034582138062, -7.499489784240723, -3.5401058197021484, -10.666814804077148, -4.674044132232666, -5.724417686462402, -8.57925796508789, 13.578600883483887, 2.6749343872070312, -7.6381025314331055, -8.224262237548828, -2.528414726257324, -13.866959571838379, 5.210368633270264, 2.133430004119873, 9.95207405090332, -10.435525894165039, -11.716379165649414, -10.120388984680176, -11.812689781188965, -5.275104999542236, 15.044563293457031, 11.186147689819336, 5.789140701293945, -13.607463836669922, 2.1279871463775635, 7.2332353591918945, -3.181267261505127, 3.0492451190948486, 4.62790584564209, -3.6560637950897217, 2.5898780822753906, -3.0304195880889893, -7.950718402862549, -8.283611297607422, -11.665169715881348, -10.470945358276367, -5.4306111335754395, 5.059196949005127, -12.824485778808594, -9.173856735229492, 0.4185826778411865, 0.44347548484802246, -7.29249382019043, -3.37628436088562, -5.247413635253906, 8.377130508422852, 1.7243863344192505, -2.545128345489502, -7.84323787689209, -12.090248107910156, -13.504523277282715, -3.8481056690216064, 8.558496475219727, -11.18106460571289, 13.278603553771973, -2.6866815090179443, 2.7996671199798584, -7.3046441078186035, -11.192225456237793, 2.6287693977355957, 11.892206192016602, 1.6055208444595337, -10.207231521606445, -11.399023056030273, -14.004621505737305, -8.190500259399414, 5.4197163581848145, 11.34807014465332, 5.212785243988037, -11.388040542602539, -10.077731132507324, -8.005705833435059, 12.474626541137695, -13.969841003417969, -8.404658317565918, 7.541790962219238, 2.391706943511963, 14.470667839050293, 2.9186885356903076, -8.747651100158691, -9.874706268310547, 7.0524749755859375, 8.673788070678711, -6.610983848571777, -10.19778823852539, 14.019760131835938, 0.9696337580680847, 13.757867813110352, -4.94463586807251, -1.1323013305664062, 13.97131633758545, 15.26681900024414, -6.3012309074401855, 5.3312273025512695, 11.376138687133789, -9.149458885192871, 9.61620807647705, 9.526053428649902, -12.22984504699707, 12.29195499420166, -13.70476245880127, 1.9368566274642944, 5.7870869636535645, -3.157466173171997, -3.6250112056732178, 11.256203651428223, -1.1465725898742676, -2.0208206176757812, -8.065143585205078, 13.902806282043457, -11.50942325592041, -3.9262912273406982, -1.2380540370941162, 1.3321685791015625, 1.4704668521881104, 11.357806205749512, -15.492271423339844, 11.984850883483887, 1.3906549215316772, -9.959734916687012, -12.157434463500977, -1.0651733875274658, -13.237993240356445, -13.218330383300781, -8.376805305480957, 7.756930351257324, -0.12308020889759064, -10.052657127380371, -14.616214752197266, -10.930167198181152, 8.691844940185547, 13.656027793884277, -9.869669914245605, 14.47714900970459, -5.651648998260498, 2.7883315086364746, -0.884970486164093, 11.350625991821289, 1.2834094762802124, 4.6968584060668945, 9.171154022216797, 10.822687149047852, 11.096490859985352, 8.327835083007812, -8.052865982055664, 3.8863179683685303, -7.7224440574646, 4.624406814575195, -6.900791168212891, -2.9372739791870117, 2.2104578018188477, -6.454908847808838, 1.9929691553115845, 11.110516548156738, -0.6109102368354797, -15.281336784362793, 3.6112630367279053, 10.168050765991211, 14.818584442138672, -15.568778991699219, -9.219050407409668, 12.27944278717041, -2.0268542766571045, -10.512211799621582, -6.020802021026611, -1.1207191944122314, -3.435177803039551, -9.030890464782715, 5.043747425079346, 11.322455406188965, 10.988099098205566, 10.360732078552246, 12.717341423034668, -11.48590087890625, -3.5603339672088623, -10.378459930419922, -3.9103894233703613, 1.717933177947998, -6.654937267303467, 9.776252746582031, 2.863556385040283, -11.111021995544434, 4.6372904777526855, 11.69803524017334, -4.072101593017578, 13.359048843383789, -0.3207531273365021, -8.846444129943848, -3.6110470294952393, 5.949583530426025, -11.324713706970215, -6.670207500457764, -16.525070190429688, 2.7237818241119385, -4.62554407119751, 5.788817405700684, 8.47301959991455, -4.397259712219238, -9.47770881652832, -0.071602463722229, 14.899611473083496, -0.25567859411239624, -8.661026000976562, -6.443813323974609, 2.690516471862793, 1.722524881362915, 5.307588577270508, -0.10528283566236496, 15.498971939086914, 11.924047470092773, -9.149250984191895, 7.915573596954346, -9.86485481262207, -2.4878296852111816, -14.42655086517334, -2.9643359184265137, 9.618788719177246, 6.735593795776367, 0.9726524353027344, 5.578435897827148, 8.465777397155762, 13.473551750183105, -6.06760311126709, 12.685747146606445, -8.854748725891113, -12.528463363647461, 0.4975394606590271, 3.079843759536743, 4.283814430236816, 2.2639780044555664, 11.486640930175781, -8.056260108947754, -15.338808059692383, -2.161719799041748, 1.0506470203399658, -13.012218475341797, -12.66252613067627, 9.95976448059082, -12.030056953430176, -12.397705078125, -0.23960697650909424, 8.792787551879883, -2.720466375350952, -6.361253261566162, 6.8678717613220215, 9.654276847839355, 7.755459308624268, 14.946354866027832, 3.260826826095581, -4.290008544921875, 10.486631393432617, -8.438748359680176, 7.027062892913818, -6.564700603485107, 6.643163681030273, 12.891660690307617, -8.723611831665039, -4.515907287597656, 10.8148832321167, 4.457655429840088, 5.115354537963867, 0.17663557827472687, -3.900542736053467, -10.165708541870117, -6.568119525909424, -6.942867755889893, -7.6596360206604, 1.290381669998169, -1.8909587860107422, -6.865911483764648, -5.067373275756836, -2.899170160293579, 10.672553062438965, 10.473623275756836, -9.778098106384277, 14.894241333007812, -3.841716766357422, -3.471022605895996, -4.358077049255371, -10.21827507019043, -0.24186213314533234, 11.513249397277832, 4.507843971252441, -0.14233770966529846, 5.0145673751831055, -2.42325496673584, 6.054103374481201, -3.6444106101989746, 12.886821746826172, -4.642664432525635, -8.703184127807617, 3.1644206047058105, 11.89509391784668, 2.683739185333252, 12.085104942321777, -1.426025629043579, 8.789396286010742, -0.09515506029129028, -13.43239688873291, -13.967085838317871, -4.041492462158203, 3.621751308441162, -14.388289451599121, -4.526012420654297, 13.10479736328125, -0.08812563866376877, -9.40104866027832, 9.86387825012207, 11.727171897888184, -6.155902862548828, -1.22031569480896, 0.035979729145765305, 6.086819171905518, -4.831657886505127, 3.0020697116851807, -6.008963108062744, -9.66430950164795, -14.285575866699219, -3.875656843185425, -4.76892614364624, -6.219926357269287, -4.299517631530762, 4.408457279205322, -10.311799049377441, -5.205392360687256, 4.097588539123535, 6.72750997543335, -6.5997395515441895, 11.419418334960938, -12.239596366882324, -1.201205849647522, 6.942927360534668, -8.650395393371582, -14.281143188476562, -4.23967981338501, -16.376972198486328, 6.893843173980713, 11.83080768585205, 10.712008476257324, 11.536953926086426, 11.965075492858887, -5.3358564376831055, 5.334705352783203, 2.227579355239868, 2.158036947250366, -0.7988249659538269, -0.7440176606178284, 9.89687442779541, -6.118859767913818, -7.33437967300415, 6.676239013671875, 7.279567718505859, -3.234825849533081, -1.0933949947357178, 6.9832444190979, 14.491107940673828, -1.0334527492523193, 8.36728286743164, 7.29240608215332, -14.957833290100098, -9.510589599609375, 1.3178985118865967, 2.101181745529175, 1.9698971509933472, 3.7980427742004395, 7.232429504394531, 2.0988473892211914, -12.654769897460938, 11.64520263671875, -12.356931686401367, -4.759145736694336, 10.176947593688965, -1.3701001405715942, 3.3728156089782715, 9.563490867614746, 1.4463425874710083, 5.029417037963867, 5.142422676086426, -4.915477275848389, 15.644344329833984, -3.6300816535949707, -8.125752449035645, -3.751366138458252, 6.684203147888184, 3.385481119155884, -0.20818226039409637, -1.8367798328399658, 11.589377403259277, -9.109291076660156, 1.4973933696746826, 0.4802711606025696, 10.632698059082031, 1.846592664718628, -1.3994712829589844, 1.73734712600708, 4.570912837982178, 11.420239448547363, 11.94677734375, -7.691974639892578, 14.835161209106445, -2.0882880687713623, -13.475532531738281, -13.501434326171875, 12.49303913116455, -1.796655535697937, -5.6173787117004395, 12.125988006591797, -15.610445976257324, 13.079034805297852, -6.116867542266846, -12.954011917114258, -14.70453929901123, 0.9046248197555542, -10.409884452819824, -11.194952964782715, 14.88143539428711, -8.559589385986328, 14.907057762145996, -1.7782419919967651, 0.013250084593892097, -1.091750979423523, -8.717945098876953, 0.4796251356601715, -13.048563003540039, -3.825124740600586, -6.349862098693848, -0.14528797566890717, -0.5498435497283936, 1.5098298788070679, -10.542837142944336, -5.722775459289551, 5.0922980308532715, 0.395442396402359, 12.562435150146484, -6.439288139343262, 4.500176429748535, -1.421818733215332, -0.9025066494941711, 8.246822357177734, -0.4820462167263031, 11.772993087768555, 1.718874454498291, -12.699385643005371, -4.135390758514404, -11.148892402648926, 10.126428604125977, 1.5681421756744385, -13.118134498596191, -6.2729411125183105, -2.654728651046753, -3.6482441425323486, -7.148172855377197, 11.707700729370117, -15.258768081665039, -10.138753890991211, -6.32664155960083, 4.246894359588623, -11.10890007019043, 13.42613697052002, 9.56171989440918, 1.4435282945632935, 4.490421772003174, -5.486257553100586, 9.529417037963867, -7.280847072601318, 9.918030738830566, 5.509727478027344, 5.48298454284668, 7.915635585784912, 10.236599922180176, -2.39402174949646, -4.6606645584106445, -9.23419189453125, -10.064725875854492, 4.4069294929504395, -0.8350375294685364, 0.6736597418785095, 10.840134620666504, -6.356053829193115, 2.285003900527954, 12.961760520935059, 9.377368927001953, 11.189427375793457, 6.644253730773926, 15.908954620361328, 13.693467140197754, 7.894021987915039, -9.146790504455566, 1.8632402420043945, -7.208337306976318, 5.159477233886719, -10.065312385559082, -10.045492172241211, 3.86513090133667, -6.75748872756958, 1.6966148614883423, 4.90830135345459, -7.0227766036987305, 2.8366165161132812, 5.316208362579346, -8.068401336669922, 2.1137707233428955, -4.7826361656188965, -9.058237075805664, -5.128694534301758, 3.0062873363494873, -0.8665597438812256, 11.77774715423584, 3.328141212463379, -0.8993016481399536, 0.08858983218669891, 1.904167890548706, -8.800970077514648, 3.9740285873413086, -8.259378433227539, -0.9248015284538269, 6.631587505340576, 3.887601137161255, 9.679798126220703, -9.787986755371094, -12.272226333618164, 4.877458095550537, -2.6451518535614014, -13.246024131774902, -7.025874137878418, -7.650219440460205, 1.146661400794983, 12.376423835754395, 4.679959774017334, 3.636643886566162, -4.757936954498291, 7.10801362991333, 8.495278358459473, 5.0895586013793945, -0.2115202695131302, -10.969725608825684, -0.5777172446250916, 8.905027389526367, 13.17469310760498, 12.075749397277832, 11.536341667175293, -3.978220224380493, 13.473167419433594, 1.7874380350112915, -0.8506002426147461, -13.86022663116455, -4.017694473266602, -6.947786808013916, -9.228264808654785, -5.674070835113525, -12.06607723236084, 10.375666618347168, 1.8458200693130493, 12.169371604919434, 7.543416500091553, -3.836782693862915, 11.180319786071777, 0.29996562004089355, -12.0034818649292, -12.78097915649414, -10.823980331420898, 0.9402685165405273, 11.061710357666016, 15.067809104919434, 0.7168893814086914, -11.156142234802246, 3.548623561859131, 6.197204113006592, 4.66264533996582, 4.621376037597656, -7.031890392303467, -1.6098955869674683, -8.319977760314941, 5.707568168640137, -3.958937406539917, 0.6104397177696228, -9.6839017868042, -9.065032958984375, 15.291998863220215, -9.910422325134277, -12.041707992553711, 11.0656099319458, 7.79194450378418, 13.935664176940918, -9.150656700134277, 13.085917472839355, -6.746300220489502, 7.699638843536377, 13.337287902832031, -5.716240882873535, -1.6246862411499023, 3.148697853088379, 1.2875723838806152, 11.700844764709473, 1.0504683256149292, 0.12216009944677353, -9.62655258178711, -4.714410781860352, -0.5869050025939941, -2.822550058364868, 9.66325569152832, 5.096770763397217, -9.901683807373047, -13.97356128692627, 5.412046909332275, 9.113216400146484, 9.40727710723877, -6.54530668258667, -12.389983177185059, -11.621186256408691, 11.559399604797363, -0.5039992332458496, 0.24591249227523804, -15.968981742858887, -11.393853187561035, -0.19604142010211945, 10.433732986450195, -7.70033073425293, 11.715054512023926, 3.0462021827697754, -1.5055885314941406, 15.123251914978027, -1.9046522378921509, -11.245494842529297, -10.469040870666504, 12.294921875, -3.529766082763672, 4.675541877746582, 10.77431583404541, 3.6309285163879395, -2.6359591484069824, -9.083901405334473, 12.175026893615723, -12.559368133544922, -7.2696003913879395, 7.606583118438721, 6.073657989501953, 14.97121810913086, 4.151311874389648, 1.549093246459961, 3.001802682876587, 13.132281303405762, 11.353803634643555, -0.003879894269630313, -9.280723571777344, -1.4903699159622192, 6.813185691833496, 15.780659675598145], \"y\": [0.43503209948539734, -1.4151686429977417, 1.2416802644729614, 4.063296794891357, 8.124123573303223, 1.659718632698059, -7.116661071777344, 3.9773340225219727, -4.050688743591309, -0.7178081274032593, 1.5078827142715454, 4.371784687042236, 1.1977293491363525, 6.879166126251221, 1.5838024616241455, 9.592582702636719, 1.1863282918930054, 0.28976476192474365, -0.17364229261875153, 5.420501708984375, 1.865015983581543, 2.9249894618988037, 6.67275857925415, -3.3928258419036865, -1.053970217704773, 5.640308856964111, 3.9967997074127197, -6.711702823638916, 8.460522651672363, 3.6041786670684814, -5.64934778213501, -0.9618479013442993, 4.692529201507568, 1.7978240251541138, -6.743986129760742, 4.191291332244873, 5.721002578735352, -7.1288604736328125, 2.3072853088378906, 2.2513856887817383, -6.28898811340332, 4.325547218322754, -3.6331748962402344, -1.294964075088501, 3.677568197250366, 9.858180046081543, 3.705451250076294, -3.469696283340454, 4.296912670135498, -2.3149726390838623, 3.4966256618499756, -1.458717942237854, -7.592835903167725, 9.666237831115723, -0.018223125487565994, -4.12687873840332, -2.1167829036712646, -4.753203392028809, 2.126863956451416, 1.187101125717163, -4.32351016998291, 0.0006756219081580639, 8.64775276184082, 4.2438859939575195, -1.6563578844070435, 4.166709899902344, -9.036149024963379, 0.6973500847816467, 4.565668106079102, -1.6030914783477783, 5.842101573944092, 4.988980293273926, 0.7092314958572388, 2.4003095626831055, 4.883540630340576, -3.0832645893096924, 4.541318416595459, 5.483428955078125, 1.9679161310195923, -2.0622479915618896, -1.8013135194778442, -1.7330526113510132, 7.188199043273926, 0.7616434097290039, -4.425482749938965, 1.4940433502197266, -4.267791748046875, -3.2117340564727783, -0.7652247548103333, -1.891023874282837, 1.8037450313568115, 1.374083161354065, -2.546184778213501, -7.124537467956543, -3.6472597122192383, 7.93989896774292, -8.857268333435059, 2.071823835372925, -3.9959444999694824, 5.14253568649292, -0.20085415244102478, -4.031108856201172, 1.6467761993408203, -8.130215644836426, 9.431105613708496, -4.135744094848633, 1.0745762586593628, 2.795846462249756, 4.850071907043457, 5.411411285400391, -2.926621198654175, 0.6577815413475037, -0.6864609718322754, -3.7361505031585693, 5.006581783294678, -2.6735758781433105, -9.171528816223145, -7.381319522857666, 2.7264046669006348, -4.1206769943237305, -2.7770423889160156, 0.15103347599506378, 3.6233997344970703, -3.1356139183044434, 4.968461036682129, -0.19166789948940277, -3.9710800647735596, 3.6440935134887695, -3.498270034790039, 0.8863764405250549, -2.3086130619049072, -8.71435260772705, 4.519298553466797, -5.326292514801025, -4.616917610168457, -2.378796339035034, 6.365762710571289, 5.51553201675415, -1.1105748414993286, -0.7834346294403076, 2.602686882019043, -3.4075849056243896, -7.822337627410889, 7.1972503662109375, -5.251812934875488, -2.408743381500244, 1.2981553077697754, -6.124645709991455, -1.426628828048706, 1.9461965560913086, -3.0087974071502686, -1.1681833267211914, 4.637364387512207, -7.9763102531433105, 2.2256522178649902, -8.094300270080566, -1.9167202711105347, -4.252662658691406, 2.8151354789733887, 0.34965696930885315, -8.11538028717041, -4.865206241607666, 0.7590258717536926, 0.7001177668571472, 1.7068811655044556, -3.9080963134765625, 3.3180391788482666, 3.9011991024017334, 2.638122081756592, 5.105587005615234, 0.2713809609413147, 2.6449668407440186, -0.8087701797485352, 4.511892318725586, 2.98138427734375, -3.132312297821045, -0.1994796246290207, 3.5898728370666504, -1.5471032857894897, 5.611983299255371, 1.7167657613754272, -1.046289086341858, -0.6149170994758606, 4.4927544593811035, 3.7844507694244385, -8.982414245605469, 2.7003815174102783, -2.9306511878967285, -2.5399677753448486, -1.4203819036483765, -5.503390789031982, 7.054924964904785, 1.8760594129562378, 4.235754013061523, -7.016358852386475, -6.799647331237793, 1.695478081703186, 4.165597438812256, -1.572959065437317, 4.614141464233398, -1.2875231504440308, -0.22255678474903107, -4.817674160003662, 7.407135009765625, 2.8093788623809814, -1.1478943824768066, -3.230771780014038, -1.2970436811447144, -1.1120346784591675, -3.1887896060943604, 3.1206555366516113, 2.652805805206299, 6.566171169281006, -2.384204864501953, 0.22252601385116577, 0.31786048412323, -2.621554136276245, 5.170971870422363, 7.96647310256958, -1.1287789344787598, 2.624568223953247, 0.7463653087615967, 6.409107208251953, 3.915126323699951, -6.186564922332764, -3.6171810626983643, -3.400238275527954, -0.9913737177848816, -5.116388320922852, -1.0270997285842896, -6.2255778312683105, -2.7401368618011475, 4.616827487945557, 5.524537086486816, -7.106529235839844, 1.101796269416809, -3.228342056274414, -2.219294548034668, 3.7541749477386475, 3.275916337966919, -1.1116923093795776, 4.192415237426758, 2.9438936710357666, -3.423872232437134, 3.624394416809082, -5.541068077087402, -2.727112054824829, 1.2980515956878662, -3.8650379180908203, 6.703917980194092, -6.583682060241699, 1.1510382890701294, 4.796353340148926, -4.758296012878418, -3.737699270248413, -1.6499990224838257, 0.08517865091562271, -5.002725124359131, -0.4359482526779175, -5.172120571136475, 4.035270690917969, -4.417281627655029, 6.666503429412842, 2.505500078201294, -8.0441255569458, -3.059708595275879, 6.059081554412842, -6.890707492828369, 4.844688892364502, 5.580646991729736, 2.951078176498413, -2.808061122894287, -1.3762192726135254, 3.4574477672576904, 0.7436191439628601, -5.052857875823975, 6.99166202545166, 7.018950462341309, 2.0613467693328857, -2.7622733116149902, -3.7649996280670166, 3.5463082790374756, -1.9379693269729614, -3.373049736022949, 4.5556206703186035, 2.0623888969421387, -2.2222394943237305, 0.4916324317455292, -4.718956470489502, -1.6693780422210693, -2.9526264667510986, 1.740471601486206, 1.139711856842041, 1.0113428831100464, 0.9709513187408447, 0.8324384093284607, 1.1668988466262817, -0.17068809270858765, 2.1745197772979736, 1.0398253202438354, 1.03449547290802, -6.473599433898926, 5.907540321350098, 4.119426727294922, 0.8799453377723694, 2.409339427947998, 2.9912636280059814, 1.073621392250061, -6.217036724090576, 3.6660380363464355, 3.0733861923217773, -7.458020210266113, -1.163642406463623, 3.498027801513672, -0.783838152885437, 0.18458501994609833, 4.965829849243164, -4.789633750915527, 2.664219856262207, -4.25345516204834, 1.223631739616394, 0.2074214220046997, 5.244576930999756, -0.6762227416038513, -2.985682249069214, 1.8303227424621582, 6.702158451080322, 5.654242038726807, 3.6450624465942383, 0.9953666925430298, -7.264880657196045, 5.315977096557617, -4.471151351928711, -9.509110450744629, -2.815586805343628, 4.386275291442871, -0.02673032507300377, -2.06478214263916, 2.994892120361328, 3.7706592082977295, -1.220631718635559, -0.727422297000885, 2.679119110107422, -7.36433744430542, 4.2363433837890625, 5.266158103942871, -5.3401618003845215, -6.465041160583496, 3.144955635070801, 5.362313270568848, 1.2976837158203125, -1.2961640357971191, -5.40757942199707, -2.7545595169067383, -2.2371389865875244, -0.24527910351753235, -6.29760217666626, -0.2518300712108612, 7.884220123291016, 4.005926609039307, -0.24139925837516785, 1.9024147987365723, -3.4919962882995605, -5.493286609649658, 4.227624893188477, 0.6471830010414124, 7.286912441253662, -8.174635887145996, -5.2143964767456055, 2.7584195137023926, -2.4402358531951904, -0.9996592998504639, 5.586709499359131, 2.1325600147247314, 5.248198986053467, -1.9612475633621216, 3.29776930809021, 1.7008305788040161, -3.9079012870788574, -3.7644429206848145, 1.594154715538025, -1.3007148504257202, 4.760586261749268, 1.3119325637817383, 0.29042020440101624, -8.98293399810791, 1.223679780960083, 1.61326003074646, 4.002310276031494, 0.3210429251194, -1.5838900804519653, -9.412219047546387, 0.52125084400177, -1.8035271167755127, -5.797064781188965, -2.7848002910614014, -4.024543762207031, 4.004500865936279, 2.3633248805999756, -3.3447377681732178, -3.907667875289917, -0.0883813351392746, -7.515225887298584, -0.6856236457824707, 5.84415340423584, -7.178854942321777, 2.3650565147399902, -1.4690594673156738, -0.5474749803543091, 4.132176876068115, -0.9853615760803223, -2.363454580307007, 9.218009948730469, 1.5515220165252686, 1.3366079330444336, -3.137535810470581, -1.9856959581375122, -3.0068700313568115, 5.479464054107666, 5.202185153961182, 0.3968181610107422, 1.8638919591903687, 0.9428027868270874, -1.7724064588546753, 2.927183151245117, -4.861743450164795, -6.236664772033691, 1.040816307067871, 0.19013945758342743, 4.4507317543029785, -2.450709581375122, -8.37695026397705, 0.20856912434101105, 2.949495792388916, 6.631258010864258, 2.481755495071411, -5.591573238372803, 5.596573352813721, 4.198902130126953, 2.5977044105529785, -3.6048097610473633, 1.3320674896240234, 3.682677984237671, 6.46151065826416, -1.2873432636260986, -0.6848278045654297, 5.9353485107421875, -6.156872272491455, 5.401422500610352, -0.755827784538269, -0.7019327282905579, 6.19136381149292, -3.003450393676758, 2.288398265838623, -0.03771660104393959, -3.972428321838379, 4.495443344116211, 5.632547855377197, 2.2246694564819336, 1.5087674856185913, 0.6376592516899109, 3.5256874561309814, -3.9250261783599854, 1.0087900161743164, -2.0858652591705322, 1.7075281143188477, 5.167938232421875, 6.035966873168945, -4.085762977600098, 3.352490186691284, -2.887099266052246, -7.515658855438232, -4.348500728607178, -2.2850401401519775, -1.5160080194473267, -6.82142448425293, -6.12699556350708, 0.6126744747161865, -1.8516148328781128, -2.1684317588806152, -5.363527774810791, 0.017605982720851898, 1.424150824546814, 5.437839031219482, -8.936694145202637, 6.269879341125488, 3.6398184299468994, -0.19502632319927216, -1.7550479173660278, 4.206492900848389, 0.45366111397743225, 0.4392472207546234, -1.1132838726043701, 6.188460350036621, 3.082979202270508, 1.4292539358139038, 4.033426284790039, -0.09137101471424103, -6.523825168609619, -2.0023655891418457, -1.1655217409133911, -6.112979412078857, 2.2254390716552734, -0.3124810457229614, -0.08342020213603973, 4.233506679534912, 3.4473352432250977, -7.085614204406738, -0.05769868195056915, -0.6749551892280579, 6.586540699005127, -4.730047225952148, 3.9248876571655273, 3.6206862926483154, 0.9432592988014221, -6.047848224639893, -7.2019758224487305, 2.9155712127685547, 1.4874989986419678, 3.841780662536621, 0.18473027646541595, 7.018033981323242, -0.21582823991775513, 3.7145297527313232, 8.191455841064453, -9.207075119018555, 1.4562453031539917, -6.429746627807617, 3.1824111938476562, -0.40688398480415344, 1.8399032354354858, 6.408864974975586, 1.2135738134384155, -2.737177848815918, -0.49577757716178894, 2.4391579627990723, -0.2826327383518219, 7.285416603088379, -3.2162749767303467, 5.239465236663818, -0.4043262302875519, 0.24535518884658813, -0.7473717927932739, -2.2672746181488037, -6.164416790008545, 3.0275638103485107, -3.289893865585327, 2.154639720916748, 1.5943145751953125, -2.3069024085998535, -8.152223587036133, -4.002690315246582, 4.609638214111328, 2.8954029083251953, -5.2468647956848145, -0.03364653140306473, 0.2543921172618866, 4.803509712219238, 6.398346424102783, -1.4289580583572388, 6.802928924560547, 8.340478897094727, -5.39343786239624, 0.14718611538410187, -3.107509136199951, -2.0619163513183594, -2.7432892322540283, -5.7588605880737305, 0.7222366333007812, -0.8439265489578247, 0.0680149719119072, -0.41008058190345764, 4.301507472991943, 5.658036708831787, -0.03152938559651375, 4.330016136169434, -3.196347236633301, -3.9312922954559326, -2.6905605792999268, -2.4446678161621094, 0.3633979260921478, -0.7468414902687073, 2.1429615020751953, -3.870293140411377, -6.0192952156066895, -3.380449056625366, 0.004694327712059021, -0.2510138750076294, -7.10919189453125, 7.108778476715088, 0.2183200716972351, -6.657185077667236, -2.4477643966674805, 5.074224948883057, -2.857816219329834, -7.863974094390869, 4.513587474822998, 6.657411098480225, 0.2032725214958191, 5.992180347442627, 3.6367404460906982, -1.0890144109725952, -0.289120614528656, -7.473250389099121, -0.6397766470909119, -1.3581293821334839, 5.396278381347656, 7.128068447113037, -3.749772071838379, 0.7037312388420105, -0.31005704402923584, -1.5976582765579224, 1.1690205335617065, -1.1056748628616333, 0.5233857035636902, -5.83581018447876, 1.6010440587997437, -0.006588230840861797, 4.999410629272461, -0.4186939001083374, -3.7593963146209717, -7.132004737854004, -7.382836818695068, 1.1745456457138062, 3.1882307529449463, 5.410543441772461, -8.241908073425293, 5.790707111358643, -2.092662811279297, 0.9694300889968872, -4.558279037475586, 4.0422868728637695, 4.060378074645996, 7.048947334289551, -1.707383394241333, -3.193624258041382, -0.9446079134941101, -3.659762144088745, -0.2864338457584381, -3.4416732788085938, 2.6246423721313477, -3.2453558444976807, -6.69529914855957, -3.244438409805298, 5.713401794433594, 1.1481338739395142, 2.4249417781829834, -3.772310733795166, 5.817091941833496, -0.2743169963359833, -3.353137969970703, -2.400951385498047, -1.3199998140335083, 3.978633165359497, -3.131226062774658, -0.9959622025489807, 6.007634162902832, -3.296762228012085, 1.3901931047439575, 5.295889377593994, 5.682163238525391, -6.821742057800293, -2.3116164207458496, 0.3867863714694977, 1.1259113550186157, -3.312653064727783, 4.911967754364014, -5.215546607971191, 4.155437469482422, -2.988827705383301, -0.9632845520973206, -0.9526186585426331, -7.060373306274414, -3.7770628929138184, -0.326646089553833, -7.7089524269104, -2.7013635635375977, -0.7716282606124878, 2.4595024585723877, -5.373363494873047, 2.464061975479126, -3.7550458908081055, -1.1568584442138672, -0.8488696813583374, -4.769207954406738, -3.5385091304779053, -3.271991729736328, -6.392824649810791, 1.2053595781326294, 4.376070499420166, 5.738818645477295, 2.154358148574829, 8.650858879089355, 4.031342506408691, 1.1737622022628784, 0.7368307113647461, 2.9687585830688477, -3.722231864929199, 2.3267858028411865, 2.1675586700439453, 1.2207411527633667, -9.133387565612793, 6.867608070373535, 8.487811088562012, -3.801140785217285, -3.904574155807495, 2.824382781982422, 2.465010166168213, -4.020180702209473, -0.9394289255142212, 2.4044482707977295, -3.7357215881347656, 5.160027980804443, 5.794708251953125, -7.582826614379883, -1.4848755598068237, 1.8244081735610962, 9.187841415405273, -7.589210510253906, 1.867486596107483, -0.09132719784975052, -9.236778259277344, 4.302379131317139, -1.5270601511001587, 2.847778081893921, 4.767232418060303, -1.0446321964263916, 0.6404665112495422, 5.767666816711426, 1.9438318014144897, 2.9882936477661133, 5.035380840301514, -3.690962314605713, 4.736636638641357, 4.697112083435059, 0.0821165069937706, -2.4550116062164307, -0.02976030670106411, 0.5054550766944885, 0.41850292682647705, 2.778440475463867, -3.685702085494995, -3.709561347961426, -1.5905429124832153, 2.536306381225586, -0.05801194906234741, -3.368936538696289, -0.2753365933895111, 5.179258346557617, 6.211742877960205, -1.0898791551589966, 5.135274887084961, -3.805360794067383, -7.063274383544922, -4.802432060241699, 3.6934072971343994, -2.208585262298584, -4.2415452003479, 4.1483964920043945, -6.850606918334961, 4.791584491729736, -7.02548360824585, -0.765591561794281, -3.8642613887786865, 0.29890790581703186, -8.001704216003418, -7.279807090759277, 6.574892997741699, -4.982394695281982, 7.549516677856445, -2.208922863006592, -2.773709297180176, -3.7346622943878174, -5.969760894775391, 2.018315315246582, -6.988626003265381, -2.022886037826538, 1.4170626401901245, 4.076782703399658, 2.206024646759033, -2.5288033485412598, -7.7333221435546875, 2.3756184577941895, -2.5608394145965576, 0.8800399899482727, 5.533208847045898, -4.829418182373047, -0.044163137674331665, -1.3310657739639282, -4.637961387634277, 6.205621719360352, -2.2404749393463135, -0.34900566935539246, 3.1702470779418945, -7.75279426574707, 0.16146999597549438, -7.11433744430542, 5.333634853363037, -1.296068549156189, -6.653324127197266, -1.5396686792373657, -1.3012489080429077, 2.2986254692077637, -1.789525032043457, 3.62939190864563, -3.788341999053955, -5.767862319946289, 0.6929590702056885, 2.5653069019317627, -1.8571803569793701, 5.436169624328613, -2.0943446159362793, 3.454730987548828, 0.4735245406627655, 2.3884003162384033, 5.3285369873046875, 1.3315399885177612, 5.505586624145508, -0.11123675107955933, 3.012425661087036, 0.16210800409317017, 3.5715646743774414, 0.18838860094547272, 0.5835406184196472, 3.53369140625, -7.295463562011719, 2.407618522644043, -1.7027637958526611, 1.3648167848587036, 6.332428455352783, -0.32319286465644836, 2.8067398071289062, 7.64260721206665, -1.1558195352554321, 5.872629642486572, -0.7098950743675232, 6.040225982666016, 7.447338104248047, -0.8969103097915649, -6.36562442779541, -1.8301544189453125, -8.072858810424805, 3.499572277069092, 1.6694639921188354, -5.2157416343688965, -0.3635016083717346, 4.13967227935791, -1.600836992263794, -2.2985024452209473, 5.047294616699219, 0.3869587182998657, 1.4140397310256958, -7.102128505706787, -2.253568649291992, 3.6467106342315674, 4.584761619567871, 0.931072473526001, 1.9034210443496704, -2.2632908821105957, -0.7062404155731201, 1.5380287170410156, -2.7219717502593994, -0.5078160762786865, -3.901092052459717, 3.5443615913391113, 5.305172443389893, -7.874610424041748, -4.171472072601318, -0.3555074632167816, -2.6060783863067627, -0.19722576439380646, -7.978707790374756, -4.252084732055664, -1.8954662084579468, -4.553523540496826, -0.05222393572330475, -6.250174045562744, -0.4270412027835846, -3.044421911239624, 2.4333229064941406, -3.504319667816162, 0.706172525882721, -0.9311800003051758, 6.024844646453857, 4.042696952819824, -0.152374267578125, 2.149489402770996, 1.5823391675949097, 0.5221210718154907, -0.7137290835380554, 6.249870777130127, 3.3666977882385254, 3.011244058609009, -0.9695226550102234, 3.8125998973846436, -1.7569807767868042, -2.972682476043701, -4.052385330200195, 3.640867233276367, -2.5010743141174316, 0.5268226861953735, -4.582611083984375, -6.730381011962891, 5.854619026184082, -2.757228374481201, 7.73199462890625, 1.7069370746612549, -1.242679476737976, 2.804896593093872, 3.7661032676696777, 0.2941285967826843, 0.2633035480976105, -2.5361833572387695, 4.857502460479736, 0.28643321990966797, 6.2317914962768555, -2.615532636642456, 3.3936712741851807, 1.3635387420654297, 0.3540976643562317, 0.8950011730194092, 4.793143272399902, -3.8472204208374023, -2.8151299953460693, 5.004112720489502, -3.1600043773651123, -2.164790153503418, -2.2384190559387207, 2.1405091285705566, 4.613893032073975, 7.3020734786987305, -7.5420050621032715, -4.452204704284668, 5.652817726135254, 4.063575267791748, 4.020460605621338, -8.611172676086426, 1.882317066192627, -1.4751956462860107, 0.22800759971141815, 1.849648118019104, -2.62789249420166, 1.0953500270843506, 0.02104801870882511, 1.7760156393051147, 1.5200380086898804, 0.3822706639766693, 0.5947831869125366, 1.7663413286209106, -2.2261650562286377, -1.9019436836242676, -1.313145637512207, 5.405231475830078, 5.194332122802734, 1.6462291479110718, -1.920081377029419, 0.906587541103363, 3.6569619178771973, -1.4205641746520996, -0.13979816436767578, -7.235267162322998, 1.6771708726882935, 3.1981213092803955, 2.3184120655059814, -2.8071787357330322, -4.756289958953857, 0.5782747864723206, 3.126751184463501, 0.9024479389190674, -4.7545390129089355, 7.16589879989624, -1.471433162689209, -1.1006011962890625, 5.960554122924805, -2.6485342979431152, -4.327888488769531, -2.536752223968506, 6.236006736755371, -3.6183040142059326, -0.45086702704429626, 0.15112338960170746, -0.21861223876476288, -0.4970461428165436, -8.369994163513184, 5.905488967895508, -0.0024171581026166677, -0.6234975457191467, 0.37332725524902344, -0.4775906205177307, 6.544454574584961, 1.1956558227539062, 3.495703935623169, 0.9457178115844727, 1.9554578065872192, 2.3068912029266357, -2.3226828575134277, -3.882301092147827, -1.6938426494598389, 2.032142400741577, 5.558202266693115], \"z\": [-5.4830474853515625, 7.420674800872803, -4.512065887451172, 8.222930908203125, -2.9227819442749023, 5.910051345825195, 4.964536666870117, 14.278419494628906, 1.6224899291992188, -12.469964981079102, 15.898497581481934, -0.4528639018535614, 12.26445198059082, -2.0920515060424805, 1.4550920724868774, 7.64619779586792, 12.278539657592773, 3.1213619709014893, -5.129585266113281, 6.818919658660889, 5.164067268371582, -8.999494552612305, -1.4469716548919678, 1.9832547903060913, 5.827188968658447, -7.12429666519165, -1.0426133871078491, 0.1236424446105957, 3.3055286407470703, 8.95244312286377, 0.10500054061412811, 6.0173749923706055, -4.5323967933654785, 2.5058717727661133, -3.405168294906616, -8.911811828613281, 6.156728744506836, 0.1411629617214203, -6.6978440284729, 7.191129207611084, -3.240966796875, 5.264838695526123, -3.7621326446533203, 3.8663878440856934, 3.3957910537719727, 8.150801658630371, 3.332455635070801, 1.6920222043991089, -0.5896246433258057, 0.3605901300907135, 15.596504211425781, -5.763790607452393, -2.1078243255615234, 8.016128540039062, 6.899452209472656, 6.872169494628906, 7.788491249084473, -3.847336530685425, 3.161548376083374, 0.19630281627178192, -2.2093095779418945, -1.6710337400436401, 6.137157440185547, 5.81630277633667, -3.6349029541015625, 3.124145984649658, -1.4539141654968262, 2.8420917987823486, -0.24270696938037872, 9.63321304321289, 11.972770690917969, 10.105635643005371, -6.0899553298950195, 12.109099388122559, -16.173046112060547, -10.690255165100098, 1.24909508228302, 7.7389326095581055, -17.228134155273438, -16.395414352416992, -15.770232200622559, -11.646804809570312, 0.46631598472595215, -0.693203866481781, 3.8973522186279297, 4.730179309844971, -0.10704744607210159, 3.4609856605529785, -4.33597993850708, -9.804194450378418, -11.329132080078125, 14.207133293151855, -4.5390191078186035, 3.4377787113189697, 5.891447067260742, 7.451589584350586, -1.1871063709259033, 3.074202537536621, 0.11118876188993454, 1.470156192779541, -7.381834983825684, 0.18170718848705292, 2.7237555980682373, -3.079406499862671, 7.752963066101074, -13.368410110473633, -3.984309673309326, 5.513052463531494, -17.22244644165039, 7.8992390632629395, -12.138899803161621, -9.044306755065918, 15.783393859863281, -11.478755950927734, -2.7407875061035156, -14.164795875549316, 5.6063103675842285, 3.216600179672241, 9.772963523864746, 0.24941717088222504, -15.016684532165527, -3.756864547729492, 4.251270771026611, -2.565802574157715, -2.2309203147888184, 5.160769939422607, 4.872457027435303, 9.069798469543457, 3.775864362716675, 4.708137512207031, -6.028842926025391, -1.8600059747695923, 14.768997192382812, 6.084390163421631, 1.0856118202209473, -8.92896556854248, -1.3937690258026123, 12.153111457824707, 4.275913715362549, 0.4848470687866211, 12.881300926208496, -10.14090633392334, -3.6565098762512207, -0.49274852871894836, 0.9141241908073425, -14.981861114501953, 12.475098609924316, -0.5173881649971008, 5.46544075012207, -4.6466169357299805, -11.439778327941895, -13.112316131591797, 2.701483726501465, -4.775928974151611, -7.855680465698242, -0.7308875322341919, -1.5852186679840088, -2.256117582321167, -13.710451126098633, 9.989630699157715, 6.577354431152344, -3.8562469482421875, -14.942736625671387, -18.59316635131836, 8.799070358276367, -0.1448535919189453, 12.629867553710938, 10.877144813537598, 0.3870614767074585, -2.91510009765625, -4.40908145904541, 3.2287936210632324, 7.642098903656006, -3.0176849365234375, -1.6573889255523682, 2.2567174434661865, 7.255270957946777, -2.9937376976013184, 6.000054836273193, 10.651679992675781, -1.693125605583191, 10.194321632385254, 7.461460590362549, 9.277355194091797, 10.339062690734863, 4.612066268920898, 6.091463565826416, -5.496557235717773, -13.944328308105469, -13.035500526428223, -0.49079498648643494, -1.2244222164154053, 15.014880180358887, -3.537487268447876, 4.798707962036133, 6.990890026092529, -2.1745707988739014, 5.75374698638916, -7.314571380615234, -1.5894602537155151, -4.5946044921875, 0.31872159242630005, 6.30060338973999, 0.8596947193145752, -3.6028695106506348, 6.12345552444458, -18.029211044311523, -5.042062759399414, 10.705389976501465, 4.040444850921631, -2.511592149734497, 6.441459655761719, 6.764314651489258, -13.196557998657227, -3.8992700576782227, -2.306593656539917, 3.977728843688965, 7.858431816101074, 8.159116744995117, 1.2886946201324463, -4.204103946685791, 3.2074356079101562, 0.7427598834037781, -17.716711044311523, 3.3005456924438477, -17.305795669555664, -4.310523509979248, -13.610395431518555, 0.9012612700462341, 6.903007984161377, 5.832678318023682, -4.62346887588501, 11.245530128479004, 11.658195495605469, 0.5874140858650208, 2.9024875164031982, 2.0714540481567383, -12.751009941101074, 9.069877624511719, -4.093472480773926, -4.962062835693359, 2.4729907512664795, -1.576364278793335, 3.8298797607421875, 11.205890655517578, 2.7395708560943604, -12.10322093963623, -17.522220611572266, -4.640142917633057, -1.1678942441940308, -5.656612396240234, 0.5656773447990417, 9.550824165344238, -3.856613874435425, -14.173724174499512, 0.4911840856075287, -7.958404541015625, 2.7479372024536133, 6.987723350524902, 1.289415717124939, -2.2447397708892822, -4.893295764923096, -2.5683228969573975, -0.620607316493988, -4.86121940612793, 3.910402536392212, 13.045804977416992, 5.476307392120361, -17.080535888671875, 4.720088481903076, 4.0784783363342285, 7.87190055847168, -10.463109016418457, -2.472792625427246, 8.715235710144043, -4.034091949462891, 6.362903594970703, -1.2591766119003296, 4.460981369018555, -13.81782341003418, -3.678330659866333, -2.0862624645233154, -13.774587631225586, -8.136411666870117, -2.12770938873291, 3.7085084915161133, -0.16113755106925964, 3.524292469024658, 4.100401401519775, -7.146247863769531, -10.309618949890137, 5.828843116760254, -4.345263481140137, 3.309333086013794, -0.5604192018508911, 14.023301124572754, 11.269311904907227, -17.860084533691406, -2.8781449794769287, -7.346654891967773, 5.074451446533203, 2.71402645111084, 9.355356216430664, 11.442648887634277, 9.165910720825195, -14.326427459716797, 2.4176173210144043, -14.188421249389648, -2.850461721420288, 10.044776916503906, 10.19229793548584, -1.1613470315933228, 9.489606857299805, -3.5449025630950928, -3.492478847503662, -7.716766357421875, -3.0589003562927246, 4.649509906768799, -15.1201171875, 6.844873428344727, 4.9868950843811035, -12.25882339477539, 10.555362701416016, 2.99594783782959, -17.446866989135742, -9.365947723388672, 11.699249267578125, 13.518430709838867, 1.765496850013733, 9.723478317260742, 5.36852502822876, 6.736138343811035, -4.890881538391113, -1.6175750494003296, 3.2672348022460938, 1.1477361917495728, 4.347763538360596, -8.92924976348877, 6.359132766723633, 6.105825424194336, -9.050448417663574, -15.333539009094238, 9.94091510772705, -5.299806594848633, 13.5927734375, 1.3112868070602417, 5.67488431930542, -0.7677060961723328, 9.53073787689209, 7.28891134262085, 0.5940681099891663, -10.420209884643555, 1.4041156768798828, 7.376220703125, -0.21675840020179749, -14.874152183532715, -3.009265422821045, 2.6981818675994873, 8.67575454711914, -8.938152313232422, 6.24530553817749, 2.7737467288970947, -1.5015578269958496, -2.1752233505249023, 10.586040496826172, -15.382217407226562, 8.797872543334961, 3.061335802078247, 2.5382072925567627, 6.158759593963623, -2.3101444244384766, -4.8274922370910645, 0.3976329565048218, 2.512993097305298, 10.453636169433594, -2.9910287857055664, -16.121734619140625, 9.35908031463623, 6.96235990524292, -10.3981294631958, 11.033987045288086, -1.325769305229187, -15.642579078674316, -14.83751106262207, 5.5656418800354, -0.673704981803894, -4.726324081420898, -4.499967575073242, -1.1580004692077637, -8.39781665802002, -0.48146113753318787, -1.107017993927002, -11.041297912597656, -13.253350257873535, 0.5419493317604065, 7.552071571350098, -12.946280479431152, 10.88248348236084, -8.073192596435547, -12.519000053405762, 0.08122244477272034, 0.08379549533128738, -0.9889461398124695, 6.634372234344482, 12.493000984191895, 5.382762432098389, -0.7624601721763611, -2.7046008110046387, 10.728719711303711, 6.170836925506592, 4.398843765258789, -10.535049438476562, 9.115372657775879, -15.17392349243164, 6.394474983215332, -4.107141017913818, 2.81064510345459, 4.9521164894104, 13.607095718383789, 1.639522910118103, -8.52454662322998, -1.9685802459716797, 3.172044277191162, 5.510184288024902, 0.9249122142791748, 2.092698097229004, 5.210277557373047, 9.590185165405273, -6.331573486328125, 1.580000638961792, -13.556724548339844, 5.479518413543701, -0.6683483123779297, 9.167770385742188, 0.42308035492897034, -0.6022399067878723, 1.4485065937042236, 0.594983696937561, -17.277877807617188, -3.1751036643981934, -13.521321296691895, -17.383729934692383, -3.1177279949188232, 3.1074538230895996, -2.8214797973632812, 8.048474311828613, 10.35228443145752, -4.806717395782471, -0.6023099422454834, 11.777713775634766, -0.4304370880126953, -1.1834701299667358, -2.872450828552246, -14.902522087097168, 14.985154151916504, 5.252429008483887, -0.11166131496429443, -1.583458662033081, -16.802976608276367, -15.420062065124512, 6.145957946777344, -1.5979533195495605, -2.476487874984741, -15.662845611572266, 1.3080556392669678, -11.497102737426758, -17.425996780395508, 11.959382057189941, 0.21033477783203125, -0.1180616244673729, -15.688257217407227, 0.3238564431667328, -1.1700242757797241, -11.254894256591797, -2.564100980758667, 4.19714879989624, 6.892358303070068, 7.882992744445801, -6.517186164855957, 4.367936134338379, -2.507763385772705, -0.3461930453777313, 8.844748497009277, 3.0050156116485596, 5.469994068145752, 2.223278045654297, 2.525686264038086, -5.8289794921875, -8.271382331848145, -4.735007286071777, -16.401473999023438, 14.197545051574707, 6.4966139793396, 9.546518325805664, -1.1528164148330688, 11.927583694458008, 6.350881576538086, 11.594758033752441, -3.9648618698120117, -8.615934371948242, 4.296041965484619, 0.2028871327638626, -9.919418334960938, -4.108548641204834, -6.0097479820251465, -4.079526424407959, -15.983682632446289, -0.5600621104240417, -5.606925010681152, 9.418651580810547, -2.033639669418335, -1.8287994861602783, 1.956333041191101, 6.274959087371826, -17.59341812133789, -5.8585100173950195, -5.921782970428467, -16.325927734375, 0.22772358357906342, 2.8218092918395996, -6.5605902671813965, 2.052875518798828, 5.439799785614014, 2.2896642684936523, 7.742260456085205, 5.607677459716797, -14.033761024475098, 2.7358946800231934, -1.1769781112670898, -8.489420890808105, 2.6746907234191895, 8.03634262084961, 11.544819831848145, -2.332794189453125, 13.097933769226074, 9.809500694274902, 7.966465950012207, 1.300762414932251, -4.418700218200684, 4.956242561340332, 1.814462661743164, 10.579678535461426, 4.37761116027832, 5.619364261627197, -0.2850905954837799, 13.984382629394531, -14.759930610656738, 10.660064697265625, 11.185282707214355, -14.085165023803711, -3.482442855834961, -9.393929481506348, -0.7598168253898621, -13.665838241577148, -4.486451625823975, 1.5269615650177002, 11.038925170898438, -14.469322204589844, 12.940862655639648, 0.590645432472229, 2.5847434997558594, 8.519108772277832, -3.8779234886169434, 13.293769836425781, 0.052402470260858536, -18.201974868774414, -0.5670115947723389, 0.1575639545917511, 12.822128295898438, 13.71560001373291, -6.279317855834961, 13.6802978515625, 12.806519508361816, 7.236706256866455, 6.84418249130249, 11.216940879821777, 4.890651226043701, 3.841106414794922, -8.180373191833496, -15.601877212524414, -8.295077323913574, -16.152883529663086, 1.9412518739700317, 5.1579742431640625, -2.8973567485809326, -18.188011169433594, -8.512356758117676, -2.6157584190368652, 3.554636240005493, 8.621953010559082, 0.8154639005661011, -3.388416051864624, -0.29120171070098877, 12.498324394226074, 1.3204888105392456, -3.771635055541992, 11.525947570800781, 7.151638507843018, 8.69137954711914, 2.5714659690856934, 11.395842552185059, -3.863478899002075, 8.975485801696777, 5.157200813293457, 10.63112735748291, 4.415074825286865, 13.655304908752441, 6.173537254333496, 0.5847086906433105, 3.627732753753662, 6.088442802429199, -10.568735122680664, -6.747815132141113, -9.118151664733887, -14.247247695922852, -3.709260940551758, -3.143710136413574, -5.116611480712891, -2.8426005840301514, -8.680670738220215, -0.7749900221824646, -2.658863067626953, -5.489855766296387, 0.3173219561576843, 1.9753245115280151, 13.467330932617188, 5.846316814422607, -3.2413196563720703, -2.0574684143066406, -15.795860290527344, -5.841312885284424, 4.93148946762085, -15.601141929626465, 1.296559453010559, -9.487834930419922, -4.647615432739258, -11.175924301147461, -0.5373525619506836, 14.7241849899292, 1.087363600730896, -3.712817668914795, 4.279086112976074, 6.718451976776123, -10.231345176696777, 5.678924083709717, -15.976436614990234, -0.8612154722213745, -10.092957496643066, 0.42912790179252625, -10.89551830291748, -4.327775001525879, -0.30917131900787354, -0.9572482109069824, 13.008162498474121, 2.08744740486145, 3.9225082397460938, 1.0533000230789185, -8.359585762023926, -5.105465412139893, 8.108274459838867, 10.644505500793457, -2.9829959869384766, 1.0081504583358765, -6.8449835777282715, 10.685391426086426, 2.477804660797119, 11.510017395019531, 5.87739896774292, 5.9460062980651855, 1.1056480407714844, 0.9125276207923889, -14.690112113952637, -6.047213077545166, 0.0723794549703598, 9.075757026672363, -3.1901700496673584, 5.226972579956055, 14.644318580627441, 10.346363067626953, 6.164872646331787, 0.4735075831413269, -3.1568853855133057, -9.997313499450684, 7.6824235916137695, -2.423332452774048, 1.2512688636779785, -15.555364608764648, -1.932070255279541, 14.818110466003418, 10.549527168273926, 5.2756218910217285, 9.774697303771973, 8.94471549987793, 1.0758088827133179, 15.969744682312012, 10.881513595581055, -9.714286804199219, -17.111690521240234, -14.958783149719238, 5.360291481018066, -5.039352893829346, -6.1420488357543945, -2.082139492034912, 3.3069348335266113, -12.394796371459961, 6.684983730316162, 14.208303451538086, 5.417769908905029, -1.9633169174194336, 4.424959659576416, 2.6695728302001953, -2.595259428024292, -2.8419110774993896, -7.0039544105529785, -3.7408041954040527, 8.776506423950195, 5.682069301605225, 8.362812042236328, -3.716024398803711, -2.5644826889038086, -5.089193344116211, 5.85700798034668, 2.852065086364746, -5.785292625427246, -1.4992808103561401, -4.446678161621094, 10.883260726928711, 10.954703330993652, 9.599625587463379, 6.576622009277344, -2.523557662963867, 1.2799272537231445, -0.11135990917682648, -5.050169467926025, 0.6437240839004517, 14.78165054321289, -13.379328727722168, -16.83316993713379, -17.201332092285156, 5.8297624588012695, -3.6882784366607666, -9.372100830078125, -9.142586708068848, 6.77267599105835, -8.072840690612793, -17.947799682617188, -16.463153839111328, 14.824858665466309, -2.0892672538757324, 10.81629753112793, 6.610100269317627, -0.3121219277381897, 6.0242919921875, 4.747077941894531, -3.6008918285369873, -3.251784563064575, -16.266874313354492, -4.567976951599121, 6.16357946395874, -0.49625882506370544, 9.624810218811035, -6.21933126449585, -4.120373725891113, 3.3299694061279297, -7.301181793212891, 3.691744565963745, 5.386653423309326, -0.6097089648246765, 4.787614822387695, -1.2360403537750244, -15.86500358581543, -6.51889181137085, 0.11562331020832062, 5.743117332458496, -8.958843231201172, -3.057663917541504, -1.9293248653411865, -3.7379119396209717, -15.430919647216797, -9.927079200744629, -13.677736282348633, 4.617954254150391, 3.623513698577881, -11.516700744628906, -17.90652084350586, 10.704523086547852, -5.735861301422119, 9.669677734375, -18.810270309448242, -17.112071990966797, 13.05720043182373, -13.000279426574707, 7.160970687866211, -14.293550491333008, 4.646026134490967, 6.884616851806641, -2.7765860557556152, -0.9413589239120483, -14.857996940612793, -0.8689413666725159, -2.725430965423584, -1.827208161354065, -0.6642968058586121, 7.012913227081299, -4.1517534255981445, 0.6651037931442261, -5.882809162139893, 1.993766188621521, 13.579028129577637, -2.1156468391418457, 0.37742480635643005, 6.78150749206543, -15.058660507202148, -9.061030387878418, 4.23378324508667, -0.37160131335258484, 2.635122776031494, 12.646357536315918, 6.697433948516846, 10.932882308959961, 13.47392463684082, -3.307661294937134, -18.192340850830078, 3.186053514480591, 1.1797324419021606, 1.1449532508850098, 13.585848808288574, -17.096397399902344, -11.718526840209961, 7.7982563972473145, 1.3935521841049194, -9.909208297729492, 6.416242599487305, 6.351089000701904, -2.0971779823303223, 9.695929527282715, 1.5707019567489624, -1.5441418886184692, 12.805801391601562, -5.209178447723389, -14.488956451416016, -2.954958438873291, 10.748775482177734, 4.866434574127197, 4.703181266784668, 11.832777976989746, 4.755833625793457, -15.142191886901855, -12.13161563873291, -2.3624815940856934, 10.937265396118164, -6.809238433837891, -4.8716630935668945, -14.555500984191895, -1.5645723342895508, 3.5018105506896973, -1.5223709344863892, 14.349135398864746, -17.742958068847656, 6.948505878448486, -7.520905494689941, -16.291988372802734, 0.27931931614875793, -16.435346603393555, 2.3851537704467773, 12.148285865783691, 3.1826653480529785, -17.0982666015625, 10.681816101074219, -9.933187484741211, 12.620222091674805, -3.503889560699463, 0.1405024379491806, -12.828673362731934, 7.520290851593018, -3.3687644004821777, 0.10454461723566055, -3.590588092803955, -6.969151496887207, -2.391963243484497, -10.637624740600586, -15.62786865234375, -14.540447235107422, 9.838711738586426, 11.288459777832031, 15.549854278564453, -10.220626831054688, -3.622743844985962, -7.390872955322266, 5.022135257720947, 0.34326720237731934, 9.661542892456055, 1.2538714408874512, -13.786527633666992, 9.067670822143555, -11.495078086853027, -9.7214994430542, 2.1379029750823975, -0.9702833890914917, 1.3179795742034912, 3.0554609298706055, -4.354564666748047, -3.456160068511963, 12.91340160369873, -17.427820205688477, 0.4797638952732086, 11.499524116516113, 5.1328325271606445, 1.5119847059249878, -17.40984535217285, 1.7451746463775635, -2.7728829383850098, -4.905961036682129, -16.04173469543457, 6.969773769378662, -2.9523136615753174, -5.760590553283691, 3.6348578929901123, 14.26550006866455, 15.505542755126953, -7.112757682800293, 14.740480422973633, 0.618234395980835, -13.188639640808105, 4.25955867767334, -10.886457443237305, 7.436119079589844, -6.446011066436768, -2.6033248901367188, 3.9438955783843994, -2.5228352546691895, -4.863838195800781, -0.6332705616950989, 11.261542320251465, 11.307209014892578, 1.325831413269043, -0.9079665541648865, -2.484769105911255, 6.070685386657715, 13.96786880493164, -0.19392257928848267, -5.678504943847656, -17.298614501953125, 12.106870651245117, -15.555312156677246, 5.686877727508545, -16.584747314453125, -12.746451377868652, 3.7504091262817383, 7.771396636962891, -6.213604927062988, -2.0850186347961426, 12.62896728515625, 11.046831130981445, -4.801546573638916, 2.830474376678467, 15.778898239135742, 7.022368431091309, 6.177069187164307, -4.3776726722717285, 3.277510404586792, -2.1831464767456055, -3.1275453567504883, -16.49407958984375, -8.287141799926758, -1.5896037817001343, 2.977062463760376, -12.91998291015625, 5.705266952514648, -4.810892581939697, 7.536640644073486, -16.155107498168945, -9.350796699523926, -2.620931625366211, -14.333320617675781, 4.824175834655762, 3.813699245452881, 6.813628673553467, -0.13093911111354828, 9.74405288696289, 5.833858966827393, -7.542392730712891, -17.57752799987793, 4.438746452331543, 7.473029613494873, 0.04211188107728958, -3.8379361629486084, 11.238739967346191, 13.53618335723877, 1.867266058921814, 9.492053031921387, -14.466569900512695, -16.071762084960938, -2.323680877685547, 6.713840007781982, -7.364035606384277, 0.7146191596984863, -18.254255294799805, 9.361167907714844, 1.5306103229522705]}],\n",
       "                        {\"coloraxis\": {\"colorbar\": {\"title\": {\"text\": \"Label\"}}, \"colorscale\": [[0.0, \"#0d0887\"], [0.1111111111111111, \"#46039f\"], [0.2222222222222222, \"#7201a8\"], [0.3333333333333333, \"#9c179e\"], [0.4444444444444444, \"#bd3786\"], [0.5555555555555556, \"#d8576b\"], [0.6666666666666666, \"#ed7953\"], [0.7777777777777778, \"#fb9f3a\"], [0.8888888888888888, \"#fdca26\"], [1.0, \"#f0f921\"]]}, \"height\": 800, \"legend\": {\"tracegroupgap\": 0}, \"scene\": {\"domain\": {\"x\": [0.0, 1.0], \"y\": [0.0, 1.0]}, \"xaxis\": {\"title\": {\"text\": \"0\"}}, \"yaxis\": {\"title\": {\"text\": \"1\"}}, \"zaxis\": {\"title\": {\"text\": \"2\"}}}, \"template\": {\"data\": {\"bar\": [{\"error_x\": {\"color\": \"#2a3f5f\"}, \"error_y\": {\"color\": \"#2a3f5f\"}, \"marker\": {\"line\": {\"color\": \"#E5ECF6\", \"width\": 0.5}}, \"type\": \"bar\"}], \"barpolar\": [{\"marker\": {\"line\": {\"color\": \"#E5ECF6\", \"width\": 0.5}}, \"type\": \"barpolar\"}], \"carpet\": [{\"aaxis\": {\"endlinecolor\": \"#2a3f5f\", \"gridcolor\": \"white\", \"linecolor\": \"white\", \"minorgridcolor\": \"white\", \"startlinecolor\": \"#2a3f5f\"}, \"baxis\": {\"endlinecolor\": \"#2a3f5f\", \"gridcolor\": \"white\", \"linecolor\": \"white\", \"minorgridcolor\": \"white\", \"startlinecolor\": \"#2a3f5f\"}, \"type\": \"carpet\"}], \"choropleth\": [{\"colorbar\": {\"outlinewidth\": 0, \"ticks\": \"\"}, \"type\": \"choropleth\"}], \"contour\": [{\"colorbar\": {\"outlinewidth\": 0, \"ticks\": \"\"}, \"colorscale\": [[0.0, \"#0d0887\"], [0.1111111111111111, \"#46039f\"], [0.2222222222222222, \"#7201a8\"], [0.3333333333333333, \"#9c179e\"], [0.4444444444444444, \"#bd3786\"], [0.5555555555555556, \"#d8576b\"], [0.6666666666666666, \"#ed7953\"], [0.7777777777777778, \"#fb9f3a\"], [0.8888888888888888, \"#fdca26\"], [1.0, \"#f0f921\"]], \"type\": \"contour\"}], \"contourcarpet\": [{\"colorbar\": {\"outlinewidth\": 0, \"ticks\": \"\"}, \"type\": \"contourcarpet\"}], \"heatmap\": [{\"colorbar\": {\"outlinewidth\": 0, \"ticks\": \"\"}, \"colorscale\": [[0.0, \"#0d0887\"], [0.1111111111111111, \"#46039f\"], [0.2222222222222222, \"#7201a8\"], [0.3333333333333333, \"#9c179e\"], [0.4444444444444444, \"#bd3786\"], [0.5555555555555556, \"#d8576b\"], [0.6666666666666666, \"#ed7953\"], [0.7777777777777778, \"#fb9f3a\"], [0.8888888888888888, \"#fdca26\"], [1.0, \"#f0f921\"]], \"type\": \"heatmap\"}], \"heatmapgl\": [{\"colorbar\": {\"outlinewidth\": 0, \"ticks\": \"\"}, \"colorscale\": [[0.0, \"#0d0887\"], [0.1111111111111111, \"#46039f\"], [0.2222222222222222, \"#7201a8\"], [0.3333333333333333, \"#9c179e\"], [0.4444444444444444, \"#bd3786\"], [0.5555555555555556, \"#d8576b\"], [0.6666666666666666, \"#ed7953\"], [0.7777777777777778, \"#fb9f3a\"], [0.8888888888888888, \"#fdca26\"], [1.0, \"#f0f921\"]], \"type\": \"heatmapgl\"}], \"histogram\": [{\"marker\": {\"colorbar\": {\"outlinewidth\": 0, \"ticks\": \"\"}}, \"type\": \"histogram\"}], \"histogram2d\": [{\"colorbar\": {\"outlinewidth\": 0, \"ticks\": \"\"}, \"colorscale\": [[0.0, \"#0d0887\"], [0.1111111111111111, \"#46039f\"], [0.2222222222222222, \"#7201a8\"], [0.3333333333333333, \"#9c179e\"], [0.4444444444444444, \"#bd3786\"], [0.5555555555555556, \"#d8576b\"], [0.6666666666666666, \"#ed7953\"], [0.7777777777777778, \"#fb9f3a\"], [0.8888888888888888, \"#fdca26\"], [1.0, \"#f0f921\"]], \"type\": \"histogram2d\"}], \"histogram2dcontour\": [{\"colorbar\": {\"outlinewidth\": 0, \"ticks\": \"\"}, \"colorscale\": [[0.0, \"#0d0887\"], [0.1111111111111111, \"#46039f\"], [0.2222222222222222, \"#7201a8\"], [0.3333333333333333, \"#9c179e\"], [0.4444444444444444, \"#bd3786\"], [0.5555555555555556, \"#d8576b\"], [0.6666666666666666, \"#ed7953\"], [0.7777777777777778, \"#fb9f3a\"], [0.8888888888888888, \"#fdca26\"], [1.0, \"#f0f921\"]], \"type\": \"histogram2dcontour\"}], \"mesh3d\": [{\"colorbar\": {\"outlinewidth\": 0, \"ticks\": \"\"}, \"type\": \"mesh3d\"}], \"parcoords\": [{\"line\": {\"colorbar\": {\"outlinewidth\": 0, \"ticks\": \"\"}}, \"type\": \"parcoords\"}], \"pie\": [{\"automargin\": true, \"type\": \"pie\"}], \"scatter\": [{\"marker\": {\"colorbar\": {\"outlinewidth\": 0, \"ticks\": \"\"}}, \"type\": \"scatter\"}], \"scatter3d\": [{\"line\": {\"colorbar\": {\"outlinewidth\": 0, \"ticks\": \"\"}}, \"marker\": {\"colorbar\": {\"outlinewidth\": 0, \"ticks\": \"\"}}, \"type\": \"scatter3d\"}], \"scattercarpet\": [{\"marker\": {\"colorbar\": {\"outlinewidth\": 0, \"ticks\": \"\"}}, \"type\": \"scattercarpet\"}], \"scattergeo\": [{\"marker\": {\"colorbar\": {\"outlinewidth\": 0, \"ticks\": \"\"}}, \"type\": \"scattergeo\"}], \"scattergl\": [{\"marker\": {\"colorbar\": {\"outlinewidth\": 0, \"ticks\": \"\"}}, \"type\": \"scattergl\"}], \"scattermapbox\": [{\"marker\": {\"colorbar\": {\"outlinewidth\": 0, \"ticks\": \"\"}}, \"type\": \"scattermapbox\"}], \"scatterpolar\": [{\"marker\": {\"colorbar\": {\"outlinewidth\": 0, \"ticks\": \"\"}}, \"type\": \"scatterpolar\"}], \"scatterpolargl\": [{\"marker\": {\"colorbar\": {\"outlinewidth\": 0, \"ticks\": \"\"}}, \"type\": \"scatterpolargl\"}], \"scatterternary\": [{\"marker\": {\"colorbar\": {\"outlinewidth\": 0, \"ticks\": \"\"}}, \"type\": \"scatterternary\"}], \"surface\": [{\"colorbar\": {\"outlinewidth\": 0, \"ticks\": \"\"}, \"colorscale\": [[0.0, \"#0d0887\"], [0.1111111111111111, \"#46039f\"], [0.2222222222222222, \"#7201a8\"], [0.3333333333333333, \"#9c179e\"], [0.4444444444444444, \"#bd3786\"], [0.5555555555555556, \"#d8576b\"], [0.6666666666666666, \"#ed7953\"], [0.7777777777777778, \"#fb9f3a\"], [0.8888888888888888, \"#fdca26\"], [1.0, \"#f0f921\"]], \"type\": \"surface\"}], \"table\": [{\"cells\": {\"fill\": {\"color\": \"#EBF0F8\"}, \"line\": {\"color\": \"white\"}}, \"header\": {\"fill\": {\"color\": \"#C8D4E3\"}, \"line\": {\"color\": \"white\"}}, \"type\": \"table\"}]}, \"layout\": {\"annotationdefaults\": {\"arrowcolor\": \"#2a3f5f\", \"arrowhead\": 0, \"arrowwidth\": 1}, \"coloraxis\": {\"colorbar\": {\"outlinewidth\": 0, \"ticks\": \"\"}}, \"colorscale\": {\"diverging\": [[0, \"#8e0152\"], [0.1, \"#c51b7d\"], [0.2, \"#de77ae\"], [0.3, \"#f1b6da\"], [0.4, \"#fde0ef\"], [0.5, \"#f7f7f7\"], [0.6, \"#e6f5d0\"], [0.7, \"#b8e186\"], [0.8, \"#7fbc41\"], [0.9, \"#4d9221\"], [1, \"#276419\"]], \"sequential\": [[0.0, \"#0d0887\"], [0.1111111111111111, \"#46039f\"], [0.2222222222222222, \"#7201a8\"], [0.3333333333333333, \"#9c179e\"], [0.4444444444444444, \"#bd3786\"], [0.5555555555555556, \"#d8576b\"], [0.6666666666666666, \"#ed7953\"], [0.7777777777777778, \"#fb9f3a\"], [0.8888888888888888, \"#fdca26\"], [1.0, \"#f0f921\"]], \"sequentialminus\": [[0.0, \"#0d0887\"], [0.1111111111111111, \"#46039f\"], [0.2222222222222222, \"#7201a8\"], [0.3333333333333333, \"#9c179e\"], [0.4444444444444444, \"#bd3786\"], [0.5555555555555556, \"#d8576b\"], [0.6666666666666666, \"#ed7953\"], [0.7777777777777778, \"#fb9f3a\"], [0.8888888888888888, \"#fdca26\"], [1.0, \"#f0f921\"]]}, \"colorway\": [\"#636efa\", \"#EF553B\", \"#00cc96\", \"#ab63fa\", \"#FFA15A\", \"#19d3f3\", \"#FF6692\", \"#B6E880\", \"#FF97FF\", \"#FECB52\"], \"font\": {\"color\": \"#2a3f5f\"}, \"geo\": {\"bgcolor\": \"white\", \"lakecolor\": \"white\", \"landcolor\": \"#E5ECF6\", \"showlakes\": true, \"showland\": true, \"subunitcolor\": \"white\"}, \"hoverlabel\": {\"align\": \"left\"}, \"hovermode\": \"closest\", \"mapbox\": {\"style\": \"light\"}, \"paper_bgcolor\": \"white\", \"plot_bgcolor\": \"#E5ECF6\", \"polar\": {\"angularaxis\": {\"gridcolor\": \"white\", \"linecolor\": \"white\", \"ticks\": \"\"}, \"bgcolor\": \"#E5ECF6\", \"radialaxis\": {\"gridcolor\": \"white\", \"linecolor\": \"white\", \"ticks\": \"\"}}, \"scene\": {\"xaxis\": {\"backgroundcolor\": \"#E5ECF6\", \"gridcolor\": \"white\", \"gridwidth\": 2, \"linecolor\": \"white\", \"showbackground\": true, \"ticks\": \"\", \"zerolinecolor\": \"white\"}, \"yaxis\": {\"backgroundcolor\": \"#E5ECF6\", \"gridcolor\": \"white\", \"gridwidth\": 2, \"linecolor\": \"white\", \"showbackground\": true, \"ticks\": \"\", \"zerolinecolor\": \"white\"}, \"zaxis\": {\"backgroundcolor\": \"#E5ECF6\", \"gridcolor\": \"white\", \"gridwidth\": 2, \"linecolor\": \"white\", \"showbackground\": true, \"ticks\": \"\", \"zerolinecolor\": \"white\"}}, \"shapedefaults\": {\"line\": {\"color\": \"#2a3f5f\"}}, \"ternary\": {\"aaxis\": {\"gridcolor\": \"white\", \"linecolor\": \"white\", \"ticks\": \"\"}, \"baxis\": {\"gridcolor\": \"white\", \"linecolor\": \"white\", \"ticks\": \"\"}, \"bgcolor\": \"#E5ECF6\", \"caxis\": {\"gridcolor\": \"white\", \"linecolor\": \"white\", \"ticks\": \"\"}}, \"title\": {\"x\": 0.05}, \"xaxis\": {\"automargin\": true, \"gridcolor\": \"white\", \"linecolor\": \"white\", \"ticks\": \"\", \"title\": {\"standoff\": 15}, \"zerolinecolor\": \"white\", \"zerolinewidth\": 2}, \"yaxis\": {\"automargin\": true, \"gridcolor\": \"white\", \"linecolor\": \"white\", \"ticks\": \"\", \"title\": {\"standoff\": 15}, \"zerolinecolor\": \"white\", \"zerolinewidth\": 2}}}, \"title\": {\"text\": \"3d TSNE Plot for Outliers\"}, \"width\": 900},\n",
       "                        {\"responsive\": true}\n",
       "                    ).then(function(){\n",
       "                            \n",
       "var gd = document.getElementById('3ec353d8-de6b-47f8-8fad-c6d734c2c105');\n",
       "var x = new MutationObserver(function (mutations, observer) {{\n",
       "        var display = window.getComputedStyle(gd).display;\n",
       "        if (!display || display === 'none') {{\n",
       "            console.log([gd, 'removed!']);\n",
       "            Plotly.purge(gd);\n",
       "            observer.disconnect();\n",
       "        }}\n",
       "}});\n",
       "\n",
       "// Listen for the removal of the full notebook cells\n",
       "var notebookContainer = gd.closest('#notebook-container');\n",
       "if (notebookContainer) {{\n",
       "    x.observe(notebookContainer, {childList: true});\n",
       "}}\n",
       "\n",
       "// Listen for the clearing of the current output cell\n",
       "var outputEl = gd.closest('.output');\n",
       "if (outputEl) {{\n",
       "    x.observe(outputEl, {childList: true});\n",
       "}}\n",
       "\n",
       "                        })\n",
       "                };\n",
       "                });\n",
       "            </script>\n",
       "        </div>"
      ]
     },
     "metadata": {},
     "output_type": "display_data"
    }
   ],
   "source": [
    "plot_model(iforest)"
   ]
  },
  {
   "cell_type": "code",
   "execution_count": 10,
   "metadata": {
    "scrolled": true
   },
   "outputs": [
    {
     "data": {
      "text/html": [
       "        <script type=\"text/javascript\">\n",
       "        window.PlotlyConfig = {MathJaxConfig: 'local'};\n",
       "        if (window.MathJax) {MathJax.Hub.Config({SVG: {font: \"STIX-Web\"}});}\n",
       "        if (typeof require !== 'undefined') {\n",
       "        require.undef(\"plotly\");\n",
       "        requirejs.config({\n",
       "            paths: {\n",
       "                'plotly': ['https://cdn.plot.ly/plotly-latest.min']\n",
       "            }\n",
       "        });\n",
       "        require(['plotly'], function(Plotly) {\n",
       "            window._Plotly = Plotly;\n",
       "        });\n",
       "        }\n",
       "        </script>\n",
       "        "
      ]
     },
     "metadata": {},
     "output_type": "display_data"
    },
    {
     "data": {
      "application/vnd.plotly.v1+json": {
       "config": {
        "plotlyServerURL": "https://plot.ly"
       },
       "data": [
        {
         "customdata": [
          [
           0.263995357
          ],
          [
           0.546092303
          ],
          [
           0.33671410399999996
          ],
          [
           0.092107835
          ],
          [
           0.325261175
          ],
          [
           0.212464853
          ],
          [
           0.258565714
          ],
          [
           0.869236755
          ],
          [
           0.197077957
          ],
          [
           0.292984504
          ],
          [
           0.82178316
          ],
          [
           0.796622959
          ],
          [
           0.045577010999999994
          ],
          [
           0.613660351
          ],
          [
           0.9507445659999999
          ],
          [
           0.33634633700000005
          ],
          [
           0.034440667
          ],
          [
           0.741544275
          ],
          [
           0.18443265
          ],
          [
           0.664514943
          ],
          [
           0.16282485800000002
          ],
          [
           0.729838445
          ],
          [
           0.62837389
          ],
          [
           0.057883660999999996
          ],
          [
           0.445534827
          ],
          [
           0.80183695
          ],
          [
           0.27709612
          ],
          [
           0.228634015
          ],
          [
           0.834860657
          ],
          [
           0.6697665110000001
          ],
          [
           0.532527349
          ],
          [
           0.17045907100000002
          ],
          [
           0.5102884679999999
          ],
          [
           0.977561989
          ],
          [
           0.249775993
          ],
          [
           0.9755006820000001
          ],
          [
           0.613701727
          ],
          [
           0.16742036300000002
          ],
          [
           0.537472516
          ],
          [
           0.379899131
          ],
          [
           0.633897303
          ],
          [
           0.633960424
          ],
          [
           0.5499746529999999
          ],
          [
           0.178172988
          ],
          [
           0.85563814
          ],
          [
           0.321796672
          ],
          [
           0.8174905370000001
          ],
          [
           0.254879417
          ],
          [
           0.344140513
          ],
          [
           0.8061457259999999
          ],
          [
           0.27708167100000003
          ],
          [
           0.544328519
          ],
          [
           0.07708393
          ],
          [
           0.273081458
          ],
          [
           0.390877336
          ],
          [
           0.349621385
          ],
          [
           0.214549744
          ],
          [
           0.206075222
          ],
          [
           0.86461997
          ],
          [
           0.9817088540000001
          ],
          [
           0.33482964600000004
          ],
          [
           0.648387061
          ],
          [
           0.093643561
          ],
          [
           0.837802698
          ],
          [
           0.7603439670000001
          ],
          [
           0.29140417399999996
          ],
          [
           0.3413454
          ],
          [
           0.7611124840000001
          ],
          [
           0.541899775
          ],
          [
           0.684176639
          ],
          [
           0.983535597
          ],
          [
           0.52081245
          ],
          [
           0.328227724
          ],
          [
           0.09715793800000001
          ],
          [
           0.876088593
          ],
          [
           0.870214512
          ],
          [
           0.656086992
          ],
          [
           0.306791514
          ],
          [
           0.48126734
          ],
          [
           0.259559174
          ],
          [
           0.326123655
          ],
          [
           0.930568042
          ],
          [
           0.6583894
          ],
          [
           0.689992335
          ],
          [
           0.315781109
          ],
          [
           0.5669050929999999
          ],
          [
           0.637526619
          ],
          [
           0.687540723
          ],
          [
           0.324300602
          ],
          [
           0.592704906
          ],
          [
           0.7402531259999999
          ],
          [
           0.5940328770000001
          ],
          [
           0.596452977
          ],
          [
           0.27768081699999997
          ],
          [
           0.258329663
          ],
          [
           0.142460864
          ],
          [
           0.435533461
          ],
          [
           0.7024990440000001
          ],
          [
           0.58897535
          ],
          [
           0.653304374
          ],
          [
           0.336968524
          ],
          [
           0.631244736
          ],
          [
           0.73530076
          ],
          [
           0.050390366
          ],
          [
           0.064264924
          ],
          [
           0.665359476
          ],
          [
           0.917835245
          ],
          [
           0.44651012
          ],
          [
           0.661938199
          ],
          [
           0.43935985299999997
          ],
          [
           0.6875724040000001
          ],
          [
           0.363462248
          ],
          [
           0.6542621820000001
          ],
          [
           0.578553536
          ],
          [
           0.065927945
          ],
          [
           0.550148559
          ],
          [
           0.13918281400000002
          ],
          [
           0.080004635
          ],
          [
           0.278228358
          ],
          [
           0.560124266
          ],
          [
           0.53639864
          ],
          [
           0.42653190399999996
          ],
          [
           0.789109796
          ],
          [
           0.742900474
          ],
          [
           0.901692589
          ],
          [
           0.650337401
          ],
          [
           0.114057311
          ],
          [
           0.260812592
          ],
          [
           0.43991232
          ],
          [
           0.964409284
          ],
          [
           0.184401415
          ],
          [
           0.345145446
          ],
          [
           0.17589458100000002
          ],
          [
           0.312514453
          ],
          [
           0.674131879
          ],
          [
           0.32825045
          ],
          [
           0.598231057
          ],
          [
           0.09259881699999999
          ],
          [
           0.497916521
          ],
          [
           0.419776521
          ],
          [
           0.31217670000000003
          ],
          [
           0.937857107
          ],
          [
           0.049030963
          ],
          [
           0.47610452600000003
          ],
          [
           0.447397526
          ],
          [
           0.295806058
          ],
          [
           0.737363977
          ],
          [
           0.625896253
          ],
          [
           0.408813429
          ],
          [
           0.437511156
          ],
          [
           0.691351375
          ],
          [
           0.935555275
          ],
          [
           0.437846654
          ],
          [
           0.072217715
          ],
          [
           0.67636067
          ],
          [
           0.468883999
          ],
          [
           0.543820644
          ],
          [
           0.6555226470000001
          ],
          [
           0.6935289240000001
          ],
          [
           0.10887831199999999
          ],
          [
           0.285463743
          ],
          [
           0
          ],
          [
           0.706495497
          ],
          [
           0.273530633
          ],
          [
           0.292320271
          ],
          [
           0.673984307
          ],
          [
           0.12612182800000002
          ],
          [
           0.9467074590000001
          ],
          [
           0.9363388979999999
          ],
          [
           0.8537553640000001
          ],
          [
           0.7060713609999999
          ],
          [
           0.693682186
          ],
          [
           0.508527882
          ],
          [
           0.34717038899999997
          ],
          [
           0.704154263
          ],
          [
           0.658730088
          ],
          [
           0.155841557
          ],
          [
           0.311085435
          ],
          [
           0.281135347
          ],
          [
           0.094587802
          ],
          [
           0.6832609540000001
          ],
          [
           0.9077292509999999
          ],
          [
           0.29151267399999997
          ],
          [
           0.752734459
          ],
          [
           0.93482964
          ],
          [
           0.071413953
          ],
          [
           0.5948963270000001
          ],
          [
           0.404672015
          ],
          [
           0.13837621
          ],
          [
           0.7473384679999999
          ],
          [
           0.530882486
          ],
          [
           0.282649594
          ],
          [
           0.699335734
          ],
          [
           0.056111250999999994
          ],
          [
           0.855234998
          ],
          [
           0.07789512700000001
          ],
          [
           0.891649583
          ],
          [
           0.38674227899999997
          ],
          [
           0.27113158
          ],
          [
           0.958888961
          ],
          [
           0.085120869
          ],
          [
           0.5269022489999999
          ],
          [
           0.066577785
          ],
          [
           0.841506738
          ],
          [
           0.255342095
          ],
          [
           0.060545771
          ],
          [
           0.073385869
          ],
          [
           0.187493723
          ],
          [
           0.858365688
          ],
          [
           0.090640352
          ],
          [
           0.7097252270000001
          ],
          [
           0.631300647
          ],
          [
           0.24750447399999997
          ],
          [
           0.822843584
          ],
          [
           0.373476759
          ],
          [
           0.625538582
          ],
          [
           0.292951715
          ],
          [
           0.299730324
          ],
          [
           0.25121407
          ],
          [
           0.344480551
          ],
          [
           0.293064767
          ],
          [
           0.7628032240000001
          ],
          [
           0.7384708040000001
          ],
          [
           0.674883265
          ],
          [
           0.719151612
          ],
          [
           0.13098021599999998
          ],
          [
           0.511328036
          ],
          [
           0.04492903
          ],
          [
           0.560914449
          ],
          [
           0.7440406409999999
          ],
          [
           0.266961634
          ],
          [
           0.644231853
          ],
          [
           0.038113352
          ],
          [
           0.05715529900000001
          ],
          [
           0.34139246100000004
          ],
          [
           0.7204636320000001
          ],
          [
           0.402878236
          ],
          [
           0.635148967
          ],
          [
           0.320729467
          ],
          [
           0.09120969400000001
          ],
          [
           0.23414609
          ],
          [
           0.8902211309999999
          ],
          [
           0.602170884
          ],
          [
           0.633652055
          ],
          [
           0.806240837
          ],
          [
           0.739731184
          ],
          [
           0.465231269
          ],
          [
           0.7321109
          ],
          [
           0.373874305
          ],
          [
           0.501587947
          ],
          [
           0.11538315800000001
          ],
          [
           0.7319466040000001
          ],
          [
           0.41829872799999995
          ],
          [
           0.062259590999999996
          ],
          [
           0.391496379
          ],
          [
           0.35984929
          ],
          [
           0.24523562699999998
          ],
          [
           0.610028339
          ],
          [
           0.43540360200000006
          ],
          [
           0.434309675
          ],
          [
           0.523763344
          ],
          [
           0.17118786600000002
          ],
          [
           0.18773430300000002
          ],
          [
           0.945014638
          ],
          [
           0.027851097000000002
          ],
          [
           0.68445706
          ],
          [
           0.178014532
          ],
          [
           0.643427879
          ],
          [
           0.59588355
          ],
          [
           0.372361682
          ],
          [
           0.586103584
          ],
          [
           0.271658852
          ],
          [
           0.59951107
          ],
          [
           0.468363088
          ],
          [
           0.314515565
          ],
          [
           0.21893726
          ],
          [
           0.254716562
          ],
          [
           0.25612815
          ],
          [
           0.602259755
          ],
          [
           0.134381075
          ],
          [
           0.513887424
          ],
          [
           0.624241636
          ],
          [
           0.160251854
          ],
          [
           0.580708108
          ],
          [
           0.270540486
          ],
          [
           0.832919932
          ],
          [
           0.93032134
          ],
          [
           0.719157884
          ],
          [
           0.886720033
          ],
          [
           0.098792281
          ],
          [
           0.787174286
          ],
          [
           0.365592376
          ],
          [
           0.719576193
          ],
          [
           0.8058956
          ],
          [
           0.7555783340000001
          ],
          [
           0.526005909
          ],
          [
           0.68880424
          ],
          [
           0.22111531199999998
          ],
          [
           0.739369477
          ],
          [
           0.408440236
          ],
          [
           0.348926542
          ],
          [
           0.433713763
          ],
          [
           0.5964966070000001
          ],
          [
           0.6942953000000001
          ],
          [
           0.7090309659999999
          ],
          [
           0.867652984
          ],
          [
           0.89332545
          ],
          [
           0.746020922
          ],
          [
           0.538284443
          ],
          [
           0.8922193140000001
          ],
          [
           0.935175765
          ],
          [
           0.260527707
          ],
          [
           0.956780449
          ],
          [
           0.204932484
          ],
          [
           0.687733351
          ],
          [
           0.329063619
          ],
          [
           0.632149831
          ],
          [
           0.463744506
          ],
          [
           0.698859621
          ],
          [
           0.385446564
          ],
          [
           0.47997537700000004
          ],
          [
           0.732279108
          ],
          [
           0.3813543
          ],
          [
           0.459326013
          ],
          [
           0.257401434
          ],
          [
           0.665014804
          ],
          [
           0.103399542
          ],
          [
           0.425284413
          ],
          [
           0.943529051
          ],
          [
           0.594750236
          ],
          [
           0.543776817
          ],
          [
           0.18203988
          ],
          [
           0.23584208399999998
          ],
          [
           0.585984497
          ],
          [
           0.762013168
          ],
          [
           0.6849829070000001
          ],
          [
           0.676936933
          ],
          [
           0.290184964
          ],
          [
           0.48106822200000005
          ],
          [
           0.492766033
          ],
          [
           0.22185623399999999
          ],
          [
           0.053875998
          ],
          [
           0.082751144
          ],
          [
           0.385366225
          ],
          [
           0.702513961
          ],
          [
           0.91553156
          ],
          [
           0.082087436
          ],
          [
           0.251280378
          ],
          [
           0.41672181700000005
          ],
          [
           0.277032672
          ],
          [
           0.579539754
          ],
          [
           0.569363476
          ],
          [
           0.133399703
          ],
          [
           0.265045463
          ],
          [
           0.936571901
          ],
          [
           0.252618554
          ],
          [
           0.054033081
          ],
          [
           0.802481439
          ],
          [
           0.528197693
          ],
          [
           0.9515026
          ],
          [
           0.572121173
          ],
          [
           0.752938227
          ],
          [
           0.143857535
          ],
          [
           0.513484576
          ],
          [
           0.313322389
          ],
          [
           0.6877973959999999
          ],
          [
           0.37705984
          ],
          [
           0.348226142
          ],
          [
           0.67763282
          ],
          [
           0.24138752100000002
          ],
          [
           0.8506501790000001
          ],
          [
           0.22034810300000002
          ],
          [
           0.476445464
          ],
          [
           0.690324025
          ],
          [
           0.364695946
          ],
          [
           0.6492491970000001
          ],
          [
           0.9437019209999999
          ],
          [
           0.529645971
          ],
          [
           0.299097002
          ],
          [
           0.96696247
          ],
          [
           0.272005242
          ],
          [
           0.314161447
          ],
          [
           0.752020991
          ],
          [
           0.221882453
          ],
          [
           0.7203326729999999
          ],
          [
           0.379204782
          ],
          [
           0.60168653
          ],
          [
           0.582932673
          ],
          [
           0.950809853
          ],
          [
           0.58830141
          ],
          [
           0.880887227
          ],
          [
           0.467857701
          ],
          [
           0.8799021709999999
          ],
          [
           0.619844009
          ],
          [
           0.359002573
          ],
          [
           0.291511278
          ],
          [
           0.694157143
          ],
          [
           0.727960353
          ],
          [
           0.617703921
          ],
          [
           0.39581257
          ],
          [
           0.58317282
          ],
          [
           0.710332374
          ],
          [
           0.253753693
          ],
          [
           0.049412227999999996
          ],
          [
           0.728378695
          ],
          [
           0.432432881
          ],
          [
           0.58612345
          ],
          [
           0.052342373
          ],
          [
           0.053483902
          ],
          [
           0.518729378
          ],
          [
           0.933040208
          ],
          [
           0.7035542840000001
          ],
          [
           0.268989899
          ],
          [
           0.733006927
          ],
          [
           0.44435246700000003
          ],
          [
           0.5833946210000001
          ],
          [
           0.871172692
          ],
          [
           0.42876707799999997
          ],
          [
           0.30046084100000003
          ],
          [
           0.9533294590000001
          ],
          [
           0.606443965
          ],
          [
           0.90986815
          ],
          [
           0.714896449
          ],
          [
           0.49734950899999997
          ],
          [
           0.8530974859999999
          ],
          [
           0.721804145
          ],
          [
           0.303467328
          ],
          [
           0.664485096
          ],
          [
           0.27978062
          ],
          [
           0.569481665
          ],
          [
           0.628628926
          ],
          [
           0.088368123
          ],
          [
           0.733567326
          ],
          [
           0.537436778
          ],
          [
           0.638593691
          ],
          [
           0.954726948
          ],
          [
           0.632202332
          ],
          [
           0.642134651
          ],
          [
           0.744653087
          ],
          [
           0.115714007
          ],
          [
           0.48625007299999995
          ],
          [
           0.440356144
          ],
          [
           0.08272289
          ],
          [
           0.511591027
          ],
          [
           0.394627555
          ],
          [
           0.224394
          ],
          [
           0.626927584
          ],
          [
           0.290254057
          ],
          [
           0.779008053
          ],
          [
           0.86610579
          ],
          [
           0.873326081
          ],
          [
           0.49548916
          ],
          [
           0.594297695
          ],
          [
           0.9182015840000001
          ],
          [
           0.5770427539999999
          ],
          [
           0.019467671000000002
          ],
          [
           0.6702982820000001
          ],
          [
           0.546595316
          ],
          [
           0.591665146
          ],
          [
           0.42155819
          ],
          [
           0.6856085590000001
          ],
          [
           0.340303024
          ],
          [
           0.675626741
          ],
          [
           0.319067345
          ],
          [
           0.38849966399999997
          ],
          [
           0.706949589
          ],
          [
           0.559409515
          ],
          [
           0.687663508
          ],
          [
           0.7088045540000001
          ],
          [
           0.6818880940000001
          ],
          [
           0.42253510899999996
          ],
          [
           0.320004605
          ],
          [
           0.6582813679999999
          ],
          [
           0.634154867
          ],
          [
           0.7773320090000001
          ],
          [
           0.812677205
          ],
          [
           0.074280797
          ],
          [
           0.39600217
          ],
          [
           0.054933913
          ],
          [
           0.825058925
          ],
          [
           0.382642009
          ],
          [
           0.8687298179999999
          ],
          [
           0.588043346
          ],
          [
           0.891551577
          ],
          [
           0.10920046
          ],
          [
           0.647682781
          ],
          [
           0.724342512
          ],
          [
           0.07016304400000001
          ],
          [
           0.280882054
          ],
          [
           0.039113261
          ],
          [
           0.579641592
          ],
          [
           0.639000922
          ],
          [
           0.281745925
          ],
          [
           0.647857744
          ],
          [
           0.6479057970000001
          ],
          [
           0.875226264
          ],
          [
           0.567603305
          ],
          [
           0.262940591
          ],
          [
           0.268026042
          ],
          [
           0.40519133
          ],
          [
           0.479965451
          ],
          [
           0.33552403
          ],
          [
           0.777165379
          ],
          [
           0.42548796299999997
          ],
          [
           0.237986115
          ],
          [
           0.142522971
          ],
          [
           0.724176488
          ],
          [
           0.234698933
          ],
          [
           0.07818228099999999
          ],
          [
           0.855990155
          ],
          [
           0.270251765
          ],
          [
           0.435517841
          ],
          [
           0.762697513
          ],
          [
           0.46448725799999996
          ],
          [
           0.396112685
          ],
          [
           0.37638092100000003
          ],
          [
           0.29459467699999997
          ],
          [
           0.6944921209999999
          ],
          [
           0.622767949
          ],
          [
           0.8475597220000001
          ],
          [
           0.301463054
          ],
          [
           0.912937812
          ],
          [
           0.500017182
          ],
          [
           0.902587935
          ],
          [
           0.304517943
          ],
          [
           0.299165673
          ],
          [
           0.092014087
          ],
          [
           0.488548917
          ],
          [
           0.664664437
          ],
          [
           0.26534954899999996
          ],
          [
           0.723657021
          ],
          [
           0.149262385
          ],
          [
           0.04577339
          ],
          [
           0.69661064
          ],
          [
           0.42181486
          ],
          [
           0.733845785
          ],
          [
           0.418795386
          ],
          [
           0.677443529
          ],
          [
           0.26128360300000003
          ],
          [
           0.268527767
          ],
          [
           0.5443222360000001
          ],
          [
           0.431632036
          ],
          [
           0.981018141
          ],
          [
           0.21498072399999998
          ],
          [
           0.39472999299999995
          ],
          [
           0.122224944
          ],
          [
           0.297496875
          ],
          [
           0.37490443100000004
          ],
          [
           0.68698771
          ],
          [
           0.388549207
          ],
          [
           0.039296071
          ],
          [
           0.73553424
          ],
          [
           0.37929489299999997
          ],
          [
           0.7321233859999999
          ],
          [
           0.33922143899999996
          ],
          [
           0.659450594
          ],
          [
           0.054838642
          ],
          [
           0.640112102
          ],
          [
           0.30714170399999996
          ],
          [
           0.39661190700000004
          ],
          [
           0.420439161
          ],
          [
           0.24171497399999997
          ],
          [
           0.065893153
          ],
          [
           0.9105219370000001
          ],
          [
           0.697163103
          ],
          [
           0.072559853
          ],
          [
           0.81825094
          ],
          [
           0.311888815
          ],
          [
           0.961644609
          ],
          [
           0.816325524
          ],
          [
           0.14647302
          ],
          [
           0.548753945
          ],
          [
           0.946158087
          ],
          [
           0.293992717
          ],
          [
           0.331479643
          ],
          [
           0.9062200309999999
          ],
          [
           0.525540416
          ],
          [
           0.83301411
          ],
          [
           0.514849806
          ],
          [
           0.574609024
          ],
          [
           0.46871185299999996
          ],
          [
           0.71002775
          ],
          [
           0.645973276
          ],
          [
           0.229794416
          ],
          [
           0.551783393
          ],
          [
           0.055822990999999995
          ],
          [
           0.331750941
          ],
          [
           0.715520198
          ],
          [
           0.583924357
          ],
          [
           0.30695769100000003
          ],
          [
           0.7914782370000001
          ],
          [
           0.16423663900000002
          ],
          [
           0.065711219
          ],
          [
           0.948993132
          ],
          [
           0.080423835
          ],
          [
           0.052495426
          ],
          [
           0.566346135
          ],
          [
           0.3630266
          ],
          [
           0.605442195
          ],
          [
           0.6308505839999999
          ],
          [
           0.065791238
          ],
          [
           0.28681707100000003
          ],
          [
           0.685462839
          ],
          [
           0.260853706
          ],
          [
           0.659122429
          ],
          [
           0.44317392200000005
          ],
          [
           0.602063986
          ],
          [
           0.060366910999999995
          ],
          [
           0.781903153
          ],
          [
           0.5145798070000001
          ],
          [
           0.48388621299999995
          ],
          [
           0.600213807
          ],
          [
           0.49736405200000006
          ],
          [
           0.411145245
          ],
          [
           0.116999171
          ],
          [
           0.34189014100000004
          ],
          [
           0.746950848
          ],
          [
           0.39629274600000003
          ],
          [
           0.6221438429999999
          ],
          [
           0.335271141
          ],
          [
           0.140257137
          ],
          [
           0.081620681
          ],
          [
           0.069837569
          ],
          [
           0.46894000799999996
          ],
          [
           0.9908574170000001
          ],
          [
           0.896616832
          ],
          [
           0.255310561
          ],
          [
           0.22464526699999998
          ],
          [
           0.01991825
          ],
          [
           0.296480415
          ],
          [
           0.155458996
          ],
          [
           0.577916714
          ],
          [
           0.9563030309999999
          ],
          [
           0.813464394
          ],
          [
           0.529675785
          ],
          [
           0.287671353
          ],
          [
           0.48039136
          ],
          [
           0.28104482199999997
          ],
          [
           0.633196521
          ],
          [
           0.09332537699999999
          ],
          [
           0.28447398100000004
          ],
          [
           0.052223775
          ],
          [
           0.051129385
          ],
          [
           0.967405608
          ],
          [
           0.040045727999999996
          ],
          [
           0.9085829209999999
          ],
          [
           0.6621174160000001
          ],
          [
           0.42470320899999997
          ],
          [
           0.72207806
          ],
          [
           0.666193327
          ],
          [
           0.509681253
          ],
          [
           0.7513536209999999
          ],
          [
           0.279073124
          ],
          [
           0.074927
          ],
          [
           0.916359535
          ],
          [
           0.31040327
          ],
          [
           0.716604052
          ],
          [
           0.485587085
          ],
          [
           0.30607518100000003
          ],
          [
           0.477558204
          ],
          [
           0.7119239409999999
          ],
          [
           0.066348638
          ],
          [
           0.27453935100000004
          ],
          [
           0.31082252
          ],
          [
           0.47607312700000004
          ],
          [
           0.186795565
          ],
          [
           0.26654207
          ],
          [
           0.070231142
          ],
          [
           0.26951927
          ],
          [
           0.800004713
          ],
          [
           0.27363366699999997
          ],
          [
           0.14647919199999998
          ],
          [
           0.378318951
          ],
          [
           0.373849065
          ],
          [
           0.242170835
          ],
          [
           0.249796488
          ],
          [
           0.066591188
          ],
          [
           0.372956798
          ],
          [
           0.501812291
          ],
          [
           0.313097752
          ],
          [
           0.8802021959999999
          ],
          [
           0.51981893
          ],
          [
           0.364138746
          ],
          [
           0.49268289600000004
          ],
          [
           0.285732652
          ],
          [
           0.890114985
          ],
          [
           0.316419561
          ],
          [
           0.26866354
          ],
          [
           0.771975959
          ],
          [
           0.968888992
          ],
          [
           0.080334377
          ],
          [
           0.7368282209999999
          ],
          [
           0.30055807100000004
          ],
          [
           0.9179503929999999
          ],
          [
           0.465815039
          ],
          [
           0.054036682
          ],
          [
           0.963150123
          ],
          [
           0.08965350300000001
          ],
          [
           0.7076932340000001
          ],
          [
           0.636416037
          ],
          [
           0.539521117
          ],
          [
           0.114757161
          ],
          [
           0.357312419
          ],
          [
           0.67639834
          ],
          [
           0.43482839
          ],
          [
           0.032326387000000005
          ],
          [
           0.711365605
          ],
          [
           0.187486519
          ],
          [
           0.052789653
          ],
          [
           0.5058636129999999
          ],
          [
           0.927431873
          ],
          [
           0.6809842559999999
          ],
          [
           0.882822186
          ],
          [
           0.495705441
          ],
          [
           0.596240398
          ],
          [
           0.320610701
          ],
          [
           0.3413685
          ],
          [
           0.159681797
          ],
          [
           0.318133669
          ],
          [
           0.8393010479999999
          ],
          [
           0.06435925099999999
          ],
          [
           0.470216633
          ],
          [
           0.7762522909999999
          ],
          [
           0.635843383
          ],
          [
           0.62510543
          ],
          [
           0.52959065
          ],
          [
           0.986900166
          ],
          [
           0.078585688
          ],
          [
           0.233284267
          ],
          [
           0.363330957
          ],
          [
           0.7167169809999999
          ],
          [
           0.37588979200000006
          ],
          [
           0.223316889
          ],
          [
           0.299343986
          ],
          [
           0.538595767
          ],
          [
           0.730297124
          ],
          [
           0.66033077
          ],
          [
           0.435296009
          ],
          [
           0.326494313
          ],
          [
           0.854402708
          ],
          [
           0.5734938470000001
          ],
          [
           0.757786135
          ],
          [
           0.704743233
          ],
          [
           0.281575597
          ],
          [
           0.671968208
          ],
          [
           0.313726015
          ],
          [
           0.364338275
          ],
          [
           0.368216396
          ],
          [
           0.38629520700000003
          ],
          [
           0.655971865
          ],
          [
           0.5660252729999999
          ],
          [
           0.424999093
          ],
          [
           0.090110371
          ],
          [
           0.772350538
          ],
          [
           0.331047258
          ],
          [
           0.273716188
          ],
          [
           0.23877568
          ],
          [
           0.37307977200000003
          ],
          [
           0.331185868
          ],
          [
           0.256134531
          ],
          [
           0.678373225
          ],
          [
           0.43463833799999996
          ],
          [
           0.654668307
          ],
          [
           0.986681065
          ],
          [
           0.371520495
          ],
          [
           0.408359618
          ],
          [
           0.40932365
          ],
          [
           0.283412082
          ],
          [
           0.395246531
          ],
          [
           0.010984428000000001
          ],
          [
           0.306013869
          ],
          [
           0.266194806
          ],
          [
           0.299318521
          ],
          [
           0.318293946
          ],
          [
           0.74282591
          ],
          [
           0.09766432900000001
          ],
          [
           0.079666942
          ],
          [
           0.613258767
          ],
          [
           0.99443072
          ],
          [
           0.568835082
          ],
          [
           0.7080345159999999
          ],
          [
           0.37059271899999996
          ],
          [
           0.669867361
          ],
          [
           0.651295625
          ],
          [
           0.462531569
          ],
          [
           0.7196256190000001
          ],
          [
           0.45377248
          ],
          [
           0.394863946
          ],
          [
           0.323974831
          ],
          [
           0.146454724
          ],
          [
           0.7790670409999999
          ],
          [
           0.401828915
          ],
          [
           0.601479585
          ],
          [
           0.856423023
          ],
          [
           0.565242962
          ],
          [
           0.301225108
          ],
          [
           0.282108144
          ],
          [
           0.594378011
          ],
          [
           0.705312368
          ],
          [
           0.5408696279999999
          ],
          [
           0.319249574
          ],
          [
           0.36176613799999996
          ],
          [
           0.625000704
          ],
          [
           0.316287401
          ],
          [
           0.047239021
          ],
          [
           0.801182233
          ],
          [
           0.508474436
          ],
          [
           0.8178934109999999
          ],
          [
           0.399235601
          ],
          [
           0.9740519990000001
          ],
          [
           0.72241535
          ],
          [
           0.039564764
          ],
          [
           0.908684108
          ],
          [
           0.47301013399999997
          ],
          [
           0.7180496279999999
          ],
          [
           0.7634790690000001
          ],
          [
           0.6475965370000001
          ],
          [
           0.8949973859999999
          ],
          [
           0.22282590100000002
          ],
          [
           0.359012234
          ],
          [
           0.944910252
          ],
          [
           0.297877816
          ],
          [
           0.172517997
          ],
          [
           0.556586265
          ],
          [
           0.876481735
          ],
          [
           0.48667784299999994
          ],
          [
           0.459496733
          ],
          [
           0.47412637700000004
          ],
          [
           0.70101144
          ],
          [
           0.337597387
          ],
          [
           0.537578886
          ],
          [
           0.966992448
          ],
          [
           0.056849545
          ],
          [
           0.233249065
          ],
          [
           0.380054711
          ],
          [
           0.602929443
          ],
          [
           0.303847999
          ],
          [
           0.170194553
          ],
          [
           0.972168554
          ],
          [
           0.332168927
          ],
          [
           0.6887286890000001
          ],
          [
           0.110773401
          ],
          [
           0.273352065
          ],
          [
           0.572939678
          ],
          [
           0.491457065
          ],
          [
           0.281389999
          ],
          [
           0.821697261
          ],
          [
           0.6749776829999999
          ],
          [
           0.585134549
          ],
          [
           0.7105961159999999
          ],
          [
           0.040488789
          ],
          [
           0.568054311
          ],
          [
           0.321752928
          ],
          [
           0.611850232
          ],
          [
           0.926096887
          ],
          [
           0.618347428
          ],
          [
           0.667629785
          ],
          [
           0.39773346600000004
          ],
          [
           0.290875487
          ],
          [
           0.594375103
          ],
          [
           0.508255233
          ],
          [
           0.338571357
          ],
          [
           0.43230234700000003
          ],
          [
           0.302221978
          ],
          [
           0.87619819
          ],
          [
           0.080204492
          ],
          [
           0.092333532
          ],
          [
           0.09365644699999999
          ],
          [
           0.6084523510000001
          ],
          [
           0.732654598
          ],
          [
           0.944158855
          ],
          [
           0.26742308
          ],
          [
           0.731124201
          ],
          [
           0.661308553
          ],
          [
           0.38776626200000003
          ],
          [
           0.962585273
          ],
          [
           0.322067067
          ],
          [
           0.6340810929999999
          ],
          [
           0.475345002
          ],
          [
           0.35355897299999994
          ],
          [
           0.8859363159999999
          ],
          [
           0.876798106
          ],
          [
           0.221581064
          ],
          [
           0.394362449
          ],
          [
           0.8050356759999999
          ],
          [
           0.452898486
          ],
          [
           0.592520516
          ],
          [
           0.761026394
          ],
          [
           0.245049023
          ],
          [
           0.37213936299999995
          ],
          [
           0.681054822
          ],
          [
           0.7471431479999999
          ],
          [
           0.9207395290000001
          ],
          [
           0.097207945
          ],
          [
           0.699302998
          ],
          [
           0.721647006
          ],
          [
           0.5353561139999999
          ],
          [
           0.738293805
          ],
          [
           0.7064675509999999
          ],
          [
           0.67395061
          ],
          [
           0.7112122909999999
          ],
          [
           0.302558708
          ],
          [
           0.080097855
          ],
          [
           0.707010837
          ],
          [
           0.512248622
          ],
          [
           0.659627472
          ],
          [
           0.657559694
          ],
          [
           0.100645606
          ],
          [
           0.92665363
          ],
          [
           0.892879338
          ],
          [
           0.839157508
          ],
          [
           0.890959718
          ],
          [
           0.556754471
          ],
          [
           0.960361937
          ],
          [
           0.631037864
          ],
          [
           0.029838065
          ],
          [
           0.278843351
          ],
          [
           0.926157705
          ],
          [
           0.551504258
          ],
          [
           0.485942349
          ],
          [
           0.43723469600000003
          ],
          [
           0.25231801800000003
          ],
          [
           0.515466972
          ],
          [
           0.43725229600000004
          ],
          [
           0.493724207
          ],
          [
           0.83324725
          ],
          [
           0.317521477
          ],
          [
           0.28623456199999997
          ],
          [
           0.726833965
          ],
          [
           0.495667033
          ],
          [
           0.028645255
          ],
          [
           0.31967191699999997
          ],
          [
           0.674344598
          ],
          [
           0.7660371890000001
          ],
          [
           0.65456992
          ],
          [
           0.7565143809999999
          ],
          [
           0.528253719
          ],
          [
           0.38971949100000003
          ],
          [
           0.355087459
          ],
          [
           0.87015202
          ],
          [
           0.7390833059999999
          ],
          [
           0.305761846
          ],
          [
           0.411587673
          ],
          [
           0.063633094
          ],
          [
           0.735409395
          ],
          [
           0.605916669
          ],
          [
           0.539395562
          ],
          [
           0.566183532
          ],
          [
           0.674795186
          ],
          [
           0.070993366
          ],
          [
           0.12526410000000002
          ],
          [
           0.279601492
          ],
          [
           0.952174402
          ],
          [
           0.233806762
          ],
          [
           0.43724742899999997
          ],
          [
           0.925423095
          ],
          [
           0.433498634
          ],
          [
           0.52517902
          ],
          [
           0.088435529
          ],
          [
           0.447677638
          ],
          [
           0.647000631
          ],
          [
           0.9036033370000001
          ],
          [
           0.265790738
          ],
          [
           0.66419695
          ],
          [
           0.498120658
          ],
          [
           0.49018894399999996
          ],
          [
           0.747084187
          ],
          [
           0.906783648
          ],
          [
           0.678770917
          ],
          [
           0.348599859
          ],
          [
           0.294839683
          ],
          [
           0.705691827
          ],
          [
           0.211917931
          ],
          [
           0.063201124
          ],
          [
           0.276699543
          ],
          [
           0.672459395
          ],
          [
           0.8082059490000001
          ],
          [
           0.296538373
          ],
          [
           0.16012686199999998
          ],
          [
           0.439385032
          ],
          [
           0.555951416
          ],
          [
           0.386240112
          ],
          [
           0.158689619
          ],
          [
           0.214499855
          ],
          [
           0.299579429
          ],
          [
           0.569161656
          ],
          [
           0.488614799
          ],
          [
           0.8782950209999999
          ],
          [
           0.649380949
          ],
          [
           0.465713341
          ],
          [
           0.16813774
          ],
          [
           0.87529545
          ],
          [
           0.8411323409999999
          ],
          [
           0.33292081
          ],
          [
           0.5130478589999999
          ],
          [
           0.30505507800000004
          ],
          [
           0.8126269909999999
          ],
          [
           0.25096706
          ],
          [
           0.5024355779999999
          ],
          [
           0.45799074100000003
          ]
         ],
         "hovertemplate": "0=%{x}<br>1=%{y}<br>Feature=%{customdata[0]}<br>Label=%{marker.color}<extra></extra>",
         "legendgroup": "",
         "marker": {
          "color": [
           0,
           0,
           1,
           1,
           0,
           0,
           0,
           1,
           1,
           0,
           0,
           1,
           0,
           0,
           1,
           0,
           1,
           0,
           0,
           0,
           1,
           0,
           0,
           1,
           1,
           1,
           0,
           0,
           1,
           1,
           0,
           0,
           1,
           1,
           1,
           0,
           0,
           0,
           0,
           0,
           1,
           0,
           0,
           1,
           0,
           0,
           0,
           0,
           0,
           0,
           0,
           1,
           0,
           1,
           0,
           1,
           0,
           0,
           0,
           1,
           0,
           0,
           1,
           1,
           0,
           0,
           1,
           0,
           0,
           1,
           0,
           0,
           0,
           0,
           0,
           0,
           0,
           0,
           0,
           0,
           0,
           0,
           0,
           0,
           0,
           0,
           0,
           0,
           0,
           0,
           0,
           0,
           0,
           0,
           0,
           0,
           0,
           0,
           0,
           0,
           0,
           0,
           0,
           0,
           0,
           0,
           0,
           0,
           0,
           0,
           0,
           0,
           0,
           0,
           0,
           0,
           0,
           0,
           0,
           0,
           0,
           0,
           0,
           0,
           0,
           0,
           0,
           0,
           0,
           0,
           0,
           0,
           0,
           0,
           0,
           0,
           0,
           0,
           0,
           0,
           0,
           0,
           0,
           0,
           0,
           0,
           0,
           0,
           0,
           0,
           0,
           0,
           0,
           0,
           0,
           0,
           0,
           0,
           0,
           0,
           0,
           0,
           0,
           0,
           0,
           0,
           0,
           0,
           0,
           0,
           0,
           0,
           0,
           0,
           0,
           0,
           0,
           0,
           0,
           0,
           0,
           0,
           0,
           0,
           0,
           0,
           0,
           0,
           0,
           0,
           0,
           0,
           0,
           0,
           0,
           0,
           0,
           0,
           1,
           0,
           0,
           0,
           0,
           0,
           0,
           0,
           0,
           0,
           0,
           0,
           0,
           0,
           0,
           0,
           0,
           0,
           0,
           0,
           0,
           0,
           0,
           0,
           0,
           0,
           0,
           0,
           0,
           0,
           0,
           0,
           0,
           0,
           0,
           0,
           0,
           0,
           0,
           0,
           0,
           0,
           0,
           0,
           0,
           0,
           0,
           0,
           0,
           0,
           0,
           0,
           0,
           0,
           0,
           0,
           0,
           0,
           0,
           0,
           0,
           0,
           0,
           0,
           0,
           0,
           0,
           0,
           0,
           0,
           0,
           0,
           0,
           0,
           0,
           0,
           0,
           0,
           0,
           0,
           0,
           0,
           0,
           0,
           0,
           0,
           0,
           0,
           0,
           0,
           0,
           0,
           0,
           0,
           0,
           0,
           0,
           0,
           0,
           0,
           0,
           0,
           0,
           0,
           0,
           0,
           0,
           0,
           0,
           0,
           0,
           0,
           0,
           0,
           0,
           0,
           0,
           0,
           0,
           0,
           0,
           0,
           0,
           0,
           0,
           0,
           0,
           0,
           0,
           0,
           0,
           0,
           0,
           0,
           0,
           0,
           0,
           0,
           0,
           0,
           0,
           0,
           0,
           0,
           0,
           0,
           0,
           0,
           0,
           0,
           0,
           0,
           0,
           0,
           0,
           0,
           0,
           0,
           0,
           0,
           0,
           0,
           0,
           0,
           0,
           0,
           0,
           0,
           0,
           0,
           0,
           0,
           0,
           0,
           0,
           0,
           0,
           0,
           0,
           0,
           0,
           0,
           0,
           0,
           0,
           0,
           0,
           0,
           0,
           0,
           0,
           0,
           0,
           0,
           0,
           0,
           0,
           0,
           0,
           0,
           0,
           0,
           0,
           0,
           0,
           0,
           0,
           0,
           0,
           0,
           0,
           0,
           0,
           0,
           0,
           0,
           0,
           0,
           0,
           0,
           0,
           0,
           0,
           0,
           0,
           0,
           0,
           0,
           0,
           0,
           0,
           0,
           0,
           0,
           0,
           0,
           0,
           0,
           0,
           0,
           0,
           0,
           0,
           0,
           0,
           0,
           0,
           0,
           0,
           0,
           0,
           0,
           0,
           0,
           0,
           0,
           0,
           0,
           0,
           0,
           0,
           0,
           0,
           0,
           0,
           0,
           0,
           0,
           0,
           0,
           0,
           0,
           0,
           0,
           0,
           0,
           0,
           0,
           0,
           0,
           0,
           0,
           0,
           0,
           0,
           0,
           0,
           0,
           0,
           0,
           0,
           0,
           0,
           0,
           0,
           0,
           0,
           0,
           0,
           0,
           0,
           0,
           0,
           0,
           0,
           0,
           0,
           0,
           0,
           0,
           0,
           0,
           0,
           0,
           0,
           0,
           0,
           0,
           0,
           0,
           0,
           0,
           0,
           0,
           0,
           0,
           0,
           0,
           0,
           0,
           0,
           0,
           0,
           0,
           0,
           0,
           0,
           0,
           0,
           0,
           0,
           0,
           0,
           0,
           0,
           0,
           0,
           1,
           0,
           0,
           0,
           0,
           0,
           0,
           0,
           0,
           0,
           0,
           0,
           0,
           0,
           0,
           0,
           0,
           0,
           0,
           0,
           0,
           0,
           0,
           0,
           0,
           0,
           0,
           0,
           0,
           0,
           0,
           0,
           1,
           0,
           0,
           0,
           0,
           0,
           0,
           0,
           0,
           0,
           0,
           0,
           0,
           0,
           0,
           0,
           0,
           0,
           0,
           0,
           0,
           0,
           0,
           0,
           0,
           1,
           0,
           0,
           0,
           0,
           0,
           0,
           0,
           0,
           0,
           0,
           0,
           0,
           0,
           0,
           0,
           0,
           0,
           0,
           0,
           0,
           0,
           0,
           0,
           0,
           0,
           0,
           0,
           0,
           0,
           0,
           0,
           0,
           0,
           0,
           0,
           0,
           0,
           0,
           0,
           0,
           0,
           0,
           0,
           0,
           0,
           0,
           0,
           0,
           0,
           0,
           0,
           0,
           0,
           0,
           0,
           0,
           0,
           0,
           0,
           0,
           0,
           0,
           0,
           0,
           0,
           0,
           0,
           0,
           0,
           0,
           0,
           0,
           0,
           0,
           0,
           0,
           0,
           1,
           0,
           0,
           0,
           0,
           0,
           0,
           0,
           0,
           0,
           0,
           0,
           0,
           0,
           0,
           0,
           0,
           0,
           0,
           0,
           1,
           1,
           0,
           1,
           1,
           0,
           0,
           1,
           1,
           0,
           0,
           0,
           0,
           1,
           0,
           0,
           1,
           1,
           1,
           0,
           1,
           0,
           1,
           1,
           1,
           0,
           0,
           0,
           1,
           0,
           0,
           0,
           0,
           0,
           0,
           0,
           0,
           0,
           0,
           0,
           0,
           0,
           0,
           1,
           0,
           0,
           0,
           0,
           0,
           0,
           0,
           0,
           0,
           0,
           0,
           0,
           0,
           0,
           0,
           0,
           0,
           0,
           0,
           0,
           0,
           0,
           0,
           0,
           0,
           0,
           0,
           0,
           0,
           0,
           0,
           0,
           0,
           0,
           0,
           0,
           1,
           0,
           0,
           0,
           0,
           0,
           0,
           0,
           0,
           0,
           0,
           0,
           0,
           0,
           0,
           0,
           0,
           0,
           0,
           0,
           0,
           0,
           0,
           0,
           0,
           0,
           0,
           0,
           0,
           0,
           0,
           0,
           0,
           0,
           0,
           0,
           0,
           0,
           0,
           0,
           0,
           0,
           0,
           0,
           0,
           0,
           0,
           0,
           0,
           0,
           0,
           0,
           0,
           0,
           0,
           0,
           0,
           0,
           0,
           0,
           0,
           0,
           0,
           0,
           0,
           0,
           0,
           0,
           0,
           0,
           0,
           0,
           0,
           0,
           0,
           0,
           0,
           0,
           0,
           0,
           0,
           0,
           0,
           1,
           0,
           0,
           0,
           0,
           0,
           0,
           0,
           0,
           0,
           0,
           0,
           0,
           0,
           0,
           0,
           0,
           0,
           0,
           0,
           0,
           0,
           0,
           0,
           0,
           0,
           0,
           0,
           0,
           0,
           0,
           0,
           0,
           0,
           0,
           0,
           0,
           0,
           0,
           0,
           0,
           0,
           0,
           0,
           0,
           0,
           0,
           0,
           0,
           0,
           0,
           0,
           0,
           0,
           0,
           0,
           0,
           0,
           1,
           0,
           0,
           0,
           0,
           0,
           0,
           0,
           0,
           0,
           0,
           0,
           0,
           0,
           0,
           0,
           0,
           0,
           0,
           0,
           0,
           0,
           0,
           0,
           0,
           0,
           0,
           0,
           0,
           0,
           0,
           0,
           0,
           0,
           0,
           0,
           0,
           0,
           0,
           0,
           0,
           0,
           0,
           0,
           0,
           0,
           0,
           0,
           0,
           0,
           0,
           0,
           0,
           0,
           0,
           0,
           0,
           0,
           0,
           0,
           0,
           0,
           0,
           0,
           0,
           0,
           0,
           0,
           0,
           0,
           0,
           0,
           0,
           0,
           0,
           0,
           0,
           0,
           0
          ],
          "coloraxis": "coloraxis",
          "opacity": 0.7,
          "symbol": "circle"
         },
         "mode": "markers",
         "name": "",
         "orientation": "v",
         "showlegend": false,
         "type": "scatter",
         "x": [
          1.3409028053283691,
          1.8623543977737427,
          12.096579551696777,
          10.583174705505371,
          13.16015625,
          9.824003219604492,
          -0.17837323248386383,
          10.991157531738281,
          1.1568424701690674,
          -1.2950650453567505,
          9.93409538269043,
          12.968066215515137,
          9.82121467590332,
          -0.11020751297473907,
          11.91230297088623,
          12.14042854309082,
          9.799764633178711,
          -0.5109284520149231,
          11.391465187072754,
          11.154668807983398,
          9.540987968444824,
          1.0837618112564087,
          12.215356826782227,
          1.1805391311645508,
          10.48641586303711,
          1.0586373805999756,
          12.809149742126465,
          0.13597829639911652,
          12.3187894821167,
          12.053875923156738,
          1.072465181350708,
          1.2276911735534668,
          0.0015348080778494477,
          11.714712142944336,
          -0.11698645353317261,
          1.0853408575057983,
          -0.9336979985237122,
          0.04961787164211273,
          0.8467927575111389,
          10.06503963470459,
          -1.927302598953247,
          11.694418907165527,
          -1.3061020374298096,
          10.238044738769531,
          11.611686706542969,
          11.990399360656738,
          11.586943626403809,
          1.2232153415679932,
          12.885856628417969,
          -1.4673488140106201,
          10.350773811340332,
          11.153007507324219,
          -0.45970797538757324,
          12.060342788696289,
          9.949666976928711,
          0.6179608106613159,
          0.4618309438228607,
          -0.033327583223581314,
          11.573433876037598,
          12.065736770629883,
          0.06843674927949905,
          -0.07187860459089279,
          12.507999420166016,
          11.518383979797363,
          -1.4612483978271484,
          11.552078247070312,
          -0.9684394001960754,
          -0.5103963613510132,
          12.980794906616211,
          10.261322021484375,
          12.103296279907227,
          11.161988258361816,
          0.29882141947746277,
          10.156044006347656,
          -1.0209656953811646,
          0.48411163687705994,
          13.109938621520996,
          12.295937538146973,
          -1.666502594947815,
          -1.742874026298523,
          -1.4895896911621094,
          0.06181608512997627,
          12.75760555267334,
          0.11698968708515167,
          0.2608332633972168,
          1.8086758852005005,
          -0.9758941531181335,
          -0.9015281200408936,
          0.6485679149627686,
          0.39169105887413025,
          0.21105197072029114,
          9.946454048156738,
          -0.7930477857589722,
          -0.35077255964279175,
          0.6811609268188477,
          12.46642017364502,
          -0.7431526780128479,
          1.571433424949646,
          0.09895136207342148,
          13.019647598266602,
          0.672976016998291,
          -1.5318471193313599,
          1.586203932762146,
          -0.9265680313110352,
          12.155904769897461,
          -1.5624219179153442,
          -0.3293341100215912,
          0.9424270391464233,
          -1.1057898998260498,
          12.293313026428223,
          0.00039638555608689785,
          0.7358192801475525,
          9.794319152832031,
          0.09772902727127075,
          12.798638343811035,
          -0.40439093112945557,
          -0.3280124068260193,
          -0.416736900806427,
          10.37242603302002,
          -0.18119211494922638,
          -0.658872663974762,
          0.37201666831970215,
          1.1059883832931519,
          -1.5662950277328491,
          0.6568193435668945,
          1.68450927734375,
          0.9047507643699646,
          10.659571647644043,
          0.6344009041786194,
          1.5728042125701904,
          0.3994589149951935,
          -0.6649200320243835,
          10.549165725708008,
          0.4082934856414795,
          -1.5358695983886719,
          1.0537302494049072,
          12.525474548339844,
          11.162613868713379,
          1.6685503721237183,
          1.529273271560669,
          10.312870979309082,
          0.42677271366119385,
          -0.9187473654747009,
          13.027107238769531,
          -0.31612735986709595,
          -1.4616031646728516,
          10.312789916992188,
          -1.4970976114273071,
          1.748167872428894,
          0.18331435322761536,
          0.15877734124660492,
          -0.355071097612381,
          1.1317566633224487,
          -1.1241265535354614,
          0.9980145692825317,
          -0.8244756460189819,
          -1.620802879333496,
          -1.9203661680221558,
          -0.47278115153312683,
          9.563689231872559,
          -0.39308449625968933,
          -0.23114660382270813,
          -0.8396371603012085,
          -1.8214682340621948,
          10.120217323303223,
          -1.543502926826477,
          10.399806022644043,
          11.88703727722168,
          11.984356880187988,
          0.33128684759140015,
          -0.3942629098892212,
          1.7205231189727783,
          10.366744041442871,
          12.261520385742188,
          1.1331801414489746,
          -1.354088306427002,
          9.963923454284668,
          11.970151901245117,
          1.6199867725372314,
          11.063126564025879,
          1.0094956159591675,
          10.51983642578125,
          1.0140312910079956,
          11.749058723449707,
          11.895673751831055,
          -0.3085811138153076,
          11.290271759033203,
          0.035940323024988174,
          -1.3116248846054077,
          -0.28340575098991394,
          -1.6099778413772583,
          13.200444221496582,
          9.997431755065918,
          12.482522964477539,
          -0.9384452700614929,
          -0.08342467248439789,
          0.7466108798980713,
          1.0862945318222046,
          0.6100965142250061,
          0.9265300035476685,
          0.8653400540351868,
          0.812623918056488,
          0.6061256527900696,
          12.795631408691406,
          12.208142280578613,
          1.0541272163391113,
          -1.8698712587356567,
          0.7648337483406067,
          10.391027450561523,
          1.2254105806350708,
          1.0278011560440063,
          11.20493221282959,
          12.447254180908203,
          -0.13292036950588226,
          0.5746181607246399,
          0.8084679245948792,
          1.4245222806930542,
          12.153304100036621,
          12.542704582214355,
          1.4894951581954956,
          12.24773120880127,
          0.6298916339874268,
          12.893341064453125,
          -1.1968896389007568,
          -0.9197868704795837,
          -1.8393216133117676,
          -1.54316246509552,
          -1.2201482057571411,
          -1.6009365320205688,
          10.836779594421387,
          -0.04973718151450157,
          -1.1157559156417847,
          11.063145637512207,
          11.120200157165527,
          -0.47966623306274414,
          0.7735300064086914,
          1.5263980627059937,
          -0.31444695591926575,
          10.792795181274414,
          11.923880577087402,
          0.7794257998466492,
          1.1860451698303223,
          11.849711418151855,
          -0.15647706389427185,
          11.002950668334961,
          -1.121046543121338,
          -1.0930836200714111,
          -1.2131195068359375,
          -1.628688097000122,
          12.35930061340332,
          -0.662173330783844,
          1.464866042137146,
          10.99162483215332,
          -0.18778587877750397,
          -1.5500273704528809,
          1.30020010471344,
          1.2876163721084595,
          -0.614814043045044,
          10.839509010314941,
          -0.18261829018592834,
          11.87857437133789,
          -0.1302616000175476,
          12.968352317810059,
          1.1523302793502808,
          -0.7147161364555359,
          0.14304634928703308,
          11.333832740783691,
          -0.6574758291244507,
          -1.0178204774856567,
          1.1496561765670776,
          0.9566870331764221,
          0.6673763394355774,
          0.6077494621276855,
          11.845285415649414,
          9.82691478729248,
          -1.2916940450668335,
          12.523771286010742,
          13.221435546875,
          0.817510187625885,
          -1.310264229774475,
          -1.556139349937439,
          11.8621244430542,
          -1.4126588106155396,
          0.895862877368927,
          12.719459533691406,
          0.7009516954421997,
          -0.7272540926933289,
          0.8411269783973694,
          -0.8031575083732605,
          0.8529876470565796,
          0.2579882740974426,
          0.7067038416862488,
          -0.3030431568622589,
          0.499926894903183,
          0.11821376532316208,
          9.98239803314209,
          10.262396812438965,
          -1.8307644128799438,
          0.08878148347139359,
          1.2483652830123901,
          1.8954588174819946,
          -0.5197038054466248,
          12.41268539428711,
          11.107599258422852,
          10.46202564239502,
          -0.609880805015564,
          1.1480528116226196,
          -0.5568959712982178,
          -1.8859270811080933,
          11.876441955566406,
          11.82654094696045,
          -1.6582010984420776,
          10.71274471282959,
          11.870989799499512,
          0.46052417159080505,
          1.2872868776321411,
          0.3100681006908417,
          -0.040826406329870224,
          -0.7144708633422852,
          0.6559049487113953,
          1.8211733102798462,
          0.11750279366970062,
          11.078910827636719,
          1.5730398893356323,
          -1.0718649625778198,
          1.1479207277297974,
          11.595836639404297,
          11.305770874023438,
          11.938644409179688,
          10.331504821777344,
          -0.6752555966377258,
          12.061749458312988,
          -0.5368908643722534,
          -0.7514682412147522,
          -0.9234281182289124,
          12.797905921936035,
          1.5404051542282104,
          1.0470017194747925,
          11.294468879699707,
          11.881303787231445,
          1.0763909816741943,
          -1.2811628580093384,
          10.105629920959473,
          -1.132020115852356,
          11.147297859191895,
          12.408306121826172,
          0.40107056498527527,
          -1.8027268648147583,
          10.69058609008789,
          12.19424057006836,
          1.493947982788086,
          0.7740466594696045,
          -0.11898116767406464,
          0.6114237904548645,
          -0.6425099968910217,
          -1.190030813217163,
          -0.01148845162242651,
          0.9057526588439941,
          12.307829856872559,
          1.0806058645248413,
          1.7567994594573975,
          1.2561992406845093,
          0.6959204077720642,
          -1.6803674697875977,
          10.922402381896973,
          -0.9622669816017151,
          12.54554557800293,
          -0.5310581922531128,
          -0.8817221522331238,
          0.9667727947235107,
          -1.0952930450439453,
          0.667789876461029,
          13.225404739379883,
          11.687472343444824,
          11.099780082702637,
          -1.3821427822113037,
          -0.7979015707969666,
          10.430450439453125,
          0.6135046482086182,
          0.7409002184867859,
          9.989166259765625,
          0.605017364025116,
          -0.7435203194618225,
          -0.510722815990448,
          1.6204231977462769,
          -0.6610344648361206,
          -0.24037794768810272,
          -0.07501810789108276,
          1.091253399848938,
          0.611412763595581,
          -0.9998396635055542,
          -0.733637273311615,
          0.35531046986579895,
          -0.39079099893569946,
          -0.16035978496074677,
          0.6768271327018738,
          -1.5006171464920044,
          11.07317066192627,
          1.0275249481201172,
          -1.2223860025405884,
          0.05625064671039581,
          -0.4799972474575043,
          -1.5197175741195679,
          0.9799187779426575,
          11.307902336120605,
          -0.3714485466480255,
          12.130792617797852,
          0.5410704016685486,
          9.51611042022705,
          1.059346318244934,
          0.4042653739452362,
          0.4183948338031769,
          12.515044212341309,
          -0.7555926442146301,
          0.6454370021820068,
          -1.1773877143859863,
          -1.0692992210388184,
          0.8883730173110962,
          11.262642860412598,
          12.37214469909668,
          0.6543042063713074,
          0.17423559725284576,
          0.7153273820877075,
          1.7617467641830444,
          12.007616996765137,
          -1.174628734588623,
          -0.047849901020526886,
          10.414385795593262,
          0.8010485768318176,
          13.114921569824219,
          -0.33411917090415955,
          -0.413293719291687,
          0.04247482866048813,
          10.488914489746094,
          12.210716247558594,
          0.47188058495521545,
          -0.5895127058029175,
          12.969170570373535,
          -1.0949907302856445,
          12.244514465332031,
          -1.5567951202392578,
          -1.644521951675415,
          12.477737426757812,
          13.351322174072266,
          0.47010427713394165,
          10.022470474243164,
          12.219369888305664,
          -1.236321210861206,
          12.245241165161133,
          10.669024467468262,
          -0.7141906023025513,
          12.672489166259766,
          -1.499366283416748,
          -0.7482514381408691,
          9.73881721496582,
          0.7380502223968506,
          1.3104901313781738,
          12.403650283813477,
          -1.4831849336624146,
          -0.48860427737236023,
          1.476538896560669,
          12.45144271850586,
          -1.1175733804702759,
          -1.0958149433135986,
          1.2455662488937378,
          0.1377229392528534,
          -1.0321167707443237,
          11.927508354187012,
          -1.5885114669799805,
          12.11618423461914,
          -0.8728265762329102,
          -0.7520143389701843,
          -1.0073583126068115,
          0.5767624378204346,
          -1.1861763000488281,
          -0.9185830950737,
          0.09490448236465454,
          10.270572662353516,
          1.1052123308181763,
          0.3092789649963379,
          -1.8551995754241943,
          -0.2383400946855545,
          10.435821533203125,
          12.942299842834473,
          -0.3305703103542328,
          13.23039436340332,
          1.2874971628189087,
          0.5657604932785034,
          1.0949293375015259,
          11.837267875671387,
          -1.0451022386550903,
          9.727234840393066,
          10.353343963623047,
          12.457666397094727,
          11.967324256896973,
          10.435419082641602,
          0.952195942401886,
          9.637960433959961,
          -0.8910574316978455,
          0.34500235319137573,
          1.6256557703018188,
          0.5231947898864746,
          1.0391227006912231,
          0.6084484457969666,
          0.8154484629631042,
          11.857107162475586,
          -1.121617317199707,
          -1.6666587591171265,
          0.16517524421215057,
          10.665456771850586,
          13.205949783325195,
          -1.8581613302230835,
          1.0262521505355835,
          11.70411205291748,
          -1.7456492185592651,
          -1.2580344676971436,
          -0.8474982380867004,
          -1.3747286796569824,
          1.4231189489364624,
          1.172807216644287,
          0.36451470851898193,
          12.525737762451172,
          10.837268829345703,
          11.931167602539062,
          12.494282722473145,
          -0.5770609378814697,
          -0.4418916404247284,
          -0.5606372952461243,
          1.225412368774414,
          1.228373646736145,
          1.6152993440628052,
          12.52126693725586,
          9.658036231994629,
          -1.0095586776733398,
          9.579543113708496,
          11.677525520324707,
          1.0374698638916016,
          12.946561813354492,
          0.43906471133232117,
          1.1984343528747559,
          1.6811840534210205,
          10.135697364807129,
          0.46738606691360474,
          1.6447253227233887,
          -1.7133632898330688,
          10.344088554382324,
          -1.5622968673706055,
          10.350983619689941,
          10.407505989074707,
          -1.3600319623947144,
          -1.0937072038650513,
          0.851926326751709,
          13.017898559570312,
          -0.5545812845230103,
          -1.0848308801651,
          1.3997341394424438,
          9.577338218688965,
          -0.7155541181564331,
          11.423365592956543,
          1.4152507781982422,
          13.41181468963623,
          12.596917152404785,
          -1.311105489730835,
          10.086042404174805,
          -0.4340902268886566,
          -1.8380225896835327,
          -1.425124168395996,
          0.5205949544906616,
          10.874946594238281,
          9.747167587280273,
          1.1756041049957275,
          9.635963439941406,
          11.125080108642578,
          12.15945816040039,
          1.4617868661880493,
          11.942475318908691,
          0.3518144488334656,
          -0.7877069711685181,
          1.040730357170105,
          -0.5943573117256165,
          0.7187333703041077,
          -0.7812554240226746,
          11.890043258666992,
          0.47976553440093994,
          -1.8628530502319336,
          -1.747936487197876,
          1.2830597162246704,
          -0.8534230589866638,
          -0.8929596543312073,
          12.549571990966797,
          -0.30410173535346985,
          -1.6858075857162476,
          1.2106510400772095,
          11.207956314086914,
          1.1779086589813232,
          -0.8649135828018188,
          11.103696823120117,
          12.465117454528809,
          10.349712371826172,
          13.329706192016602,
          10.676421165466309,
          0.6274676322937012,
          10.735710144042969,
          -0.30053842067718506,
          10.14309310913086,
          1.620248794555664,
          11.24898910522461,
          12.312493324279785,
          -0.1930389553308487,
          1.8553310632705688,
          10.74921703338623,
          0.2024765908718109,
          0.3150801360607147,
          1.103335976600647,
          -1.0411759614944458,
          -1.3068559169769287,
          0.8578024506568909,
          0.6718704700469971,
          0.44672706723213196,
          1.2585809230804443,
          0.8552312254905701,
          -0.6215922236442566,
          -0.8061283826828003,
          1.2824347019195557,
          11.90747356414795,
          11.376625061035156,
          -0.3204033374786377,
          12.938451766967773,
          0.4700533449649811,
          -1.0443230867385864,
          -0.04369138553738594,
          1.0694091320037842,
          -1.0355409383773804,
          12.622749328613281,
          0.43948987126350403,
          0.4053024351596832,
          0.11769064515829086,
          0.8066478967666626,
          9.707366943359375,
          0.7710208892822266,
          12.141440391540527,
          1.1627289056777954,
          -0.10192564129829407,
          0.47958695888519287,
          12.09999942779541,
          -0.9049463272094727,
          12.015514373779297,
          0.7626991868019104,
          10.913357734680176,
          0.5391285419464111,
          -1.52048921585083,
          -1.3808090686798096,
          0.7233712673187256,
          10.571771621704102,
          -1.261204481124878,
          1.3028706312179565,
          12.884089469909668,
          0.9732428789138794,
          0.14919047057628632,
          12.379206657409668,
          12.100601196289062,
          -0.6284687519073486,
          1.177873969078064,
          1.2563502788543701,
          10.200984001159668,
          1.2669719457626343,
          11.108643531799316,
          0.4389435648918152,
          1.0864256620407104,
          -1.4575718641281128,
          1.5914244651794434,
          -1.3066147565841675,
          -0.812084436416626,
          0.6960048079490662,
          9.739997863769531,
          -1.1728134155273438,
          1.3803443908691406,
          9.620770454406738,
          10.439131736755371,
          0.3039458394050598,
          11.943659782409668,
          -1.3810069561004639,
          0.973286509513855,
          10.23962116241455,
          -1.4696177244186401,
          -1.4088348150253296,
          -1.6568889617919922,
          -1.8340535163879395,
          9.835768699645996,
          11.965669631958008,
          10.205975532531738,
          11.188969612121582,
          12.529358863830566,
          1.054785966873169,
          9.910512924194336,
          9.61086654663086,
          1.1067789793014526,
          -1.7857551574707031,
          -0.6707867383956909,
          11.299758911132812,
          0.6571981906890869,
          -2.0120115280151367,
          -0.12385038286447525,
          12.244721412658691,
          -1.2832697629928589,
          0.4613327383995056,
          10.439857482910156,
          11.619606971740723,
          0.8118432760238647,
          10.5001859664917,
          11.585701942443848,
          -1.7838808298110962,
          0.031438279896974564,
          1.232156753540039,
          -0.18607614934444427,
          9.494871139526367,
          9.674861907958984,
          12.039132118225098,
          0.0019613958429545164,
          -0.3621740937232971,
          11.644922256469727,
          -0.6258585453033447,
          1.1938594579696655,
          11.074503898620605,
          1.2643226385116577,
          -0.3133049011230469,
          10.647764205932617,
          9.738994598388672,
          11.054335594177246,
          10.042485237121582,
          0.968361496925354,
          13.283588409423828,
          0.6868017911911011,
          0.3655240833759308,
          1.1880711317062378,
          9.785675048828125,
          -0.2392202615737915,
          -1.4641551971435547,
          -1.7274634838104248,
          10.889641761779785,
          0.3199688196182251,
          0.9051830172538757,
          0.9512174129486084,
          10.627735137939453,
          1.1019883155822754,
          -1.8118705749511719,
          -0.8881383538246155,
          9.707564353942871,
          12.300993919372559,
          12.172807693481445,
          1.8787751197814941,
          13.101862907409668,
          0.18561579287052155,
          -0.8720844984054565,
          -1.6514986753463745,
          12.143651962280273,
          -1.6594393253326416,
          -0.06009304150938988,
          11.821139335632324,
          -1.7485392093658447,
          11.892455101013184,
          -0.8020489811897278,
          -1.1000871658325195,
          -1.088150143623352,
          1.276655912399292,
          -0.5413373112678528,
          -0.4740561246871948,
          13.25596809387207,
          0.17059829831123352,
          13.311026573181152,
          -1.593815803527832,
          1.0118309259414673,
          1.12406325340271,
          -0.006016502156853676,
          1.006649136543274,
          -1.7185907363891602,
          0.41212862730026245,
          0.6390300393104553,
          -0.9513095021247864,
          0.848850429058075,
          -0.3489627540111542,
          -0.3118181824684143,
          1.6643019914627075,
          0.0710519477725029,
          -1.3938466310501099,
          12.04598617553711,
          -0.4137849509716034,
          9.745293617248535,
          -1.9013069868087769,
          -1.8712964057922363,
          11.320136070251465,
          -0.7012242078781128,
          10.831335067749023,
          -0.6588975787162781,
          -0.7879122495651245,
          1.04816472530365,
          -1.4569252729415894,
          12.246718406677246,
          -0.5942116975784302,
          -1.6106613874435425,
          0.5045291185379028,
          0.44493433833122253,
          1.2959107160568237,
          1.741967797279358,
          11.922955513000488,
          -1.5177680253982544,
          -1.21865975856781,
          1.5415118932724,
          10.318500518798828,
          -0.962928295135498,
          12.95916748046875,
          10.314122200012207,
          -0.8290454745292664,
          0.7453750371932983,
          1.6533403396606445,
          12.06209945678711,
          1.4927637577056885,
          11.473015785217285,
          10.11180591583252,
          10.566787719726562,
          9.964238166809082,
          11.90635871887207,
          -1.7773760557174683,
          1.7521661520004272,
          0.8736698031425476,
          -0.6063880920410156,
          10.183771133422852,
          -1.6925091743469238,
          0.15141023695468903,
          12.517952919006348,
          1.4625210762023926,
          1.0205508470535278,
          12.488344192504883,
          10.418932914733887,
          12.463071823120117,
          10.14780330657959,
          13.379499435424805,
          13.186182975769043,
          10.019034385681152,
          -1.200943946838379,
          -0.5351880788803101,
          -0.8454761505126953,
          10.82996654510498,
          0.6834975481033325,
          -0.19258831441402435,
          9.531755447387695,
          1.407322645187378,
          -0.601811945438385,
          0.013315371237695217,
          0.6204774379730225,
          9.576322555541992,
          0.32306361198425293,
          -1.153259515762329,
          -0.46944132447242737,
          1.1623404026031494,
          1.193244457244873,
          1.0857715606689453,
          10.273455619812012,
          -1.8654323816299438,
          10.755748748779297,
          0.7876736521720886,
          -1.737924337387085,
          1.319485068321228,
          -0.8845812678337097,
          1.0953609943389893,
          11.118544578552246,
          -0.3646520674228668,
          -1.8341437578201294,
          10.113924980163574,
          0.3689039647579193,
          10.392757415771484,
          -1.0104265213012695,
          -0.904775083065033,
          -0.08935756236314774,
          0.3141224980354309,
          -0.79390949010849,
          -0.549354612827301,
          0.5671629905700684,
          1.0012425184249878,
          12.089102745056152,
          0.23595082759857178,
          -0.6905426979064941,
          -1.2990219593048096,
          11.265121459960938,
          11.098520278930664,
          9.738767623901367,
          0.7606232762336731,
          -0.12122610956430435,
          1.2268482446670532,
          10.472651481628418,
          12.93420124053955,
          11.888472557067871,
          11.947091102600098,
          -1.3336135149002075,
          11.82797622680664,
          0.1202368214726448,
          0.9073188304901123,
          -1.3150749206542969,
          1.2148840427398682,
          1.4140883684158325,
          0.8196704983711243,
          -0.37195563316345215,
          -1.583229899406433,
          11.462060928344727,
          -0.9491389393806458,
          12.827021598815918,
          10.390183448791504,
          1.1452217102050781,
          11.908041954040527,
          -1.162371277809143,
          0.09036536514759064,
          -0.5913780331611633,
          -0.9602648615837097,
          -1.036179542541504,
          10.812918663024902,
          13.05748462677002,
          0.7456275820732117,
          1.423980712890625,
          10.200708389282227,
          9.761786460876465,
          0.4377993941307068,
          10.578958511352539,
          0.05954674258828163,
          -1.2062596082687378,
          1.2569941282272339,
          0.14419960975646973,
          0.6257620453834534,
          1.0550646781921387,
          0.20860713720321655,
          1.202488899230957,
          13.165254592895508,
          -0.7891855835914612,
          -0.9090428948402405,
          11.997735023498535,
          11.073479652404785,
          12.880008697509766,
          -0.7570669054985046,
          12.05347728729248,
          1.7246196269989014,
          9.918219566345215,
          12.085922241210938,
          0.3240834176540375,
          -1.6670324802398682,
          9.590490341186523,
          -0.7830507159233093,
          11.038108825683594,
          -1.1480157375335693,
          -0.05008130520582199,
          0.8557366728782654,
          0.3161437213420868,
          1.0603618621826172,
          0.5098603963851929,
          11.348620414733887,
          11.12315559387207,
          0.06218557432293892,
          -1.1038373708724976,
          9.809222221374512,
          11.418121337890625,
          10.419578552246094,
          0.6506054997444153,
          -0.8450102806091309,
          -0.0920080840587616,
          11.967403411865234,
          -1.2782388925552368,
          1.0346977710723877,
          -1.8334709405899048,
          0.5379872918128967,
          -0.4367694854736328,
          10.863956451416016,
          -0.488974392414093,
          12.471988677978516,
          -0.7643687129020691,
          1.1040570735931396,
          13.118759155273438,
          -1.4157236814498901,
          -0.30737441778182983,
          0.1590091586112976,
          12.326699256896973,
          0.7302634119987488,
          9.80026912689209,
          10.78702163696289,
          0.7285622954368591,
          -1.7413723468780518,
          -0.41069653630256653,
          12.309991836547852,
          -0.660015344619751,
          0.586215078830719,
          10.20908260345459,
          9.771124839782715,
          13.330118179321289,
          9.815364837646484,
          -0.7579789757728577,
          -0.9077580571174622,
          12.045448303222656,
          11.047624588012695,
          1.097573161125183,
          -0.33107712864875793,
          -1.8696599006652832,
          10.443288803100586,
          13.326943397521973
         ],
         "xaxis": "x",
         "y": [
          3.8507299423217773,
          9.921745300292969,
          5.557974815368652,
          9.582990646362305,
          5.984147548675537,
          8.508890151977539,
          10.471895217895508,
          9.573155403137207,
          6.967543601989746,
          4.174034118652344,
          10.092432022094727,
          6.708477020263672,
          9.105964660644531,
          7.456602573394775,
          6.818482875823975,
          9.08717155456543,
          9.339157104492188,
          9.079948425292969,
          6.052057266235352,
          9.123984336853027,
          8.486066818237305,
          4.434321403503418,
          6.378588676452637,
          7.069533824920654,
          7.942300796508789,
          4.74855899810791,
          6.963125705718994,
          7.482206344604492,
          7.940436363220215,
          8.204607963562012,
          7.152811050415039,
          10.648605346679688,
          7.379176616668701,
          7.712871551513672,
          6.994428634643555,
          4.503304481506348,
          8.71157169342041,
          7.4914374351501465,
          4.322298526763916,
          8.853522300720215,
          9.182235717773438,
          7.864846706390381,
          8.369330406188965,
          7.651588439941406,
          7.399059295654297,
          9.306049346923828,
          7.516980171203613,
          7.041597366333008,
          6.946568965911865,
          9.488309860229492,
          10.106998443603516,
          6.472218990325928,
          7.118992805480957,
          9.273919105529785,
          8.352723121643066,
          11.1234130859375,
          10.918554306030273,
          6.716928005218506,
          7.78463888168335,
          6.23256778717041,
          6.8150410652160645,
          8.594677925109863,
          9.232985496520996,
          8.112765312194824,
          8.441569328308105,
          7.3718085289001465,
          7.810897350311279,
          8.774093627929688,
          6.657768726348877,
          8.583527565002441,
          8.270102500915527,
          9.758698463439941,
          4.381283760070801,
          9.682287216186523,
          2.211077928543091,
          3.148238182067871,
          6.561242580413818,
          8.686431884765625,
          2.6255364418029785,
          3.4022021293640137,
          3.413693428039551,
          3.3285529613494873,
          6.403356552124023,
          8.634800910949707,
          10.014993667602539,
          9.26367473602295,
          9.268522262573242,
          9.858141899108887,
          7.605583190917969,
          3.9692227840423584,
          2.972694158554077,
          10.063508987426758,
          8.158071517944336,
          10.212532997131348,
          10.746136665344238,
          9.080755233764648,
          7.7471466064453125,
          9.191049575805664,
          8.869285583496094,
          6.550093650817871,
          4.229151725769043,
          9.51032543182373,
          9.129749298095703,
          7.112464427947998,
          9.470376968383789,
          4.36668062210083,
          8.277124404907227,
          9.81445026397705,
          2.2745513916015625,
          8.374637603759766,
          3.564595937728882,
          4.498401641845703,
          10.095364570617676,
          3.327810525894165,
          5.733497619628906,
          3.344224214553833,
          10.870084762573242,
          10.103349685668945,
          9.547941207885742,
          9.117908477783203,
          3.2380714416503906,
          7.239205837249756,
          9.626579284667969,
          8.62861156463623,
          8.349393844604492,
          9.887218475341797,
          10.54959487915039,
          9.550278663635254,
          9.967209815979004,
          9.7549409866333,
          7.1276421546936035,
          7.4777984619140625,
          10.128615379333496,
          10.331572532653809,
          9.75405502319336,
          3.148310899734497,
          6.107265949249268,
          10.308629035949707,
          10.108194351196289,
          8.213629722595215,
          9.896158218383789,
          4.0656538009643555,
          7.033518314361572,
          6.100982189178467,
          9.301111221313477,
          3.9102530479431152,
          9.394050598144531,
          9.165452003479004,
          10.10970401763916,
          7.7663750648498535,
          3.800527811050415,
          2.920102834701538,
          8.260767936706543,
          7.032149791717529,
          4.344750881195068,
          8.117513656616211,
          8.674971580505371,
          9.13734245300293,
          2.4453070163726807,
          8.953356742858887,
          10.806059837341309,
          6.827054977416992,
          2.6633880138397217,
          2.8637707233428955,
          8.873785972595215,
          9.575262069702148,
          10.052976608276367,
          8.012040138244629,
          6.441071510314941,
          8.390839576721191,
          8.178866386413574,
          9.040602684020996,
          8.124598503112793,
          5.665868759155273,
          7.948105335235596,
          9.634809494018555,
          8.313091278076172,
          5.445252418518066,
          10.216896057128906,
          10.066455841064453,
          8.191741943359375,
          8.47071647644043,
          10.666444778442383,
          8.525158882141113,
          8.131159782409668,
          10.688483238220215,
          7.970895767211914,
          7.1020026206970215,
          3.716845989227295,
          3.0472054481506348,
          9.170978546142578,
          6.0018792152404785,
          10.10030460357666,
          5.548534870147705,
          10.472612380981445,
          10.440287590026855,
          8.486808776855469,
          9.798007011413574,
          4.116473197937012,
          8.147101402282715,
          7.323306083679199,
          7.944379806518555,
          10.585343360900879,
          6.471061706542969,
          5.509673118591309,
          10.74964714050293,
          3.4382481575012207,
          7.3768630027771,
          8.634675025939941,
          10.331669807434082,
          7.9920973777771,
          8.081124305725098,
          8.437711715698242,
          3.587224006652832,
          7.324831485748291,
          7.914742946624756,
          10.255715370178223,
          8.990325927734375,
          8.970061302185059,
          7.873490333557129,
          5.597183704376221,
          9.349394798278809,
          6.5105767250061035,
          2.249180316925049,
          10.319449424743652,
          3.486457109451294,
          8.300931930541992,
          3.718034505844116,
          9.73377513885498,
          7.7628889083862305,
          10.393718719482422,
          8.273615837097168,
          10.149928092956543,
          10.261524200439453,
          9.532132148742676,
          9.332771301269531,
          9.263566970825195,
          3.0640382766723633,
          9.604215621948242,
          5.2912211418151855,
          7.4405646324157715,
          9.143532752990723,
          5.703249454498291,
          9.878079414367676,
          9.364340782165527,
          9.85484790802002,
          3.623786211013794,
          2.7037062644958496,
          8.241765022277832,
          6.246862888336182,
          6.721190929412842,
          8.19748592376709,
          9.795280456542969,
          6.847886085510254,
          4.304830551147461,
          7.112284183502197,
          3.419729232788086,
          9.860386848449707,
          7.816697597503662,
          9.379705429077148,
          5.524007320404053,
          6.8611860275268555,
          5.879130840301514,
          8.227862358093262,
          6.87229061126709,
          9.73834228515625,
          10.17612075805664,
          10.631194114685059,
          2.272923231124878,
          9.5728120803833,
          9.578286170959473,
          10.714659690856934,
          2.994290828704834,
          5.475106716156006,
          8.847102165222168,
          7.423360824584961,
          8.939582824707031,
          6.043015003204346,
          9.564924240112305,
          3.7543184757232666,
          8.408682823181152,
          5.561206817626953,
          3.955188512802124,
          3.4104321002960205,
          5.7864789962768555,
          9.489763259887695,
          8.85982608795166,
          9.418910026550293,
          10.054347038269043,
          3.9672107696533203,
          3.869370460510254,
          9.975034713745117,
          8.220561027526855,
          9.413981437683105,
          8.705646514892578,
          9.79603099822998,
          9.093449592590332,
          2.933093786239624,
          8.116247177124023,
          3.6265342235565186,
          9.448657989501953,
          9.93492317199707,
          8.353888511657715,
          9.43992805480957,
          8.652030944824219,
          2.287559747695923,
          9.265732765197754,
          2.5609452724456787,
          9.061474800109863,
          8.164385795593262,
          8.149825096130371,
          9.03795337677002,
          8.264426231384277,
          5.331000328063965,
          8.193860054016113,
          3.8360965251922607,
          8.367298126220703,
          10.104957580566406,
          2.172048807144165,
          10.652952194213867,
          9.365792274475098,
          2.872269868850708,
          9.919848442077637,
          9.222587585449219,
          3.244554042816162,
          3.9029619693756104,
          9.963545799255371,
          10.005854606628418,
          6.7163286209106445,
          8.901970863342285,
          10.712655067443848,
          8.912774085998535,
          6.990789890289307,
          7.766391277313232,
          9.712235450744629,
          6.7129669189453125,
          9.871851921081543,
          3.13838529586792,
          8.134663581848145,
          8.767605781555176,
          3.1357948780059814,
          3.9208145141601562,
          9.415242195129395,
          7.038463115692139,
          9.636011123657227,
          6.614157199859619,
          10.270684242248535,
          9.390602111816406,
          9.425909996032715,
          8.999349594116211,
          8.0326566696167,
          3.0177252292633057,
          9.36036205291748,
          10.798240661621094,
          8.9407377243042,
          3.9580018520355225,
          7.075252056121826,
          9.153576850891113,
          8.883525848388672,
          4.620802402496338,
          9.884002685546875,
          9.253607749938965,
          6.713033199310303,
          8.867231369018555,
          9.861552238464355,
          2.7670371532440186,
          8.4979248046875,
          10.329355239868164,
          9.902047157287598,
          10.028818130493164,
          8.456625938415527,
          7.418069839477539,
          6.428715705871582,
          6.945810317993164,
          9.97823715209961,
          8.31589412689209,
          2.3580193519592285,
          8.865352630615234,
          10.79030990600586,
          3.9956400394439697,
          9.099872589111328,
          7.160913944244385,
          2.51492977142334,
          4.123923301696777,
          9.744424819946289,
          7.736595153808594,
          8.169646263122559,
          8.04613971710205,
          8.196052551269531,
          4.423760414123535,
          8.857114791870117,
          7.699202060699463,
          2.969897508621216,
          3.0258407592773438,
          9.31796646118164,
          10.817622184753418,
          4.408700466156006,
          9.339740753173828,
          4.020811080932617,
          3.6983799934387207,
          8.837265014648438,
          8.521774291992188,
          9.036566734313965,
          10.800924301147461,
          9.440794944763184,
          10.7484769821167,
          6.007171154022217,
          7.039304256439209,
          8.996598243713379,
          9.894899368286133,
          9.573241233825684,
          3.731088638305664,
          9.048009872436523,
          2.42425274848938,
          9.966434478759766,
          8.305912017822266,
          9.642948150634766,
          10.072059631347656,
          10.032149314880371,
          6.743391036987305,
          4.409389972686768,
          8.607454299926758,
          9.335105895996094,
          9.748204231262207,
          6.547214984893799,
          9.871163368225098,
          10.347678184509277,
          8.819351196289062,
          4.165800094604492,
          6.641691207885742,
          3.3505728244781494,
          10.75632381439209,
          8.671178817749023,
          9.067933082580566,
          8.084051132202148,
          8.352867126464844,
          9.59888744354248,
          6.558640480041504,
          2.262777805328369,
          5.534771919250488,
          4.259455680847168,
          2.7010483741760254,
          5.528383731842041,
          6.6922736167907715,
          7.539673328399658,
          8.310093879699707,
          8.372304916381836,
          7.3263630867004395,
          6.248810291290283,
          8.838959693908691,
          8.5862398147583,
          6.155092239379883,
          8.407100677490234,
          2.2750957012176514,
          10.097599983215332,
          10.65623950958252,
          7.581446170806885,
          6.000073432922363,
          2.528207778930664,
          3.9110660552978516,
          9.858492851257324,
          5.854175090789795,
          8.78307819366455,
          3.824744701385498,
          7.380408763885498,
          2.9991579055786133,
          2.3672075271606445,
          8.681379318237305,
          9.597208976745605,
          6.324643135070801,
          3.2052083015441895,
          8.674994468688965,
          9.291556358337402,
          3.037868022918701,
          8.371003150939941,
          10.40246295928955,
          10.36115837097168,
          8.463879585266113,
          3.486053466796875,
          9.724656105041504,
          8.928227424621582,
          8.648716926574707,
          8.73581314086914,
          6.403230667114258,
          10.78956413269043,
          6.625354290008545,
          8.574739456176758,
          4.26517915725708,
          3.2070493698120117,
          5.297074794769287,
          2.7247121334075928,
          9.981715202331543,
          7.89361572265625,
          8.277824401855469,
          5.932653427124023,
          9.163143157958984,
          9.857166290283203,
          9.160932540893555,
          7.229011058807373,
          3.96644926071167,
          10.136244773864746,
          7.3502726554870605,
          4.331042766571045,
          7.58823823928833,
          4.130954742431641,
          5.271878242492676,
          2.27860951423645,
          9.301172256469727,
          4.412440299987793,
          8.365633964538574,
          6.0729546546936035,
          9.228554725646973,
          9.12471866607666,
          8.709699630737305,
          2.812772512435913,
          7.462861061096191,
          6.8704400062561035,
          2.3826067447662354,
          7.94404411315918,
          9.392622947692871,
          4.494845867156982,
          7.164051532745361,
          7.833831310272217,
          6.774868488311768,
          9.091548919677734,
          10.778907775878906,
          4.192889213562012,
          10.132796287536621,
          7.930511951446533,
          3.856722354888916,
          9.168468475341797,
          8.533843994140625,
          9.183772087097168,
          8.435212135314941,
          9.732568740844727,
          8.163664817810059,
          10.303293228149414,
          6.45078182220459,
          6.155845642089844,
          9.656577110290527,
          8.563387870788574,
          8.801758766174316,
          9.525236129760742,
          10.184148788452148,
          9.585799217224121,
          10.065718650817871,
          4.031306743621826,
          9.243864059448242,
          9.107683181762695,
          4.052844524383545,
          7.25909948348999,
          3.151848077774048,
          6.414962291717529,
          2.390144109725952,
          7.282619476318359,
          8.972434997558594,
          9.075966835021973,
          2.220431327819824,
          10.021524429321289,
          7.255675315856934,
          6.734138011932373,
          8.901905059814453,
          7.447168350219727,
          9.55221939086914,
          9.001612663269043,
          3.346651792526245,
          9.247396469116211,
          7.322892665863037,
          9.374883651733398,
          9.86213493347168,
          3.8985724449157715,
          9.873672485351562,
          9.453243255615234,
          9.011811256408691,
          10.117515563964844,
          8.147661209106445,
          9.985211372375488,
          9.94315242767334,
          3.3348162174224854,
          3.297062635421753,
          4.437204360961914,
          2.9285736083984375,
          6.637816429138184,
          10.16484546661377,
          9.074381828308105,
          3.474679470062256,
          3.758045196533203,
          8.30875015258789,
          10.435394287109375,
          8.631146430969238,
          8.690290451049805,
          8.283978462219238,
          6.994383335113525,
          9.426467895507812,
          7.056077480316162,
          7.108310699462891,
          9.614706039428711,
          8.538376808166504,
          8.532661437988281,
          6.680438995361328,
          10.018993377685547,
          7.324913501739502,
          8.236625671386719,
          10.55919361114502,
          8.675718307495117,
          10.187105178833008,
          9.746105194091797,
          9.01449966430664,
          9.077208518981934,
          9.328277587890625,
          7.771530628204346,
          3.911440134048462,
          4.393774509429932,
          3.2166709899902344,
          3.99967622756958,
          7.608024597167969,
          7.962052345275879,
          7.635419845581055,
          8.46597957611084,
          3.7679271697998047,
          6.690426349639893,
          7.149010181427002,
          6.841001510620117,
          7.593643665313721,
          6.734830856323242,
          9.389198303222656,
          10.80627155303955,
          5.818244457244873,
          7.069915294647217,
          3.8537843227386475,
          6.399237155914307,
          9.778304100036621,
          2.1649091243743896,
          6.716765880584717,
          3.9715723991394043,
          6.012131690979004,
          4.15802001953125,
          6.794283866882324,
          10.135668754577637,
          6.877959728240967,
          5.566429138183594,
          10.45008659362793,
          10.456418991088867,
          4.006997108459473,
          8.81408977508545,
          2.6167383193969727,
          6.023466110229492,
          2.9748928546905518,
          8.00046443939209,
          2.988171339035034,
          8.391671180725098,
          9.204349517822266,
          7.385226249694824,
          10.11026668548584,
          9.69357967376709,
          10.433883666992188,
          6.493719577789307,
          3.322091579437256,
          7.605199813842773,
          8.515837669372559,
          8.356295585632324,
          7.165157318115234,
          7.1898088455200195,
          3.7617475986480713,
          8.992643356323242,
          10.087388038635254,
          10.198055267333984,
          10.357876777648926,
          9.822454452514648,
          9.5361328125,
          8.150404930114746,
          4.00071907043457,
          6.851150035858154,
          6.969214916229248,
          8.755053520202637,
          7.587906837463379,
          10.360873222351074,
          9.977310180664062,
          9.094461441040039,
          10.335469245910645,
          6.543452739715576,
          8.443499565124512,
          3.031097650527954,
          8.276360511779785,
          7.454297065734863,
          9.662529945373535,
          3.744847059249878,
          9.27600383758545,
          10.062515258789062,
          8.097237586975098,
          8.175382614135742,
          8.223295211791992,
          8.963300704956055,
          8.29249382019043,
          10.191221237182617,
          9.104242324829102,
          4.351799964904785,
          3.452934503555298,
          2.68318247795105,
          7.670411109924316,
          7.61020040512085,
          3.5298726558685303,
          7.441003799438477,
          8.035204887390137,
          3.6900556087493896,
          10.983475685119629,
          10.134359359741211,
          8.77878189086914,
          6.536191463470459,
          7.628086090087891,
          7.538003444671631,
          8.843574523925781,
          8.331833839416504,
          8.707993507385254,
          8.125384330749512,
          8.97589111328125,
          8.511154174804688,
          9.364401817321777,
          8.458507537841797,
          8.317333221435547,
          5.8780927658081055,
          10.799992561340332,
          8.542484283447266,
          6.730434417724609,
          8.20527458190918,
          7.60561990737915,
          8.54605770111084,
          9.082097053527832,
          10.047076225280762,
          8.620369911193848,
          8.117029190063477,
          6.54443883895874,
          6.881391525268555,
          8.157907485961914,
          7.585861682891846,
          9.989602088928223,
          3.458440065383911,
          2.974637985229492,
          2.9000778198242188,
          7.755493640899658,
          7.8912739753723145,
          3.274016857147217,
          3.3061511516571045,
          7.852833271026611,
          4.222635746002197,
          2.9507863521575928,
          3.2334160804748535,
          10.032029151916504,
          5.745916843414307,
          8.40939712524414,
          9.96644401550293,
          6.356783390045166,
          10.84378719329834,
          10.457884788513184,
          8.403542518615723,
          5.471551895141602,
          3.4336140155792236,
          6.869417667388916,
          8.703083992004395,
          9.35710620880127,
          8.34968376159668,
          6.73529052734375,
          8.277915954589844,
          9.614337921142578,
          3.872119665145874,
          10.390326499938965,
          10.76666259765625,
          6.111349105834961,
          10.206077575683594,
          5.957594394683838,
          3.4952902793884277,
          3.548797369003296,
          6.981909275054932,
          10.343023300170898,
          3.6803414821624756,
          8.648797988891602,
          7.032990455627441,
          7.668765068054199,
          2.206188440322876,
          3.520705461502075,
          3.0921425819396973,
          10.782454490661621,
          9.06448745727539,
          3.7885031700134277,
          2.7059121131896973,
          8.346250534057617,
          7.02266263961792,
          8.900967597961426,
          3.15031099319458,
          3.612295150756836,
          9.424728393554688,
          3.4274790287017822,
          7.8271708488464355,
          2.239443778991699,
          10.552966117858887,
          10.644266128540039,
          8.18176555633545,
          6.166919708251953,
          2.963452100753784,
          9.012863159179688,
          7.488588333129883,
          7.0923967361450195,
          7.95100212097168,
          10.0670166015625,
          5.329951763153076,
          9.561375617980957,
          7.377330780029297,
          9.118210792541504,
          10.008211135864258,
          8.460744857788086,
          6.492218971252441,
          7.945236682891846,
          2.113494634628296,
          4.450821876525879,
          9.14024829864502,
          6.338412284851074,
          9.150585174560547,
          9.335922241210938,
          8.29822826385498,
          9.661273956298828,
          9.651527404785156,
          5.439711570739746,
          2.8789665699005127,
          9.250268936157227,
          8.84115219116211,
          9.574999809265137,
          10.016409873962402,
          3.2221038341522217,
          2.90114164352417,
          8.533409118652344,
          9.007438659667969,
          4.386988639831543,
          9.092235565185547,
          7.900494575500488,
          5.943517208099365,
          8.691121101379395,
          6.54458475112915,
          5.980149745941162,
          9.611103057861328,
          7.212498188018799,
          3.0844058990478516,
          7.169096946716309,
          9.800252914428711,
          9.60897159576416,
          10.081969261169434,
          9.183724403381348,
          9.40982437133789,
          3.07767915725708,
          3.75173020362854,
          8.352520942687988,
          9.057583808898926,
          4.339247703552246,
          7.158674716949463,
          3.1605634689331055,
          8.053218841552734,
          9.484969139099121,
          8.08379077911377,
          9.915848731994629,
          3.341987371444702,
          7.8100810050964355,
          4.363004207611084,
          3.438187599182129,
          7.339546203613281,
          3.287698268890381,
          9.23838996887207,
          10.257526397705078,
          10.15740966796875,
          3.5541718006134033,
          8.8004789352417,
          4.013660907745361,
          9.312234878540039,
          7.312941074371338,
          9.357177734375,
          3.7933244705200195,
          10.761149406433105,
          8.33694839477539,
          7.284822940826416,
          8.034492492675781,
          3.5814945697784424,
          5.66024923324585,
          3.8952791690826416,
          2.7391607761383057,
          4.022394180297852,
          9.947120666503906,
          9.406429290771484,
          10.086560249328613,
          3.4513323307037354,
          8.282096862792969,
          3.588656425476074,
          7.758376598358154,
          6.460633277893066,
          8.19229507446289,
          6.618212699890137,
          4.037402153015137,
          8.355113983154297,
          3.257371187210083,
          3.1194238662719727,
          9.785967826843262,
          7.884380340576172,
          8.486039161682129,
          9.303540229797363,
          6.907928943634033,
          8.096503257751465,
          9.38106632232666,
          3.096672534942627,
          6.3583478927612305,
          9.171163558959961,
          10.64553451538086,
          6.684142112731934,
          2.2274835109710693,
          9.093987464904785,
          8.415205955505371,
          8.144957542419434,
          2.2085671424865723,
          7.868569850921631,
          5.858710765838623,
          3.9279775619506836,
          9.670975685119629,
          9.875382423400879,
          10.065550804138184,
          4.395174026489258,
          9.918502807617188,
          8.975756645202637,
          3.5954792499542236,
          9.555347442626953,
          3.8422117233276367,
          10.836807250976562,
          3.542570114135742,
          8.299895286560059,
          9.637810707092285,
          6.0512261390686035,
          7.311797142028809,
          9.146042823791504,
          8.437932968139648,
          9.511951446533203,
          6.658647537231445,
          7.955970287322998,
          5.7404937744140625,
          10.034193992614746,
          9.767507553100586,
          6.2233123779296875,
          7.173813819885254,
          2.724813938140869,
          9.20224666595459,
          2.3799285888671875,
          7.864080905914307,
          2.816920518875122,
          2.8324050903320312,
          9.504215240478516,
          10.8809232711792,
          3.5041887760162354,
          7.069694995880127,
          9.391080856323242,
          10.054330825805664,
          7.763615131378174,
          9.614688873291016,
          10.087892532348633,
          8.41409683227539,
          7.881802558898926,
          7.595309257507324,
          10.359073638916016,
          8.471405029296875,
          5.438810348510742,
          2.5008955001831055,
          3.301835060119629,
          9.321409225463867,
          9.301654815673828,
          2.4520034790039062,
          7.785759449005127,
          7.034475803375244,
          8.841029167175293,
          3.1526405811309814,
          3.0997889041900635,
          5.905040264129639,
          3.5683345794677734,
          9.89477825164795,
          9.671221733093262,
          8.89937686920166,
          6.864511966705322,
          8.789322853088379,
          7.785067081451416,
          4.303250312805176,
          3.211832046508789,
          10.588669776916504,
          8.864933013916016,
          8.106590270996094,
          7.706362724304199,
          8.981858253479004,
          9.850245475769043,
          6.555966377258301,
          8.933148384094238,
          2.1865153312683105,
          2.7063231468200684,
          5.760354518890381,
          8.238517761230469,
          3.446467638015747,
          9.195727348327637,
          3.1931023597717285,
          8.971403121948242,
          6.540367126464844
         ],
         "yaxis": "y"
        }
       ],
       "layout": {
        "coloraxis": {
         "colorbar": {
          "title": {
           "text": "Label"
          }
         },
         "colorscale": [
          [
           0,
           "#0d0887"
          ],
          [
           0.1111111111111111,
           "#46039f"
          ],
          [
           0.2222222222222222,
           "#7201a8"
          ],
          [
           0.3333333333333333,
           "#9c179e"
          ],
          [
           0.4444444444444444,
           "#bd3786"
          ],
          [
           0.5555555555555556,
           "#d8576b"
          ],
          [
           0.6666666666666666,
           "#ed7953"
          ],
          [
           0.7777777777777778,
           "#fb9f3a"
          ],
          [
           0.8888888888888888,
           "#fdca26"
          ],
          [
           1,
           "#f0f921"
          ]
         ]
        },
        "height": 800,
        "legend": {
         "tracegroupgap": 0
        },
        "template": {
         "data": {
          "bar": [
           {
            "error_x": {
             "color": "#2a3f5f"
            },
            "error_y": {
             "color": "#2a3f5f"
            },
            "marker": {
             "line": {
              "color": "#E5ECF6",
              "width": 0.5
             }
            },
            "type": "bar"
           }
          ],
          "barpolar": [
           {
            "marker": {
             "line": {
              "color": "#E5ECF6",
              "width": 0.5
             }
            },
            "type": "barpolar"
           }
          ],
          "carpet": [
           {
            "aaxis": {
             "endlinecolor": "#2a3f5f",
             "gridcolor": "white",
             "linecolor": "white",
             "minorgridcolor": "white",
             "startlinecolor": "#2a3f5f"
            },
            "baxis": {
             "endlinecolor": "#2a3f5f",
             "gridcolor": "white",
             "linecolor": "white",
             "minorgridcolor": "white",
             "startlinecolor": "#2a3f5f"
            },
            "type": "carpet"
           }
          ],
          "choropleth": [
           {
            "colorbar": {
             "outlinewidth": 0,
             "ticks": ""
            },
            "type": "choropleth"
           }
          ],
          "contour": [
           {
            "colorbar": {
             "outlinewidth": 0,
             "ticks": ""
            },
            "colorscale": [
             [
              0,
              "#0d0887"
             ],
             [
              0.1111111111111111,
              "#46039f"
             ],
             [
              0.2222222222222222,
              "#7201a8"
             ],
             [
              0.3333333333333333,
              "#9c179e"
             ],
             [
              0.4444444444444444,
              "#bd3786"
             ],
             [
              0.5555555555555556,
              "#d8576b"
             ],
             [
              0.6666666666666666,
              "#ed7953"
             ],
             [
              0.7777777777777778,
              "#fb9f3a"
             ],
             [
              0.8888888888888888,
              "#fdca26"
             ],
             [
              1,
              "#f0f921"
             ]
            ],
            "type": "contour"
           }
          ],
          "contourcarpet": [
           {
            "colorbar": {
             "outlinewidth": 0,
             "ticks": ""
            },
            "type": "contourcarpet"
           }
          ],
          "heatmap": [
           {
            "colorbar": {
             "outlinewidth": 0,
             "ticks": ""
            },
            "colorscale": [
             [
              0,
              "#0d0887"
             ],
             [
              0.1111111111111111,
              "#46039f"
             ],
             [
              0.2222222222222222,
              "#7201a8"
             ],
             [
              0.3333333333333333,
              "#9c179e"
             ],
             [
              0.4444444444444444,
              "#bd3786"
             ],
             [
              0.5555555555555556,
              "#d8576b"
             ],
             [
              0.6666666666666666,
              "#ed7953"
             ],
             [
              0.7777777777777778,
              "#fb9f3a"
             ],
             [
              0.8888888888888888,
              "#fdca26"
             ],
             [
              1,
              "#f0f921"
             ]
            ],
            "type": "heatmap"
           }
          ],
          "heatmapgl": [
           {
            "colorbar": {
             "outlinewidth": 0,
             "ticks": ""
            },
            "colorscale": [
             [
              0,
              "#0d0887"
             ],
             [
              0.1111111111111111,
              "#46039f"
             ],
             [
              0.2222222222222222,
              "#7201a8"
             ],
             [
              0.3333333333333333,
              "#9c179e"
             ],
             [
              0.4444444444444444,
              "#bd3786"
             ],
             [
              0.5555555555555556,
              "#d8576b"
             ],
             [
              0.6666666666666666,
              "#ed7953"
             ],
             [
              0.7777777777777778,
              "#fb9f3a"
             ],
             [
              0.8888888888888888,
              "#fdca26"
             ],
             [
              1,
              "#f0f921"
             ]
            ],
            "type": "heatmapgl"
           }
          ],
          "histogram": [
           {
            "marker": {
             "colorbar": {
              "outlinewidth": 0,
              "ticks": ""
             }
            },
            "type": "histogram"
           }
          ],
          "histogram2d": [
           {
            "colorbar": {
             "outlinewidth": 0,
             "ticks": ""
            },
            "colorscale": [
             [
              0,
              "#0d0887"
             ],
             [
              0.1111111111111111,
              "#46039f"
             ],
             [
              0.2222222222222222,
              "#7201a8"
             ],
             [
              0.3333333333333333,
              "#9c179e"
             ],
             [
              0.4444444444444444,
              "#bd3786"
             ],
             [
              0.5555555555555556,
              "#d8576b"
             ],
             [
              0.6666666666666666,
              "#ed7953"
             ],
             [
              0.7777777777777778,
              "#fb9f3a"
             ],
             [
              0.8888888888888888,
              "#fdca26"
             ],
             [
              1,
              "#f0f921"
             ]
            ],
            "type": "histogram2d"
           }
          ],
          "histogram2dcontour": [
           {
            "colorbar": {
             "outlinewidth": 0,
             "ticks": ""
            },
            "colorscale": [
             [
              0,
              "#0d0887"
             ],
             [
              0.1111111111111111,
              "#46039f"
             ],
             [
              0.2222222222222222,
              "#7201a8"
             ],
             [
              0.3333333333333333,
              "#9c179e"
             ],
             [
              0.4444444444444444,
              "#bd3786"
             ],
             [
              0.5555555555555556,
              "#d8576b"
             ],
             [
              0.6666666666666666,
              "#ed7953"
             ],
             [
              0.7777777777777778,
              "#fb9f3a"
             ],
             [
              0.8888888888888888,
              "#fdca26"
             ],
             [
              1,
              "#f0f921"
             ]
            ],
            "type": "histogram2dcontour"
           }
          ],
          "mesh3d": [
           {
            "colorbar": {
             "outlinewidth": 0,
             "ticks": ""
            },
            "type": "mesh3d"
           }
          ],
          "parcoords": [
           {
            "line": {
             "colorbar": {
              "outlinewidth": 0,
              "ticks": ""
             }
            },
            "type": "parcoords"
           }
          ],
          "pie": [
           {
            "automargin": true,
            "type": "pie"
           }
          ],
          "scatter": [
           {
            "marker": {
             "colorbar": {
              "outlinewidth": 0,
              "ticks": ""
             }
            },
            "type": "scatter"
           }
          ],
          "scatter3d": [
           {
            "line": {
             "colorbar": {
              "outlinewidth": 0,
              "ticks": ""
             }
            },
            "marker": {
             "colorbar": {
              "outlinewidth": 0,
              "ticks": ""
             }
            },
            "type": "scatter3d"
           }
          ],
          "scattercarpet": [
           {
            "marker": {
             "colorbar": {
              "outlinewidth": 0,
              "ticks": ""
             }
            },
            "type": "scattercarpet"
           }
          ],
          "scattergeo": [
           {
            "marker": {
             "colorbar": {
              "outlinewidth": 0,
              "ticks": ""
             }
            },
            "type": "scattergeo"
           }
          ],
          "scattergl": [
           {
            "marker": {
             "colorbar": {
              "outlinewidth": 0,
              "ticks": ""
             }
            },
            "type": "scattergl"
           }
          ],
          "scattermapbox": [
           {
            "marker": {
             "colorbar": {
              "outlinewidth": 0,
              "ticks": ""
             }
            },
            "type": "scattermapbox"
           }
          ],
          "scatterpolar": [
           {
            "marker": {
             "colorbar": {
              "outlinewidth": 0,
              "ticks": ""
             }
            },
            "type": "scatterpolar"
           }
          ],
          "scatterpolargl": [
           {
            "marker": {
             "colorbar": {
              "outlinewidth": 0,
              "ticks": ""
             }
            },
            "type": "scatterpolargl"
           }
          ],
          "scatterternary": [
           {
            "marker": {
             "colorbar": {
              "outlinewidth": 0,
              "ticks": ""
             }
            },
            "type": "scatterternary"
           }
          ],
          "surface": [
           {
            "colorbar": {
             "outlinewidth": 0,
             "ticks": ""
            },
            "colorscale": [
             [
              0,
              "#0d0887"
             ],
             [
              0.1111111111111111,
              "#46039f"
             ],
             [
              0.2222222222222222,
              "#7201a8"
             ],
             [
              0.3333333333333333,
              "#9c179e"
             ],
             [
              0.4444444444444444,
              "#bd3786"
             ],
             [
              0.5555555555555556,
              "#d8576b"
             ],
             [
              0.6666666666666666,
              "#ed7953"
             ],
             [
              0.7777777777777778,
              "#fb9f3a"
             ],
             [
              0.8888888888888888,
              "#fdca26"
             ],
             [
              1,
              "#f0f921"
             ]
            ],
            "type": "surface"
           }
          ],
          "table": [
           {
            "cells": {
             "fill": {
              "color": "#EBF0F8"
             },
             "line": {
              "color": "white"
             }
            },
            "header": {
             "fill": {
              "color": "#C8D4E3"
             },
             "line": {
              "color": "white"
             }
            },
            "type": "table"
           }
          ]
         },
         "layout": {
          "annotationdefaults": {
           "arrowcolor": "#2a3f5f",
           "arrowhead": 0,
           "arrowwidth": 1
          },
          "coloraxis": {
           "colorbar": {
            "outlinewidth": 0,
            "ticks": ""
           }
          },
          "colorscale": {
           "diverging": [
            [
             0,
             "#8e0152"
            ],
            [
             0.1,
             "#c51b7d"
            ],
            [
             0.2,
             "#de77ae"
            ],
            [
             0.3,
             "#f1b6da"
            ],
            [
             0.4,
             "#fde0ef"
            ],
            [
             0.5,
             "#f7f7f7"
            ],
            [
             0.6,
             "#e6f5d0"
            ],
            [
             0.7,
             "#b8e186"
            ],
            [
             0.8,
             "#7fbc41"
            ],
            [
             0.9,
             "#4d9221"
            ],
            [
             1,
             "#276419"
            ]
           ],
           "sequential": [
            [
             0,
             "#0d0887"
            ],
            [
             0.1111111111111111,
             "#46039f"
            ],
            [
             0.2222222222222222,
             "#7201a8"
            ],
            [
             0.3333333333333333,
             "#9c179e"
            ],
            [
             0.4444444444444444,
             "#bd3786"
            ],
            [
             0.5555555555555556,
             "#d8576b"
            ],
            [
             0.6666666666666666,
             "#ed7953"
            ],
            [
             0.7777777777777778,
             "#fb9f3a"
            ],
            [
             0.8888888888888888,
             "#fdca26"
            ],
            [
             1,
             "#f0f921"
            ]
           ],
           "sequentialminus": [
            [
             0,
             "#0d0887"
            ],
            [
             0.1111111111111111,
             "#46039f"
            ],
            [
             0.2222222222222222,
             "#7201a8"
            ],
            [
             0.3333333333333333,
             "#9c179e"
            ],
            [
             0.4444444444444444,
             "#bd3786"
            ],
            [
             0.5555555555555556,
             "#d8576b"
            ],
            [
             0.6666666666666666,
             "#ed7953"
            ],
            [
             0.7777777777777778,
             "#fb9f3a"
            ],
            [
             0.8888888888888888,
             "#fdca26"
            ],
            [
             1,
             "#f0f921"
            ]
           ]
          },
          "colorway": [
           "#636efa",
           "#EF553B",
           "#00cc96",
           "#ab63fa",
           "#FFA15A",
           "#19d3f3",
           "#FF6692",
           "#B6E880",
           "#FF97FF",
           "#FECB52"
          ],
          "font": {
           "color": "#2a3f5f"
          },
          "geo": {
           "bgcolor": "white",
           "lakecolor": "white",
           "landcolor": "#E5ECF6",
           "showlakes": true,
           "showland": true,
           "subunitcolor": "white"
          },
          "hoverlabel": {
           "align": "left"
          },
          "hovermode": "closest",
          "mapbox": {
           "style": "light"
          },
          "paper_bgcolor": "white",
          "plot_bgcolor": "#E5ECF6",
          "polar": {
           "angularaxis": {
            "gridcolor": "white",
            "linecolor": "white",
            "ticks": ""
           },
           "bgcolor": "#E5ECF6",
           "radialaxis": {
            "gridcolor": "white",
            "linecolor": "white",
            "ticks": ""
           }
          },
          "scene": {
           "xaxis": {
            "backgroundcolor": "#E5ECF6",
            "gridcolor": "white",
            "gridwidth": 2,
            "linecolor": "white",
            "showbackground": true,
            "ticks": "",
            "zerolinecolor": "white"
           },
           "yaxis": {
            "backgroundcolor": "#E5ECF6",
            "gridcolor": "white",
            "gridwidth": 2,
            "linecolor": "white",
            "showbackground": true,
            "ticks": "",
            "zerolinecolor": "white"
           },
           "zaxis": {
            "backgroundcolor": "#E5ECF6",
            "gridcolor": "white",
            "gridwidth": 2,
            "linecolor": "white",
            "showbackground": true,
            "ticks": "",
            "zerolinecolor": "white"
           }
          },
          "shapedefaults": {
           "line": {
            "color": "#2a3f5f"
           }
          },
          "ternary": {
           "aaxis": {
            "gridcolor": "white",
            "linecolor": "white",
            "ticks": ""
           },
           "baxis": {
            "gridcolor": "white",
            "linecolor": "white",
            "ticks": ""
           },
           "bgcolor": "#E5ECF6",
           "caxis": {
            "gridcolor": "white",
            "linecolor": "white",
            "ticks": ""
           }
          },
          "title": {
           "x": 0.05
          },
          "xaxis": {
           "automargin": true,
           "gridcolor": "white",
           "linecolor": "white",
           "ticks": "",
           "title": {
            "standoff": 15
           },
           "zerolinecolor": "white",
           "zerolinewidth": 2
          },
          "yaxis": {
           "automargin": true,
           "gridcolor": "white",
           "linecolor": "white",
           "ticks": "",
           "title": {
            "standoff": 15
           },
           "zerolinecolor": "white",
           "zerolinewidth": 2
          }
         }
        },
        "title": {
         "text": "uMAP Plot for Outliers"
        },
        "width": 900,
        "xaxis": {
         "anchor": "y",
         "domain": [
          0,
          1
         ],
         "title": {
          "text": "0"
         }
        },
        "yaxis": {
         "anchor": "x",
         "domain": [
          0,
          1
         ],
         "title": {
          "text": "1"
         }
        }
       }
      },
      "text/html": [
       "<div>\n",
       "        \n",
       "        \n",
       "            <div id=\"b965458a-7902-46f8-9501-de9717a6281b\" class=\"plotly-graph-div\" style=\"height:800px; width:900px;\"></div>\n",
       "            <script type=\"text/javascript\">\n",
       "                require([\"plotly\"], function(Plotly) {\n",
       "                    window.PLOTLYENV=window.PLOTLYENV || {};\n",
       "                    \n",
       "                if (document.getElementById(\"b965458a-7902-46f8-9501-de9717a6281b\")) {\n",
       "                    Plotly.newPlot(\n",
       "                        'b965458a-7902-46f8-9501-de9717a6281b',\n",
       "                        [{\"customdata\": [[0.263995357], [0.546092303], [0.33671410399999996], [0.092107835], [0.325261175], [0.212464853], [0.258565714], [0.869236755], [0.197077957], [0.292984504], [0.82178316], [0.796622959], [0.045577010999999994], [0.613660351], [0.9507445659999999], [0.33634633700000005], [0.034440667], [0.741544275], [0.18443265], [0.664514943], [0.16282485800000002], [0.729838445], [0.62837389], [0.057883660999999996], [0.445534827], [0.80183695], [0.27709612], [0.228634015], [0.834860657], [0.6697665110000001], [0.532527349], [0.17045907100000002], [0.5102884679999999], [0.977561989], [0.249775993], [0.9755006820000001], [0.613701727], [0.16742036300000002], [0.537472516], [0.379899131], [0.633897303], [0.633960424], [0.5499746529999999], [0.178172988], [0.85563814], [0.321796672], [0.8174905370000001], [0.254879417], [0.344140513], [0.8061457259999999], [0.27708167100000003], [0.544328519], [0.07708393], [0.273081458], [0.390877336], [0.349621385], [0.214549744], [0.206075222], [0.86461997], [0.9817088540000001], [0.33482964600000004], [0.648387061], [0.093643561], [0.837802698], [0.7603439670000001], [0.29140417399999996], [0.3413454], [0.7611124840000001], [0.541899775], [0.684176639], [0.983535597], [0.52081245], [0.328227724], [0.09715793800000001], [0.876088593], [0.870214512], [0.656086992], [0.306791514], [0.48126734], [0.259559174], [0.326123655], [0.930568042], [0.6583894], [0.689992335], [0.315781109], [0.5669050929999999], [0.637526619], [0.687540723], [0.324300602], [0.592704906], [0.7402531259999999], [0.5940328770000001], [0.596452977], [0.27768081699999997], [0.258329663], [0.142460864], [0.435533461], [0.7024990440000001], [0.58897535], [0.653304374], [0.336968524], [0.631244736], [0.73530076], [0.050390366], [0.064264924], [0.665359476], [0.917835245], [0.44651012], [0.661938199], [0.43935985299999997], [0.6875724040000001], [0.363462248], [0.6542621820000001], [0.578553536], [0.065927945], [0.550148559], [0.13918281400000002], [0.080004635], [0.278228358], [0.560124266], [0.53639864], [0.42653190399999996], [0.789109796], [0.742900474], [0.901692589], [0.650337401], [0.114057311], [0.260812592], [0.43991232], [0.964409284], [0.184401415], [0.345145446], [0.17589458100000002], [0.312514453], [0.674131879], [0.32825045], [0.598231057], [0.09259881699999999], [0.497916521], [0.419776521], [0.31217670000000003], [0.937857107], [0.049030963], [0.47610452600000003], [0.447397526], [0.295806058], [0.737363977], [0.625896253], [0.408813429], [0.437511156], [0.691351375], [0.935555275], [0.437846654], [0.072217715], [0.67636067], [0.468883999], [0.543820644], [0.6555226470000001], [0.6935289240000001], [0.10887831199999999], [0.285463743], [0.0], [0.706495497], [0.273530633], [0.292320271], [0.673984307], [0.12612182800000002], [0.9467074590000001], [0.9363388979999999], [0.8537553640000001], [0.7060713609999999], [0.693682186], [0.508527882], [0.34717038899999997], [0.704154263], [0.658730088], [0.155841557], [0.311085435], [0.281135347], [0.094587802], [0.6832609540000001], [0.9077292509999999], [0.29151267399999997], [0.752734459], [0.93482964], [0.071413953], [0.5948963270000001], [0.404672015], [0.13837621], [0.7473384679999999], [0.530882486], [0.282649594], [0.699335734], [0.056111250999999994], [0.855234998], [0.07789512700000001], [0.891649583], [0.38674227899999997], [0.27113158], [0.958888961], [0.085120869], [0.5269022489999999], [0.066577785], [0.841506738], [0.255342095], [0.060545771], [0.073385869], [0.187493723], [0.858365688], [0.090640352], [0.7097252270000001], [0.631300647], [0.24750447399999997], [0.822843584], [0.373476759], [0.625538582], [0.292951715], [0.299730324], [0.25121407], [0.344480551], [0.293064767], [0.7628032240000001], [0.7384708040000001], [0.674883265], [0.719151612], [0.13098021599999998], [0.511328036], [0.04492903], [0.560914449], [0.7440406409999999], [0.266961634], [0.644231853], [0.038113352], [0.05715529900000001], [0.34139246100000004], [0.7204636320000001], [0.402878236], [0.635148967], [0.320729467], [0.09120969400000001], [0.23414609], [0.8902211309999999], [0.602170884], [0.633652055], [0.806240837], [0.739731184], [0.465231269], [0.7321109], [0.373874305], [0.501587947], [0.11538315800000001], [0.7319466040000001], [0.41829872799999995], [0.062259590999999996], [0.391496379], [0.35984929], [0.24523562699999998], [0.610028339], [0.43540360200000006], [0.434309675], [0.523763344], [0.17118786600000002], [0.18773430300000002], [0.945014638], [0.027851097000000002], [0.68445706], [0.178014532], [0.643427879], [0.59588355], [0.372361682], [0.586103584], [0.271658852], [0.59951107], [0.468363088], [0.314515565], [0.21893726], [0.254716562], [0.25612815], [0.602259755], [0.134381075], [0.513887424], [0.624241636], [0.160251854], [0.580708108], [0.270540486], [0.832919932], [0.93032134], [0.719157884], [0.886720033], [0.098792281], [0.787174286], [0.365592376], [0.719576193], [0.8058956], [0.7555783340000001], [0.526005909], [0.68880424], [0.22111531199999998], [0.739369477], [0.408440236], [0.348926542], [0.433713763], [0.5964966070000001], [0.6942953000000001], [0.7090309659999999], [0.867652984], [0.89332545], [0.746020922], [0.538284443], [0.8922193140000001], [0.935175765], [0.260527707], [0.956780449], [0.204932484], [0.687733351], [0.329063619], [0.632149831], [0.463744506], [0.698859621], [0.385446564], [0.47997537700000004], [0.732279108], [0.3813543], [0.459326013], [0.257401434], [0.665014804], [0.103399542], [0.425284413], [0.943529051], [0.594750236], [0.543776817], [0.18203988], [0.23584208399999998], [0.585984497], [0.762013168], [0.6849829070000001], [0.676936933], [0.290184964], [0.48106822200000005], [0.492766033], [0.22185623399999999], [0.053875998], [0.082751144], [0.385366225], [0.702513961], [0.91553156], [0.082087436], [0.251280378], [0.41672181700000005], [0.277032672], [0.579539754], [0.569363476], [0.133399703], [0.265045463], [0.936571901], [0.252618554], [0.054033081], [0.802481439], [0.528197693], [0.9515026], [0.572121173], [0.752938227], [0.143857535], [0.513484576], [0.313322389], [0.6877973959999999], [0.37705984], [0.348226142], [0.67763282], [0.24138752100000002], [0.8506501790000001], [0.22034810300000002], [0.476445464], [0.690324025], [0.364695946], [0.6492491970000001], [0.9437019209999999], [0.529645971], [0.299097002], [0.96696247], [0.272005242], [0.314161447], [0.752020991], [0.221882453], [0.7203326729999999], [0.379204782], [0.60168653], [0.582932673], [0.950809853], [0.58830141], [0.880887227], [0.467857701], [0.8799021709999999], [0.619844009], [0.359002573], [0.291511278], [0.694157143], [0.727960353], [0.617703921], [0.39581257], [0.58317282], [0.710332374], [0.253753693], [0.049412227999999996], [0.728378695], [0.432432881], [0.58612345], [0.052342373], [0.053483902], [0.518729378], [0.933040208], [0.7035542840000001], [0.268989899], [0.733006927], [0.44435246700000003], [0.5833946210000001], [0.871172692], [0.42876707799999997], [0.30046084100000003], [0.9533294590000001], [0.606443965], [0.90986815], [0.714896449], [0.49734950899999997], [0.8530974859999999], [0.721804145], [0.303467328], [0.664485096], [0.27978062], [0.569481665], [0.628628926], [0.088368123], [0.733567326], [0.537436778], [0.638593691], [0.954726948], [0.632202332], [0.642134651], [0.744653087], [0.115714007], [0.48625007299999995], [0.440356144], [0.08272289], [0.511591027], [0.394627555], [0.224394], [0.626927584], [0.290254057], [0.779008053], [0.86610579], [0.873326081], [0.49548916], [0.594297695], [0.9182015840000001], [0.5770427539999999], [0.019467671000000002], [0.6702982820000001], [0.546595316], [0.591665146], [0.42155819], [0.6856085590000001], [0.340303024], [0.675626741], [0.319067345], [0.38849966399999997], [0.706949589], [0.559409515], [0.687663508], [0.7088045540000001], [0.6818880940000001], [0.42253510899999996], [0.320004605], [0.6582813679999999], [0.634154867], [0.7773320090000001], [0.812677205], [0.074280797], [0.39600217], [0.054933913], [0.825058925], [0.382642009], [0.8687298179999999], [0.588043346], [0.891551577], [0.10920046], [0.647682781], [0.724342512], [0.07016304400000001], [0.280882054], [0.039113261], [0.579641592], [0.639000922], [0.281745925], [0.647857744], [0.6479057970000001], [0.875226264], [0.567603305], [0.262940591], [0.268026042], [0.40519133], [0.479965451], [0.33552403], [0.777165379], [0.42548796299999997], [0.237986115], [0.142522971], [0.724176488], [0.234698933], [0.07818228099999999], [0.855990155], [0.270251765], [0.435517841], [0.762697513], [0.46448725799999996], [0.396112685], [0.37638092100000003], [0.29459467699999997], [0.6944921209999999], [0.622767949], [0.8475597220000001], [0.301463054], [0.912937812], [0.500017182], [0.902587935], [0.304517943], [0.299165673], [0.092014087], [0.488548917], [0.664664437], [0.26534954899999996], [0.723657021], [0.149262385], [0.04577339], [0.69661064], [0.42181486], [0.733845785], [0.418795386], [0.677443529], [0.26128360300000003], [0.268527767], [0.5443222360000001], [0.431632036], [0.981018141], [0.21498072399999998], [0.39472999299999995], [0.122224944], [0.297496875], [0.37490443100000004], [0.68698771], [0.388549207], [0.039296071], [0.73553424], [0.37929489299999997], [0.7321233859999999], [0.33922143899999996], [0.659450594], [0.054838642], [0.640112102], [0.30714170399999996], [0.39661190700000004], [0.420439161], [0.24171497399999997], [0.065893153], [0.9105219370000001], [0.697163103], [0.072559853], [0.81825094], [0.311888815], [0.961644609], [0.816325524], [0.14647302], [0.548753945], [0.946158087], [0.293992717], [0.331479643], [0.9062200309999999], [0.525540416], [0.83301411], [0.514849806], [0.574609024], [0.46871185299999996], [0.71002775], [0.645973276], [0.229794416], [0.551783393], [0.055822990999999995], [0.331750941], [0.715520198], [0.583924357], [0.30695769100000003], [0.7914782370000001], [0.16423663900000002], [0.065711219], [0.948993132], [0.080423835], [0.052495426], [0.566346135], [0.3630266], [0.605442195], [0.6308505839999999], [0.065791238], [0.28681707100000003], [0.685462839], [0.260853706], [0.659122429], [0.44317392200000005], [0.602063986], [0.060366910999999995], [0.781903153], [0.5145798070000001], [0.48388621299999995], [0.600213807], [0.49736405200000006], [0.411145245], [0.116999171], [0.34189014100000004], [0.746950848], [0.39629274600000003], [0.6221438429999999], [0.335271141], [0.140257137], [0.081620681], [0.069837569], [0.46894000799999996], [0.9908574170000001], [0.896616832], [0.255310561], [0.22464526699999998], [0.01991825], [0.296480415], [0.155458996], [0.577916714], [0.9563030309999999], [0.813464394], [0.529675785], [0.287671353], [0.48039136], [0.28104482199999997], [0.633196521], [0.09332537699999999], [0.28447398100000004], [0.052223775], [0.051129385], [0.967405608], [0.040045727999999996], [0.9085829209999999], [0.6621174160000001], [0.42470320899999997], [0.72207806], [0.666193327], [0.509681253], [0.7513536209999999], [0.279073124], [0.074927], [0.916359535], [0.31040327], [0.716604052], [0.485587085], [0.30607518100000003], [0.477558204], [0.7119239409999999], [0.066348638], [0.27453935100000004], [0.31082252], [0.47607312700000004], [0.186795565], [0.26654207], [0.070231142], [0.26951927], [0.800004713], [0.27363366699999997], [0.14647919199999998], [0.378318951], [0.373849065], [0.242170835], [0.249796488], [0.066591188], [0.372956798], [0.501812291], [0.313097752], [0.8802021959999999], [0.51981893], [0.364138746], [0.49268289600000004], [0.285732652], [0.890114985], [0.316419561], [0.26866354], [0.771975959], [0.968888992], [0.080334377], [0.7368282209999999], [0.30055807100000004], [0.9179503929999999], [0.465815039], [0.054036682], [0.963150123], [0.08965350300000001], [0.7076932340000001], [0.636416037], [0.539521117], [0.114757161], [0.357312419], [0.67639834], [0.43482839], [0.032326387000000005], [0.711365605], [0.187486519], [0.052789653], [0.5058636129999999], [0.927431873], [0.6809842559999999], [0.882822186], [0.495705441], [0.596240398], [0.320610701], [0.3413685], [0.159681797], [0.318133669], [0.8393010479999999], [0.06435925099999999], [0.470216633], [0.7762522909999999], [0.635843383], [0.62510543], [0.52959065], [0.986900166], [0.078585688], [0.233284267], [0.363330957], [0.7167169809999999], [0.37588979200000006], [0.223316889], [0.299343986], [0.538595767], [0.730297124], [0.66033077], [0.435296009], [0.326494313], [0.854402708], [0.5734938470000001], [0.757786135], [0.704743233], [0.281575597], [0.671968208], [0.313726015], [0.364338275], [0.368216396], [0.38629520700000003], [0.655971865], [0.5660252729999999], [0.424999093], [0.090110371], [0.772350538], [0.331047258], [0.273716188], [0.23877568], [0.37307977200000003], [0.331185868], [0.256134531], [0.678373225], [0.43463833799999996], [0.654668307], [0.986681065], [0.371520495], [0.408359618], [0.40932365], [0.283412082], [0.395246531], [0.010984428000000001], [0.306013869], [0.266194806], [0.299318521], [0.318293946], [0.74282591], [0.09766432900000001], [0.079666942], [0.613258767], [0.99443072], [0.568835082], [0.7080345159999999], [0.37059271899999996], [0.669867361], [0.651295625], [0.462531569], [0.7196256190000001], [0.45377248], [0.394863946], [0.323974831], [0.146454724], [0.7790670409999999], [0.401828915], [0.601479585], [0.856423023], [0.565242962], [0.301225108], [0.282108144], [0.594378011], [0.705312368], [0.5408696279999999], [0.319249574], [0.36176613799999996], [0.625000704], [0.316287401], [0.047239021], [0.801182233], [0.508474436], [0.8178934109999999], [0.399235601], [0.9740519990000001], [0.72241535], [0.039564764], [0.908684108], [0.47301013399999997], [0.7180496279999999], [0.7634790690000001], [0.6475965370000001], [0.8949973859999999], [0.22282590100000002], [0.359012234], [0.944910252], [0.297877816], [0.172517997], [0.556586265], [0.876481735], [0.48667784299999994], [0.459496733], [0.47412637700000004], [0.70101144], [0.337597387], [0.537578886], [0.966992448], [0.056849545], [0.233249065], [0.380054711], [0.602929443], [0.303847999], [0.170194553], [0.972168554], [0.332168927], [0.6887286890000001], [0.110773401], [0.273352065], [0.572939678], [0.491457065], [0.281389999], [0.821697261], [0.6749776829999999], [0.585134549], [0.7105961159999999], [0.040488789], [0.568054311], [0.321752928], [0.611850232], [0.926096887], [0.618347428], [0.667629785], [0.39773346600000004], [0.290875487], [0.594375103], [0.508255233], [0.338571357], [0.43230234700000003], [0.302221978], [0.87619819], [0.080204492], [0.092333532], [0.09365644699999999], [0.6084523510000001], [0.732654598], [0.944158855], [0.26742308], [0.731124201], [0.661308553], [0.38776626200000003], [0.962585273], [0.322067067], [0.6340810929999999], [0.475345002], [0.35355897299999994], [0.8859363159999999], [0.876798106], [0.221581064], [0.394362449], [0.8050356759999999], [0.452898486], [0.592520516], [0.761026394], [0.245049023], [0.37213936299999995], [0.681054822], [0.7471431479999999], [0.9207395290000001], [0.097207945], [0.699302998], [0.721647006], [0.5353561139999999], [0.738293805], [0.7064675509999999], [0.67395061], [0.7112122909999999], [0.302558708], [0.080097855], [0.707010837], [0.512248622], [0.659627472], [0.657559694], [0.100645606], [0.92665363], [0.892879338], [0.839157508], [0.890959718], [0.556754471], [0.960361937], [0.631037864], [0.029838065], [0.278843351], [0.926157705], [0.551504258], [0.485942349], [0.43723469600000003], [0.25231801800000003], [0.515466972], [0.43725229600000004], [0.493724207], [0.83324725], [0.317521477], [0.28623456199999997], [0.726833965], [0.495667033], [0.028645255], [0.31967191699999997], [0.674344598], [0.7660371890000001], [0.65456992], [0.7565143809999999], [0.528253719], [0.38971949100000003], [0.355087459], [0.87015202], [0.7390833059999999], [0.305761846], [0.411587673], [0.063633094], [0.735409395], [0.605916669], [0.539395562], [0.566183532], [0.674795186], [0.070993366], [0.12526410000000002], [0.279601492], [0.952174402], [0.233806762], [0.43724742899999997], [0.925423095], [0.433498634], [0.52517902], [0.088435529], [0.447677638], [0.647000631], [0.9036033370000001], [0.265790738], [0.66419695], [0.498120658], [0.49018894399999996], [0.747084187], [0.906783648], [0.678770917], [0.348599859], [0.294839683], [0.705691827], [0.211917931], [0.063201124], [0.276699543], [0.672459395], [0.8082059490000001], [0.296538373], [0.16012686199999998], [0.439385032], [0.555951416], [0.386240112], [0.158689619], [0.214499855], [0.299579429], [0.569161656], [0.488614799], [0.8782950209999999], [0.649380949], [0.465713341], [0.16813774], [0.87529545], [0.8411323409999999], [0.33292081], [0.5130478589999999], [0.30505507800000004], [0.8126269909999999], [0.25096706], [0.5024355779999999], [0.45799074100000003]], \"hovertemplate\": \"0=%{x}<br>1=%{y}<br>Feature=%{customdata[0]}<br>Label=%{marker.color}<extra></extra>\", \"legendgroup\": \"\", \"marker\": {\"color\": [0, 0, 1, 1, 0, 0, 0, 1, 1, 0, 0, 1, 0, 0, 1, 0, 1, 0, 0, 0, 1, 0, 0, 1, 1, 1, 0, 0, 1, 1, 0, 0, 1, 1, 1, 0, 0, 0, 0, 0, 1, 0, 0, 1, 0, 0, 0, 0, 0, 0, 0, 1, 0, 1, 0, 1, 0, 0, 0, 1, 0, 0, 1, 1, 0, 0, 1, 0, 0, 1, 0, 0, 0, 0, 0, 0, 0, 0, 0, 0, 0, 0, 0, 0, 0, 0, 0, 0, 0, 0, 0, 0, 0, 0, 0, 0, 0, 0, 0, 0, 0, 0, 0, 0, 0, 0, 0, 0, 0, 0, 0, 0, 0, 0, 0, 0, 0, 0, 0, 0, 0, 0, 0, 0, 0, 0, 0, 0, 0, 0, 0, 0, 0, 0, 0, 0, 0, 0, 0, 0, 0, 0, 0, 0, 0, 0, 0, 0, 0, 0, 0, 0, 0, 0, 0, 0, 0, 0, 0, 0, 0, 0, 0, 0, 0, 0, 0, 0, 0, 0, 0, 0, 0, 0, 0, 0, 0, 0, 0, 0, 0, 0, 0, 0, 0, 0, 0, 0, 0, 0, 0, 0, 0, 0, 0, 0, 0, 0, 1, 0, 0, 0, 0, 0, 0, 0, 0, 0, 0, 0, 0, 0, 0, 0, 0, 0, 0, 0, 0, 0, 0, 0, 0, 0, 0, 0, 0, 0, 0, 0, 0, 0, 0, 0, 0, 0, 0, 0, 0, 0, 0, 0, 0, 0, 0, 0, 0, 0, 0, 0, 0, 0, 0, 0, 0, 0, 0, 0, 0, 0, 0, 0, 0, 0, 0, 0, 0, 0, 0, 0, 0, 0, 0, 0, 0, 0, 0, 0, 0, 0, 0, 0, 0, 0, 0, 0, 0, 0, 0, 0, 0, 0, 0, 0, 0, 0, 0, 0, 0, 0, 0, 0, 0, 0, 0, 0, 0, 0, 0, 0, 0, 0, 0, 0, 0, 0, 0, 0, 0, 0, 0, 0, 0, 0, 0, 0, 0, 0, 0, 0, 0, 0, 0, 0, 0, 0, 0, 0, 0, 0, 0, 0, 0, 0, 0, 0, 0, 0, 0, 0, 0, 0, 0, 0, 0, 0, 0, 0, 0, 0, 0, 0, 0, 0, 0, 0, 0, 0, 0, 0, 0, 0, 0, 0, 0, 0, 0, 0, 0, 0, 0, 0, 0, 0, 0, 0, 0, 0, 0, 0, 0, 0, 0, 0, 0, 0, 0, 0, 0, 0, 0, 0, 0, 0, 0, 0, 0, 0, 0, 0, 0, 0, 0, 0, 0, 0, 0, 0, 0, 0, 0, 0, 0, 0, 0, 0, 0, 0, 0, 0, 0, 0, 0, 0, 0, 0, 0, 0, 0, 0, 0, 0, 0, 0, 0, 0, 0, 0, 0, 0, 0, 0, 0, 0, 0, 0, 0, 0, 0, 0, 0, 0, 0, 0, 0, 0, 0, 0, 0, 0, 0, 0, 0, 0, 0, 0, 0, 0, 0, 0, 0, 0, 0, 0, 0, 0, 0, 0, 0, 0, 0, 0, 0, 0, 0, 0, 0, 0, 0, 0, 0, 0, 0, 0, 0, 0, 0, 0, 0, 0, 0, 0, 0, 0, 0, 0, 0, 0, 0, 0, 0, 0, 0, 0, 0, 0, 0, 0, 0, 0, 0, 0, 0, 0, 0, 0, 0, 0, 0, 0, 0, 0, 0, 0, 0, 1, 0, 0, 0, 0, 0, 0, 0, 0, 0, 0, 0, 0, 0, 0, 0, 0, 0, 0, 0, 0, 0, 0, 0, 0, 0, 0, 0, 0, 0, 0, 0, 1, 0, 0, 0, 0, 0, 0, 0, 0, 0, 0, 0, 0, 0, 0, 0, 0, 0, 0, 0, 0, 0, 0, 0, 0, 1, 0, 0, 0, 0, 0, 0, 0, 0, 0, 0, 0, 0, 0, 0, 0, 0, 0, 0, 0, 0, 0, 0, 0, 0, 0, 0, 0, 0, 0, 0, 0, 0, 0, 0, 0, 0, 0, 0, 0, 0, 0, 0, 0, 0, 0, 0, 0, 0, 0, 0, 0, 0, 0, 0, 0, 0, 0, 0, 0, 0, 0, 0, 0, 0, 0, 0, 0, 0, 0, 0, 0, 0, 0, 0, 0, 0, 0, 1, 0, 0, 0, 0, 0, 0, 0, 0, 0, 0, 0, 0, 0, 0, 0, 0, 0, 0, 0, 1, 1, 0, 1, 1, 0, 0, 1, 1, 0, 0, 0, 0, 1, 0, 0, 1, 1, 1, 0, 1, 0, 1, 1, 1, 0, 0, 0, 1, 0, 0, 0, 0, 0, 0, 0, 0, 0, 0, 0, 0, 0, 0, 1, 0, 0, 0, 0, 0, 0, 0, 0, 0, 0, 0, 0, 0, 0, 0, 0, 0, 0, 0, 0, 0, 0, 0, 0, 0, 0, 0, 0, 0, 0, 0, 0, 0, 0, 0, 0, 1, 0, 0, 0, 0, 0, 0, 0, 0, 0, 0, 0, 0, 0, 0, 0, 0, 0, 0, 0, 0, 0, 0, 0, 0, 0, 0, 0, 0, 0, 0, 0, 0, 0, 0, 0, 0, 0, 0, 0, 0, 0, 0, 0, 0, 0, 0, 0, 0, 0, 0, 0, 0, 0, 0, 0, 0, 0, 0, 0, 0, 0, 0, 0, 0, 0, 0, 0, 0, 0, 0, 0, 0, 0, 0, 0, 0, 0, 0, 0, 0, 0, 0, 1, 0, 0, 0, 0, 0, 0, 0, 0, 0, 0, 0, 0, 0, 0, 0, 0, 0, 0, 0, 0, 0, 0, 0, 0, 0, 0, 0, 0, 0, 0, 0, 0, 0, 0, 0, 0, 0, 0, 0, 0, 0, 0, 0, 0, 0, 0, 0, 0, 0, 0, 0, 0, 0, 0, 0, 0, 0, 1, 0, 0, 0, 0, 0, 0, 0, 0, 0, 0, 0, 0, 0, 0, 0, 0, 0, 0, 0, 0, 0, 0, 0, 0, 0, 0, 0, 0, 0, 0, 0, 0, 0, 0, 0, 0, 0, 0, 0, 0, 0, 0, 0, 0, 0, 0, 0, 0, 0, 0, 0, 0, 0, 0, 0, 0, 0, 0, 0, 0, 0, 0, 0, 0, 0, 0, 0, 0, 0, 0, 0, 0, 0, 0, 0, 0, 0, 0], \"coloraxis\": \"coloraxis\", \"opacity\": 0.7, \"symbol\": \"circle\"}, \"mode\": \"markers\", \"name\": \"\", \"orientation\": \"v\", \"showlegend\": false, \"type\": \"scatter\", \"x\": [1.3409028053283691, 1.8623543977737427, 12.096579551696777, 10.583174705505371, 13.16015625, 9.824003219604492, -0.17837323248386383, 10.991157531738281, 1.1568424701690674, -1.2950650453567505, 9.93409538269043, 12.968066215515137, 9.82121467590332, -0.11020751297473907, 11.91230297088623, 12.14042854309082, 9.799764633178711, -0.5109284520149231, 11.391465187072754, 11.154668807983398, 9.540987968444824, 1.0837618112564087, 12.215356826782227, 1.1805391311645508, 10.48641586303711, 1.0586373805999756, 12.809149742126465, 0.13597829639911652, 12.3187894821167, 12.053875923156738, 1.072465181350708, 1.2276911735534668, 0.0015348080778494477, 11.714712142944336, -0.11698645353317261, 1.0853408575057983, -0.9336979985237122, 0.04961787164211273, 0.8467927575111389, 10.06503963470459, -1.927302598953247, 11.694418907165527, -1.3061020374298096, 10.238044738769531, 11.611686706542969, 11.990399360656738, 11.586943626403809, 1.2232153415679932, 12.885856628417969, -1.4673488140106201, 10.350773811340332, 11.153007507324219, -0.45970797538757324, 12.060342788696289, 9.949666976928711, 0.6179608106613159, 0.4618309438228607, -0.033327583223581314, 11.573433876037598, 12.065736770629883, 0.06843674927949905, -0.07187860459089279, 12.507999420166016, 11.518383979797363, -1.4612483978271484, 11.552078247070312, -0.9684394001960754, -0.5103963613510132, 12.980794906616211, 10.261322021484375, 12.103296279907227, 11.161988258361816, 0.29882141947746277, 10.156044006347656, -1.0209656953811646, 0.48411163687705994, 13.109938621520996, 12.295937538146973, -1.666502594947815, -1.742874026298523, -1.4895896911621094, 0.06181608512997627, 12.75760555267334, 0.11698968708515167, 0.2608332633972168, 1.8086758852005005, -0.9758941531181335, -0.9015281200408936, 0.6485679149627686, 0.39169105887413025, 0.21105197072029114, 9.946454048156738, -0.7930477857589722, -0.35077255964279175, 0.6811609268188477, 12.46642017364502, -0.7431526780128479, 1.571433424949646, 0.09895136207342148, 13.019647598266602, 0.672976016998291, -1.5318471193313599, 1.586203932762146, -0.9265680313110352, 12.155904769897461, -1.5624219179153442, -0.3293341100215912, 0.9424270391464233, -1.1057898998260498, 12.293313026428223, 0.00039638555608689785, 0.7358192801475525, 9.794319152832031, 0.09772902727127075, 12.798638343811035, -0.40439093112945557, -0.3280124068260193, -0.416736900806427, 10.37242603302002, -0.18119211494922638, -0.658872663974762, 0.37201666831970215, 1.1059883832931519, -1.5662950277328491, 0.6568193435668945, 1.68450927734375, 0.9047507643699646, 10.659571647644043, 0.6344009041786194, 1.5728042125701904, 0.3994589149951935, -0.6649200320243835, 10.549165725708008, 0.4082934856414795, -1.5358695983886719, 1.0537302494049072, 12.525474548339844, 11.162613868713379, 1.6685503721237183, 1.529273271560669, 10.312870979309082, 0.42677271366119385, -0.9187473654747009, 13.027107238769531, -0.31612735986709595, -1.4616031646728516, 10.312789916992188, -1.4970976114273071, 1.748167872428894, 0.18331435322761536, 0.15877734124660492, -0.355071097612381, 1.1317566633224487, -1.1241265535354614, 0.9980145692825317, -0.8244756460189819, -1.620802879333496, -1.9203661680221558, -0.47278115153312683, 9.563689231872559, -0.39308449625968933, -0.23114660382270813, -0.8396371603012085, -1.8214682340621948, 10.120217323303223, -1.543502926826477, 10.399806022644043, 11.88703727722168, 11.984356880187988, 0.33128684759140015, -0.3942629098892212, 1.7205231189727783, 10.366744041442871, 12.261520385742188, 1.1331801414489746, -1.354088306427002, 9.963923454284668, 11.970151901245117, 1.6199867725372314, 11.063126564025879, 1.0094956159591675, 10.51983642578125, 1.0140312910079956, 11.749058723449707, 11.895673751831055, -0.3085811138153076, 11.290271759033203, 0.035940323024988174, -1.3116248846054077, -0.28340575098991394, -1.6099778413772583, 13.200444221496582, 9.997431755065918, 12.482522964477539, -0.9384452700614929, -0.08342467248439789, 0.7466108798980713, 1.0862945318222046, 0.6100965142250061, 0.9265300035476685, 0.8653400540351868, 0.812623918056488, 0.6061256527900696, 12.795631408691406, 12.208142280578613, 1.0541272163391113, -1.8698712587356567, 0.7648337483406067, 10.391027450561523, 1.2254105806350708, 1.0278011560440063, 11.20493221282959, 12.447254180908203, -0.13292036950588226, 0.5746181607246399, 0.8084679245948792, 1.4245222806930542, 12.153304100036621, 12.542704582214355, 1.4894951581954956, 12.24773120880127, 0.6298916339874268, 12.893341064453125, -1.1968896389007568, -0.9197868704795837, -1.8393216133117676, -1.54316246509552, -1.2201482057571411, -1.6009365320205688, 10.836779594421387, -0.04973718151450157, -1.1157559156417847, 11.063145637512207, 11.120200157165527, -0.47966623306274414, 0.7735300064086914, 1.5263980627059937, -0.31444695591926575, 10.792795181274414, 11.923880577087402, 0.7794257998466492, 1.1860451698303223, 11.849711418151855, -0.15647706389427185, 11.002950668334961, -1.121046543121338, -1.0930836200714111, -1.2131195068359375, -1.628688097000122, 12.35930061340332, -0.662173330783844, 1.464866042137146, 10.99162483215332, -0.18778587877750397, -1.5500273704528809, 1.30020010471344, 1.2876163721084595, -0.614814043045044, 10.839509010314941, -0.18261829018592834, 11.87857437133789, -0.1302616000175476, 12.968352317810059, 1.1523302793502808, -0.7147161364555359, 0.14304634928703308, 11.333832740783691, -0.6574758291244507, -1.0178204774856567, 1.1496561765670776, 0.9566870331764221, 0.6673763394355774, 0.6077494621276855, 11.845285415649414, 9.82691478729248, -1.2916940450668335, 12.523771286010742, 13.221435546875, 0.817510187625885, -1.310264229774475, -1.556139349937439, 11.8621244430542, -1.4126588106155396, 0.895862877368927, 12.719459533691406, 0.7009516954421997, -0.7272540926933289, 0.8411269783973694, -0.8031575083732605, 0.8529876470565796, 0.2579882740974426, 0.7067038416862488, -0.3030431568622589, 0.499926894903183, 0.11821376532316208, 9.98239803314209, 10.262396812438965, -1.8307644128799438, 0.08878148347139359, 1.2483652830123901, 1.8954588174819946, -0.5197038054466248, 12.41268539428711, 11.107599258422852, 10.46202564239502, -0.609880805015564, 1.1480528116226196, -0.5568959712982178, -1.8859270811080933, 11.876441955566406, 11.82654094696045, -1.6582010984420776, 10.71274471282959, 11.870989799499512, 0.46052417159080505, 1.2872868776321411, 0.3100681006908417, -0.040826406329870224, -0.7144708633422852, 0.6559049487113953, 1.8211733102798462, 0.11750279366970062, 11.078910827636719, 1.5730398893356323, -1.0718649625778198, 1.1479207277297974, 11.595836639404297, 11.305770874023438, 11.938644409179688, 10.331504821777344, -0.6752555966377258, 12.061749458312988, -0.5368908643722534, -0.7514682412147522, -0.9234281182289124, 12.797905921936035, 1.5404051542282104, 1.0470017194747925, 11.294468879699707, 11.881303787231445, 1.0763909816741943, -1.2811628580093384, 10.105629920959473, -1.132020115852356, 11.147297859191895, 12.408306121826172, 0.40107056498527527, -1.8027268648147583, 10.69058609008789, 12.19424057006836, 1.493947982788086, 0.7740466594696045, -0.11898116767406464, 0.6114237904548645, -0.6425099968910217, -1.190030813217163, -0.01148845162242651, 0.9057526588439941, 12.307829856872559, 1.0806058645248413, 1.7567994594573975, 1.2561992406845093, 0.6959204077720642, -1.6803674697875977, 10.922402381896973, -0.9622669816017151, 12.54554557800293, -0.5310581922531128, -0.8817221522331238, 0.9667727947235107, -1.0952930450439453, 0.667789876461029, 13.225404739379883, 11.687472343444824, 11.099780082702637, -1.3821427822113037, -0.7979015707969666, 10.430450439453125, 0.6135046482086182, 0.7409002184867859, 9.989166259765625, 0.605017364025116, -0.7435203194618225, -0.510722815990448, 1.6204231977462769, -0.6610344648361206, -0.24037794768810272, -0.07501810789108276, 1.091253399848938, 0.611412763595581, -0.9998396635055542, -0.733637273311615, 0.35531046986579895, -0.39079099893569946, -0.16035978496074677, 0.6768271327018738, -1.5006171464920044, 11.07317066192627, 1.0275249481201172, -1.2223860025405884, 0.05625064671039581, -0.4799972474575043, -1.5197175741195679, 0.9799187779426575, 11.307902336120605, -0.3714485466480255, 12.130792617797852, 0.5410704016685486, 9.51611042022705, 1.059346318244934, 0.4042653739452362, 0.4183948338031769, 12.515044212341309, -0.7555926442146301, 0.6454370021820068, -1.1773877143859863, -1.0692992210388184, 0.8883730173110962, 11.262642860412598, 12.37214469909668, 0.6543042063713074, 0.17423559725284576, 0.7153273820877075, 1.7617467641830444, 12.007616996765137, -1.174628734588623, -0.047849901020526886, 10.414385795593262, 0.8010485768318176, 13.114921569824219, -0.33411917090415955, -0.413293719291687, 0.04247482866048813, 10.488914489746094, 12.210716247558594, 0.47188058495521545, -0.5895127058029175, 12.969170570373535, -1.0949907302856445, 12.244514465332031, -1.5567951202392578, -1.644521951675415, 12.477737426757812, 13.351322174072266, 0.47010427713394165, 10.022470474243164, 12.219369888305664, -1.236321210861206, 12.245241165161133, 10.669024467468262, -0.7141906023025513, 12.672489166259766, -1.499366283416748, -0.7482514381408691, 9.73881721496582, 0.7380502223968506, 1.3104901313781738, 12.403650283813477, -1.4831849336624146, -0.48860427737236023, 1.476538896560669, 12.45144271850586, -1.1175733804702759, -1.0958149433135986, 1.2455662488937378, 0.1377229392528534, -1.0321167707443237, 11.927508354187012, -1.5885114669799805, 12.11618423461914, -0.8728265762329102, -0.7520143389701843, -1.0073583126068115, 0.5767624378204346, -1.1861763000488281, -0.9185830950737, 0.09490448236465454, 10.270572662353516, 1.1052123308181763, 0.3092789649963379, -1.8551995754241943, -0.2383400946855545, 10.435821533203125, 12.942299842834473, -0.3305703103542328, 13.23039436340332, 1.2874971628189087, 0.5657604932785034, 1.0949293375015259, 11.837267875671387, -1.0451022386550903, 9.727234840393066, 10.353343963623047, 12.457666397094727, 11.967324256896973, 10.435419082641602, 0.952195942401886, 9.637960433959961, -0.8910574316978455, 0.34500235319137573, 1.6256557703018188, 0.5231947898864746, 1.0391227006912231, 0.6084484457969666, 0.8154484629631042, 11.857107162475586, -1.121617317199707, -1.6666587591171265, 0.16517524421215057, 10.665456771850586, 13.205949783325195, -1.8581613302230835, 1.0262521505355835, 11.70411205291748, -1.7456492185592651, -1.2580344676971436, -0.8474982380867004, -1.3747286796569824, 1.4231189489364624, 1.172807216644287, 0.36451470851898193, 12.525737762451172, 10.837268829345703, 11.931167602539062, 12.494282722473145, -0.5770609378814697, -0.4418916404247284, -0.5606372952461243, 1.225412368774414, 1.228373646736145, 1.6152993440628052, 12.52126693725586, 9.658036231994629, -1.0095586776733398, 9.579543113708496, 11.677525520324707, 1.0374698638916016, 12.946561813354492, 0.43906471133232117, 1.1984343528747559, 1.6811840534210205, 10.135697364807129, 0.46738606691360474, 1.6447253227233887, -1.7133632898330688, 10.344088554382324, -1.5622968673706055, 10.350983619689941, 10.407505989074707, -1.3600319623947144, -1.0937072038650513, 0.851926326751709, 13.017898559570312, -0.5545812845230103, -1.0848308801651, 1.3997341394424438, 9.577338218688965, -0.7155541181564331, 11.423365592956543, 1.4152507781982422, 13.41181468963623, 12.596917152404785, -1.311105489730835, 10.086042404174805, -0.4340902268886566, -1.8380225896835327, -1.425124168395996, 0.5205949544906616, 10.874946594238281, 9.747167587280273, 1.1756041049957275, 9.635963439941406, 11.125080108642578, 12.15945816040039, 1.4617868661880493, 11.942475318908691, 0.3518144488334656, -0.7877069711685181, 1.040730357170105, -0.5943573117256165, 0.7187333703041077, -0.7812554240226746, 11.890043258666992, 0.47976553440093994, -1.8628530502319336, -1.747936487197876, 1.2830597162246704, -0.8534230589866638, -0.8929596543312073, 12.549571990966797, -0.30410173535346985, -1.6858075857162476, 1.2106510400772095, 11.207956314086914, 1.1779086589813232, -0.8649135828018188, 11.103696823120117, 12.465117454528809, 10.349712371826172, 13.329706192016602, 10.676421165466309, 0.6274676322937012, 10.735710144042969, -0.30053842067718506, 10.14309310913086, 1.620248794555664, 11.24898910522461, 12.312493324279785, -0.1930389553308487, 1.8553310632705688, 10.74921703338623, 0.2024765908718109, 0.3150801360607147, 1.103335976600647, -1.0411759614944458, -1.3068559169769287, 0.8578024506568909, 0.6718704700469971, 0.44672706723213196, 1.2585809230804443, 0.8552312254905701, -0.6215922236442566, -0.8061283826828003, 1.2824347019195557, 11.90747356414795, 11.376625061035156, -0.3204033374786377, 12.938451766967773, 0.4700533449649811, -1.0443230867385864, -0.04369138553738594, 1.0694091320037842, -1.0355409383773804, 12.622749328613281, 0.43948987126350403, 0.4053024351596832, 0.11769064515829086, 0.8066478967666626, 9.707366943359375, 0.7710208892822266, 12.141440391540527, 1.1627289056777954, -0.10192564129829407, 0.47958695888519287, 12.09999942779541, -0.9049463272094727, 12.015514373779297, 0.7626991868019104, 10.913357734680176, 0.5391285419464111, -1.52048921585083, -1.3808090686798096, 0.7233712673187256, 10.571771621704102, -1.261204481124878, 1.3028706312179565, 12.884089469909668, 0.9732428789138794, 0.14919047057628632, 12.379206657409668, 12.100601196289062, -0.6284687519073486, 1.177873969078064, 1.2563502788543701, 10.200984001159668, 1.2669719457626343, 11.108643531799316, 0.4389435648918152, 1.0864256620407104, -1.4575718641281128, 1.5914244651794434, -1.3066147565841675, -0.812084436416626, 0.6960048079490662, 9.739997863769531, -1.1728134155273438, 1.3803443908691406, 9.620770454406738, 10.439131736755371, 0.3039458394050598, 11.943659782409668, -1.3810069561004639, 0.973286509513855, 10.23962116241455, -1.4696177244186401, -1.4088348150253296, -1.6568889617919922, -1.8340535163879395, 9.835768699645996, 11.965669631958008, 10.205975532531738, 11.188969612121582, 12.529358863830566, 1.054785966873169, 9.910512924194336, 9.61086654663086, 1.1067789793014526, -1.7857551574707031, -0.6707867383956909, 11.299758911132812, 0.6571981906890869, -2.0120115280151367, -0.12385038286447525, 12.244721412658691, -1.2832697629928589, 0.4613327383995056, 10.439857482910156, 11.619606971740723, 0.8118432760238647, 10.5001859664917, 11.585701942443848, -1.7838808298110962, 0.031438279896974564, 1.232156753540039, -0.18607614934444427, 9.494871139526367, 9.674861907958984, 12.039132118225098, 0.0019613958429545164, -0.3621740937232971, 11.644922256469727, -0.6258585453033447, 1.1938594579696655, 11.074503898620605, 1.2643226385116577, -0.3133049011230469, 10.647764205932617, 9.738994598388672, 11.054335594177246, 10.042485237121582, 0.968361496925354, 13.283588409423828, 0.6868017911911011, 0.3655240833759308, 1.1880711317062378, 9.785675048828125, -0.2392202615737915, -1.4641551971435547, -1.7274634838104248, 10.889641761779785, 0.3199688196182251, 0.9051830172538757, 0.9512174129486084, 10.627735137939453, 1.1019883155822754, -1.8118705749511719, -0.8881383538246155, 9.707564353942871, 12.300993919372559, 12.172807693481445, 1.8787751197814941, 13.101862907409668, 0.18561579287052155, -0.8720844984054565, -1.6514986753463745, 12.143651962280273, -1.6594393253326416, -0.06009304150938988, 11.821139335632324, -1.7485392093658447, 11.892455101013184, -0.8020489811897278, -1.1000871658325195, -1.088150143623352, 1.276655912399292, -0.5413373112678528, -0.4740561246871948, 13.25596809387207, 0.17059829831123352, 13.311026573181152, -1.593815803527832, 1.0118309259414673, 1.12406325340271, -0.006016502156853676, 1.006649136543274, -1.7185907363891602, 0.41212862730026245, 0.6390300393104553, -0.9513095021247864, 0.848850429058075, -0.3489627540111542, -0.3118181824684143, 1.6643019914627075, 0.0710519477725029, -1.3938466310501099, 12.04598617553711, -0.4137849509716034, 9.745293617248535, -1.9013069868087769, -1.8712964057922363, 11.320136070251465, -0.7012242078781128, 10.831335067749023, -0.6588975787162781, -0.7879122495651245, 1.04816472530365, -1.4569252729415894, 12.246718406677246, -0.5942116975784302, -1.6106613874435425, 0.5045291185379028, 0.44493433833122253, 1.2959107160568237, 1.741967797279358, 11.922955513000488, -1.5177680253982544, -1.21865975856781, 1.5415118932724, 10.318500518798828, -0.962928295135498, 12.95916748046875, 10.314122200012207, -0.8290454745292664, 0.7453750371932983, 1.6533403396606445, 12.06209945678711, 1.4927637577056885, 11.473015785217285, 10.11180591583252, 10.566787719726562, 9.964238166809082, 11.90635871887207, -1.7773760557174683, 1.7521661520004272, 0.8736698031425476, -0.6063880920410156, 10.183771133422852, -1.6925091743469238, 0.15141023695468903, 12.517952919006348, 1.4625210762023926, 1.0205508470535278, 12.488344192504883, 10.418932914733887, 12.463071823120117, 10.14780330657959, 13.379499435424805, 13.186182975769043, 10.019034385681152, -1.200943946838379, -0.5351880788803101, -0.8454761505126953, 10.82996654510498, 0.6834975481033325, -0.19258831441402435, 9.531755447387695, 1.407322645187378, -0.601811945438385, 0.013315371237695217, 0.6204774379730225, 9.576322555541992, 0.32306361198425293, -1.153259515762329, -0.46944132447242737, 1.1623404026031494, 1.193244457244873, 1.0857715606689453, 10.273455619812012, -1.8654323816299438, 10.755748748779297, 0.7876736521720886, -1.737924337387085, 1.319485068321228, -0.8845812678337097, 1.0953609943389893, 11.118544578552246, -0.3646520674228668, -1.8341437578201294, 10.113924980163574, 0.3689039647579193, 10.392757415771484, -1.0104265213012695, -0.904775083065033, -0.08935756236314774, 0.3141224980354309, -0.79390949010849, -0.549354612827301, 0.5671629905700684, 1.0012425184249878, 12.089102745056152, 0.23595082759857178, -0.6905426979064941, -1.2990219593048096, 11.265121459960938, 11.098520278930664, 9.738767623901367, 0.7606232762336731, -0.12122610956430435, 1.2268482446670532, 10.472651481628418, 12.93420124053955, 11.888472557067871, 11.947091102600098, -1.3336135149002075, 11.82797622680664, 0.1202368214726448, 0.9073188304901123, -1.3150749206542969, 1.2148840427398682, 1.4140883684158325, 0.8196704983711243, -0.37195563316345215, -1.583229899406433, 11.462060928344727, -0.9491389393806458, 12.827021598815918, 10.390183448791504, 1.1452217102050781, 11.908041954040527, -1.162371277809143, 0.09036536514759064, -0.5913780331611633, -0.9602648615837097, -1.036179542541504, 10.812918663024902, 13.05748462677002, 0.7456275820732117, 1.423980712890625, 10.200708389282227, 9.761786460876465, 0.4377993941307068, 10.578958511352539, 0.05954674258828163, -1.2062596082687378, 1.2569941282272339, 0.14419960975646973, 0.6257620453834534, 1.0550646781921387, 0.20860713720321655, 1.202488899230957, 13.165254592895508, -0.7891855835914612, -0.9090428948402405, 11.997735023498535, 11.073479652404785, 12.880008697509766, -0.7570669054985046, 12.05347728729248, 1.7246196269989014, 9.918219566345215, 12.085922241210938, 0.3240834176540375, -1.6670324802398682, 9.590490341186523, -0.7830507159233093, 11.038108825683594, -1.1480157375335693, -0.05008130520582199, 0.8557366728782654, 0.3161437213420868, 1.0603618621826172, 0.5098603963851929, 11.348620414733887, 11.12315559387207, 0.06218557432293892, -1.1038373708724976, 9.809222221374512, 11.418121337890625, 10.419578552246094, 0.6506054997444153, -0.8450102806091309, -0.0920080840587616, 11.967403411865234, -1.2782388925552368, 1.0346977710723877, -1.8334709405899048, 0.5379872918128967, -0.4367694854736328, 10.863956451416016, -0.488974392414093, 12.471988677978516, -0.7643687129020691, 1.1040570735931396, 13.118759155273438, -1.4157236814498901, -0.30737441778182983, 0.1590091586112976, 12.326699256896973, 0.7302634119987488, 9.80026912689209, 10.78702163696289, 0.7285622954368591, -1.7413723468780518, -0.41069653630256653, 12.309991836547852, -0.660015344619751, 0.586215078830719, 10.20908260345459, 9.771124839782715, 13.330118179321289, 9.815364837646484, -0.7579789757728577, -0.9077580571174622, 12.045448303222656, 11.047624588012695, 1.097573161125183, -0.33107712864875793, -1.8696599006652832, 10.443288803100586, 13.326943397521973], \"xaxis\": \"x\", \"y\": [3.8507299423217773, 9.921745300292969, 5.557974815368652, 9.582990646362305, 5.984147548675537, 8.508890151977539, 10.471895217895508, 9.573155403137207, 6.967543601989746, 4.174034118652344, 10.092432022094727, 6.708477020263672, 9.105964660644531, 7.456602573394775, 6.818482875823975, 9.08717155456543, 9.339157104492188, 9.079948425292969, 6.052057266235352, 9.123984336853027, 8.486066818237305, 4.434321403503418, 6.378588676452637, 7.069533824920654, 7.942300796508789, 4.74855899810791, 6.963125705718994, 7.482206344604492, 7.940436363220215, 8.204607963562012, 7.152811050415039, 10.648605346679688, 7.379176616668701, 7.712871551513672, 6.994428634643555, 4.503304481506348, 8.71157169342041, 7.4914374351501465, 4.322298526763916, 8.853522300720215, 9.182235717773438, 7.864846706390381, 8.369330406188965, 7.651588439941406, 7.399059295654297, 9.306049346923828, 7.516980171203613, 7.041597366333008, 6.946568965911865, 9.488309860229492, 10.106998443603516, 6.472218990325928, 7.118992805480957, 9.273919105529785, 8.352723121643066, 11.1234130859375, 10.918554306030273, 6.716928005218506, 7.78463888168335, 6.23256778717041, 6.8150410652160645, 8.594677925109863, 9.232985496520996, 8.112765312194824, 8.441569328308105, 7.3718085289001465, 7.810897350311279, 8.774093627929688, 6.657768726348877, 8.583527565002441, 8.270102500915527, 9.758698463439941, 4.381283760070801, 9.682287216186523, 2.211077928543091, 3.148238182067871, 6.561242580413818, 8.686431884765625, 2.6255364418029785, 3.4022021293640137, 3.413693428039551, 3.3285529613494873, 6.403356552124023, 8.634800910949707, 10.014993667602539, 9.26367473602295, 9.268522262573242, 9.858141899108887, 7.605583190917969, 3.9692227840423584, 2.972694158554077, 10.063508987426758, 8.158071517944336, 10.212532997131348, 10.746136665344238, 9.080755233764648, 7.7471466064453125, 9.191049575805664, 8.869285583496094, 6.550093650817871, 4.229151725769043, 9.51032543182373, 9.129749298095703, 7.112464427947998, 9.470376968383789, 4.36668062210083, 8.277124404907227, 9.81445026397705, 2.2745513916015625, 8.374637603759766, 3.564595937728882, 4.498401641845703, 10.095364570617676, 3.327810525894165, 5.733497619628906, 3.344224214553833, 10.870084762573242, 10.103349685668945, 9.547941207885742, 9.117908477783203, 3.2380714416503906, 7.239205837249756, 9.626579284667969, 8.62861156463623, 8.349393844604492, 9.887218475341797, 10.54959487915039, 9.550278663635254, 9.967209815979004, 9.7549409866333, 7.1276421546936035, 7.4777984619140625, 10.128615379333496, 10.331572532653809, 9.75405502319336, 3.148310899734497, 6.107265949249268, 10.308629035949707, 10.108194351196289, 8.213629722595215, 9.896158218383789, 4.0656538009643555, 7.033518314361572, 6.100982189178467, 9.301111221313477, 3.9102530479431152, 9.394050598144531, 9.165452003479004, 10.10970401763916, 7.7663750648498535, 3.800527811050415, 2.920102834701538, 8.260767936706543, 7.032149791717529, 4.344750881195068, 8.117513656616211, 8.674971580505371, 9.13734245300293, 2.4453070163726807, 8.953356742858887, 10.806059837341309, 6.827054977416992, 2.6633880138397217, 2.8637707233428955, 8.873785972595215, 9.575262069702148, 10.052976608276367, 8.012040138244629, 6.441071510314941, 8.390839576721191, 8.178866386413574, 9.040602684020996, 8.124598503112793, 5.665868759155273, 7.948105335235596, 9.634809494018555, 8.313091278076172, 5.445252418518066, 10.216896057128906, 10.066455841064453, 8.191741943359375, 8.47071647644043, 10.666444778442383, 8.525158882141113, 8.131159782409668, 10.688483238220215, 7.970895767211914, 7.1020026206970215, 3.716845989227295, 3.0472054481506348, 9.170978546142578, 6.0018792152404785, 10.10030460357666, 5.548534870147705, 10.472612380981445, 10.440287590026855, 8.486808776855469, 9.798007011413574, 4.116473197937012, 8.147101402282715, 7.323306083679199, 7.944379806518555, 10.585343360900879, 6.471061706542969, 5.509673118591309, 10.74964714050293, 3.4382481575012207, 7.3768630027771, 8.634675025939941, 10.331669807434082, 7.9920973777771, 8.081124305725098, 8.437711715698242, 3.587224006652832, 7.324831485748291, 7.914742946624756, 10.255715370178223, 8.990325927734375, 8.970061302185059, 7.873490333557129, 5.597183704376221, 9.349394798278809, 6.5105767250061035, 2.249180316925049, 10.319449424743652, 3.486457109451294, 8.300931930541992, 3.718034505844116, 9.73377513885498, 7.7628889083862305, 10.393718719482422, 8.273615837097168, 10.149928092956543, 10.261524200439453, 9.532132148742676, 9.332771301269531, 9.263566970825195, 3.0640382766723633, 9.604215621948242, 5.2912211418151855, 7.4405646324157715, 9.143532752990723, 5.703249454498291, 9.878079414367676, 9.364340782165527, 9.85484790802002, 3.623786211013794, 2.7037062644958496, 8.241765022277832, 6.246862888336182, 6.721190929412842, 8.19748592376709, 9.795280456542969, 6.847886085510254, 4.304830551147461, 7.112284183502197, 3.419729232788086, 9.860386848449707, 7.816697597503662, 9.379705429077148, 5.524007320404053, 6.8611860275268555, 5.879130840301514, 8.227862358093262, 6.87229061126709, 9.73834228515625, 10.17612075805664, 10.631194114685059, 2.272923231124878, 9.5728120803833, 9.578286170959473, 10.714659690856934, 2.994290828704834, 5.475106716156006, 8.847102165222168, 7.423360824584961, 8.939582824707031, 6.043015003204346, 9.564924240112305, 3.7543184757232666, 8.408682823181152, 5.561206817626953, 3.955188512802124, 3.4104321002960205, 5.7864789962768555, 9.489763259887695, 8.85982608795166, 9.418910026550293, 10.054347038269043, 3.9672107696533203, 3.869370460510254, 9.975034713745117, 8.220561027526855, 9.413981437683105, 8.705646514892578, 9.79603099822998, 9.093449592590332, 2.933093786239624, 8.116247177124023, 3.6265342235565186, 9.448657989501953, 9.93492317199707, 8.353888511657715, 9.43992805480957, 8.652030944824219, 2.287559747695923, 9.265732765197754, 2.5609452724456787, 9.061474800109863, 8.164385795593262, 8.149825096130371, 9.03795337677002, 8.264426231384277, 5.331000328063965, 8.193860054016113, 3.8360965251922607, 8.367298126220703, 10.104957580566406, 2.172048807144165, 10.652952194213867, 9.365792274475098, 2.872269868850708, 9.919848442077637, 9.222587585449219, 3.244554042816162, 3.9029619693756104, 9.963545799255371, 10.005854606628418, 6.7163286209106445, 8.901970863342285, 10.712655067443848, 8.912774085998535, 6.990789890289307, 7.766391277313232, 9.712235450744629, 6.7129669189453125, 9.871851921081543, 3.13838529586792, 8.134663581848145, 8.767605781555176, 3.1357948780059814, 3.9208145141601562, 9.415242195129395, 7.038463115692139, 9.636011123657227, 6.614157199859619, 10.270684242248535, 9.390602111816406, 9.425909996032715, 8.999349594116211, 8.0326566696167, 3.0177252292633057, 9.36036205291748, 10.798240661621094, 8.9407377243042, 3.9580018520355225, 7.075252056121826, 9.153576850891113, 8.883525848388672, 4.620802402496338, 9.884002685546875, 9.253607749938965, 6.713033199310303, 8.867231369018555, 9.861552238464355, 2.7670371532440186, 8.4979248046875, 10.329355239868164, 9.902047157287598, 10.028818130493164, 8.456625938415527, 7.418069839477539, 6.428715705871582, 6.945810317993164, 9.97823715209961, 8.31589412689209, 2.3580193519592285, 8.865352630615234, 10.79030990600586, 3.9956400394439697, 9.099872589111328, 7.160913944244385, 2.51492977142334, 4.123923301696777, 9.744424819946289, 7.736595153808594, 8.169646263122559, 8.04613971710205, 8.196052551269531, 4.423760414123535, 8.857114791870117, 7.699202060699463, 2.969897508621216, 3.0258407592773438, 9.31796646118164, 10.817622184753418, 4.408700466156006, 9.339740753173828, 4.020811080932617, 3.6983799934387207, 8.837265014648438, 8.521774291992188, 9.036566734313965, 10.800924301147461, 9.440794944763184, 10.7484769821167, 6.007171154022217, 7.039304256439209, 8.996598243713379, 9.894899368286133, 9.573241233825684, 3.731088638305664, 9.048009872436523, 2.42425274848938, 9.966434478759766, 8.305912017822266, 9.642948150634766, 10.072059631347656, 10.032149314880371, 6.743391036987305, 4.409389972686768, 8.607454299926758, 9.335105895996094, 9.748204231262207, 6.547214984893799, 9.871163368225098, 10.347678184509277, 8.819351196289062, 4.165800094604492, 6.641691207885742, 3.3505728244781494, 10.75632381439209, 8.671178817749023, 9.067933082580566, 8.084051132202148, 8.352867126464844, 9.59888744354248, 6.558640480041504, 2.262777805328369, 5.534771919250488, 4.259455680847168, 2.7010483741760254, 5.528383731842041, 6.6922736167907715, 7.539673328399658, 8.310093879699707, 8.372304916381836, 7.3263630867004395, 6.248810291290283, 8.838959693908691, 8.5862398147583, 6.155092239379883, 8.407100677490234, 2.2750957012176514, 10.097599983215332, 10.65623950958252, 7.581446170806885, 6.000073432922363, 2.528207778930664, 3.9110660552978516, 9.858492851257324, 5.854175090789795, 8.78307819366455, 3.824744701385498, 7.380408763885498, 2.9991579055786133, 2.3672075271606445, 8.681379318237305, 9.597208976745605, 6.324643135070801, 3.2052083015441895, 8.674994468688965, 9.291556358337402, 3.037868022918701, 8.371003150939941, 10.40246295928955, 10.36115837097168, 8.463879585266113, 3.486053466796875, 9.724656105041504, 8.928227424621582, 8.648716926574707, 8.73581314086914, 6.403230667114258, 10.78956413269043, 6.625354290008545, 8.574739456176758, 4.26517915725708, 3.2070493698120117, 5.297074794769287, 2.7247121334075928, 9.981715202331543, 7.89361572265625, 8.277824401855469, 5.932653427124023, 9.163143157958984, 9.857166290283203, 9.160932540893555, 7.229011058807373, 3.96644926071167, 10.136244773864746, 7.3502726554870605, 4.331042766571045, 7.58823823928833, 4.130954742431641, 5.271878242492676, 2.27860951423645, 9.301172256469727, 4.412440299987793, 8.365633964538574, 6.0729546546936035, 9.228554725646973, 9.12471866607666, 8.709699630737305, 2.812772512435913, 7.462861061096191, 6.8704400062561035, 2.3826067447662354, 7.94404411315918, 9.392622947692871, 4.494845867156982, 7.164051532745361, 7.833831310272217, 6.774868488311768, 9.091548919677734, 10.778907775878906, 4.192889213562012, 10.132796287536621, 7.930511951446533, 3.856722354888916, 9.168468475341797, 8.533843994140625, 9.183772087097168, 8.435212135314941, 9.732568740844727, 8.163664817810059, 10.303293228149414, 6.45078182220459, 6.155845642089844, 9.656577110290527, 8.563387870788574, 8.801758766174316, 9.525236129760742, 10.184148788452148, 9.585799217224121, 10.065718650817871, 4.031306743621826, 9.243864059448242, 9.107683181762695, 4.052844524383545, 7.25909948348999, 3.151848077774048, 6.414962291717529, 2.390144109725952, 7.282619476318359, 8.972434997558594, 9.075966835021973, 2.220431327819824, 10.021524429321289, 7.255675315856934, 6.734138011932373, 8.901905059814453, 7.447168350219727, 9.55221939086914, 9.001612663269043, 3.346651792526245, 9.247396469116211, 7.322892665863037, 9.374883651733398, 9.86213493347168, 3.8985724449157715, 9.873672485351562, 9.453243255615234, 9.011811256408691, 10.117515563964844, 8.147661209106445, 9.985211372375488, 9.94315242767334, 3.3348162174224854, 3.297062635421753, 4.437204360961914, 2.9285736083984375, 6.637816429138184, 10.16484546661377, 9.074381828308105, 3.474679470062256, 3.758045196533203, 8.30875015258789, 10.435394287109375, 8.631146430969238, 8.690290451049805, 8.283978462219238, 6.994383335113525, 9.426467895507812, 7.056077480316162, 7.108310699462891, 9.614706039428711, 8.538376808166504, 8.532661437988281, 6.680438995361328, 10.018993377685547, 7.324913501739502, 8.236625671386719, 10.55919361114502, 8.675718307495117, 10.187105178833008, 9.746105194091797, 9.01449966430664, 9.077208518981934, 9.328277587890625, 7.771530628204346, 3.911440134048462, 4.393774509429932, 3.2166709899902344, 3.99967622756958, 7.608024597167969, 7.962052345275879, 7.635419845581055, 8.46597957611084, 3.7679271697998047, 6.690426349639893, 7.149010181427002, 6.841001510620117, 7.593643665313721, 6.734830856323242, 9.389198303222656, 10.80627155303955, 5.818244457244873, 7.069915294647217, 3.8537843227386475, 6.399237155914307, 9.778304100036621, 2.1649091243743896, 6.716765880584717, 3.9715723991394043, 6.012131690979004, 4.15802001953125, 6.794283866882324, 10.135668754577637, 6.877959728240967, 5.566429138183594, 10.45008659362793, 10.456418991088867, 4.006997108459473, 8.81408977508545, 2.6167383193969727, 6.023466110229492, 2.9748928546905518, 8.00046443939209, 2.988171339035034, 8.391671180725098, 9.204349517822266, 7.385226249694824, 10.11026668548584, 9.69357967376709, 10.433883666992188, 6.493719577789307, 3.322091579437256, 7.605199813842773, 8.515837669372559, 8.356295585632324, 7.165157318115234, 7.1898088455200195, 3.7617475986480713, 8.992643356323242, 10.087388038635254, 10.198055267333984, 10.357876777648926, 9.822454452514648, 9.5361328125, 8.150404930114746, 4.00071907043457, 6.851150035858154, 6.969214916229248, 8.755053520202637, 7.587906837463379, 10.360873222351074, 9.977310180664062, 9.094461441040039, 10.335469245910645, 6.543452739715576, 8.443499565124512, 3.031097650527954, 8.276360511779785, 7.454297065734863, 9.662529945373535, 3.744847059249878, 9.27600383758545, 10.062515258789062, 8.097237586975098, 8.175382614135742, 8.223295211791992, 8.963300704956055, 8.29249382019043, 10.191221237182617, 9.104242324829102, 4.351799964904785, 3.452934503555298, 2.68318247795105, 7.670411109924316, 7.61020040512085, 3.5298726558685303, 7.441003799438477, 8.035204887390137, 3.6900556087493896, 10.983475685119629, 10.134359359741211, 8.77878189086914, 6.536191463470459, 7.628086090087891, 7.538003444671631, 8.843574523925781, 8.331833839416504, 8.707993507385254, 8.125384330749512, 8.97589111328125, 8.511154174804688, 9.364401817321777, 8.458507537841797, 8.317333221435547, 5.8780927658081055, 10.799992561340332, 8.542484283447266, 6.730434417724609, 8.20527458190918, 7.60561990737915, 8.54605770111084, 9.082097053527832, 10.047076225280762, 8.620369911193848, 8.117029190063477, 6.54443883895874, 6.881391525268555, 8.157907485961914, 7.585861682891846, 9.989602088928223, 3.458440065383911, 2.974637985229492, 2.9000778198242188, 7.755493640899658, 7.8912739753723145, 3.274016857147217, 3.3061511516571045, 7.852833271026611, 4.222635746002197, 2.9507863521575928, 3.2334160804748535, 10.032029151916504, 5.745916843414307, 8.40939712524414, 9.96644401550293, 6.356783390045166, 10.84378719329834, 10.457884788513184, 8.403542518615723, 5.471551895141602, 3.4336140155792236, 6.869417667388916, 8.703083992004395, 9.35710620880127, 8.34968376159668, 6.73529052734375, 8.277915954589844, 9.614337921142578, 3.872119665145874, 10.390326499938965, 10.76666259765625, 6.111349105834961, 10.206077575683594, 5.957594394683838, 3.4952902793884277, 3.548797369003296, 6.981909275054932, 10.343023300170898, 3.6803414821624756, 8.648797988891602, 7.032990455627441, 7.668765068054199, 2.206188440322876, 3.520705461502075, 3.0921425819396973, 10.782454490661621, 9.06448745727539, 3.7885031700134277, 2.7059121131896973, 8.346250534057617, 7.02266263961792, 8.900967597961426, 3.15031099319458, 3.612295150756836, 9.424728393554688, 3.4274790287017822, 7.8271708488464355, 2.239443778991699, 10.552966117858887, 10.644266128540039, 8.18176555633545, 6.166919708251953, 2.963452100753784, 9.012863159179688, 7.488588333129883, 7.0923967361450195, 7.95100212097168, 10.0670166015625, 5.329951763153076, 9.561375617980957, 7.377330780029297, 9.118210792541504, 10.008211135864258, 8.460744857788086, 6.492218971252441, 7.945236682891846, 2.113494634628296, 4.450821876525879, 9.14024829864502, 6.338412284851074, 9.150585174560547, 9.335922241210938, 8.29822826385498, 9.661273956298828, 9.651527404785156, 5.439711570739746, 2.8789665699005127, 9.250268936157227, 8.84115219116211, 9.574999809265137, 10.016409873962402, 3.2221038341522217, 2.90114164352417, 8.533409118652344, 9.007438659667969, 4.386988639831543, 9.092235565185547, 7.900494575500488, 5.943517208099365, 8.691121101379395, 6.54458475112915, 5.980149745941162, 9.611103057861328, 7.212498188018799, 3.0844058990478516, 7.169096946716309, 9.800252914428711, 9.60897159576416, 10.081969261169434, 9.183724403381348, 9.40982437133789, 3.07767915725708, 3.75173020362854, 8.352520942687988, 9.057583808898926, 4.339247703552246, 7.158674716949463, 3.1605634689331055, 8.053218841552734, 9.484969139099121, 8.08379077911377, 9.915848731994629, 3.341987371444702, 7.8100810050964355, 4.363004207611084, 3.438187599182129, 7.339546203613281, 3.287698268890381, 9.23838996887207, 10.257526397705078, 10.15740966796875, 3.5541718006134033, 8.8004789352417, 4.013660907745361, 9.312234878540039, 7.312941074371338, 9.357177734375, 3.7933244705200195, 10.761149406433105, 8.33694839477539, 7.284822940826416, 8.034492492675781, 3.5814945697784424, 5.66024923324585, 3.8952791690826416, 2.7391607761383057, 4.022394180297852, 9.947120666503906, 9.406429290771484, 10.086560249328613, 3.4513323307037354, 8.282096862792969, 3.588656425476074, 7.758376598358154, 6.460633277893066, 8.19229507446289, 6.618212699890137, 4.037402153015137, 8.355113983154297, 3.257371187210083, 3.1194238662719727, 9.785967826843262, 7.884380340576172, 8.486039161682129, 9.303540229797363, 6.907928943634033, 8.096503257751465, 9.38106632232666, 3.096672534942627, 6.3583478927612305, 9.171163558959961, 10.64553451538086, 6.684142112731934, 2.2274835109710693, 9.093987464904785, 8.415205955505371, 8.144957542419434, 2.2085671424865723, 7.868569850921631, 5.858710765838623, 3.9279775619506836, 9.670975685119629, 9.875382423400879, 10.065550804138184, 4.395174026489258, 9.918502807617188, 8.975756645202637, 3.5954792499542236, 9.555347442626953, 3.8422117233276367, 10.836807250976562, 3.542570114135742, 8.299895286560059, 9.637810707092285, 6.0512261390686035, 7.311797142028809, 9.146042823791504, 8.437932968139648, 9.511951446533203, 6.658647537231445, 7.955970287322998, 5.7404937744140625, 10.034193992614746, 9.767507553100586, 6.2233123779296875, 7.173813819885254, 2.724813938140869, 9.20224666595459, 2.3799285888671875, 7.864080905914307, 2.816920518875122, 2.8324050903320312, 9.504215240478516, 10.8809232711792, 3.5041887760162354, 7.069694995880127, 9.391080856323242, 10.054330825805664, 7.763615131378174, 9.614688873291016, 10.087892532348633, 8.41409683227539, 7.881802558898926, 7.595309257507324, 10.359073638916016, 8.471405029296875, 5.438810348510742, 2.5008955001831055, 3.301835060119629, 9.321409225463867, 9.301654815673828, 2.4520034790039062, 7.785759449005127, 7.034475803375244, 8.841029167175293, 3.1526405811309814, 3.0997889041900635, 5.905040264129639, 3.5683345794677734, 9.89477825164795, 9.671221733093262, 8.89937686920166, 6.864511966705322, 8.789322853088379, 7.785067081451416, 4.303250312805176, 3.211832046508789, 10.588669776916504, 8.864933013916016, 8.106590270996094, 7.706362724304199, 8.981858253479004, 9.850245475769043, 6.555966377258301, 8.933148384094238, 2.1865153312683105, 2.7063231468200684, 5.760354518890381, 8.238517761230469, 3.446467638015747, 9.195727348327637, 3.1931023597717285, 8.971403121948242, 6.540367126464844], \"yaxis\": \"y\"}],\n",
       "                        {\"coloraxis\": {\"colorbar\": {\"title\": {\"text\": \"Label\"}}, \"colorscale\": [[0.0, \"#0d0887\"], [0.1111111111111111, \"#46039f\"], [0.2222222222222222, \"#7201a8\"], [0.3333333333333333, \"#9c179e\"], [0.4444444444444444, \"#bd3786\"], [0.5555555555555556, \"#d8576b\"], [0.6666666666666666, \"#ed7953\"], [0.7777777777777778, \"#fb9f3a\"], [0.8888888888888888, \"#fdca26\"], [1.0, \"#f0f921\"]]}, \"height\": 800, \"legend\": {\"tracegroupgap\": 0}, \"template\": {\"data\": {\"bar\": [{\"error_x\": {\"color\": \"#2a3f5f\"}, \"error_y\": {\"color\": \"#2a3f5f\"}, \"marker\": {\"line\": {\"color\": \"#E5ECF6\", \"width\": 0.5}}, \"type\": \"bar\"}], \"barpolar\": [{\"marker\": {\"line\": {\"color\": \"#E5ECF6\", \"width\": 0.5}}, \"type\": \"barpolar\"}], \"carpet\": [{\"aaxis\": {\"endlinecolor\": \"#2a3f5f\", \"gridcolor\": \"white\", \"linecolor\": \"white\", \"minorgridcolor\": \"white\", \"startlinecolor\": \"#2a3f5f\"}, \"baxis\": {\"endlinecolor\": \"#2a3f5f\", \"gridcolor\": \"white\", \"linecolor\": \"white\", \"minorgridcolor\": \"white\", \"startlinecolor\": \"#2a3f5f\"}, \"type\": \"carpet\"}], \"choropleth\": [{\"colorbar\": {\"outlinewidth\": 0, \"ticks\": \"\"}, \"type\": \"choropleth\"}], \"contour\": [{\"colorbar\": {\"outlinewidth\": 0, \"ticks\": \"\"}, \"colorscale\": [[0.0, \"#0d0887\"], [0.1111111111111111, \"#46039f\"], [0.2222222222222222, \"#7201a8\"], [0.3333333333333333, \"#9c179e\"], [0.4444444444444444, \"#bd3786\"], [0.5555555555555556, \"#d8576b\"], [0.6666666666666666, \"#ed7953\"], [0.7777777777777778, \"#fb9f3a\"], [0.8888888888888888, \"#fdca26\"], [1.0, \"#f0f921\"]], \"type\": \"contour\"}], \"contourcarpet\": [{\"colorbar\": {\"outlinewidth\": 0, \"ticks\": \"\"}, \"type\": \"contourcarpet\"}], \"heatmap\": [{\"colorbar\": {\"outlinewidth\": 0, \"ticks\": \"\"}, \"colorscale\": [[0.0, \"#0d0887\"], [0.1111111111111111, \"#46039f\"], [0.2222222222222222, \"#7201a8\"], [0.3333333333333333, \"#9c179e\"], [0.4444444444444444, \"#bd3786\"], [0.5555555555555556, \"#d8576b\"], [0.6666666666666666, \"#ed7953\"], [0.7777777777777778, \"#fb9f3a\"], [0.8888888888888888, \"#fdca26\"], [1.0, \"#f0f921\"]], \"type\": \"heatmap\"}], \"heatmapgl\": [{\"colorbar\": {\"outlinewidth\": 0, \"ticks\": \"\"}, \"colorscale\": [[0.0, \"#0d0887\"], [0.1111111111111111, \"#46039f\"], [0.2222222222222222, \"#7201a8\"], [0.3333333333333333, \"#9c179e\"], [0.4444444444444444, \"#bd3786\"], [0.5555555555555556, \"#d8576b\"], [0.6666666666666666, \"#ed7953\"], [0.7777777777777778, \"#fb9f3a\"], [0.8888888888888888, \"#fdca26\"], [1.0, \"#f0f921\"]], \"type\": \"heatmapgl\"}], \"histogram\": [{\"marker\": {\"colorbar\": {\"outlinewidth\": 0, \"ticks\": \"\"}}, \"type\": \"histogram\"}], \"histogram2d\": [{\"colorbar\": {\"outlinewidth\": 0, \"ticks\": \"\"}, \"colorscale\": [[0.0, \"#0d0887\"], [0.1111111111111111, \"#46039f\"], [0.2222222222222222, \"#7201a8\"], [0.3333333333333333, \"#9c179e\"], [0.4444444444444444, \"#bd3786\"], [0.5555555555555556, \"#d8576b\"], [0.6666666666666666, \"#ed7953\"], [0.7777777777777778, \"#fb9f3a\"], [0.8888888888888888, \"#fdca26\"], [1.0, \"#f0f921\"]], \"type\": \"histogram2d\"}], \"histogram2dcontour\": [{\"colorbar\": {\"outlinewidth\": 0, \"ticks\": \"\"}, \"colorscale\": [[0.0, \"#0d0887\"], [0.1111111111111111, \"#46039f\"], [0.2222222222222222, \"#7201a8\"], [0.3333333333333333, \"#9c179e\"], [0.4444444444444444, \"#bd3786\"], [0.5555555555555556, \"#d8576b\"], [0.6666666666666666, \"#ed7953\"], [0.7777777777777778, \"#fb9f3a\"], [0.8888888888888888, \"#fdca26\"], [1.0, \"#f0f921\"]], \"type\": \"histogram2dcontour\"}], \"mesh3d\": [{\"colorbar\": {\"outlinewidth\": 0, \"ticks\": \"\"}, \"type\": \"mesh3d\"}], \"parcoords\": [{\"line\": {\"colorbar\": {\"outlinewidth\": 0, \"ticks\": \"\"}}, \"type\": \"parcoords\"}], \"pie\": [{\"automargin\": true, \"type\": \"pie\"}], \"scatter\": [{\"marker\": {\"colorbar\": {\"outlinewidth\": 0, \"ticks\": \"\"}}, \"type\": \"scatter\"}], \"scatter3d\": [{\"line\": {\"colorbar\": {\"outlinewidth\": 0, \"ticks\": \"\"}}, \"marker\": {\"colorbar\": {\"outlinewidth\": 0, \"ticks\": \"\"}}, \"type\": \"scatter3d\"}], \"scattercarpet\": [{\"marker\": {\"colorbar\": {\"outlinewidth\": 0, \"ticks\": \"\"}}, \"type\": \"scattercarpet\"}], \"scattergeo\": [{\"marker\": {\"colorbar\": {\"outlinewidth\": 0, \"ticks\": \"\"}}, \"type\": \"scattergeo\"}], \"scattergl\": [{\"marker\": {\"colorbar\": {\"outlinewidth\": 0, \"ticks\": \"\"}}, \"type\": \"scattergl\"}], \"scattermapbox\": [{\"marker\": {\"colorbar\": {\"outlinewidth\": 0, \"ticks\": \"\"}}, \"type\": \"scattermapbox\"}], \"scatterpolar\": [{\"marker\": {\"colorbar\": {\"outlinewidth\": 0, \"ticks\": \"\"}}, \"type\": \"scatterpolar\"}], \"scatterpolargl\": [{\"marker\": {\"colorbar\": {\"outlinewidth\": 0, \"ticks\": \"\"}}, \"type\": \"scatterpolargl\"}], \"scatterternary\": [{\"marker\": {\"colorbar\": {\"outlinewidth\": 0, \"ticks\": \"\"}}, \"type\": \"scatterternary\"}], \"surface\": [{\"colorbar\": {\"outlinewidth\": 0, \"ticks\": \"\"}, \"colorscale\": [[0.0, \"#0d0887\"], [0.1111111111111111, \"#46039f\"], [0.2222222222222222, \"#7201a8\"], [0.3333333333333333, \"#9c179e\"], [0.4444444444444444, \"#bd3786\"], [0.5555555555555556, \"#d8576b\"], [0.6666666666666666, \"#ed7953\"], [0.7777777777777778, \"#fb9f3a\"], [0.8888888888888888, \"#fdca26\"], [1.0, \"#f0f921\"]], \"type\": \"surface\"}], \"table\": [{\"cells\": {\"fill\": {\"color\": \"#EBF0F8\"}, \"line\": {\"color\": \"white\"}}, \"header\": {\"fill\": {\"color\": \"#C8D4E3\"}, \"line\": {\"color\": \"white\"}}, \"type\": \"table\"}]}, \"layout\": {\"annotationdefaults\": {\"arrowcolor\": \"#2a3f5f\", \"arrowhead\": 0, \"arrowwidth\": 1}, \"coloraxis\": {\"colorbar\": {\"outlinewidth\": 0, \"ticks\": \"\"}}, \"colorscale\": {\"diverging\": [[0, \"#8e0152\"], [0.1, \"#c51b7d\"], [0.2, \"#de77ae\"], [0.3, \"#f1b6da\"], [0.4, \"#fde0ef\"], [0.5, \"#f7f7f7\"], [0.6, \"#e6f5d0\"], [0.7, \"#b8e186\"], [0.8, \"#7fbc41\"], [0.9, \"#4d9221\"], [1, \"#276419\"]], \"sequential\": [[0.0, \"#0d0887\"], [0.1111111111111111, \"#46039f\"], [0.2222222222222222, \"#7201a8\"], [0.3333333333333333, \"#9c179e\"], [0.4444444444444444, \"#bd3786\"], [0.5555555555555556, \"#d8576b\"], [0.6666666666666666, \"#ed7953\"], [0.7777777777777778, \"#fb9f3a\"], [0.8888888888888888, \"#fdca26\"], [1.0, \"#f0f921\"]], \"sequentialminus\": [[0.0, \"#0d0887\"], [0.1111111111111111, \"#46039f\"], [0.2222222222222222, \"#7201a8\"], [0.3333333333333333, \"#9c179e\"], [0.4444444444444444, \"#bd3786\"], [0.5555555555555556, \"#d8576b\"], [0.6666666666666666, \"#ed7953\"], [0.7777777777777778, \"#fb9f3a\"], [0.8888888888888888, \"#fdca26\"], [1.0, \"#f0f921\"]]}, \"colorway\": [\"#636efa\", \"#EF553B\", \"#00cc96\", \"#ab63fa\", \"#FFA15A\", \"#19d3f3\", \"#FF6692\", \"#B6E880\", \"#FF97FF\", \"#FECB52\"], \"font\": {\"color\": \"#2a3f5f\"}, \"geo\": {\"bgcolor\": \"white\", \"lakecolor\": \"white\", \"landcolor\": \"#E5ECF6\", \"showlakes\": true, \"showland\": true, \"subunitcolor\": \"white\"}, \"hoverlabel\": {\"align\": \"left\"}, \"hovermode\": \"closest\", \"mapbox\": {\"style\": \"light\"}, \"paper_bgcolor\": \"white\", \"plot_bgcolor\": \"#E5ECF6\", \"polar\": {\"angularaxis\": {\"gridcolor\": \"white\", \"linecolor\": \"white\", \"ticks\": \"\"}, \"bgcolor\": \"#E5ECF6\", \"radialaxis\": {\"gridcolor\": \"white\", \"linecolor\": \"white\", \"ticks\": \"\"}}, \"scene\": {\"xaxis\": {\"backgroundcolor\": \"#E5ECF6\", \"gridcolor\": \"white\", \"gridwidth\": 2, \"linecolor\": \"white\", \"showbackground\": true, \"ticks\": \"\", \"zerolinecolor\": \"white\"}, \"yaxis\": {\"backgroundcolor\": \"#E5ECF6\", \"gridcolor\": \"white\", \"gridwidth\": 2, \"linecolor\": \"white\", \"showbackground\": true, \"ticks\": \"\", \"zerolinecolor\": \"white\"}, \"zaxis\": {\"backgroundcolor\": \"#E5ECF6\", \"gridcolor\": \"white\", \"gridwidth\": 2, \"linecolor\": \"white\", \"showbackground\": true, \"ticks\": \"\", \"zerolinecolor\": \"white\"}}, \"shapedefaults\": {\"line\": {\"color\": \"#2a3f5f\"}}, \"ternary\": {\"aaxis\": {\"gridcolor\": \"white\", \"linecolor\": \"white\", \"ticks\": \"\"}, \"baxis\": {\"gridcolor\": \"white\", \"linecolor\": \"white\", \"ticks\": \"\"}, \"bgcolor\": \"#E5ECF6\", \"caxis\": {\"gridcolor\": \"white\", \"linecolor\": \"white\", \"ticks\": \"\"}}, \"title\": {\"x\": 0.05}, \"xaxis\": {\"automargin\": true, \"gridcolor\": \"white\", \"linecolor\": \"white\", \"ticks\": \"\", \"title\": {\"standoff\": 15}, \"zerolinecolor\": \"white\", \"zerolinewidth\": 2}, \"yaxis\": {\"automargin\": true, \"gridcolor\": \"white\", \"linecolor\": \"white\", \"ticks\": \"\", \"title\": {\"standoff\": 15}, \"zerolinecolor\": \"white\", \"zerolinewidth\": 2}}}, \"title\": {\"text\": \"uMAP Plot for Outliers\"}, \"width\": 900, \"xaxis\": {\"anchor\": \"y\", \"domain\": [0.0, 1.0], \"title\": {\"text\": \"0\"}}, \"yaxis\": {\"anchor\": \"x\", \"domain\": [0.0, 1.0], \"title\": {\"text\": \"1\"}}},\n",
       "                        {\"responsive\": true}\n",
       "                    ).then(function(){\n",
       "                            \n",
       "var gd = document.getElementById('b965458a-7902-46f8-9501-de9717a6281b');\n",
       "var x = new MutationObserver(function (mutations, observer) {{\n",
       "        var display = window.getComputedStyle(gd).display;\n",
       "        if (!display || display === 'none') {{\n",
       "            console.log([gd, 'removed!']);\n",
       "            Plotly.purge(gd);\n",
       "            observer.disconnect();\n",
       "        }}\n",
       "}});\n",
       "\n",
       "// Listen for the removal of the full notebook cells\n",
       "var notebookContainer = gd.closest('#notebook-container');\n",
       "if (notebookContainer) {{\n",
       "    x.observe(notebookContainer, {childList: true});\n",
       "}}\n",
       "\n",
       "// Listen for the clearing of the current output cell\n",
       "var outputEl = gd.closest('.output');\n",
       "if (outputEl) {{\n",
       "    x.observe(outputEl, {childList: true});\n",
       "}}\n",
       "\n",
       "                        })\n",
       "                };\n",
       "                });\n",
       "            </script>\n",
       "        </div>"
      ]
     },
     "metadata": {},
     "output_type": "display_data"
    }
   ],
   "source": [
    "plot_model(iforest, plot=\"umap\")"
   ]
  },
  {
   "cell_type": "markdown",
   "metadata": {},
   "source": [
    "# 6. Predict Model"
   ]
  },
  {
   "cell_type": "code",
   "execution_count": 11,
   "metadata": {},
   "outputs": [
    {
     "data": {
      "text/html": [
       "<div>\n",
       "<style scoped>\n",
       "    .dataframe tbody tr th:only-of-type {\n",
       "        vertical-align: middle;\n",
       "    }\n",
       "\n",
       "    .dataframe tbody tr th {\n",
       "        vertical-align: top;\n",
       "    }\n",
       "\n",
       "    .dataframe thead th {\n",
       "        text-align: right;\n",
       "    }\n",
       "</style>\n",
       "<table border=\"1\" class=\"dataframe\">\n",
       "  <thead>\n",
       "    <tr style=\"text-align: right;\">\n",
       "      <th></th>\n",
       "      <th>Col1</th>\n",
       "      <th>Col2</th>\n",
       "      <th>Col3</th>\n",
       "      <th>Col4</th>\n",
       "      <th>Col5</th>\n",
       "      <th>Col6</th>\n",
       "      <th>Col7</th>\n",
       "      <th>Col8</th>\n",
       "      <th>Col9</th>\n",
       "      <th>Col10</th>\n",
       "      <th>Label</th>\n",
       "      <th>Score</th>\n",
       "    </tr>\n",
       "  </thead>\n",
       "  <tbody>\n",
       "    <tr>\n",
       "      <th>0</th>\n",
       "      <td>0.263995</td>\n",
       "      <td>0.764929</td>\n",
       "      <td>0.138424</td>\n",
       "      <td>0.935242</td>\n",
       "      <td>0.605867</td>\n",
       "      <td>0.518790</td>\n",
       "      <td>0.912225</td>\n",
       "      <td>0.608234</td>\n",
       "      <td>0.723782</td>\n",
       "      <td>0.733591</td>\n",
       "      <td>0</td>\n",
       "      <td>-0.035865</td>\n",
       "    </tr>\n",
       "    <tr>\n",
       "      <th>1</th>\n",
       "      <td>0.546092</td>\n",
       "      <td>0.653975</td>\n",
       "      <td>0.065575</td>\n",
       "      <td>0.227772</td>\n",
       "      <td>0.845269</td>\n",
       "      <td>0.837066</td>\n",
       "      <td>0.272379</td>\n",
       "      <td>0.331679</td>\n",
       "      <td>0.429297</td>\n",
       "      <td>0.367422</td>\n",
       "      <td>0</td>\n",
       "      <td>-0.084927</td>\n",
       "    </tr>\n",
       "    <tr>\n",
       "      <th>2</th>\n",
       "      <td>0.336714</td>\n",
       "      <td>0.538842</td>\n",
       "      <td>0.192801</td>\n",
       "      <td>0.553563</td>\n",
       "      <td>0.074515</td>\n",
       "      <td>0.332993</td>\n",
       "      <td>0.365792</td>\n",
       "      <td>0.861309</td>\n",
       "      <td>0.899017</td>\n",
       "      <td>0.088600</td>\n",
       "      <td>1</td>\n",
       "      <td>0.025356</td>\n",
       "    </tr>\n",
       "    <tr>\n",
       "      <th>3</th>\n",
       "      <td>0.092108</td>\n",
       "      <td>0.995017</td>\n",
       "      <td>0.014465</td>\n",
       "      <td>0.176371</td>\n",
       "      <td>0.241530</td>\n",
       "      <td>0.514724</td>\n",
       "      <td>0.562208</td>\n",
       "      <td>0.158963</td>\n",
       "      <td>0.073715</td>\n",
       "      <td>0.208463</td>\n",
       "      <td>1</td>\n",
       "      <td>0.042415</td>\n",
       "    </tr>\n",
       "    <tr>\n",
       "      <th>4</th>\n",
       "      <td>0.325261</td>\n",
       "      <td>0.805968</td>\n",
       "      <td>0.957033</td>\n",
       "      <td>0.331665</td>\n",
       "      <td>0.307923</td>\n",
       "      <td>0.355315</td>\n",
       "      <td>0.501899</td>\n",
       "      <td>0.558449</td>\n",
       "      <td>0.885169</td>\n",
       "      <td>0.182754</td>\n",
       "      <td>0</td>\n",
       "      <td>-0.023408</td>\n",
       "    </tr>\n",
       "  </tbody>\n",
       "</table>\n",
       "</div>"
      ],
      "text/plain": [
       "       Col1      Col2      Col3      Col4      Col5      Col6      Col7  \\\n",
       "0  0.263995  0.764929  0.138424  0.935242  0.605867  0.518790  0.912225   \n",
       "1  0.546092  0.653975  0.065575  0.227772  0.845269  0.837066  0.272379   \n",
       "2  0.336714  0.538842  0.192801  0.553563  0.074515  0.332993  0.365792   \n",
       "3  0.092108  0.995017  0.014465  0.176371  0.241530  0.514724  0.562208   \n",
       "4  0.325261  0.805968  0.957033  0.331665  0.307923  0.355315  0.501899   \n",
       "\n",
       "       Col8      Col9     Col10  Label     Score  \n",
       "0  0.608234  0.723782  0.733591      0 -0.035865  \n",
       "1  0.331679  0.429297  0.367422      0 -0.084927  \n",
       "2  0.861309  0.899017  0.088600      1  0.025356  \n",
       "3  0.158963  0.073715  0.208463      1  0.042415  \n",
       "4  0.558449  0.885169  0.182754      0 -0.023408  "
      ]
     },
     "execution_count": 11,
     "metadata": {},
     "output_type": "execute_result"
    }
   ],
   "source": [
    "pred_new = predict_model(iforest, data=data)\n",
    "pred_new.head()"
   ]
  },
  {
   "cell_type": "markdown",
   "metadata": {},
   "source": [
    "# 7. Save / Load Model"
   ]
  },
  {
   "cell_type": "code",
   "execution_count": 12,
   "metadata": {},
   "outputs": [
    {
     "name": "stdout",
     "output_type": "stream",
     "text": [
      "Transformation Pipeline and Model Succesfully Saved\n"
     ]
    }
   ],
   "source": [
    "save_model(iforest, model_name=\"iforest\")"
   ]
  },
  {
   "cell_type": "code",
   "execution_count": 13,
   "metadata": {
    "scrolled": true
   },
   "outputs": [
    {
     "name": "stdout",
     "output_type": "stream",
     "text": [
      "Transformation Pipeline and Model Sucessfully Loaded\n",
      "[Pipeline(memory=None,\n",
      "         steps=[('dtypes',\n",
      "                 DataTypes_Auto_infer(categorical_features=[],\n",
      "                                      display_types=False, features_todrop=[],\n",
      "                                      ml_usecase='regression',\n",
      "                                      numerical_features=[],\n",
      "                                      target='dummy_target',\n",
      "                                      time_features=[])),\n",
      "                ('imputer',\n",
      "                 Simple_Imputer(categorical_strategy='not_available',\n",
      "                                numeric_strategy='mean',\n",
      "                                target_variable=None)),\n",
      "                ('new_levels1',\n",
      "                 New_Catagorical_...\n",
      "                                                    target='dummy_target')),\n",
      "                ('feature_time',\n",
      "                 Make_Time_Features(list_of_features=None, time_feature=[])),\n",
      "                ('group', Empty()), ('scaling', Empty()),\n",
      "                ('P_transform', Empty()), ('binn', Empty()),\n",
      "                ('fix_perfect', Empty()), ('rem_outliers', Empty()),\n",
      "                ('dummy', Dummify(target='dummy_target')),\n",
      "                ('clean_names', Clean_Colum_Names()), ('fix_multi', Empty()),\n",
      "                ('pca', Empty())],\n",
      "         verbose=False), IForest(behaviour='new', bootstrap=False, contamination=0.05,\n",
      "    max_features=1.0, max_samples='auto', n_estimators=100, n_jobs=1,\n",
      "    random_state=123, verbose=0)]\n"
     ]
    }
   ],
   "source": [
    "loaded_iforest = load_model(\"iforest\")\n",
    "print(loaded_iforest)"
   ]
  },
  {
   "cell_type": "code",
   "execution_count": 14,
   "metadata": {
    "scrolled": true
   },
   "outputs": [
    {
     "data": {
      "text/html": [
       "<style>div.sk-top-container {color: black;background-color: white;}div.sk-toggleable {background-color: white;}label.sk-toggleable__label {cursor: pointer;display: block;width: 100%;margin-bottom: 0;padding: 0.2em 0.3em;box-sizing: border-box;text-align: center;}div.sk-toggleable__content {max-height: 0;max-width: 0;overflow: hidden;text-align: left;background-color: #f0f8ff;}div.sk-toggleable__content pre {margin: 0.2em;color: black;border-radius: 0.25em;background-color: #f0f8ff;}input.sk-toggleable__control:checked~div.sk-toggleable__content {max-height: 200px;max-width: 100%;overflow: auto;}div.sk-estimator input.sk-toggleable__control:checked~label.sk-toggleable__label {background-color: #d4ebff;}div.sk-label input.sk-toggleable__control:checked~label.sk-toggleable__label {background-color: #d4ebff;}input.sk-hidden--visually {border: 0;clip: rect(1px 1px 1px 1px);clip: rect(1px, 1px, 1px, 1px);height: 1px;margin: -1px;overflow: hidden;padding: 0;position: absolute;width: 1px;}div.sk-estimator {font-family: monospace;background-color: #f0f8ff;margin: 0.25em 0.25em;border: 1px dotted black;border-radius: 0.25em;box-sizing: border-box;}div.sk-estimator:hover {background-color: #d4ebff;}div.sk-parallel-item::after {content: \"\";width: 100%;border-bottom: 1px solid gray;flex-grow: 1;}div.sk-label:hover label.sk-toggleable__label {background-color: #d4ebff;}div.sk-serial::before {content: \"\";position: absolute;border-left: 1px solid gray;box-sizing: border-box;top: 2em;bottom: 0;left: 50%;}div.sk-serial {display: flex;flex-direction: column;align-items: center;background-color: white;}div.sk-item {z-index: 1;}div.sk-parallel {display: flex;align-items: stretch;justify-content: center;background-color: white;}div.sk-parallel-item {display: flex;flex-direction: column;position: relative;background-color: white;}div.sk-parallel-item:first-child::after {align-self: flex-end;width: 50%;}div.sk-parallel-item:last-child::after {align-self: flex-start;width: 50%;}div.sk-parallel-item:only-child::after {width: 0;}div.sk-dashed-wrapped {border: 1px dashed gray;margin: 0.2em;box-sizing: border-box;padding-bottom: 0.1em;background-color: white;position: relative;}div.sk-label label {font-family: monospace;font-weight: bold;background-color: white;display: inline-block;line-height: 1.2em;}div.sk-label-container {position: relative;z-index: 2;text-align: center;}div.sk-container {display: inline-block;position: relative;}</style><div class=\"sk-top-container\"><div class=\"sk-container\"><div class=\"sk-item sk-dashed-wrapped\"><div class=\"sk-label-container\"><div class=\"sk-label sk-toggleable\"><input class=\"sk-toggleable__control sk-hidden--visually\" id=\"4d0e050e-086a-455f-9130-864efbbfbe26\" type=\"checkbox\" ><label class=\"sk-toggleable__label\" for=\"4d0e050e-086a-455f-9130-864efbbfbe26\">Pipeline</label><div class=\"sk-toggleable__content\"><pre>Pipeline(memory=None,\n",
       "         steps=[('dtypes',\n",
       "                 DataTypes_Auto_infer(categorical_features=[],\n",
       "                                      display_types=False, features_todrop=[],\n",
       "                                      ml_usecase='regression',\n",
       "                                      numerical_features=[],\n",
       "                                      target='dummy_target',\n",
       "                                      time_features=[])),\n",
       "                ('imputer',\n",
       "                 Simple_Imputer(categorical_strategy='not_available',\n",
       "                                numeric_strategy='mean',\n",
       "                                target_variable=None)),\n",
       "                ('new_levels1',\n",
       "                 New_Catagorical_...\n",
       "                                                    target='dummy_target')),\n",
       "                ('feature_time',\n",
       "                 Make_Time_Features(list_of_features=None, time_feature=[])),\n",
       "                ('group', Empty()), ('scaling', Empty()),\n",
       "                ('P_transform', Empty()), ('binn', Empty()),\n",
       "                ('fix_perfect', Empty()), ('rem_outliers', Empty()),\n",
       "                ('dummy', Dummify(target='dummy_target')),\n",
       "                ('clean_names', Clean_Colum_Names()), ('fix_multi', Empty()),\n",
       "                ('pca', Empty())],\n",
       "         verbose=False)</pre></div></div></div><div class=\"sk-serial\"><div class=\"sk-item\"><div class=\"sk-estimator sk-toggleable\"><input class=\"sk-toggleable__control sk-hidden--visually\" id=\"d7a15926-a56e-4cdc-9c28-d9057828b49c\" type=\"checkbox\" ><label class=\"sk-toggleable__label\" for=\"d7a15926-a56e-4cdc-9c28-d9057828b49c\">DataTypes_Auto_infer</label><div class=\"sk-toggleable__content\"><pre>DataTypes_Auto_infer(display_types=False, ml_usecase='regression',\n",
       "                     target='dummy_target')</pre></div></div></div><div class=\"sk-item\"><div class=\"sk-estimator sk-toggleable\"><input class=\"sk-toggleable__control sk-hidden--visually\" id=\"4a928081-4f16-4993-b574-cdd2be66f254\" type=\"checkbox\" ><label class=\"sk-toggleable__label\" for=\"4a928081-4f16-4993-b574-cdd2be66f254\">Simple_Imputer</label><div class=\"sk-toggleable__content\"><pre>Simple_Imputer(categorical_strategy='not_available', numeric_strategy='mean',\n",
       "               target_variable=None)</pre></div></div></div><div class=\"sk-item\"><div class=\"sk-estimator sk-toggleable\"><input class=\"sk-toggleable__control sk-hidden--visually\" id=\"be9cf443-0d0c-43c5-ba25-341e7246bd77\" type=\"checkbox\" ><label class=\"sk-toggleable__label\" for=\"be9cf443-0d0c-43c5-ba25-341e7246bd77\">New_Catagorical_Levels_in_TestData</label><div class=\"sk-toggleable__content\"><pre>New_Catagorical_Levels_in_TestData(replacement_strategy='least frequent',\n",
       "                                   target='dummy_target')</pre></div></div></div><div class=\"sk-item\"><div class=\"sk-estimator sk-toggleable\"><input class=\"sk-toggleable__control sk-hidden--visually\" id=\"d464917d-6889-423c-b219-25d48cc3ff82\" type=\"checkbox\" ><label class=\"sk-toggleable__label\" for=\"d464917d-6889-423c-b219-25d48cc3ff82\">Empty</label><div class=\"sk-toggleable__content\"><pre>Empty()</pre></div></div></div><div class=\"sk-item\"><div class=\"sk-estimator sk-toggleable\"><input class=\"sk-toggleable__control sk-hidden--visually\" id=\"5289bba3-81f8-4279-86a2-445335c1cb79\" type=\"checkbox\" ><label class=\"sk-toggleable__label\" for=\"5289bba3-81f8-4279-86a2-445335c1cb79\">Empty</label><div class=\"sk-toggleable__content\"><pre>Empty()</pre></div></div></div><div class=\"sk-item\"><div class=\"sk-estimator sk-toggleable\"><input class=\"sk-toggleable__control sk-hidden--visually\" id=\"47b65286-7529-449e-8788-6d31380cfdbe\" type=\"checkbox\" ><label class=\"sk-toggleable__label\" for=\"47b65286-7529-449e-8788-6d31380cfdbe\">Empty</label><div class=\"sk-toggleable__content\"><pre>Empty()</pre></div></div></div><div class=\"sk-item\"><div class=\"sk-estimator sk-toggleable\"><input class=\"sk-toggleable__control sk-hidden--visually\" id=\"bf378da8-f0c4-42a1-8370-14e4787125dc\" type=\"checkbox\" ><label class=\"sk-toggleable__label\" for=\"bf378da8-f0c4-42a1-8370-14e4787125dc\">Empty</label><div class=\"sk-toggleable__content\"><pre>Empty()</pre></div></div></div><div class=\"sk-item\"><div class=\"sk-estimator sk-toggleable\"><input class=\"sk-toggleable__control sk-hidden--visually\" id=\"c565183f-4a55-4b2d-bde4-41e9e2840aa5\" type=\"checkbox\" ><label class=\"sk-toggleable__label\" for=\"c565183f-4a55-4b2d-bde4-41e9e2840aa5\">New_Catagorical_Levels_in_TestData</label><div class=\"sk-toggleable__content\"><pre>New_Catagorical_Levels_in_TestData(replacement_strategy='least frequent',\n",
       "                                   target='dummy_target')</pre></div></div></div><div class=\"sk-item\"><div class=\"sk-estimator sk-toggleable\"><input class=\"sk-toggleable__control sk-hidden--visually\" id=\"e5270d77-4c94-4e80-be3c-0cac39daade9\" type=\"checkbox\" ><label class=\"sk-toggleable__label\" for=\"e5270d77-4c94-4e80-be3c-0cac39daade9\">Make_Time_Features</label><div class=\"sk-toggleable__content\"><pre>Make_Time_Features(list_of_features=None)</pre></div></div></div><div class=\"sk-item\"><div class=\"sk-estimator sk-toggleable\"><input class=\"sk-toggleable__control sk-hidden--visually\" id=\"41e14382-411f-4916-ad16-e454ff6a48d3\" type=\"checkbox\" ><label class=\"sk-toggleable__label\" for=\"41e14382-411f-4916-ad16-e454ff6a48d3\">Empty</label><div class=\"sk-toggleable__content\"><pre>Empty()</pre></div></div></div><div class=\"sk-item\"><div class=\"sk-estimator sk-toggleable\"><input class=\"sk-toggleable__control sk-hidden--visually\" id=\"5a5f8e95-7e3c-4300-8555-0b868edd810f\" type=\"checkbox\" ><label class=\"sk-toggleable__label\" for=\"5a5f8e95-7e3c-4300-8555-0b868edd810f\">Empty</label><div class=\"sk-toggleable__content\"><pre>Empty()</pre></div></div></div><div class=\"sk-item\"><div class=\"sk-estimator sk-toggleable\"><input class=\"sk-toggleable__control sk-hidden--visually\" id=\"5a99c6df-638a-492a-8c1d-4f8e9de85fa0\" type=\"checkbox\" ><label class=\"sk-toggleable__label\" for=\"5a99c6df-638a-492a-8c1d-4f8e9de85fa0\">Empty</label><div class=\"sk-toggleable__content\"><pre>Empty()</pre></div></div></div><div class=\"sk-item\"><div class=\"sk-estimator sk-toggleable\"><input class=\"sk-toggleable__control sk-hidden--visually\" id=\"64de65eb-0149-475e-8312-07fe4d5b5141\" type=\"checkbox\" ><label class=\"sk-toggleable__label\" for=\"64de65eb-0149-475e-8312-07fe4d5b5141\">Empty</label><div class=\"sk-toggleable__content\"><pre>Empty()</pre></div></div></div><div class=\"sk-item\"><div class=\"sk-estimator sk-toggleable\"><input class=\"sk-toggleable__control sk-hidden--visually\" id=\"c941ac42-d735-4869-a687-161352317106\" type=\"checkbox\" ><label class=\"sk-toggleable__label\" for=\"c941ac42-d735-4869-a687-161352317106\">Empty</label><div class=\"sk-toggleable__content\"><pre>Empty()</pre></div></div></div><div class=\"sk-item\"><div class=\"sk-estimator sk-toggleable\"><input class=\"sk-toggleable__control sk-hidden--visually\" id=\"e5d9a44a-2957-413e-9bf5-b35de912d0ea\" type=\"checkbox\" ><label class=\"sk-toggleable__label\" for=\"e5d9a44a-2957-413e-9bf5-b35de912d0ea\">Empty</label><div class=\"sk-toggleable__content\"><pre>Empty()</pre></div></div></div><div class=\"sk-item\"><div class=\"sk-estimator sk-toggleable\"><input class=\"sk-toggleable__control sk-hidden--visually\" id=\"8edecf9f-6fca-4a09-b66c-f694cce710c1\" type=\"checkbox\" ><label class=\"sk-toggleable__label\" for=\"8edecf9f-6fca-4a09-b66c-f694cce710c1\">Dummify</label><div class=\"sk-toggleable__content\"><pre>Dummify(target='dummy_target')</pre></div></div></div><div class=\"sk-item\"><div class=\"sk-estimator sk-toggleable\"><input class=\"sk-toggleable__control sk-hidden--visually\" id=\"1885184e-7101-4bb1-ae0e-f8ddb965e152\" type=\"checkbox\" ><label class=\"sk-toggleable__label\" for=\"1885184e-7101-4bb1-ae0e-f8ddb965e152\">Clean_Colum_Names</label><div class=\"sk-toggleable__content\"><pre>Clean_Colum_Names()</pre></div></div></div><div class=\"sk-item\"><div class=\"sk-estimator sk-toggleable\"><input class=\"sk-toggleable__control sk-hidden--visually\" id=\"5745b048-637b-4f9f-b062-87709cfef552\" type=\"checkbox\" ><label class=\"sk-toggleable__label\" for=\"5745b048-637b-4f9f-b062-87709cfef552\">Empty</label><div class=\"sk-toggleable__content\"><pre>Empty()</pre></div></div></div><div class=\"sk-item\"><div class=\"sk-estimator sk-toggleable\"><input class=\"sk-toggleable__control sk-hidden--visually\" id=\"b8f42b2d-94ce-4148-aec7-cec8435f4a40\" type=\"checkbox\" ><label class=\"sk-toggleable__label\" for=\"b8f42b2d-94ce-4148-aec7-cec8435f4a40\">Empty</label><div class=\"sk-toggleable__content\"><pre>Empty()</pre></div></div></div></div></div></div></div>"
      ],
      "text/plain": [
       "Pipeline(memory=None,\n",
       "         steps=[('dtypes',\n",
       "                 DataTypes_Auto_infer(categorical_features=[],\n",
       "                                      display_types=False, features_todrop=[],\n",
       "                                      ml_usecase='regression',\n",
       "                                      numerical_features=[],\n",
       "                                      target='dummy_target',\n",
       "                                      time_features=[])),\n",
       "                ('imputer',\n",
       "                 Simple_Imputer(categorical_strategy='not_available',\n",
       "                                numeric_strategy='mean',\n",
       "                                target_variable=None)),\n",
       "                ('new_levels1',\n",
       "                 New_Catagorical_...\n",
       "                                                    target='dummy_target')),\n",
       "                ('feature_time',\n",
       "                 Make_Time_Features(list_of_features=None, time_feature=[])),\n",
       "                ('group', Empty()), ('scaling', Empty()),\n",
       "                ('P_transform', Empty()), ('binn', Empty()),\n",
       "                ('fix_perfect', Empty()), ('rem_outliers', Empty()),\n",
       "                ('dummy', Dummify(target='dummy_target')),\n",
       "                ('clean_names', Clean_Colum_Names()), ('fix_multi', Empty()),\n",
       "                ('pca', Empty())],\n",
       "         verbose=False)"
      ]
     },
     "execution_count": 14,
     "metadata": {},
     "output_type": "execute_result"
    }
   ],
   "source": [
    "from sklearn import set_config\n",
    "\n",
    "set_config(display=\"diagram\")\n",
    "loaded_iforest[0]"
   ]
  },
  {
   "cell_type": "code",
   "execution_count": 15,
   "metadata": {},
   "outputs": [],
   "source": [
    "from sklearn import set_config\n",
    "\n",
    "set_config(display=\"text\")"
   ]
  },
  {
   "cell_type": "markdown",
   "metadata": {},
   "source": [
    "# 8. Deploy Model"
   ]
  },
  {
   "cell_type": "code",
   "execution_count": 17,
   "metadata": {},
   "outputs": [],
   "source": [
    "#deploy_model(\n",
    "#    iforest, model_name=\"iforest-aws\", authentication={\"bucket\": \"pycaret-test\"}\n",
    "#)"
   ]
  },
  {
   "cell_type": "markdown",
   "metadata": {},
   "source": [
    "# 9. Get Config / Set Config"
   ]
  },
  {
   "cell_type": "code",
   "execution_count": 18,
   "metadata": {},
   "outputs": [
    {
     "name": "stderr",
     "output_type": "stream",
     "text": [
      "INFO:logs:Initializing get_config()\n",
      "INFO:logs:get_config(variable=X)\n",
      "INFO:logs:Global variable: X returned\n",
      "INFO:logs:get_config() succesfully completed......................................\n"
     ]
    },
    {
     "data": {
      "text/html": [
       "<div>\n",
       "<style scoped>\n",
       "    .dataframe tbody tr th:only-of-type {\n",
       "        vertical-align: middle;\n",
       "    }\n",
       "\n",
       "    .dataframe tbody tr th {\n",
       "        vertical-align: top;\n",
       "    }\n",
       "\n",
       "    .dataframe thead th {\n",
       "        text-align: right;\n",
       "    }\n",
       "</style>\n",
       "<table border=\"1\" class=\"dataframe\">\n",
       "  <thead>\n",
       "    <tr style=\"text-align: right;\">\n",
       "      <th></th>\n",
       "      <th>Col1</th>\n",
       "      <th>Col2</th>\n",
       "      <th>Col3</th>\n",
       "      <th>Col4</th>\n",
       "      <th>Col5</th>\n",
       "      <th>Col6</th>\n",
       "      <th>Col7</th>\n",
       "      <th>Col8</th>\n",
       "      <th>Col9</th>\n",
       "      <th>Col10</th>\n",
       "    </tr>\n",
       "  </thead>\n",
       "  <tbody>\n",
       "    <tr>\n",
       "      <th>0</th>\n",
       "      <td>0.263995</td>\n",
       "      <td>0.764929</td>\n",
       "      <td>0.138424</td>\n",
       "      <td>0.935242</td>\n",
       "      <td>0.605867</td>\n",
       "      <td>0.518790</td>\n",
       "      <td>0.912225</td>\n",
       "      <td>0.608234</td>\n",
       "      <td>0.723782</td>\n",
       "      <td>0.733591</td>\n",
       "    </tr>\n",
       "    <tr>\n",
       "      <th>1</th>\n",
       "      <td>0.546092</td>\n",
       "      <td>0.653975</td>\n",
       "      <td>0.065575</td>\n",
       "      <td>0.227772</td>\n",
       "      <td>0.845269</td>\n",
       "      <td>0.837066</td>\n",
       "      <td>0.272379</td>\n",
       "      <td>0.331679</td>\n",
       "      <td>0.429297</td>\n",
       "      <td>0.367422</td>\n",
       "    </tr>\n",
       "    <tr>\n",
       "      <th>2</th>\n",
       "      <td>0.336714</td>\n",
       "      <td>0.538842</td>\n",
       "      <td>0.192801</td>\n",
       "      <td>0.553563</td>\n",
       "      <td>0.074515</td>\n",
       "      <td>0.332993</td>\n",
       "      <td>0.365792</td>\n",
       "      <td>0.861309</td>\n",
       "      <td>0.899017</td>\n",
       "      <td>0.088600</td>\n",
       "    </tr>\n",
       "    <tr>\n",
       "      <th>3</th>\n",
       "      <td>0.092108</td>\n",
       "      <td>0.995017</td>\n",
       "      <td>0.014465</td>\n",
       "      <td>0.176371</td>\n",
       "      <td>0.241530</td>\n",
       "      <td>0.514724</td>\n",
       "      <td>0.562208</td>\n",
       "      <td>0.158963</td>\n",
       "      <td>0.073715</td>\n",
       "      <td>0.208463</td>\n",
       "    </tr>\n",
       "    <tr>\n",
       "      <th>4</th>\n",
       "      <td>0.325261</td>\n",
       "      <td>0.805968</td>\n",
       "      <td>0.957033</td>\n",
       "      <td>0.331665</td>\n",
       "      <td>0.307923</td>\n",
       "      <td>0.355315</td>\n",
       "      <td>0.501899</td>\n",
       "      <td>0.558449</td>\n",
       "      <td>0.885169</td>\n",
       "      <td>0.182754</td>\n",
       "    </tr>\n",
       "  </tbody>\n",
       "</table>\n",
       "</div>"
      ],
      "text/plain": [
       "       Col1      Col2      Col3      Col4      Col5      Col6      Col7  \\\n",
       "0  0.263995  0.764929  0.138424  0.935242  0.605867  0.518790  0.912225   \n",
       "1  0.546092  0.653975  0.065575  0.227772  0.845269  0.837066  0.272379   \n",
       "2  0.336714  0.538842  0.192801  0.553563  0.074515  0.332993  0.365792   \n",
       "3  0.092108  0.995017  0.014465  0.176371  0.241530  0.514724  0.562208   \n",
       "4  0.325261  0.805968  0.957033  0.331665  0.307923  0.355315  0.501899   \n",
       "\n",
       "       Col8      Col9     Col10  \n",
       "0  0.608234  0.723782  0.733591  \n",
       "1  0.331679  0.429297  0.367422  \n",
       "2  0.861309  0.899017  0.088600  \n",
       "3  0.158963  0.073715  0.208463  \n",
       "4  0.558449  0.885169  0.182754  "
      ]
     },
     "execution_count": 18,
     "metadata": {},
     "output_type": "execute_result"
    }
   ],
   "source": [
    "X = get_config(\"X\")\n",
    "X.head()"
   ]
  },
  {
   "cell_type": "code",
   "execution_count": 19,
   "metadata": {},
   "outputs": [
    {
     "name": "stderr",
     "output_type": "stream",
     "text": [
      "INFO:logs:Initializing get_config()\n",
      "INFO:logs:get_config(variable=seed)\n",
      "INFO:logs:Global variable: seed returned\n",
      "INFO:logs:get_config() succesfully completed......................................\n"
     ]
    },
    {
     "data": {
      "text/plain": [
       "123"
      ]
     },
     "execution_count": 19,
     "metadata": {},
     "output_type": "execute_result"
    }
   ],
   "source": [
    "get_config(\"seed\")"
   ]
  },
  {
   "cell_type": "code",
   "execution_count": 20,
   "metadata": {},
   "outputs": [
    {
     "name": "stderr",
     "output_type": "stream",
     "text": [
      "INFO:logs:Initializing set_config()\n",
      "INFO:logs:set_config(variable=seed, value=999)\n",
      "INFO:logs:Global variable:  seed updated\n",
      "INFO:logs:set_config() succesfully completed......................................\n"
     ]
    }
   ],
   "source": [
    "from pycaret.anomaly import set_config\n",
    "\n",
    "set_config(\"seed\", 999)"
   ]
  },
  {
   "cell_type": "code",
   "execution_count": 21,
   "metadata": {},
   "outputs": [
    {
     "name": "stderr",
     "output_type": "stream",
     "text": [
      "INFO:logs:Initializing get_config()\n",
      "INFO:logs:get_config(variable=seed)\n",
      "INFO:logs:Global variable: seed returned\n",
      "INFO:logs:get_config() succesfully completed......................................\n"
     ]
    },
    {
     "data": {
      "text/plain": [
       "999"
      ]
     },
     "execution_count": 21,
     "metadata": {},
     "output_type": "execute_result"
    }
   ],
   "source": [
    "get_config(\"seed\")"
   ]
  },
  {
   "cell_type": "markdown",
   "metadata": {},
   "source": [
    "# 10. MLFlow UI"
   ]
  },
  {
   "cell_type": "code",
   "execution_count": 22,
   "metadata": {},
   "outputs": [],
   "source": [
    "# !mlflow ui"
   ]
  },
  {
   "cell_type": "markdown",
   "metadata": {},
   "source": [
    "# End\n",
    "Thank you. For more information / tutorials on PyCaret, please visit https://www.pycaret.org"
   ]
  }
 ],
 "metadata": {
  "kernelspec": {
   "display_name": "Python 3",
   "language": "python",
   "name": "python3"
  },
  "language_info": {
   "codemirror_mode": {
    "name": "ipython",
    "version": 3
   },
   "file_extension": ".py",
   "mimetype": "text/x-python",
   "name": "python",
   "nbconvert_exporter": "python",
   "pygments_lexer": "ipython3",
   "version": "3.7.8"
  }
 },
 "nbformat": 4,
 "nbformat_minor": 2
}
